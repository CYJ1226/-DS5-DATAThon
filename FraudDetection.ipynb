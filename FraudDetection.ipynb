{
 "cells": [
  {
   "cell_type": "markdown",
   "id": "3884ff61",
   "metadata": {},
   "source": [
    "- 사기거래탐지"
   ]
  },
  {
   "cell_type": "markdown",
   "id": "18a1f836",
   "metadata": {},
   "source": [
    "# EDA"
   ]
  },
  {
   "cell_type": "markdown",
   "id": "1c9e9bdf",
   "metadata": {},
   "source": [
    "### 데이터 불러오기"
   ]
  },
  {
   "cell_type": "code",
   "execution_count": 2,
   "id": "42466937",
   "metadata": {
    "scrolled": true
   },
   "outputs": [
    {
     "name": "stdout",
     "output_type": "stream",
     "text": [
      "Requirement already satisfied: numpy==2.0.0 in c:\\users\\ceo\\anaconda3\\envs\\project_env\\lib\\site-packages (from -r requirements.txt (line 1)) (2.0.0)\n",
      "Requirement already satisfied: pandas==2.3.2 in c:\\users\\ceo\\anaconda3\\envs\\project_env\\lib\\site-packages (from -r requirements.txt (line 2)) (2.3.2)\n",
      "Requirement already satisfied: matplotlib==3.10.6 in c:\\users\\ceo\\anaconda3\\envs\\project_env\\lib\\site-packages (from -r requirements.txt (line 3)) (3.10.6)\n",
      "Requirement already satisfied: seaborn==0.13.2 in c:\\users\\ceo\\anaconda3\\envs\\project_env\\lib\\site-packages (from -r requirements.txt (line 4)) (0.13.2)\n",
      "Requirement already satisfied: scikit-learn==1.7.1 in c:\\users\\ceo\\anaconda3\\envs\\project_env\\lib\\site-packages (from -r requirements.txt (line 5)) (1.7.1)\n",
      "Requirement already satisfied: scipy==1.15.3 in c:\\users\\ceo\\anaconda3\\envs\\project_env\\lib\\site-packages (from -r requirements.txt (line 6)) (1.15.3)\n",
      "Requirement already satisfied: pgeocode==0.5.0 in c:\\users\\ceo\\anaconda3\\envs\\project_env\\lib\\site-packages (from -r requirements.txt (line 7)) (0.5.0)\n",
      "Requirement already satisfied: haversine==2.9.0 in c:\\users\\ceo\\anaconda3\\envs\\project_env\\lib\\site-packages (from -r requirements.txt (line 8)) (2.9.0)\n",
      "Requirement already satisfied: lightgbm==4.6.0 in c:\\users\\ceo\\anaconda3\\envs\\project_env\\lib\\site-packages (from -r requirements.txt (line 9)) (4.6.0)\n",
      "Requirement already satisfied: xgboost==3.0.5 in c:\\users\\ceo\\anaconda3\\envs\\project_env\\lib\\site-packages (from -r requirements.txt (line 10)) (3.0.5)\n",
      "Requirement already satisfied: catboost==1.2.8 in c:\\users\\ceo\\anaconda3\\envs\\project_env\\lib\\site-packages (from -r requirements.txt (line 11)) (1.2.8)\n",
      "Requirement already satisfied: python-dateutil>=2.8.2 in c:\\users\\ceo\\anaconda3\\envs\\project_env\\lib\\site-packages (from pandas==2.3.2->-r requirements.txt (line 2)) (2.9.0.post0)\n",
      "Requirement already satisfied: pytz>=2020.1 in c:\\users\\ceo\\anaconda3\\envs\\project_env\\lib\\site-packages (from pandas==2.3.2->-r requirements.txt (line 2)) (2025.2)\n",
      "Requirement already satisfied: tzdata>=2022.7 in c:\\users\\ceo\\anaconda3\\envs\\project_env\\lib\\site-packages (from pandas==2.3.2->-r requirements.txt (line 2)) (2025.2)\n",
      "Requirement already satisfied: contourpy>=1.0.1 in c:\\users\\ceo\\anaconda3\\envs\\project_env\\lib\\site-packages (from matplotlib==3.10.6->-r requirements.txt (line 3)) (1.3.2)\n",
      "Requirement already satisfied: cycler>=0.10 in c:\\users\\ceo\\anaconda3\\envs\\project_env\\lib\\site-packages (from matplotlib==3.10.6->-r requirements.txt (line 3)) (0.12.1)\n",
      "Requirement already satisfied: fonttools>=4.22.0 in c:\\users\\ceo\\anaconda3\\envs\\project_env\\lib\\site-packages (from matplotlib==3.10.6->-r requirements.txt (line 3)) (4.59.2)\n",
      "Requirement already satisfied: kiwisolver>=1.3.1 in c:\\users\\ceo\\anaconda3\\envs\\project_env\\lib\\site-packages (from matplotlib==3.10.6->-r requirements.txt (line 3)) (1.4.9)\n",
      "Requirement already satisfied: packaging>=20.0 in c:\\users\\ceo\\anaconda3\\envs\\project_env\\lib\\site-packages (from matplotlib==3.10.6->-r requirements.txt (line 3)) (25.0)\n",
      "Requirement already satisfied: pillow>=8 in c:\\users\\ceo\\anaconda3\\envs\\project_env\\lib\\site-packages (from matplotlib==3.10.6->-r requirements.txt (line 3)) (11.3.0)\n",
      "Requirement already satisfied: pyparsing>=2.3.1 in c:\\users\\ceo\\anaconda3\\envs\\project_env\\lib\\site-packages (from matplotlib==3.10.6->-r requirements.txt (line 3)) (3.2.4)\n",
      "Requirement already satisfied: joblib>=1.2.0 in c:\\users\\ceo\\anaconda3\\envs\\project_env\\lib\\site-packages (from scikit-learn==1.7.1->-r requirements.txt (line 5)) (1.5.2)\n",
      "Requirement already satisfied: threadpoolctl>=3.1.0 in c:\\users\\ceo\\anaconda3\\envs\\project_env\\lib\\site-packages (from scikit-learn==1.7.1->-r requirements.txt (line 5)) (3.6.0)\n",
      "Requirement already satisfied: requests in c:\\users\\ceo\\anaconda3\\envs\\project_env\\lib\\site-packages (from pgeocode==0.5.0->-r requirements.txt (line 7)) (2.32.5)\n",
      "Requirement already satisfied: graphviz in c:\\users\\ceo\\anaconda3\\envs\\project_env\\lib\\site-packages (from catboost==1.2.8->-r requirements.txt (line 11)) (0.21)\n",
      "Requirement already satisfied: plotly in c:\\users\\ceo\\anaconda3\\envs\\project_env\\lib\\site-packages (from catboost==1.2.8->-r requirements.txt (line 11)) (6.3.0)\n",
      "Requirement already satisfied: six in c:\\users\\ceo\\anaconda3\\envs\\project_env\\lib\\site-packages (from catboost==1.2.8->-r requirements.txt (line 11)) (1.17.0)\n",
      "Requirement already satisfied: narwhals>=1.15.1 in c:\\users\\ceo\\anaconda3\\envs\\project_env\\lib\\site-packages (from plotly->catboost==1.2.8->-r requirements.txt (line 11)) (2.5.0)\n",
      "Requirement already satisfied: charset_normalizer<4,>=2 in c:\\users\\ceo\\anaconda3\\envs\\project_env\\lib\\site-packages (from requests->pgeocode==0.5.0->-r requirements.txt (line 7)) (3.4.3)\n",
      "Requirement already satisfied: idna<4,>=2.5 in c:\\users\\ceo\\anaconda3\\envs\\project_env\\lib\\site-packages (from requests->pgeocode==0.5.0->-r requirements.txt (line 7)) (3.10)\n",
      "Requirement already satisfied: urllib3<3,>=1.21.1 in c:\\users\\ceo\\anaconda3\\envs\\project_env\\lib\\site-packages (from requests->pgeocode==0.5.0->-r requirements.txt (line 7)) (2.5.0)\n",
      "Requirement already satisfied: certifi>=2017.4.17 in c:\\users\\ceo\\anaconda3\\envs\\project_env\\lib\\site-packages (from requests->pgeocode==0.5.0->-r requirements.txt (line 7)) (2025.8.3)\n"
     ]
    }
   ],
   "source": [
    "!pip install -r requirements.txt"
   ]
  },
  {
   "cell_type": "code",
   "execution_count": 3,
   "id": "cd59cae9",
   "metadata": {},
   "outputs": [],
   "source": [
    "import numpy as np\n",
    "import pandas as pd\n",
    "import matplotlib.pyplot as plt\n",
    "import seaborn as sns\n",
    "import warnings\n",
    "import pgeocode #우편 변호 지원 \n",
    "from sklearn.model_selection import train_test_split,StratifiedKFold, cross_val_score\n",
    "from sklearn.preprocessing import LabelEncoder\n",
    "from sklearn.metrics import roc_auc_score, f1_score, average_precision_score, classification_report, confusion_matrix\n",
    "from sklearn.metrics import precision_recall_curve, auc,precision_score, recall_score, matthews_corrcoef,log_loss\n",
    "from haversine import haversine, haversine_vector, Unit # 지리적 거리 차이 계산\n",
    "warnings.filterwarnings('ignore')\n",
    "from sklearn.ensemble import StackingClassifier,RandomForestClassifier\n",
    "from sklearn.linear_model import LogisticRegression\n",
    "from lightgbm import LGBMClassifier\n",
    "from xgboost import XGBClassifier\n",
    "from catboost import CatBoostClassifier\n",
    "import lightgbm as lgb\n",
    "import xgboost as xgb\n",
    "import catboost as cb"
   ]
  },
  {
   "cell_type": "code",
   "execution_count": 4,
   "id": "2cfac6e4",
   "metadata": {},
   "outputs": [],
   "source": [
    "card_df = pd.read_csv('../data/ftd/cards_data.csv')\n",
    "trans_df = pd.read_csv('../data/ftd/transactions_data.csv')\n",
    "user_df = pd.read_csv('../data/ftd/users_data.csv')\n",
    "mcc_df = pd.read_json('../data/ftd/mcc_codes.json', orient='index').rename({0:'category'}, axis=1)\n",
    "fraud_df = pd.read_json('../data/ftd/train_fraud_labels.json')"
   ]
  },
  {
   "cell_type": "markdown",
   "id": "465e18d4",
   "metadata": {},
   "source": [
    "### 데이터별 컬럼 의미"
   ]
  },
  {
   "cell_type": "code",
   "execution_count": 4,
   "id": "4803a5b1",
   "metadata": {},
   "outputs": [],
   "source": [
    "# card_df"
   ]
  },
  {
   "cell_type": "markdown",
   "id": "28af8a0e",
   "metadata": {},
   "source": [
    "- **id**: 카드 id \n",
    "- **client**: 고객 id\n",
    "- **card_brand**: 카드사\n",
    "- **card_type**: 카드 종류(신용/체크)\n",
    "- **card_number**: 카드번호\n",
    "- **expires**: 카드 만료기간\n",
    "- **cvv**: 카드 인증코드\n",
    "- **has_chip**: 카드 IC칩 보유 여부(IC칩 있을 시 카드 도용/복제에 상대적으로 안전)\n",
    "- **num_cards_issued**: 문제 발생 횟수??\n",
    "- **credit_limit**: 신용 한도\n",
    "- **acct_open_date**: 계좌 개설일\n",
    "- **year_pin_last_changed**: 카드 pin번호 최근 변경연도\n",
    "- **card_on_dark_web**: 다크웹 사용?? => No만 존재 => 제거 가능"
   ]
  },
  {
   "cell_type": "code",
   "execution_count": 5,
   "id": "25282d20",
   "metadata": {},
   "outputs": [],
   "source": [
    "# trans_df"
   ]
  },
  {
   "cell_type": "markdown",
   "id": "080b8231",
   "metadata": {},
   "source": [
    "- **id**: 거래식별번호\n",
    "- **date**: 거래일자\n",
    "- **client_id**: 고객id\n",
    "- **card_id**: 카드id\n",
    "- **amount**: 거래금액 => 음수 데이터 존재\n",
    "- **use_chip**: 카드 결제 방식\n",
    "    - Swipe Transaction: 마그네틱 카드로 긁어서 결제\n",
    "    - Chip Transaction: ic칩 카드로 결제\n",
    "    - Online Transaction: 온라인 결제\n",
    "- **merchant_id**: 매장id\n",
    "- **merchant_city**: 매장 위치(시)\n",
    "- **merchant_state**: 매장 위치(주)\n",
    "- **zip**: 매장 우편번호\n",
    "- **mcc**: 매장 분류코드\n",
    "- **errors**: 거래 성공 여부(결제 오류 시 오류 원인이 적혀있음)"
   ]
  },
  {
   "cell_type": "code",
   "execution_count": 6,
   "id": "ecb801ad",
   "metadata": {},
   "outputs": [],
   "source": [
    "# user_df"
   ]
  },
  {
   "cell_type": "markdown",
   "id": "bf40784c",
   "metadata": {},
   "source": [
    "- **id**: 고객id\n",
    "- **current_age**: 현재 나이\n",
    "- **retirement_age**: 퇴직 연령\n",
    "- **birth_year**: 출생연도\n",
    "- **gender**: 성별\n",
    "- **address**: 주소\n",
    "- **latitude**: 위도\n",
    "- **longitude**: 경도\n",
    "- **per_capita_income**: 1인당 소득 (전체 소득 / 인구 수)\n",
    "- **yearly_income**: 연봉\n",
    "- **total_debt**: 채무액\n",
    "- **credit_score**: 신용점수\n",
    "- **num_credit_cards**: 보유 중인 신용카드 수"
   ]
  },
  {
   "cell_type": "code",
   "execution_count": 7,
   "id": "23153162",
   "metadata": {},
   "outputs": [
    {
     "data": {
      "text/html": [
       "<div>\n",
       "<style scoped>\n",
       "    .dataframe tbody tr th:only-of-type {\n",
       "        vertical-align: middle;\n",
       "    }\n",
       "\n",
       "    .dataframe tbody tr th {\n",
       "        vertical-align: top;\n",
       "    }\n",
       "\n",
       "    .dataframe thead th {\n",
       "        text-align: right;\n",
       "    }\n",
       "</style>\n",
       "<table border=\"1\" class=\"dataframe\">\n",
       "  <thead>\n",
       "    <tr style=\"text-align: right;\">\n",
       "      <th></th>\n",
       "      <th>index</th>\n",
       "      <th>category</th>\n",
       "    </tr>\n",
       "  </thead>\n",
       "  <tbody>\n",
       "    <tr>\n",
       "      <th>0</th>\n",
       "      <td>5812</td>\n",
       "      <td>Eating Places and Restaurants</td>\n",
       "    </tr>\n",
       "    <tr>\n",
       "      <th>1</th>\n",
       "      <td>5541</td>\n",
       "      <td>Service Stations</td>\n",
       "    </tr>\n",
       "    <tr>\n",
       "      <th>2</th>\n",
       "      <td>7996</td>\n",
       "      <td>Amusement Parks, Carnivals, Circuses</td>\n",
       "    </tr>\n",
       "    <tr>\n",
       "      <th>3</th>\n",
       "      <td>5411</td>\n",
       "      <td>Grocery Stores, Supermarkets</td>\n",
       "    </tr>\n",
       "    <tr>\n",
       "      <th>4</th>\n",
       "      <td>4784</td>\n",
       "      <td>Tolls and Bridge Fees</td>\n",
       "    </tr>\n",
       "    <tr>\n",
       "      <th>...</th>\n",
       "      <td>...</td>\n",
       "      <td>...</td>\n",
       "    </tr>\n",
       "    <tr>\n",
       "      <th>104</th>\n",
       "      <td>7549</td>\n",
       "      <td>Towing Services</td>\n",
       "    </tr>\n",
       "    <tr>\n",
       "      <th>105</th>\n",
       "      <td>5941</td>\n",
       "      <td>Sporting Goods Stores</td>\n",
       "    </tr>\n",
       "    <tr>\n",
       "      <th>106</th>\n",
       "      <td>5722</td>\n",
       "      <td>Household Appliance Stores</td>\n",
       "    </tr>\n",
       "    <tr>\n",
       "      <th>107</th>\n",
       "      <td>3009</td>\n",
       "      <td>Fabricated Structural Metal Products</td>\n",
       "    </tr>\n",
       "    <tr>\n",
       "      <th>108</th>\n",
       "      <td>5733</td>\n",
       "      <td>Music Stores - Musical Instruments</td>\n",
       "    </tr>\n",
       "  </tbody>\n",
       "</table>\n",
       "<p>109 rows × 2 columns</p>\n",
       "</div>"
      ],
      "text/plain": [
       "     index                              category\n",
       "0     5812         Eating Places and Restaurants\n",
       "1     5541                      Service Stations\n",
       "2     7996  Amusement Parks, Carnivals, Circuses\n",
       "3     5411          Grocery Stores, Supermarkets\n",
       "4     4784                 Tolls and Bridge Fees\n",
       "..     ...                                   ...\n",
       "104   7549                       Towing Services\n",
       "105   5941                 Sporting Goods Stores\n",
       "106   5722            Household Appliance Stores\n",
       "107   3009  Fabricated Structural Metal Products\n",
       "108   5733    Music Stores - Musical Instruments\n",
       "\n",
       "[109 rows x 2 columns]"
      ]
     },
     "execution_count": 7,
     "metadata": {},
     "output_type": "execute_result"
    }
   ],
   "source": [
    "mcc_df.reset_index()"
   ]
  },
  {
   "cell_type": "markdown",
   "id": "f9e88b05",
   "metadata": {},
   "source": [
    "- mcc별 상점 종류"
   ]
  },
  {
   "cell_type": "code",
   "execution_count": 8,
   "id": "b8b0bc15",
   "metadata": {},
   "outputs": [
    {
     "data": {
      "text/html": [
       "<div>\n",
       "<style scoped>\n",
       "    .dataframe tbody tr th:only-of-type {\n",
       "        vertical-align: middle;\n",
       "    }\n",
       "\n",
       "    .dataframe tbody tr th {\n",
       "        vertical-align: top;\n",
       "    }\n",
       "\n",
       "    .dataframe thead th {\n",
       "        text-align: right;\n",
       "    }\n",
       "</style>\n",
       "<table border=\"1\" class=\"dataframe\">\n",
       "  <thead>\n",
       "    <tr style=\"text-align: right;\">\n",
       "      <th></th>\n",
       "      <th>index</th>\n",
       "      <th>target</th>\n",
       "    </tr>\n",
       "  </thead>\n",
       "  <tbody>\n",
       "    <tr>\n",
       "      <th>0</th>\n",
       "      <td>10649266</td>\n",
       "      <td>No</td>\n",
       "    </tr>\n",
       "    <tr>\n",
       "      <th>1</th>\n",
       "      <td>23410063</td>\n",
       "      <td>No</td>\n",
       "    </tr>\n",
       "    <tr>\n",
       "      <th>2</th>\n",
       "      <td>9316588</td>\n",
       "      <td>No</td>\n",
       "    </tr>\n",
       "    <tr>\n",
       "      <th>3</th>\n",
       "      <td>12478022</td>\n",
       "      <td>No</td>\n",
       "    </tr>\n",
       "    <tr>\n",
       "      <th>4</th>\n",
       "      <td>9558530</td>\n",
       "      <td>No</td>\n",
       "    </tr>\n",
       "    <tr>\n",
       "      <th>...</th>\n",
       "      <td>...</td>\n",
       "      <td>...</td>\n",
       "    </tr>\n",
       "    <tr>\n",
       "      <th>8914958</th>\n",
       "      <td>14064699</td>\n",
       "      <td>No</td>\n",
       "    </tr>\n",
       "    <tr>\n",
       "      <th>8914959</th>\n",
       "      <td>7676538</td>\n",
       "      <td>No</td>\n",
       "    </tr>\n",
       "    <tr>\n",
       "      <th>8914960</th>\n",
       "      <td>15131030</td>\n",
       "      <td>No</td>\n",
       "    </tr>\n",
       "    <tr>\n",
       "      <th>8914961</th>\n",
       "      <td>17244732</td>\n",
       "      <td>No</td>\n",
       "    </tr>\n",
       "    <tr>\n",
       "      <th>8914962</th>\n",
       "      <td>15151926</td>\n",
       "      <td>No</td>\n",
       "    </tr>\n",
       "  </tbody>\n",
       "</table>\n",
       "<p>8914963 rows × 2 columns</p>\n",
       "</div>"
      ],
      "text/plain": [
       "            index target\n",
       "0        10649266     No\n",
       "1        23410063     No\n",
       "2         9316588     No\n",
       "3        12478022     No\n",
       "4         9558530     No\n",
       "...           ...    ...\n",
       "8914958  14064699     No\n",
       "8914959   7676538     No\n",
       "8914960  15131030     No\n",
       "8914961  17244732     No\n",
       "8914962  15151926     No\n",
       "\n",
       "[8914963 rows x 2 columns]"
      ]
     },
     "execution_count": 8,
     "metadata": {},
     "output_type": "execute_result"
    }
   ],
   "source": [
    "fraud_df.reset_index()"
   ]
  },
  {
   "cell_type": "markdown",
   "id": "c65e364e",
   "metadata": {},
   "source": [
    "- 거래 id별 정상거래/사기거래 여부"
   ]
  },
  {
   "cell_type": "markdown",
   "id": "2f1579fa",
   "metadata": {},
   "source": [
    "### 데이터 살펴보기"
   ]
  },
  {
   "cell_type": "code",
   "execution_count": 9,
   "id": "702a16f5",
   "metadata": {},
   "outputs": [],
   "source": [
    "user_df = user_df.rename(columns={'id':'client_id'}) #user_df의 id를 client_id로 변경\n",
    "card_user_df = card_df.merge(user_df, on='client_id') #카드 정보와 고객 정보를 병함(카드 데이터를 기준으로)\n",
    "\n",
    "card_user_df = card_user_df.drop(columns=['card_number','cvv']) #카드 번호, cvv(보안 번호, cvc 번호랑 비슷함) 삭제\n",
    "card_user_df = card_user_df.rename(columns={'id':'card_id'}) #card_df의 id를 card_id로 변경"
   ]
  },
  {
   "cell_type": "code",
   "execution_count": 10,
   "id": "8cfc152d",
   "metadata": {},
   "outputs": [],
   "source": [
    "mcc_df = mcc_df.reset_index() #index 초기화\n",
    "fraud_df = fraud_df.reset_index()\n",
    "\n",
    "fraud_df = fraud_df.rename(columns={'index':'id','target':'fraud_label'}) #fraud_df의 index를 id로 변경,target를 fraud_label로 변경\n",
    "mcc_df = mcc_df.rename(columns={'index':'mcc','category':'merchant_cat'}) #mcc_df의 index를 id로 변경,category를 merchant_cat로 변경\n",
    "\n",
    "trans_df = trans_df.merge(fraud_df, on='id',how='left') #거래 정보와 사기 정보 결합\n",
    "trans_df = trans_df.merge(mcc_df, on='mcc',how='left') #거래 정보와 판매점 정보 결합\n",
    "\n",
    "#거래, 카드, 고객 정보 통합\n",
    "trans_df = trans_df.merge(card_user_df, on=['card_id','client_id'],how='left')"
   ]
  },
  {
   "cell_type": "markdown",
   "id": "61a521d9",
   "metadata": {},
   "source": [
    "#### trans_df"
   ]
  },
  {
   "cell_type": "markdown",
   "id": "a92911a2",
   "metadata": {},
   "source": [
    "- date는 datetime으로 바꾸는게 좋아보임\n",
    "- amount 음수인 경우 확인 필요"
   ]
  },
  {
   "cell_type": "markdown",
   "id": "d8a10f08",
   "metadata": {},
   "source": [
    "- errors의 결측치: 결제 성공 의미 => NaN대신 다른 값으로 변환 필요해 보임\n",
    "- merchant_state => Italy 사기거래 백분율 65% => 단순 우연?\n",
    "- zip => 별 의미 없는 데이터"
   ]
  },
  {
   "cell_type": "markdown",
   "id": "4482614f",
   "metadata": {},
   "source": [
    "#### 생각해볼만한 것"
   ]
  },
  {
   "cell_type": "markdown",
   "id": "cb88d777",
   "metadata": {},
   "source": [
    "- card_brand와 사기거래 관련성\n",
    "- card_type과 사기거래 관련성\n",
    "- has_chip과 사기거래 관련성\n",
    "- credit_limit과 사기거래 관련성"
   ]
  },
  {
   "cell_type": "markdown",
   "id": "7e3d7f82",
   "metadata": {},
   "source": [
    "- date와 사기거래 관련성\n",
    "- amount와 사기거래 관련성\n",
    "- use_chip과 사기거래 관련성\n",
    "- merchant_state와 사기거래 관련성\n",
    "- category와 사기거래 관련성"
   ]
  },
  {
   "cell_type": "markdown",
   "id": "62eeaad4",
   "metadata": {},
   "source": [
    "- current_age와 사기거래 관련성\n",
    "- gender과 사기거래 관련성\n",
    "- latitude, longitude와 사기거래 관련성\n",
    "- yearly_income와 사기거래 관련성\n",
    "- credit_score와 사기거래 관련성\n",
    "- num_credit_cards와 사기거래 관련성"
   ]
  },
  {
   "cell_type": "markdown",
   "id": "7bda0b06",
   "metadata": {},
   "source": [
    "### 중복값 확인"
   ]
  },
  {
   "cell_type": "code",
   "execution_count": 11,
   "id": "14560ac6",
   "metadata": {},
   "outputs": [],
   "source": [
    "#mcc_df[mcc_df.duplicated(keep=False)]"
   ]
  },
  {
   "cell_type": "markdown",
   "id": "5375592a",
   "metadata": {},
   "source": [
    "- trans_df와 합치면 상관없음"
   ]
  },
  {
   "cell_type": "markdown",
   "id": "ab9325ee",
   "metadata": {},
   "source": [
    "# Feature Engineering"
   ]
  },
  {
   "cell_type": "markdown",
   "id": "70c7acde",
   "metadata": {},
   "source": [
    "해결해야 하는 문제\n",
    "\n",
    "- 제거를 고려하는 변수들: address, latitude, longitude\n",
    "  \n",
    "- 해 마다 갱신 될 가능성이 높은 변수들: total_debt, credit_score(FICO Score로 추정됨)\n",
    "\n",
    "- merchant_state,city 의 처리"
   ]
  },
  {
   "cell_type": "code",
   "execution_count": 12,
   "id": "f486dd43",
   "metadata": {},
   "outputs": [],
   "source": [
    "# mcc 범주화\n",
    "food = ['Eating Places and Restaurants', 'Fast Food Restaurants', 'Drinking Places (Alcoholic Beverages)', 'Grocery Stores, Supermarkets', \n",
    "              'Miscellaneous Food Stores', 'Package Stores, Beer, Wine, Liquor', 'Wholesale Clubs', 'Discount Stores']\n",
    "\n",
    "medical = ['Medical Services', 'Doctors, Physicians', 'Dentists and Orthodontists', 'Chiropractors', 'Podiatrists',\n",
    "                    'Optometrists, Optical Goods and Eyeglasses', 'Hospitals', 'Drug Stores and Pharmacies']\n",
    "\n",
    "transport = ['Service Stations', 'Automotive Service Shops', 'Automotive Body Repair Shops', 'Automotive Parts and Accessories Stores',\n",
    "                       'Taxicabs and Limousines', 'Bus Lines', 'Passenger Railways', 'Railroad Passenger Transport', 'Railroad Freight',\n",
    "                       'Motor Freight Carriers and Trucking', 'Airlines', 'Cruise Lines', 'Lodging - Hotels, Motels, Resorts',\n",
    "                       'Local and Suburban Commuter Transportation']\n",
    "\n",
    "service = ['Laundry Services', 'Car Washes', 'Towing Services', 'Cleaning and Maintenance Services', 'Tax Preparation Services',\n",
    "                   'Accounting, Auditing, and Bookkeeping Services', 'Legal Services and Attorneys', 'Detective Agencies, Security Services', 'Money Transfer',\n",
    "                   'Insurance Sales, Underwriting', 'Travel Agencies']\n",
    "\n",
    "retail = ['Department Stores', 'Family Clothing Stores', \"Women's Ready-To-Wear Stores\", 'Shoe Stores', 'Sports Apparel, Riding Apparel Stores',\n",
    "              'Sporting Goods Stores', 'Leather Goods', 'Precious Stones and Metals', 'Antique Shops', 'Music Stores - Musical Instruments',\n",
    "              'Artist Supply Stores, Craft Shops', 'Book Stores', 'Books, Periodicals, Newspapers', 'Electronics Stores',\n",
    "              'Computers, Computer Peripheral Equipment', 'Digital Goods - Media, Books, Apps', 'Digital Goods - Games', 'Cosmetic Stores',\n",
    "              'Beauty and Barber Shops', 'Gift, Card, Novelty Stores', 'Miscellaneous Home Furnishing Stores', \n",
    "              'Furniture, Home Furnishings, and Equipment Stores', 'Upholstery and Drapery Stores', 'Lighting, Fixtures, Electrical Supplies',\n",
    "              'Floor Covering Stores', 'Lawn and Garden Supply Stores', 'Gardening Supplies', 'Hardware Stores', 'Household Appliance Stores',\n",
    "              'Florists Supplies, Nursery Stock and Flowers', 'Non-Precious Metal Services']\n",
    "\n",
    "industry = ['Lumber and Building Materials', 'Brick, Stone, and Related Materials', 'Industrial Equipment and Supplies',\n",
    "                    'Tools, Parts, Supplies Manufacturing', 'Heating, Plumbing, Air Conditioning Contractors', 'Fabricated Structural Metal Products',\n",
    "                    'Steel Products Manufacturing', 'Steelworks', 'Ironwork', 'Welding Repair', 'Electroplating, Plating, Polishing Services',\n",
    "                    'Heat Treating Metal Services', 'Bolt, Nut, Screw, Rivet Manufacturing', 'Coated and Laminated Products', 'Non-Ferrous Metal Foundries',\n",
    "                    'Steel Drums and Barrels', 'Miscellaneous Metal Fabrication', 'Miscellaneous Metals', 'Miscellaneous Fabricated Metal Products',\n",
    "                    'Miscellaneous Metalwork', 'Pottery and Ceramics', 'Semiconductors and Related Devices', 'Ship Chandlers',\n",
    "                    'Utilities - Electric, Gas, Water, Sanitary', 'Telecommunication Services', 'Computer Network Services', \n",
    "                    'Cable, Satellite, and Other Pay Television Services', 'Postal Services - Government Only', 'Tolls and Bridge Fees', \n",
    "                    'Amusement Parks, Carnivals, Circuses', 'Motion Picture Theaters', 'Theatrical Producers', 'Recreational Sports, Clubs', \n",
    "                    'Athletic Fields, Commercial Sports', 'Betting (including Lottery Tickets, Casinos)', 'Miscellaneous Machinery and Parts Manufacturing']"
   ]
  },
  {
   "cell_type": "code",
   "execution_count": 13,
   "id": "f2fce27e",
   "metadata": {},
   "outputs": [],
   "source": [
    "trans_df.loc[trans_df['merchant_cat'].isin(food), 'merchant_cat'] = 'food'\n",
    "trans_df.loc[trans_df['merchant_cat'].isin(medical), 'merchant_cat'] = 'medical'\n",
    "trans_df.loc[trans_df['merchant_cat'].isin(transport), 'merchant_cat'] = 'transport'\n",
    "trans_df.loc[trans_df['merchant_cat'].isin(service), 'merchant_cat'] = 'service'\n",
    "trans_df.loc[trans_df['merchant_cat'].isin(retail), 'merchant_cat'] = 'retail'\n",
    "trans_df.loc[trans_df['merchant_cat'].isin(industry), 'merchant_cat'] = 'industry'"
   ]
  },
  {
   "cell_type": "code",
   "execution_count": 14,
   "id": "b61177c8",
   "metadata": {},
   "outputs": [],
   "source": [
    "trans_df['errors'] = trans_df['errors'].fillna(0) #정상 거래는 0값으로 처리\n",
    "\n",
    "#merchant_city가 ONLINE 일 떄 merchant_state도 ONLINE으로 변경\n",
    "trans_df.loc[trans_df['merchant_city'] == 'ONLINE', 'merchant_state'] = 'ONLINE'\n",
    "\n",
    "#고객 ID, 카드 ID, 다크웹에서 카드?,거래 id, 상점 id, 상점 카테고리 식별 번호 삭제\n",
    "trans_df = trans_df.drop(columns=['id','merchant_id','mcc','client_id','card_on_dark_web'])"
   ]
  },
  {
   "cell_type": "code",
   "execution_count": 15,
   "id": "e2dde5ad",
   "metadata": {},
   "outputs": [],
   "source": [
    "trans_df['date'] = pd.to_datetime(trans_df['date']) #date의 데이터 구조를 datetime으로 변환\n",
    "\n",
    "#금액에서 $표시를 제거해서 돈과 관련된 수치를 숫자로 변환\n",
    "trans_df['amount'] = pd.to_numeric(trans_df['amount'].str.split('$', expand=True)[1]) #\n",
    "trans_df['credit_limit'] = pd.to_numeric(trans_df['credit_limit'].str.split('$', expand=True)[1]) #\n",
    "trans_df['per_capita_income'] = pd.to_numeric(trans_df['per_capita_income'].str.split('$', expand=True)[1])\n",
    "trans_df['yearly_income'] = pd.to_numeric(trans_df['yearly_income'].str.split('$', expand=True)[1])\n",
    "trans_df['total_debt'] = pd.to_numeric(trans_df['total_debt'].str.split('$', expand=True)[1])"
   ]
  },
  {
   "cell_type": "code",
   "execution_count": 16,
   "id": "583925a4",
   "metadata": {},
   "outputs": [],
   "source": [
    "#거래 날짜와 고객,카드 정보를 통해 시간과 관련된 새로운 피쳐 생성\n",
    "\n",
    "trans_df['day'] = trans_df['date'].dt.day #거래 당시의 일 생성\n",
    "trans_df['month'] = trans_df['date'].dt.month #거래 당시의 월 생성\n",
    "trans_df['year'] = trans_df['date'].dt.year #거래 당시의 년 생성\n",
    "\n",
    "trans_df['expire_month'] = pd.to_numeric(trans_df['expires'].str.split('/', expand=True)[0]) #카드 만료 날의 월 \n",
    "trans_df['expire_year'] = pd.to_numeric(trans_df['expires'].str.split('/', expand=True)[1]) #카드 만료 날의 년\n",
    "\n",
    "trans_df['acct_open_date_month'] = pd.to_numeric(trans_df['acct_open_date'].str.split('/', expand=True)[0]) #계좌 개설 날의 월 \n",
    "trans_df['acct_open_date_year'] = pd.to_numeric(trans_df['acct_open_date'].str.split('/', expand=True)[1]) #계좌 개설 날의 년\n",
    "\n",
    "trans_df['current_age'] = trans_df['year'] - trans_df['birth_year'] #현재 나이를 2019년이 아닌 거래 날짜를 기준으로 변경\n",
    "trans_df['year_since_pin_changed'] = trans_df['year'] - trans_df['year_pin_last_changed'] #핀 번호 변경으로 부터 지난 해 기간\n",
    "trans_df['year_since_pin_changed'] = trans_df['year_since_pin_changed'].clip(lower=0) #핀 번호 갱신 기간이 음수인 경우 0으로 변환\n",
    "trans_df['years_to_retirement'] = trans_df['retirement_age'] - trans_df['current_age'] #은퇴까지 남은 년\n",
    "\n",
    "trans_df['month_to_expires'] = (12*(trans_df['expire_year'] - trans_df['year']) \n",
    "                                + (trans_df['expire_month'] - trans_df['month'])) #카드 만료까지 남은 개월 수\n",
    "\n",
    "trans_df['month_to_acct_open'] = (12*(trans_df['year'] - trans_df['acct_open_date_year']) \n",
    "                                + (trans_df['month'] - trans_df['acct_open_date_month'])) #계좌 개설 후 지난 개월 수\n"
   ]
  },
  {
   "cell_type": "code",
   "execution_count": 17,
   "id": "10cf9836",
   "metadata": {},
   "outputs": [],
   "source": [
    "trans_df['hour'] = trans_df['date'].dt.hour #거래 당시의 시간 \n",
    "trans_df['min'] = trans_df['date'].dt.minute #거래 당시의 분  \n",
    "\n",
    "trans_df['time'] = 60*trans_df['hour'] + trans_df['min'] #거래 당시의 시간대\n",
    "\n",
    "#해당 고객의 최근 거래 15건의 시간대의 이동 평균 계산 (사용한 카드 기준)\n",
    "trans_df['time_15_ma'] = trans_df.groupby('card_id')['time'].rolling(window=15, min_periods=1).mean().reset_index(level=0, drop=True)\n",
    "trans_df['time_15_ma'] = np.abs(trans_df['time_15_ma']-trans_df['time']).round(2) #거래 시간대 이동 평균과 거래 시간대 차이 "
   ]
  },
  {
   "cell_type": "code",
   "execution_count": 18,
   "id": "5d1f90c2",
   "metadata": {},
   "outputs": [],
   "source": [
    "trans_df = trans_df.drop(columns=['birth_year','birth_month','date','year_pin_last_changed','retirement_age','expires','acct_open_date',\n",
    "                                 'expire_month','expire_year','acct_open_date_month','acct_open_date_year'])"
   ]
  },
  {
   "cell_type": "markdown",
   "id": "776248f3",
   "metadata": {},
   "source": [
    "- 소비자 물가 지수(CPI)로 년마다 연봉 갱신\n",
    "\n",
    "|연도|소비자 물가 지수|단위 환산|\n",
    "|------|---|---|\n",
    "|2010년|218.1|85.30|\n",
    "|2011년|224.9|87.95|\n",
    "|2012년|229.6|89.79|\n",
    "|2013년|232.9|91.08|\n",
    "|2014년|236.7|92.57|\n",
    "|2015년|237.0|92.69|\n",
    "|2016년|240.0|93.86|\n",
    "|2017년|245.1|95.85|\n",
    "|2018년|251.1|98.20|\n",
    "|2019년|255.7|100|\n",
    "\n",
    "출처: https://ko.tradingeconomics.com/united-states"
   ]
  },
  {
   "cell_type": "code",
   "execution_count": 19,
   "id": "ad2373a0",
   "metadata": {},
   "outputs": [],
   "source": [
    "#소비자 물기 지수(CPI)로 연봉을 평준화 \n",
    "CPI = {2019:1, 2018:0.982 ,2017:0.9585,2016:0.9386, 2015:0.9269, 2014:0.9257, 2013:0.9108, 2012:0.8979, 2011:0.8795, 2010:0.853}\n",
    "\n",
    "trans_df['CPI'] = trans_df['year'].map(CPI)\n",
    "trans_df['per_capita_income'] = trans_df['per_capita_income']*trans_df['CPI'] #지역 연봉 * CPI 지수 가중치\n",
    "trans_df['yearly_income'] = trans_df['yearly_income']*trans_df['CPI'] #연봉 * CPI 지수 가중치\n",
    "trans_df = trans_df.drop(columns=['CPI'])"
   ]
  },
  {
   "cell_type": "code",
   "execution_count": 20,
   "id": "8e75bad2",
   "metadata": {},
   "outputs": [],
   "source": [
    "#지리 정보를 이용한 feature engineering\n",
    "\n",
    "manual_coords = {\n",
    "    '30399': (33.7490, -84.3880), '94101': (37.7834, -122.4194),\n",
    "    '98205': (47.9790, -122.2021), '10072': (40.7766, -73.9525),\n",
    "    '19640': (40.3356, -75.9269), '45418': (39.7589, -84.1916),\n",
    "    '21748': (39.6418, -77.7200), '10558': (40.9126, -73.8385),\n",
    "    '92164': (32.7157, -117.1611), '14645': (43.1566, -77.6088),\n",
    "    '33121': (25.7617, -80.1918), '17767': (41.2951, -77.1641),\n",
    "    '16532': (42.1292, -80.0851), '29573': (33.6891, -78.8867),\n",
    "    '19388': (39.9607, -75.6055), '41338': (37.5551, -83.3882),\n",
    "    '21681': (39.2157, -76.0694), '19483': (40.0970, -75.3888),\n",
    "    '40446': (37.4298, -83.9785), '92412': (34.1083, -117.2898),\n",
    "    '11594': (40.7559, -73.5876), '25965': (37.6729, -80.8906)\n",
    "} #우편번호 라이브러리에 등록되지 않은 위치 정보\n",
    "\n",
    "#상점 우편 번호로 상점의 위도 경도 지리 정보 추출\n",
    "geo_locator = pgeocode.Nominatim('us') #미국 우편 번호 객체 생성\n",
    "\n",
    "trans_df['zip'].fillna(0, inplace=True) #결측치 채우기\n",
    "trans_df['zip_str'] = trans_df['zip'].astype(int).astype(str).str.zfill(5) #우편 번호를 문자열로 저장\n",
    "geo_info = geo_locator.query_postal_code(trans_df['zip_str'].tolist()) #우편 번호를 위도, 경도로 변환\n",
    "\n",
    "trans_df['market_latitude'] = geo_info['latitude'] #거래 데이터에 상점의 위도, 경도 정보 저장\n",
    "trans_df['market_longitude'] = geo_info['longitude']\n",
    "\n",
    "#라이브러리에 등록되지 않는 위도, 경도 정보를 딕션너리로 변환\n",
    "lat_map = {zip_code: coords[0] for zip_code, coords in manual_coords.items()} #위도 정보 변환\n",
    "lon_map = {zip_code: coords[1] for zip_code, coords in manual_coords.items()} #경도 정보 변환\n",
    "\n",
    "#위도-경도 딕션너리를 매핑을 통해 거래 데이터에 저장\n",
    "trans_df['market_latitude'] = trans_df['market_latitude'].fillna(trans_df['zip_str'].map(lat_map)) #결측치에 위도, 경도 정보 저장\n",
    "trans_df['market_longitude'] = trans_df['market_longitude'].fillna(trans_df['zip_str'].map(lon_map))\n",
    "\n",
    "#상점과 고객 주소 간의 거리 계산\n",
    "client_coords = list(zip(trans_df['latitude'], trans_df['longitude'])) #고객 주소 좌표\n",
    "market_coords = list(zip(trans_df['market_latitude'], trans_df['market_longitude'])) #상점 주소 좌표\n",
    "trans_df['distance_km'] = haversine_vector(client_coords, market_coords, unit=Unit.KILOMETERS) #고객과 상점 거리를 km 단위로 계산\n",
    "\n",
    "#해당 고객의 최근 거래 15건의 상점-주소 거리의 이동 평균 계산\n",
    "trans_df['distance_15_ma'] = trans_df.groupby('card_id')['distance_km'].rolling(window=15, min_periods=1).mean().reset_index(level=0, drop=True)\n",
    "\n",
    "# 소수점 둘째 자리까지 반올림\n",
    "trans_df['distance_15_ma'] = np.abs(trans_df['distance_km']- trans_df['distance_15_ma']).round(2) #이동 평균과 거리 차이로 계산\n",
    "trans_df['distance_km'] = trans_df['distance_km'].round(2)\n",
    "\n",
    "us_state_codes = {\n",
    "    'AL', 'AK', 'AZ', 'AR', 'CA', 'CO', 'CT', 'DE', 'DC', 'FL', 'GA',\n",
    "    'HI', 'ID', 'IL', 'IN', 'IA', 'KS', 'KY', 'LA', 'ME', 'MD', 'MA',\n",
    "    'MI', 'MN', 'MS', 'MO', 'MT', 'NE', 'NV', 'NH', 'NJ', 'NM', 'NY',\n",
    "    'NC', 'ND', 'OH', 'OK', 'OR', 'PA', 'RI', 'SC', 'SD', 'TN', 'TX',\n",
    "    'UT', 'VT', 'VA', 'WA', 'WV', 'WI', 'WY'} #미국 50개 주 +D.C(워싱턴)\n",
    "\n",
    "condition = trans_df['merchant_state'].isin(us_state_codes) # 상점 위치가 미국 내인지 판단\n",
    "trans_df['national'] = np.where(condition, 'domestic', 'overseas') #미국 내이면 'domestic', 해외면 'overseas' 값을 가짐\n",
    "\n",
    "#상점 위치가 해외이면 merchant_state 값을 overseas로 변환\n",
    "condition2 = (trans_df['national'] == 'overseas') & (trans_df['merchant_city'] != 'ONLINE')\n",
    "trans_df.loc[condition2, 'merchant_state'] = 'overseas'"
   ]
  },
  {
   "cell_type": "code",
   "execution_count": 21,
   "id": "9257c91d",
   "metadata": {},
   "outputs": [],
   "source": [
    "#거래 금액 관련 feature-engineering\n",
    "\n",
    "condition = trans_df['amount'] < 0 #거래 금액이 음수인지 판단(환불 거래)\n",
    "trans_df['refund'] = np.where(condition,1,0)\n",
    "trans_df['amount'] = np.abs(trans_df['amount']) #거래 금액을 양수로 바꿈\n",
    "\n",
    "window_size = 200 #최근 200개 데이터 선별\n",
    "\n",
    "def count_current_customer(window):\n",
    "    current_customer = window.iloc[-1]\n",
    "    return (window == current_customer).sum()\n",
    "\n",
    "#최근 200개 거래 데이터 중 현재 고객의 거래 건수 총합을 계산\n",
    "trans_df['recent_trans'] = trans_df['card_id'].rolling(window=window_size, min_periods=1).apply(count_current_customer, raw=False)\n",
    "\n"
   ]
  },
  {
   "cell_type": "code",
   "execution_count": 22,
   "id": "149904cd",
   "metadata": {},
   "outputs": [],
   "source": [
    "#고객 정보와 환불 정보 통합 \n",
    "trans_df['combo_id'] = trans_df['card_id'].astype(str) + trans_df['refund'].astype(str)*3\n",
    "trans_df['combo_id'] = trans_df['combo_id'].astype(int)\n",
    "\n",
    "\n",
    "def refund_count_current_customer(window):\n",
    "    current_customer = str(int(window.iloc[-1]))\n",
    "    target_id = int(current_customer[:4] + '111')\n",
    "    \n",
    "    return (window == target_id).sum()\n",
    "   \n",
    "#최근 200개 거래 데이터 중 현재 고객의 환불 거래 건수 총합을 계산\n",
    "trans_df['recent_refund_trans'] = trans_df['combo_id'].rolling(window=window_size, min_periods=1).apply(refund_count_current_customer, raw=False)\n",
    "\n",
    "#해당 고객의 최근 거래 15건의 거래 금액의 이동 평균 계산\n",
    "trans_df['amount_15_ma'] = trans_df.groupby('card_id')['amount'].rolling(window=15, min_periods=1).mean().reset_index(level=0, drop=True)\n",
    "\n",
    "#거래 금액과 최근 15건의 거래 금액 평균의 차이 \n",
    "trans_df['amount_15_ma'] = np.abs(trans_df['amount']- trans_df['amount_15_ma']).round(2) "
   ]
  },
  {
   "cell_type": "code",
   "execution_count": 23,
   "id": "8fab711a",
   "metadata": {},
   "outputs": [],
   "source": [
    "#필요 없는 정보 제거\n",
    "trans_df = trans_df.drop(columns=['address','latitude','longitude','zip','zip_str','combo_id',\n",
    "                                  'market_latitude','market_longitude','card_id','merchant_city','national','time'])"
   ]
  },
  {
   "cell_type": "code",
   "execution_count": 24,
   "id": "90d202e5",
   "metadata": {},
   "outputs": [],
   "source": [
    "train_trans_df = trans_df[trans_df['fraud_label'].notnull()] # 사기 정보가 있는 데이터 900만개\n",
    "test_trans_df = trans_df[trans_df['fraud_label'].isnull()] # 사기 정보가 없는 데이터  400만개\n",
    "\n",
    "#사기 거래 정보 값을 Yes, NO에서 1,0으로 변경\n",
    "YN_dict = {\"Yes\": 1, \"No\" : 0}\n",
    "train_trans_df['fraud_label'] = train_trans_df['fraud_label'].map(YN_dict)"
   ]
  },
  {
   "cell_type": "code",
   "execution_count": 25,
   "id": "1a4fa6d8",
   "metadata": {},
   "outputs": [
    {
     "data": {
      "text/plain": [
       "Index(['amount', 'use_chip', 'merchant_state', 'errors', 'fraud_label',\n",
       "       'merchant_cat', 'card_brand', 'card_type', 'has_chip',\n",
       "       'num_cards_issued', 'credit_limit', 'current_age', 'gender',\n",
       "       'per_capita_income', 'yearly_income', 'total_debt', 'credit_score',\n",
       "       'num_credit_cards', 'day', 'month', 'year', 'year_since_pin_changed',\n",
       "       'years_to_retirement', 'month_to_expires', 'month_to_acct_open', 'hour',\n",
       "       'min', 'time_15_ma', 'distance_km', 'distance_15_ma', 'refund',\n",
       "       'recent_trans', 'recent_refund_trans', 'amount_15_ma'],\n",
       "      dtype='object')"
      ]
     },
     "execution_count": 25,
     "metadata": {},
     "output_type": "execute_result"
    }
   ],
   "source": [
    "#feature\n",
    "train_trans_df.columns"
   ]
  },
  {
   "cell_type": "code",
   "execution_count": 26,
   "id": "860004ac-b23a-43fb-8222-47291bff9aaa",
   "metadata": {},
   "outputs": [],
   "source": [
    "train_trans_df.to_pickle(\"train_features.pkl\")\n",
    "test_trans_df.to_pickle(\"test_features.pkl\")"
   ]
  },
  {
   "cell_type": "code",
   "execution_count": 5,
   "id": "80e52506-a95b-49e6-89e7-f31a48a81e5d",
   "metadata": {},
   "outputs": [],
   "source": [
    "train_trans_df = pd.read_pickle(\"train_features.pkl\")\n",
    "test_trans_df = pd.read_pickle(\"test_features.pkl\")\n"
   ]
  },
  {
   "cell_type": "markdown",
   "id": "edc0b3c5",
   "metadata": {},
   "source": [
    "<span style=\"font-size: 22px; color: black\">**추가된 변수**</span>\n",
    "\n",
    "- **day**: 거래된 일\n",
    "- **month**: 거래된 월\n",
    "- **year**: 거래된 년\n",
    "- **hour**: 거래된 시간\n",
    "- **min**: 거래된 분\n",
    "- **year_since_pin_changed**: 핀 번호 변경으로 부터 지난 년\n",
    "- **years_to_retirement**: 은퇴까지 남은 년\n",
    "- **month_to_expires**: 카드 만료까지 남은 달\n",
    "- **month_to_acct_open**: 계좌 개설로 부터 지난 달\n",
    "- **distance_km**: 상점과 고객 주소의 거리 차이(km)\n",
    "- **distance_15_ma**\" 최근 15번 거래의 상점-고객 거리의 이동 평균과 현재 거래에서 거리의 차이(카드 기준) \n",
    "- **time_15_ma**\" 최근 15번 거래의 거래 시간의 이동 평균과 현재 거래에서 시간대 차이 (카드 기준)\n",
    "- **refund**: 환불 여부\n",
    "- **recent_trans**:최근 거래 횟수\n",
    "- **recent_refund_trans**:최근 환불 횟수\n",
    "- **amount_15_ma**: 최근 15번 거래의 거래 금액 평균과 거래 금액 차이\n",
    "\n",
    "\n",
    "<span style=\"font-size: 22px; color: black\">**변경된 변수**</span>\n",
    "\n",
    "- **fraud_label**: NO, Yes를 0,1로 변경\n",
    "- **current_age**: 현재 나이를 2019년 기준에서 거래 당시 시간으로 변경\n",
    "- **per_capita_income**: 수입 기준을 2019년에서 CPA를 적용해서 년마다 갱신\n",
    "- **yearly_income**: 연봉 기준을 2019년에서 CPA를 적용해서 년마다 갱신\n",
    "- **merchant_state**: 해외는 overseas, 미국 내는 주, 온라인 거래는 ONLINE 으로 변경\n"
   ]
  },
  {
   "cell_type": "code",
   "execution_count": 28,
   "id": "023f96f0",
   "metadata": {},
   "outputs": [
    {
     "name": "stdout",
     "output_type": "stream",
     "text": [
      "<class 'pandas.core.frame.DataFrame'>\n",
      "Index: 8914963 entries, 0 to 13305912\n",
      "Data columns (total 34 columns):\n",
      " #   Column                  Dtype  \n",
      "---  ------                  -----  \n",
      " 0   amount                  float64\n",
      " 1   use_chip                object \n",
      " 2   merchant_state          object \n",
      " 3   errors                  object \n",
      " 4   fraud_label             int64  \n",
      " 5   merchant_cat            object \n",
      " 6   card_brand              object \n",
      " 7   card_type               object \n",
      " 8   has_chip                object \n",
      " 9   num_cards_issued        int64  \n",
      " 10  credit_limit            int64  \n",
      " 11  current_age             int64  \n",
      " 12  gender                  object \n",
      " 13  per_capita_income       float64\n",
      " 14  yearly_income           float64\n",
      " 15  total_debt              int64  \n",
      " 16  credit_score            int64  \n",
      " 17  num_credit_cards        int64  \n",
      " 18  day                     int32  \n",
      " 19  month                   int32  \n",
      " 20  year                    int32  \n",
      " 21  year_since_pin_changed  int64  \n",
      " 22  years_to_retirement     int64  \n",
      " 23  month_to_expires        int64  \n",
      " 24  month_to_acct_open      int64  \n",
      " 25  hour                    int32  \n",
      " 26  min                     int32  \n",
      " 27  time_15_ma              float64\n",
      " 28  distance_km             float64\n",
      " 29  distance_15_ma          float64\n",
      " 30  refund                  int64  \n",
      " 31  recent_trans            float64\n",
      " 32  recent_refund_trans     float64\n",
      " 33  amount_15_ma            float64\n",
      "dtypes: float64(9), int32(5), int64(12), object(8)\n",
      "memory usage: 2.2+ GB\n"
     ]
    }
   ],
   "source": [
    "train_trans_df.info()"
   ]
  },
  {
   "cell_type": "code",
   "execution_count": 6,
   "id": "c0c41d83",
   "metadata": {},
   "outputs": [],
   "source": [
    "train_trans_df = pd.get_dummies(train_trans_df,columns = ['use_chip','merchant_state','errors','merchant_cat',\n",
    "                                         'card_brand','card_type','has_chip','gender'],drop_first=True)"
   ]
  },
  {
   "cell_type": "code",
   "execution_count": 30,
   "id": "3a3009d9-1c97-469e-b436-8c015fef1a0a",
   "metadata": {},
   "outputs": [
    {
     "name": "stdout",
     "output_type": "stream",
     "text": [
      " 결측치가 있는 칼럼 발견:\n",
      "distance_km       1107377\n",
      "distance_15_ma    1107377\n",
      "dtype: int64\n",
      "\n",
      "총 결측치 개수: 2214754\n"
     ]
    }
   ],
   "source": [
    "# # 결측치 개수 확인\n",
    "# missing_counts = train_trans_df.isnull().sum()\n",
    "\n",
    "# # 결측치가 있는 칼럼만 추출\n",
    "# missing_cols = missing_counts[missing_counts > 0]\n",
    "\n",
    "# if missing_cols.empty:\n",
    "#     print(\" 결측치가 없습니다! 모든 칼럼이 안전합니다.\")\n",
    "# else:\n",
    "#     print(\" 결측치가 있는 칼럼 발견:\")\n",
    "#     print(missing_cols)\n",
    "#     print(\"\\n총 결측치 개수:\", missing_counts.sum())\n"
   ]
  },
  {
   "cell_type": "code",
   "execution_count": 7,
   "id": "4709e2ab-babc-45a4-ae53-45f90d6d1ecd",
   "metadata": {},
   "outputs": [
    {
     "name": "stdout",
     "output_type": "stream",
     "text": [
      "distance_km       0\n",
      "distance_15_ma    0\n",
      "dtype: int64\n"
     ]
    }
   ],
   "source": [
    "# distance_km, distance_15_ma 결측치를 평균값으로 대체\n",
    "train_trans_df[\"distance_km\"].fillna(0, inplace=True)\n",
    "train_trans_df[\"distance_15_ma\"].fillna(0, inplace=True)\n",
    "\n",
    "# 확인\n",
    "print(train_trans_df[[\"distance_km\", \"distance_15_ma\"]].isnull().sum())\n"
   ]
  },
  {
   "cell_type": "code",
   "execution_count": null,
   "id": "c978f8ea-4688-468a-b6b8-a2b9b6755bc3",
   "metadata": {},
   "outputs": [],
   "source": []
  },
  {
   "cell_type": "code",
   "execution_count": null,
   "id": "ae22c4f3-333c-4fe0-bccd-330a2bb5dbe3",
   "metadata": {},
   "outputs": [],
   "source": []
  },
  {
   "cell_type": "code",
   "execution_count": null,
   "id": "a117b7d6-e0b1-4e22-9f5e-f6b0d3b321be",
   "metadata": {},
   "outputs": [],
   "source": [
    "train_trans_df.info()"
   ]
  },
  {
   "cell_type": "markdown",
   "id": "5432ef9b",
   "metadata": {},
   "source": [
    "- target은 fraud_label\n",
    "- fraud_label 값이 0: 정상 거래 1: 사기 거래\n",
    "\n",
    "- 학습할 데이터: train_trans_df (X,y 분리 안되어 있음)"
   ]
  },
  {
   "cell_type": "markdown",
   "id": "0fc09883-0b6a-4157-b659-a59583951150",
   "metadata": {},
   "source": [
    "# 레이블인코딩"
   ]
  },
  {
   "cell_type": "markdown",
   "id": "afeb0a9e-787f-4ea4-ab3c-5d51f960c7f1",
   "metadata": {},
   "source": [
    "# 레이블인코딩"
   ]
  },
  {
   "cell_type": "code",
   "execution_count": null,
   "id": "55783aa7-d6ac-4512-a37b-9525a845f4b2",
   "metadata": {},
   "outputs": [],
   "source": [
    "# label_encoders = {}\n",
    "\n",
    "# categorical_cols = train_trans_df.select_dtypes(include=[\"object\"]).columns\n",
    "\n",
    "# for col in categorical_cols:\n",
    "#     le = LabelEncoder()\n",
    "#     train_trans_df[col] = le.fit_transform(train_trans_df[col].astype(str))\n",
    "#     test_trans_df[col] = le.transform(test_trans_df[col].astype(str)) \n",
    "#     label_encoders[col] = le\n"
   ]
  },
  {
   "cell_type": "markdown",
   "id": "03b1fbef-ccd2-45fb-a06f-ab6673e6072d",
   "metadata": {},
   "source": [
    "###  데이터셋 준비"
   ]
  },
  {
   "cell_type": "code",
   "execution_count": 8,
   "id": "f6a13b90-c228-4b56-bd3d-f86df26e699b",
   "metadata": {},
   "outputs": [],
   "source": [
    "X = train_trans_df.drop(\"fraud_label\", axis=1)\n",
    "y = train_trans_df[\"fraud_label\"] "
   ]
  },
  {
   "cell_type": "markdown",
   "id": "d67bc3cd-2104-4d71-948a-f7620569b5aa",
   "metadata": {},
   "source": [
    "### 데이터 스플릿 및 각종지표 함수화"
   ]
  },
  {
   "cell_type": "code",
   "execution_count": 9,
   "id": "d63fc6dd-d853-4525-a7b3-706aba4a1846",
   "metadata": {},
   "outputs": [],
   "source": [
    "X_train, X_val, y_train, y_val = train_test_split(\n",
    "    X, y, test_size=0.2, random_state=42, stratify=y\n",
    ")\n",
    "\n",
    "def evaluate_model(model, X_val, y_val, model_name=\"Model\"):\n",
    "    # 예측값과 확률\n",
    "    preds = model.predict(X_val)\n",
    "    probas = model.predict_proba(X_val)[:, 1]\n",
    "\n",
    "    # 주요 지표\n",
    "    #사기vs정상을 구분하는 능력 0.5=랜덤추측,1.0=완벽한 구분\n",
    "    roc_auc = roc_auc_score(y_val, probas)\n",
    "    \n",
    "    #precision vs recall 의 균형 0 ~ 1.0 ,0.6이상\n",
    "    f1 = f1_score(y_val, preds)\n",
    "    \n",
    "    #정밀도(precision) 높을수록 좋음 0.8이상 양호 0.9 이상 최상\n",
    "    #사기라고 예측한 거래중 실제 사기 비율 - 고객불편\n",
    "    #recall 높을수록 좋음 0.7이상 양호 0.9이상 최상\n",
    "    #실제 사기거래중에서 모델이 잡아낸 비율 - 금전손실위험\n",
    "    # 실제 사기 거래 중에서 모델이 얼마나 잘 잡아내는지를 보기 위해\n",
    "    # 다양한 threshold(0~1)를 기준으로 Precision과 Recall 값을 계산\n",
    "    precision, recall, _ = precision_recall_curve(y_val, probas)\n",
    "\n",
    "    # Precision-Recall 곡선의 면적 (0~1.0 사이 값)\n",
    "    # 불균형 데이터에서 모델 성능을 평가할 때 특히 중요\n",
    "    # 0.7 이상이면 좋은 편, 값이 클수록 사기 거래 탐지 능력이 우수\n",
    "    pr_auc = auc(recall, precision)\n",
    "\n",
    "    # 특정 threshold(기본적으로 0.5) 기준에서의 Precision 값\n",
    "    # '사기라고 예측한 거래 중에서 실제 사기 비율'을 의미\n",
    "    # Precision이 낮으면 정상 거래를 잘못 사기로 예측(FP)이 많다는 뜻\n",
    "    prec = precision_score(y_val, preds)\n",
    "    \n",
    "    rec = recall_score(y_val, preds)\n",
    "\n",
    "    #-1~1 사이값\n",
    "    # 0.5이상 안정적 0.7 이상이면 우수\n",
    "    mcc = matthews_corrcoef(y_val, preds)\n",
    "\n",
    "    #0이상의값 \n",
    "    #작을수록 좋음 0.3 이하 우수\n",
    "    loss = log_loss(y_val, probas)\n",
    "\n",
    "    #TN (8500): 정상 → 정상 맞춤\n",
    "\n",
    "    # FP (300): 정상인데 사기라고 잘못 탐지\n",
    "    \n",
    "    # FN (200): 사기인데 정상으로 놓침 ⚠️ (가장 위험)\n",
    "    \n",
    "    # TP (1000): 사기 → 사기 맞춤\n",
    "    cm = confusion_matrix(y_val, preds)\n",
    "\n",
    "    # 출력\n",
    "    print(f\"\\n {model_name} 결과\")\n",
    "    print(f\"ROC-AUC: {roc_auc:.4f}\")\n",
    "    print(f\"F1: {f1:.4f}\")\n",
    "    print(f\"PR-AUC: {pr_auc:.4f}\")\n",
    "    print(f\"Precision: {prec:.4f}\")\n",
    "    print(f\"Recall: {rec:.4f}\")\n",
    "    print(f\"MCC: {mcc:.4f}\")\n",
    "    print(f\"LogLoss: {loss:.4f}\")\n",
    "    print(\"Confusion Matrix:\")\n",
    "    print(cm)\n",
    "    print(\"\\nClassification Report:\")\n",
    "    print(classification_report(y_val, preds))\n",
    "\n",
    "    return {\n",
    "        \"roc_auc\": roc_auc,\n",
    "        \"f1\": f1,\n",
    "        \"pr_auc\": pr_auc,\n",
    "        \"precision\": prec,\n",
    "        \"recall\": rec,\n",
    "        \"mcc\": mcc,\n",
    "        \"log_loss\": loss,\n",
    "        \"confusion_matrix\": cm\n",
    "    }\n",
    "\n"
   ]
  },
  {
   "cell_type": "code",
   "execution_count": 10,
   "id": "3c37e8b2-2d33-4a6a-9fa6-b2230ed5b09e",
   "metadata": {},
   "outputs": [],
   "source": [
    "# # 테스트 데이터 30%\n",
    "train_sample = train_trans_df.sample(frac=0.3, random_state=42)\n",
    "X = train_sample.drop(\"fraud_label\", axis=1)\n",
    "y = train_sample[\"fraud_label\"]\n",
    "\n",
    "X_train, X_val, y_train, y_val = train_test_split(\n",
    "    X, y, test_size=0.2, random_state=42, stratify=y\n",
    ")"
   ]
  },
  {
   "cell_type": "code",
   "execution_count": 38,
   "id": "4009a266-3da5-4797-81e0-edf2174f8e8e",
   "metadata": {
    "collapsed": true,
    "jupyter": {
     "outputs_hidden": true
    }
   },
   "outputs": [
    {
     "ename": "MemoryError",
     "evalue": "Unable to allocate 1.38 GiB for an array with shape (52, 7131970) and data type float32",
     "output_type": "error",
     "traceback": [
      "\u001b[1;31m---------------------------------------------------------------------------\u001b[0m",
      "\u001b[1;31mMemoryError\u001b[0m                               Traceback (most recent call last)",
      "Cell \u001b[1;32mIn[38], line 5\u001b[0m\n\u001b[0;32m      3\u001b[0m y_train \u001b[38;5;241m=\u001b[39m y_train\u001b[38;5;241m.\u001b[39msqueeze()\n\u001b[0;32m      4\u001b[0m y_val   \u001b[38;5;241m=\u001b[39m y_val\u001b[38;5;241m.\u001b[39msqueeze()\n\u001b[1;32m----> 5\u001b[0m X_train \u001b[38;5;241m=\u001b[39m \u001b[43mX_train\u001b[49m\u001b[38;5;241;43m.\u001b[39;49m\u001b[43mastype\u001b[49m\u001b[43m(\u001b[49m\u001b[38;5;124;43m\"\u001b[39;49m\u001b[38;5;124;43mfloat32\u001b[39;49m\u001b[38;5;124;43m\"\u001b[39;49m\u001b[43m)\u001b[49m\n\u001b[0;32m      6\u001b[0m X_val \u001b[38;5;241m=\u001b[39m X_val\u001b[38;5;241m.\u001b[39mastype(\u001b[38;5;124m\"\u001b[39m\u001b[38;5;124mfloat32\u001b[39m\u001b[38;5;124m\"\u001b[39m)\n",
      "File \u001b[1;32m~\\anaconda3\\envs\\project_env\\lib\\site-packages\\pandas\\core\\generic.py:6662\u001b[0m, in \u001b[0;36mNDFrame.astype\u001b[1;34m(self, dtype, copy, errors)\u001b[0m\n\u001b[0;32m   6656\u001b[0m     results \u001b[38;5;241m=\u001b[39m [\n\u001b[0;32m   6657\u001b[0m         ser\u001b[38;5;241m.\u001b[39mastype(dtype, copy\u001b[38;5;241m=\u001b[39mcopy, errors\u001b[38;5;241m=\u001b[39merrors) \u001b[38;5;28;01mfor\u001b[39;00m _, ser \u001b[38;5;129;01min\u001b[39;00m \u001b[38;5;28mself\u001b[39m\u001b[38;5;241m.\u001b[39mitems()\n\u001b[0;32m   6658\u001b[0m     ]\n\u001b[0;32m   6660\u001b[0m \u001b[38;5;28;01melse\u001b[39;00m:\n\u001b[0;32m   6661\u001b[0m     \u001b[38;5;66;03m# else, only a single dtype is given\u001b[39;00m\n\u001b[1;32m-> 6662\u001b[0m     new_data \u001b[38;5;241m=\u001b[39m \u001b[38;5;28;43mself\u001b[39;49m\u001b[38;5;241;43m.\u001b[39;49m\u001b[43m_mgr\u001b[49m\u001b[38;5;241;43m.\u001b[39;49m\u001b[43mastype\u001b[49m\u001b[43m(\u001b[49m\u001b[43mdtype\u001b[49m\u001b[38;5;241;43m=\u001b[39;49m\u001b[43mdtype\u001b[49m\u001b[43m,\u001b[49m\u001b[43m \u001b[49m\u001b[43mcopy\u001b[49m\u001b[38;5;241;43m=\u001b[39;49m\u001b[43mcopy\u001b[49m\u001b[43m,\u001b[49m\u001b[43m \u001b[49m\u001b[43merrors\u001b[49m\u001b[38;5;241;43m=\u001b[39;49m\u001b[43merrors\u001b[49m\u001b[43m)\u001b[49m\n\u001b[0;32m   6663\u001b[0m     res \u001b[38;5;241m=\u001b[39m \u001b[38;5;28mself\u001b[39m\u001b[38;5;241m.\u001b[39m_constructor_from_mgr(new_data, axes\u001b[38;5;241m=\u001b[39mnew_data\u001b[38;5;241m.\u001b[39maxes)\n\u001b[0;32m   6664\u001b[0m     \u001b[38;5;28;01mreturn\u001b[39;00m res\u001b[38;5;241m.\u001b[39m__finalize__(\u001b[38;5;28mself\u001b[39m, method\u001b[38;5;241m=\u001b[39m\u001b[38;5;124m\"\u001b[39m\u001b[38;5;124mastype\u001b[39m\u001b[38;5;124m\"\u001b[39m)\n",
      "File \u001b[1;32m~\\anaconda3\\envs\\project_env\\lib\\site-packages\\pandas\\core\\internals\\managers.py:430\u001b[0m, in \u001b[0;36mBaseBlockManager.astype\u001b[1;34m(self, dtype, copy, errors)\u001b[0m\n\u001b[0;32m    427\u001b[0m \u001b[38;5;28;01melif\u001b[39;00m using_copy_on_write():\n\u001b[0;32m    428\u001b[0m     copy \u001b[38;5;241m=\u001b[39m \u001b[38;5;28;01mFalse\u001b[39;00m\n\u001b[1;32m--> 430\u001b[0m \u001b[38;5;28;01mreturn\u001b[39;00m \u001b[38;5;28;43mself\u001b[39;49m\u001b[38;5;241;43m.\u001b[39;49m\u001b[43mapply\u001b[49m\u001b[43m(\u001b[49m\n\u001b[0;32m    431\u001b[0m \u001b[43m    \u001b[49m\u001b[38;5;124;43m\"\u001b[39;49m\u001b[38;5;124;43mastype\u001b[39;49m\u001b[38;5;124;43m\"\u001b[39;49m\u001b[43m,\u001b[49m\n\u001b[0;32m    432\u001b[0m \u001b[43m    \u001b[49m\u001b[43mdtype\u001b[49m\u001b[38;5;241;43m=\u001b[39;49m\u001b[43mdtype\u001b[49m\u001b[43m,\u001b[49m\n\u001b[0;32m    433\u001b[0m \u001b[43m    \u001b[49m\u001b[43mcopy\u001b[49m\u001b[38;5;241;43m=\u001b[39;49m\u001b[43mcopy\u001b[49m\u001b[43m,\u001b[49m\n\u001b[0;32m    434\u001b[0m \u001b[43m    \u001b[49m\u001b[43merrors\u001b[49m\u001b[38;5;241;43m=\u001b[39;49m\u001b[43merrors\u001b[49m\u001b[43m,\u001b[49m\n\u001b[0;32m    435\u001b[0m \u001b[43m    \u001b[49m\u001b[43musing_cow\u001b[49m\u001b[38;5;241;43m=\u001b[39;49m\u001b[43musing_copy_on_write\u001b[49m\u001b[43m(\u001b[49m\u001b[43m)\u001b[49m\u001b[43m,\u001b[49m\n\u001b[0;32m    436\u001b[0m \u001b[43m\u001b[49m\u001b[43m)\u001b[49m\n",
      "File \u001b[1;32m~\\anaconda3\\envs\\project_env\\lib\\site-packages\\pandas\\core\\internals\\managers.py:363\u001b[0m, in \u001b[0;36mBaseBlockManager.apply\u001b[1;34m(self, f, align_keys, **kwargs)\u001b[0m\n\u001b[0;32m    361\u001b[0m         applied \u001b[38;5;241m=\u001b[39m b\u001b[38;5;241m.\u001b[39mapply(f, \u001b[38;5;241m*\u001b[39m\u001b[38;5;241m*\u001b[39mkwargs)\n\u001b[0;32m    362\u001b[0m     \u001b[38;5;28;01melse\u001b[39;00m:\n\u001b[1;32m--> 363\u001b[0m         applied \u001b[38;5;241m=\u001b[39m \u001b[38;5;28mgetattr\u001b[39m(b, f)(\u001b[38;5;241m*\u001b[39m\u001b[38;5;241m*\u001b[39mkwargs)\n\u001b[0;32m    364\u001b[0m     result_blocks \u001b[38;5;241m=\u001b[39m extend_blocks(applied, result_blocks)\n\u001b[0;32m    366\u001b[0m out \u001b[38;5;241m=\u001b[39m \u001b[38;5;28mtype\u001b[39m(\u001b[38;5;28mself\u001b[39m)\u001b[38;5;241m.\u001b[39mfrom_blocks(result_blocks, \u001b[38;5;28mself\u001b[39m\u001b[38;5;241m.\u001b[39maxes)\n",
      "File \u001b[1;32m~\\anaconda3\\envs\\project_env\\lib\\site-packages\\pandas\\core\\internals\\blocks.py:784\u001b[0m, in \u001b[0;36mBlock.astype\u001b[1;34m(self, dtype, copy, errors, using_cow, squeeze)\u001b[0m\n\u001b[0;32m    781\u001b[0m         \u001b[38;5;28;01mraise\u001b[39;00m \u001b[38;5;167;01mValueError\u001b[39;00m(\u001b[38;5;124m\"\u001b[39m\u001b[38;5;124mCan not squeeze with more than one column.\u001b[39m\u001b[38;5;124m\"\u001b[39m)\n\u001b[0;32m    782\u001b[0m     values \u001b[38;5;241m=\u001b[39m values[\u001b[38;5;241m0\u001b[39m, :]  \u001b[38;5;66;03m# type: ignore[call-overload]\u001b[39;00m\n\u001b[1;32m--> 784\u001b[0m new_values \u001b[38;5;241m=\u001b[39m \u001b[43mastype_array_safe\u001b[49m\u001b[43m(\u001b[49m\u001b[43mvalues\u001b[49m\u001b[43m,\u001b[49m\u001b[43m \u001b[49m\u001b[43mdtype\u001b[49m\u001b[43m,\u001b[49m\u001b[43m \u001b[49m\u001b[43mcopy\u001b[49m\u001b[38;5;241;43m=\u001b[39;49m\u001b[43mcopy\u001b[49m\u001b[43m,\u001b[49m\u001b[43m \u001b[49m\u001b[43merrors\u001b[49m\u001b[38;5;241;43m=\u001b[39;49m\u001b[43merrors\u001b[49m\u001b[43m)\u001b[49m\n\u001b[0;32m    786\u001b[0m new_values \u001b[38;5;241m=\u001b[39m maybe_coerce_values(new_values)\n\u001b[0;32m    788\u001b[0m refs \u001b[38;5;241m=\u001b[39m \u001b[38;5;28;01mNone\u001b[39;00m\n",
      "File \u001b[1;32m~\\anaconda3\\envs\\project_env\\lib\\site-packages\\pandas\\core\\dtypes\\astype.py:237\u001b[0m, in \u001b[0;36mastype_array_safe\u001b[1;34m(values, dtype, copy, errors)\u001b[0m\n\u001b[0;32m    234\u001b[0m     dtype \u001b[38;5;241m=\u001b[39m dtype\u001b[38;5;241m.\u001b[39mnumpy_dtype\n\u001b[0;32m    236\u001b[0m \u001b[38;5;28;01mtry\u001b[39;00m:\n\u001b[1;32m--> 237\u001b[0m     new_values \u001b[38;5;241m=\u001b[39m \u001b[43mastype_array\u001b[49m\u001b[43m(\u001b[49m\u001b[43mvalues\u001b[49m\u001b[43m,\u001b[49m\u001b[43m \u001b[49m\u001b[43mdtype\u001b[49m\u001b[43m,\u001b[49m\u001b[43m \u001b[49m\u001b[43mcopy\u001b[49m\u001b[38;5;241;43m=\u001b[39;49m\u001b[43mcopy\u001b[49m\u001b[43m)\u001b[49m\n\u001b[0;32m    238\u001b[0m \u001b[38;5;28;01mexcept\u001b[39;00m (\u001b[38;5;167;01mValueError\u001b[39;00m, \u001b[38;5;167;01mTypeError\u001b[39;00m):\n\u001b[0;32m    239\u001b[0m     \u001b[38;5;66;03m# e.g. _astype_nansafe can fail on object-dtype of strings\u001b[39;00m\n\u001b[0;32m    240\u001b[0m     \u001b[38;5;66;03m#  trying to convert to float\u001b[39;00m\n\u001b[0;32m    241\u001b[0m     \u001b[38;5;28;01mif\u001b[39;00m errors \u001b[38;5;241m==\u001b[39m \u001b[38;5;124m\"\u001b[39m\u001b[38;5;124mignore\u001b[39m\u001b[38;5;124m\"\u001b[39m:\n",
      "File \u001b[1;32m~\\anaconda3\\envs\\project_env\\lib\\site-packages\\pandas\\core\\dtypes\\astype.py:182\u001b[0m, in \u001b[0;36mastype_array\u001b[1;34m(values, dtype, copy)\u001b[0m\n\u001b[0;32m    179\u001b[0m     values \u001b[38;5;241m=\u001b[39m values\u001b[38;5;241m.\u001b[39mastype(dtype, copy\u001b[38;5;241m=\u001b[39mcopy)\n\u001b[0;32m    181\u001b[0m \u001b[38;5;28;01melse\u001b[39;00m:\n\u001b[1;32m--> 182\u001b[0m     values \u001b[38;5;241m=\u001b[39m \u001b[43m_astype_nansafe\u001b[49m\u001b[43m(\u001b[49m\u001b[43mvalues\u001b[49m\u001b[43m,\u001b[49m\u001b[43m \u001b[49m\u001b[43mdtype\u001b[49m\u001b[43m,\u001b[49m\u001b[43m \u001b[49m\u001b[43mcopy\u001b[49m\u001b[38;5;241;43m=\u001b[39;49m\u001b[43mcopy\u001b[49m\u001b[43m)\u001b[49m\n\u001b[0;32m    184\u001b[0m \u001b[38;5;66;03m# in pandas we don't store numpy str dtypes, so convert to object\u001b[39;00m\n\u001b[0;32m    185\u001b[0m \u001b[38;5;28;01mif\u001b[39;00m \u001b[38;5;28misinstance\u001b[39m(dtype, np\u001b[38;5;241m.\u001b[39mdtype) \u001b[38;5;129;01mand\u001b[39;00m \u001b[38;5;28missubclass\u001b[39m(values\u001b[38;5;241m.\u001b[39mdtype\u001b[38;5;241m.\u001b[39mtype, \u001b[38;5;28mstr\u001b[39m):\n",
      "File \u001b[1;32m~\\anaconda3\\envs\\project_env\\lib\\site-packages\\pandas\\core\\dtypes\\astype.py:133\u001b[0m, in \u001b[0;36m_astype_nansafe\u001b[1;34m(arr, dtype, copy, skipna)\u001b[0m\n\u001b[0;32m    129\u001b[0m     \u001b[38;5;28;01mraise\u001b[39;00m \u001b[38;5;167;01mValueError\u001b[39;00m(msg)\n\u001b[0;32m    131\u001b[0m \u001b[38;5;28;01mif\u001b[39;00m copy \u001b[38;5;129;01mor\u001b[39;00m arr\u001b[38;5;241m.\u001b[39mdtype \u001b[38;5;241m==\u001b[39m \u001b[38;5;28mobject\u001b[39m \u001b[38;5;129;01mor\u001b[39;00m dtype \u001b[38;5;241m==\u001b[39m \u001b[38;5;28mobject\u001b[39m:\n\u001b[0;32m    132\u001b[0m     \u001b[38;5;66;03m# Explicit copy, or required since NumPy can't view from / to object.\u001b[39;00m\n\u001b[1;32m--> 133\u001b[0m     \u001b[38;5;28;01mreturn\u001b[39;00m \u001b[43marr\u001b[49m\u001b[38;5;241;43m.\u001b[39;49m\u001b[43mastype\u001b[49m\u001b[43m(\u001b[49m\u001b[43mdtype\u001b[49m\u001b[43m,\u001b[49m\u001b[43m \u001b[49m\u001b[43mcopy\u001b[49m\u001b[38;5;241;43m=\u001b[39;49m\u001b[38;5;28;43;01mTrue\u001b[39;49;00m\u001b[43m)\u001b[49m\n\u001b[0;32m    135\u001b[0m \u001b[38;5;28;01mreturn\u001b[39;00m arr\u001b[38;5;241m.\u001b[39mastype(dtype, copy\u001b[38;5;241m=\u001b[39mcopy)\n",
      "\u001b[1;31mMemoryError\u001b[0m: Unable to allocate 1.38 GiB for an array with shape (52, 7131970) and data type float32"
     ]
    }
   ],
   "source": [
    "# X_train.columns = [f\"f{i}\" for i in range(X_train.shape[1])]\n",
    "# X_val.columns = X_train.columns\n",
    "# y_train = y_train.squeeze()\n",
    "# y_val   = y_val.squeeze()\n",
    "# X_train = X_train.astype(\"float32\")\n",
    "# X_val = X_val.astype(\"float32\")\n"
   ]
  },
  {
   "cell_type": "markdown",
   "id": "fa924b30-4b72-49e1-9881-bc95dea811db",
   "metadata": {},
   "source": [
    "### RM모델"
   ]
  },
  {
   "cell_type": "code",
   "execution_count": 11,
   "id": "89360a91-2c1a-465b-92ad-79a3d2e69853",
   "metadata": {},
   "outputs": [
    {
     "name": "stdout",
     "output_type": "stream",
     "text": [
      "\n",
      " RandomForest 결과\n",
      "ROC-AUC: 0.9774\n",
      "F1: 0.2056\n",
      "PR-AUC: 0.5828\n",
      "Precision: 0.9109\n",
      "Recall: 0.1159\n",
      "MCC: 0.3246\n",
      "LogLoss: 0.0057\n",
      "Confusion Matrix:\n",
      "[[534095      9]\n",
      " [   702     92]]\n",
      "\n",
      "Classification Report:\n",
      "              precision    recall  f1-score   support\n",
      "\n",
      "           0       1.00      1.00      1.00    534104\n",
      "           1       0.91      0.12      0.21       794\n",
      "\n",
      "    accuracy                           1.00    534898\n",
      "   macro avg       0.95      0.56      0.60    534898\n",
      "weighted avg       1.00      1.00      1.00    534898\n",
      "\n"
     ]
    }
   ],
   "source": [
    "rf_model = RandomForestClassifier(\n",
    "    n_estimators=300,        # 트리 개수 (클수록 안정적, 속도 느려짐)0\n",
    "    max_depth=None,          # 트리 최대 깊이 (None이면 리프까지 분할)0\n",
    "    max_features=\"sqrt\",     # 각 분할에서 고려할 최대 피처 수 (\"sqrt\", \"log2\", int, float)0\n",
    "    random_state=42,         # 랜덤 시드0\n",
    "    class_weight=\"balanced\",  # 클래스 불균형 보정0\n",
    "    n_jobs=-1,               # 병렬 처리할 CPU 코어 수\n",
    ")\n",
    "\n",
    "rf_model.fit(X_train, y_train)\n",
    "res_rf = evaluate_model(rf_model, X_val, y_val, \"RandomForest\")\n"
   ]
  },
  {
   "cell_type": "markdown",
   "id": "dcbfd724-1baa-4904-bbf1-f97b9e0a396d",
   "metadata": {},
   "source": [
    "### LOG모델"
   ]
  },
  {
   "cell_type": "code",
   "execution_count": 12,
   "id": "7ec7f839-533c-42c1-9bc9-ad366708daff",
   "metadata": {},
   "outputs": [
    {
     "name": "stdout",
     "output_type": "stream",
     "text": [
      "\n",
      " LogisticRegression 결과\n",
      "ROC-AUC: 0.7926\n",
      "F1: 0.0085\n",
      "PR-AUC: 0.0108\n",
      "Precision: 0.0043\n",
      "Recall: 0.6801\n",
      "MCC: 0.0403\n",
      "LogLoss: 0.5736\n",
      "Confusion Matrix:\n",
      "[[408339 125765]\n",
      " [   254    540]]\n",
      "\n",
      "Classification Report:\n",
      "              precision    recall  f1-score   support\n",
      "\n",
      "           0       1.00      0.76      0.87    534104\n",
      "           1       0.00      0.68      0.01       794\n",
      "\n",
      "    accuracy                           0.76    534898\n",
      "   macro avg       0.50      0.72      0.44    534898\n",
      "weighted avg       1.00      0.76      0.87    534898\n",
      "\n"
     ]
    }
   ],
   "source": [
    "log_model = LogisticRegression(\n",
    "    C=1.0,                   # 규제 강도 (작을수록 규제 강함, 과적합 방지)\n",
    "    max_iter=1000,           # 반복 횟수 (수렴 안 되면 늘리기)\n",
    "    n_jobs=-1,               # 병렬 처리 (solver가 지원할 경우)\n",
    "    random_state=42,         # 랜덤 시드\n",
    "    class_weight=\"balanced\"  # 클래스 불균형 보정\n",
    ")\n",
    "\n",
    "log_model.fit(X_train, y_train)\n",
    "res_log = evaluate_model(log_model, X_val, y_val, \"LogisticRegression\")\n"
   ]
  },
  {
   "cell_type": "markdown",
   "id": "abacb08d-315e-4018-bf30-4dbcfbe8e4f1",
   "metadata": {},
   "source": [
    "### LGB모델"
   ]
  },
  {
   "cell_type": "code",
   "execution_count": 13,
   "id": "406bb977-7f3d-4989-b3c4-cf56e0ad1485",
   "metadata": {
    "scrolled": true
   },
   "outputs": [
    {
     "name": "stdout",
     "output_type": "stream",
     "text": [
      "\n",
      " LightGBM 결과\n",
      "ROC-AUC: 0.9944\n",
      "F1: 0.1660\n",
      "PR-AUC: 0.5355\n",
      "Precision: 0.0913\n",
      "Recall: 0.9144\n",
      "MCC: 0.2866\n",
      "LogLoss: 0.0373\n",
      "Confusion Matrix:\n",
      "[[526877   7227]\n",
      " [    68    726]]\n",
      "\n",
      "Classification Report:\n",
      "              precision    recall  f1-score   support\n",
      "\n",
      "           0       1.00      0.99      0.99    534104\n",
      "           1       0.09      0.91      0.17       794\n",
      "\n",
      "    accuracy                           0.99    534898\n",
      "   macro avg       0.55      0.95      0.58    534898\n",
      "weighted avg       1.00      0.99      0.99    534898\n",
      "\n"
     ]
    }
   ],
   "source": [
    "lgb_model = lgb.LGBMClassifier(\n",
    "    n_estimators=500,\n",
    "    learning_rate=0.05,\n",
    "    class_weight = \"balanced\", #가중치추가\n",
    "    subsample=0.8,\n",
    "    colsample_bytree=0.8,\n",
    "    min_gain_to_split=0.05,\n",
    "    random_state=42,\n",
    "    n_jobs=-1,\n",
    "    verbose=-1,\n",
    ")\n",
    "\n",
    "lgb_model.fit(\n",
    "    X_train.to_numpy(), y_train.to_numpy(),\n",
    "    eval_set=[(X_val.to_numpy(), y_val.to_numpy())],\n",
    "    categorical_feature=None\n",
    ")\n",
    "res_lgb = evaluate_model(lgb_model, X_val, y_val, \"LightGBM\")"
   ]
  },
  {
   "cell_type": "markdown",
   "id": "a517ab2f-912c-45ab-a70b-fd111ee7287e",
   "metadata": {},
   "source": [
    "## lgb 모델 결과해석\n",
    "    - roc_auc\n",
    "    - f1 양성거래는 잘 찾지만 오탐이 너무많음\n",
    "    - precision 예측한것 중에 실제 사기일확률이 11%\n",
    "    - recall 매우높음 사기의 약 94% 찾음\n",
    "\n",
    "    요약 및 정리 사기거래는 잘 잡아내지만 오탐이 너무많아 실제모델로 사용하기엔 경고가 너무많아 무용지물 \n",
    "    \n"
   ]
  },
  {
   "cell_type": "markdown",
   "id": "f102cd71-a30f-4f78-8991-6cbf9d9840b3",
   "metadata": {},
   "source": [
    "### XGBBOOST모델"
   ]
  },
  {
   "cell_type": "code",
   "execution_count": 14,
   "id": "c810131f-c62c-4f43-a57f-c55ddaebad3c",
   "metadata": {},
   "outputs": [
    {
     "name": "stdout",
     "output_type": "stream",
     "text": [
      "\n",
      " XGBoost 결과\n",
      "ROC-AUC: 0.9934\n",
      "F1: 0.1649\n",
      "PR-AUC: 0.5347\n",
      "Precision: 0.0907\n",
      "Recall: 0.9131\n",
      "MCC: 0.2854\n",
      "LogLoss: 0.0380\n",
      "Confusion Matrix:\n",
      "[[526832   7272]\n",
      " [    69    725]]\n",
      "\n",
      "Classification Report:\n",
      "              precision    recall  f1-score   support\n",
      "\n",
      "           0       1.00      0.99      0.99    534104\n",
      "           1       0.09      0.91      0.16       794\n",
      "\n",
      "    accuracy                           0.99    534898\n",
      "   macro avg       0.55      0.95      0.58    534898\n",
      "weighted avg       1.00      0.99      0.99    534898\n",
      "\n"
     ]
    }
   ],
   "source": [
    "xgb_model = XGBClassifier(\n",
    "    n_estimators=500,\n",
    "    learning_rate=0.05,\n",
    "    subsample=0.8,\n",
    "    colsample_bytree=0.8,\n",
    "    scale_pos_weight=(len(y_train) - sum(y_train)) / sum(y_train),\n",
    "    random_state=42,\n",
    "    n_jobs=-1,\n",
    "    use_label_encoder=False,\n",
    "    eval_metric=\"logloss\"\n",
    ")\n",
    "\n",
    "xgb_model.fit(X_train, y_train)\n",
    "res_xgb = evaluate_model(xgb_model, X_val, y_val, \"XGBoost\")\n"
   ]
  },
  {
   "cell_type": "markdown",
   "id": "535675b9-36c2-4daa-bae7-0f03043fd64d",
   "metadata": {},
   "source": [
    "## xgb 모델 결과해석\n",
    "    - roc_auc\n",
    "    - f1 양성거래는 잘 찾지만 오탐이 너무많음\n",
    "    - precision 예측한것에 약 7%만 사기 오탐이 많음 \n",
    "    - recall 매우높음 사기의 약 94% 찾음 사기값을 잘잡아냄\n",
    "\n",
    "    요약 및 정리 사기거래는 잘 잡아내지만 오탐이 너무많아 실제모델로 사용하기엔 경고가 너무많아 무용지물 \n",
    "    \n"
   ]
  },
  {
   "cell_type": "markdown",
   "id": "e7d09269-66a0-4d3a-9f49-cf531160e797",
   "metadata": {},
   "source": [
    "### CATBOOST모델"
   ]
  },
  {
   "cell_type": "code",
   "execution_count": null,
   "id": "2e4fa585-c3e6-423e-aa64-16ab2b840762",
   "metadata": {},
   "outputs": [],
   "source": [
    "# neg, pos = np.bincount(y_train)\n",
    "# scale_pos_weight = neg / pos\n",
    "\n",
    "# cat_model = CatBoostClassifier(\n",
    "#     iterations=500,\n",
    "#     learning_rate=0.05,\n",
    "#     depth=6,\n",
    "#     class_weights=[1, scale_pos_weight], #가중치추가\n",
    "#     random_seed=42,\n",
    "#     verbose=100,\n",
    "#     task_type=\"CPU\"  \n",
    "# )\n",
    "\n",
    "# cat_model.fit(X_train, y_train)\n",
    "# res_cat = evaluate_model(cat_model, X_val, y_val, \"CatBoost\")"
   ]
  },
  {
   "cell_type": "markdown",
   "id": "49e206ef-caf5-4a66-a438-fb4455fcf5fb",
   "metadata": {},
   "source": [
    "## cat 모델 결과해석\n",
    "    - roc_auc\n",
    "    - precision 예측한것에 약 4.5%만 사기 오탐이 많음 \n",
    "    - recall 매우높음 사기의 약 95% 찾음 사기값을 잘잡아냄\n",
    "\n"
   ]
  },
  {
   "cell_type": "markdown",
   "id": "a8429ffc-41ce-4ba8-b7fa-1394cdbff231",
   "metadata": {},
   "source": [
    "### 각종모델 성능비교"
   ]
  },
  {
   "cell_type": "code",
   "execution_count": 15,
   "id": "a833506c-d7a3-4df4-adbe-a2dbbf0985ed",
   "metadata": {},
   "outputs": [
    {
     "name": "stdout",
     "output_type": "stream",
     "text": [
      "\n",
      " 최종 성능 비교\n",
      "              roc_auc        f1    pr_auc  precision    recall       mcc  \\\n",
      "Logistic     0.792560  0.008497  0.010762   0.004275  0.680101  0.040306   \n",
      "RandomFrest  0.977360  0.205587  0.582777   0.910891  0.115869  0.324618   \n",
      "LightGBM     0.994412  0.166000  0.535456   0.091286  0.914358  0.286560   \n",
      "XGBoost      0.993430  0.164941  0.534676   0.090659  0.913098  0.285357   \n",
      "\n",
      "             log_loss                confusion_matrix  \n",
      "Logistic     0.573606  [[408339, 125765], [254, 540]]  \n",
      "RandomFrest  0.005674        [[534095, 9], [702, 92]]  \n",
      "LightGBM     0.037283     [[526877, 7227], [68, 726]]  \n",
      "XGBoost      0.038010     [[526832, 7272], [69, 725]]  \n"
     ]
    }
   ],
   "source": [
    "results = pd.DataFrame([res_log,res_rf,res_lgb,res_xgb], \n",
    "                       index=[\"Logistic\",\"RandomFrest\",\"LightGBM\", \"XGBoost\"])\n",
    "print(\"\\n 최종 성능 비교\")\n",
    "print(results)"
   ]
  },
  {
   "cell_type": "markdown",
   "id": "2e615e19-c90c-4d51-9d64-2be5c81526cc",
   "metadata": {},
   "source": [
    "| 지표            | 실무 최소 기준    | 현재 결과      | 코멘트                 |\n",
    "| ------------- | ----------- | ---------- | ------------------- |\n",
    "| **ROC-AUC**   | ≥ 0.80      | \\~0.99     | 매우 우수, 문제 없음        |\n",
    "| **PR-AUC**    | ≥ 0.30–0.40 | 0.52\\~0.71 | LGBM은 특히 우수         |\n",
    "| **Precision** | ≥ 0.10–0.20 | 0.04\\~0.11 | LGBM만 최소 충족, 나머지 부족 |\n",
    "| **Recall**    | ≥ 0.90      | 0.94\\~0.96 | 충분히 우수              |\n",
    "| **F1-score**  | ≥ 0.20      | 0.09\\~0.20 | LGBM만 간신히 기준선       |\n",
    "| **MCC**       | ≥ 0.30      | 0.20\\~0.32 | LGBM만 간신히 기준선       |\n"
   ]
  },
  {
   "cell_type": "markdown",
   "id": "b40166db-aed4-471c-a43d-8cb52d836b33",
   "metadata": {},
   "source": [
    "## 성능비교 해석 \n",
    "결론 LGBM을 메인으로 나머지를 보조지표로 사용해야함"
   ]
  },
  {
   "cell_type": "code",
   "execution_count": null,
   "id": "74f38122-822a-47ea-9f10-2252c5ad838d",
   "metadata": {},
   "outputs": [
    {
     "name": "stdout",
     "output_type": "stream",
     "text": [
      "Fitting 3 folds for each of 5 candidates, totalling 15 fits\n"
     ]
    }
   ],
   "source": [
    "from sklearn.ensemble import RandomForestClassifier\n",
    "from sklearn.model_selection import RandomizedSearchCV\n",
    "\n",
    "rf_model = RandomForestClassifier(\n",
    "    random_state=42,\n",
    "    n_jobs=-1,\n",
    "    class_weight=\"balanced_subsample\" \n",
    ")\n",
    "\n",
    "param_dist_rf = {\n",
    "    \"n_estimators\": [200, 500, 1000],\n",
    "    \"max_depth\": [None, 10, 20, 30],\n",
    "    \"min_samples_split\": [2, 5, 10],\n",
    "    \"min_samples_leaf\": [1, 2, 5]\n",
    "}\n",
    "\n",
    "rf_search = RandomizedSearchCV(\n",
    "    rf_model,\n",
    "    param_distributions=param_dist_rf,\n",
    "    n_iter=5,                 \n",
    "    scoring=\"f1\",              \n",
    "    cv=3,                    \n",
    "    verbose=2,\n",
    "    random_state=42,\n",
    "    n_jobs=-1\n",
    ")\n",
    "\n",
    "rf_search.fit(X_train, y_train)\n",
    "\n",
    "print(\"Best Params (RandomForest):\", rf_search.best_params_)\n",
    "print(\"Best Score (RandomForest):\", rf_search.best_score_)\n"
   ]
  },
  {
   "cell_type": "code",
   "execution_count": null,
   "id": "b1ea7f07-8d9b-4dcf-8910-3e6a99dbad5a",
   "metadata": {},
   "outputs": [],
   "source": [
    "lgb_model = lgb.LGBMClassifier(\n",
    "    random_state=42,\n",
    "    n_jobs=-1,\n",
    "    class_weight=\"balanced\"\n",
    ")\n",
    "\n",
    "param_dist_lgb = {\n",
    "    \"n_estimators\": [200, 500, 1000],\n",
    "    \"learning_rate\": [0.01, 0.05, 0.1],\n",
    "    \"num_leaves\": [15, 31, 63],            # 트리 복잡도 제어\n",
    "    \"max_depth\": [-1, 5, 10, 20],          # 트리 깊이\n",
    "    \"min_child_samples\": [10, 20, 50, 100], # 최소 데이터 수\n",
    "    \"scale_pos_weight\": [1, 10, 50, 100]   # 클래스 불균형 보정\n",
    "}\n",
    "\n",
    "# 랜덤 탐색\n",
    "lgb_search = RandomizedSearchCV(\n",
    "    lgb_model,\n",
    "    param_distributions=param_dist_lgb,\n",
    "    n_iter=5,                 \n",
    "    scoring=\"f1\",             \n",
    "    cv=3,\n",
    "    verbose=2,\n",
    "    random_state=42,\n",
    "    n_jobs=-1\n",
    ")\n",
    "\n",
    "lgb_search.fit(X_train, y_train)\n",
    "\n",
    "print(\"Best Params (LightGBM):\", lgb_search.best_params_)\n",
    "print(\"Best Score (LightGBM):\", lgb_search.best_score_)\n"
   ]
  },
  {
   "cell_type": "markdown",
   "id": "15c548d9-789a-421c-bc0f-b37c056b1cff",
   "metadata": {},
   "source": [
    "### precision-recall 곡선 시각화"
   ]
  },
  {
   "cell_type": "code",
   "execution_count": null,
   "id": "0b22dc73-70c1-4726-8382-15e2e63fcae7",
   "metadata": {},
   "outputs": [],
   "source": [
    "# 네 모델 예측 확률\n",
    "proba_lgb = lgb_model.predict_proba(X_val)[:, 1]\n",
    "proba_xgb = xgb_model.predict_proba(X_val)[:, 1]\n",
    "proba_rf  = rf_model.predict_proba(X_val)[:, 1]\n",
    "proba_log = log_model.predict_proba(X_val)[:, 1]\n",
    "\n",
    "# Precision-Recall 값 계산\n",
    "precision_lgb, recall_lgb, _ = precision_recall_curve(y_val, proba_lgb)\n",
    "precision_xgb, recall_xgb, _ = precision_recall_curve(y_val, proba_xgb)\n",
    "precision_rf,  recall_rf,  _ = precision_recall_curve(y_val, proba_rf)\n",
    "precision_log, recall_log, _ = precision_recall_curve(y_val, proba_log)\n",
    "\n",
    "# PR-AUC 계산\n",
    "pr_auc_lgb = auc(recall_lgb, precision_lgb)\n",
    "pr_auc_xgb = auc(recall_xgb, precision_xgb)\n",
    "pr_auc_rf  = auc(recall_rf, precision_rf)\n",
    "pr_auc_log = auc(recall_log, precision_log)\n",
    "\n",
    "# 그래프 출력\n",
    "plt.figure(figsize=(8,6))\n",
    "plt.plot(recall_lgb, precision_lgb, label=f\"LGBM (PR-AUC={pr_auc_lgb:.3f})\")\n",
    "plt.plot(recall_xgb, precision_xgb, label=f\"XGBoost (PR-AUC={pr_auc_xgb:.3f})\")\n",
    "plt.plot(recall_rf,  precision_rf,  label=f\"RandomForest (PR-AUC={pr_auc_rf:.3f})\")\n",
    "plt.plot(recall_log, precision_log, label=f\"Logistic (PR-AUC={pr_auc_log:.3f})\")\n",
    "\n",
    "plt.xlabel(\"Recall\")\n",
    "plt.ylabel(\"Precision\")\n",
    "plt.title(\"Precision-Recall Curve (Fraud Detection)\")\n",
    "plt.legend()\n",
    "plt.grid()\n",
    "plt.show()\n"
   ]
  },
  {
   "cell_type": "markdown",
   "id": "216b0d71-a822-45d1-b3bb-1a4b5bd6fab1",
   "metadata": {},
   "source": [
    "### 교차검증"
   ]
  },
  {
   "cell_type": "code",
   "execution_count": 18,
   "id": "68adc843-7ed3-456d-bb8b-26535ab42858",
   "metadata": {},
   "outputs": [
    {
     "name": "stdout",
     "output_type": "stream",
     "text": [
      "\n",
      "===== LightGBM (샘플링 30%) =====\n",
      "F1 평균: 0.1793\n",
      "PR-AUC 평균: 0.5283\n",
      "\n",
      "===== XGBoost (샘플링 30%) =====\n",
      "F1 평균: 0.1753\n",
      "PR-AUC 평균: 0.5159\n",
      "\n",
      "===== RandomForest (샘플링 30%) =====\n",
      "F1 평균: 0.1689\n",
      "PR-AUC 평균: 0.556\n",
      "\n",
      "===== LogisticRegression (샘플링 30%) =====\n",
      "F1 평균: 0.0087\n",
      "PR-AUC 평균: 0.0097\n"
     ]
    }
   ],
   "source": [
    "\n",
    "cv = StratifiedKFold(n_splits=3, shuffle=True, random_state=42)\n",
    "X = X.copy()\n",
    "X.columns = [f\"f{i}\" for i in range(X.shape[1])]\n",
    "\n",
    "def evaluate_model_cv(model, X, y, cv):\n",
    "    f1_scores = cross_val_score(model, X, y, cv=cv, scoring=\"f1\", n_jobs=-1)\n",
    "    pr_scores = cross_val_score(model, X, y, cv=cv, scoring=\"average_precision\", n_jobs=-1)\n",
    "    return f1_scores, pr_scores\n",
    "\n",
    "models = {\n",
    "    \"LightGBM\": lgb_model,\n",
    "    \"XGBoost\": xgb_model,\n",
    "    \"RandomForest\": rf_model,\n",
    "    \"LogisticRegression\": log_model\n",
    "}\n",
    "\n",
    "for name, model in models.items():\n",
    "    f1_scores, pr_scores = evaluate_model_cv(model, X, y, cv)\n",
    "    \n",
    "    print(f\"\\n===== {name} (샘플링 30%) =====\")\n",
    "    print(\"F1 평균:\", np.mean(f1_scores).round(4))\n",
    "    print(\"PR-AUC 평균:\", np.mean(pr_scores).round(4))\n"
   ]
  },
  {
   "cell_type": "markdown",
   "id": "5e37184d-3485-4502-bc7b-bce86206386d",
   "metadata": {},
   "source": [
    "LightGBM - F1과 PR-AUC 모두 가장 우수 - “실무 적용 가능성이 있는 모델”\n",
    "\n",
    "XGBoost - Recall은 높지만 Precision이 부족 - “보조적 모델”로 쓸 수 있음\n",
    "\n",
    "CatBoost - Precision·F1 모두 낮음 - “현 상태로는 사용 불가”"
   ]
  },
  {
   "cell_type": "markdown",
   "id": "59dc9c0c-ccf1-479f-bc14-677a6b6abe0b",
   "metadata": {},
   "source": [
    "###  Precision과 Recall의 trade-off 관계 시각화"
   ]
  },
  {
   "cell_type": "code",
   "execution_count": null,
   "id": "a3f6a120-7c02-4e6d-abbc-7140c3f9afe0",
   "metadata": {},
   "outputs": [],
   "source": [
    "# y_pred_proba = lgb_model.fit(\n",
    "#     X.to_numpy(), y.to_numpy(),\n",
    "#     categorical_feature=None\n",
    "# ).predict_proba(X.to_numpy())[:, 1]\n",
    "# prec, rec, thres = precision_recall_curve(y, y_pred_proba)\n",
    "\n",
    "y_pred_proba = lgb_model.fit(X, y).predict_proba(X)[:,1]\n",
    "prec, rec, thres = precision_recall_curve(y, y_pred_proba)\n",
    "\n",
    "plt.plot(thres, prec[:-1], label=\"Precision\")\n",
    "plt.plot(thres, rec[:-1], label=\"Recall\")\n",
    "plt.xlabel(\"Threshold\")\n",
    "plt.legend(); plt.show()\n"
   ]
  },
  {
   "cell_type": "markdown",
   "id": "45b8eb7d-c1a3-478a-9981-2d5bf8a3f2da",
   "metadata": {},
   "source": [
    "### 앙상블"
   ]
  },
  {
   "cell_type": "code",
   "execution_count": null,
   "id": "c8882442-c492-409d-828d-f35086b93dc3",
   "metadata": {},
   "outputs": [],
   "source": [
    "weights = [0.25, 0.25, 0.25, 0.25]\n",
    "\n",
    "proba_ensemble = (\n",
    "    weights[0] * proba_lgb +\n",
    "    weights[1] * proba_xgb +\n",
    "    weights[2] * proba_rf  +\n",
    "    weights[3] * proba_log\n",
    ")\n",
    "\n",
    "preds_ensemble = (proba_ensemble >= 0.5).astype(int)\n",
    "\n",
    "roc_auc = roc_auc_score(y_val, proba_ensemble)\n",
    "f1 = f1_score(y_val, preds_ensemble)\n",
    "pr_auc = average_precision_score(y_val, proba_ensemble)\n",
    "\n",
    "print(\"===== Ensemble (Proba 평균) =====\")\n",
    "print(\"ROC-AUC:\", round(roc_auc, 4))\n",
    "print(\"F1:\", round(f1, 4))\n",
    "print(\"PR-AUC:\", round(pr_auc, 4))\n",
    "\n",
    "print(\"\\nClassification Report:\")\n",
    "print(classification_report(y_val, preds_ensemble, digits=4))\n",
    "\n",
    "print(\"\\nConfusion Matrix:\")\n",
    "print(confusion_matrix(y_val, preds_ensemble))\n"
   ]
  },
  {
   "cell_type": "markdown",
   "id": "249abfbe-140a-4a8c-ae39-94ef15f2821b",
   "metadata": {},
   "source": [
    "TP (2565): 사기 제대로 탐지\n",
    "\n",
    "FN (101): 사기 놓침 (거의 없음)\n",
    "\n",
    "FP (34,573): 정상인데 사기라고 예측\n",
    "\n",
    "TN (1,745,754): 정상 맞게 탐지\n",
    "\n",
    "요약 lgbm 모델보다 다소 성능이 떨어졌지만 recall(사기탐지 부분)이 상승했지만 그만큼 오탐도 늘어남"
   ]
  },
  {
   "cell_type": "markdown",
   "id": "909f0345-f35a-468d-b629-d5f2c0a8bc73",
   "metadata": {},
   "source": [
    "### 앙상블 예측 확률을 여러 임계값으로 나눠 적용해 최적 threshold와 비율을 찾는다"
   ]
  },
  {
   "cell_type": "markdown",
   "id": "048a23e3-5ff6-4c07-af5d-f02d0f981655",
   "metadata": {},
   "source": [
    "## f1 과 mcc의 최적을 맞춰야하는 이유와 분석\n",
    "### f1-score \n",
    "f1-score의값은 precision 과 recall의 균형의값으로 한쪽이 너무 치우치면 값이 높게 나오지않음\n",
    "그럼으로 오탐이너무많거나 사기거래를 못잡는 하나의 극단적인 값을 가지면 f1값이 낮음 그래서 f1의 값이 적당한지를 알아야함\n",
    "\n",
    "### mcc 메튜상관계수\n",
    "mcc 의값은 Precision, Recall, Accuracy등을 모두 반영하여 전체적인 예측 품질을 나타냄\n",
    "클래스가 불균형할수록 accuracy 는 거의 무의미해지지만 mcc는 여전히 신뢰할수있는 지표 \n",
    "예측값과 실제값 사이의 상관관계\n",
    "불균형데이터에서 0.3~0.4 이상이면 의미있는 지표 \n",
    "\n",
    "그러므로 f1과 mcc가 좋아야 현실적으로 사용할수있는 지표임\n",
    "\n",
    "<span style=\"font-size: 22px; color: black\">**위 임계값 찾는 블럭에서의 최적의기준**</span>\n",
    "\n",
    "- **사기탐지확률 0.85이상**\n",
    "- **mcc값 0.3~0.4이상이상**\n",
    "- **f1값 0.3이상**\n",
    "- **precision값 0.2 이상**"
   ]
  },
  {
   "cell_type": "code",
   "execution_count": null,
   "id": "b240bdf7-7cb0-4647-9f78-6139ace6aeaa",
   "metadata": {},
   "outputs": [],
   "source": [
    "weights = [\n",
    "    (0.4, 0.3, 0.2, 0.1),\n",
    "    (0.5, 0.2, 0.2, 0.1),\n",
    "    (0.6, 0.2, 0.1, 0.1),\n",
    "    (0.25, 0.25, 0.25, 0.25),\n",
    "    (0.7, 0.1, 0.1, 0.1)\n",
    "]\n",
    "\n",
    "thresholds = np.arange(0.1, 0.96, 0.05)\n",
    "\n",
    "results = []\n",
    "\n",
    "for w1, w2, w3, w4 in weights:\n",
    "    # 앙상블 확률\n",
    "    ensemble_proba = (\n",
    "        w1 * proba_lgb +\n",
    "        w2 * proba_xgb +\n",
    "        w3 * proba_rf  +\n",
    "        w4 * proba_log\n",
    "    )  \n",
    "    for thr in thresholds:\n",
    "        preds = (ensemble_proba >= thr).astype(int)\n",
    "        \n",
    "        f1 = f1_score(y_val, preds)\n",
    "        mcc = matthews_corrcoef(y_val, preds)\n",
    "        prec = precision_score(y_val, preds)\n",
    "        rec = recall_score(y_val, preds)\n",
    "        roc = roc_auc_score(y_val, ensemble_proba)\n",
    "        pr_auc = average_precision_score(y_val, ensemble_proba)\n",
    "        \n",
    "        results.append({\n",
    "            \"weights\": f\"{w1:.1f}/{w2:.1f}/{w3:.1f}/{w4:.1f}\",\n",
    "            \"threshold\": thr,\n",
    "            \"precision\": prec,\n",
    "            \"recall\": rec,\n",
    "            \"F1\": f1,\n",
    "            \"MCC\": mcc,\n",
    "            \"ROC-AUC\": roc,\n",
    "            \"PR-AUC\": pr_auc\n",
    "        })\n",
    "\n",
    "df_results = pd.DataFrame(results)\n",
    "\n",
    "print(df_results.sort_values(\"F1\", ascending=False).head(30).to_string(index=False))"
   ]
  },
  {
   "cell_type": "markdown",
   "id": "099fcc53-a6be-453c-8d2f-4b6d8a38a7a2",
   "metadata": {},
   "source": [
    "### 앙상블 확률값 수정"
   ]
  },
  {
   "cell_type": "markdown",
   "id": "78f3d429-425e-44f0-9ca1-1a3354f0a255",
   "metadata": {},
   "source": [
    "### 임계값에따라 변하는 Precision, Recall, F1 값 시각화 "
   ]
  },
  {
   "cell_type": "code",
   "execution_count": null,
   "id": "403c5a0f-4fe3-421e-8fca-55cb11bf4a1c",
   "metadata": {},
   "outputs": [],
   "source": [
    "print(df_results.columns)\n"
   ]
  },
  {
   "cell_type": "code",
   "execution_count": null,
   "id": "0861f5ce-a797-454f-a950-5c3fc0d66823",
   "metadata": {},
   "outputs": [],
   "source": [
    "plt.figure(figsize=(6,4))\n",
    "plt.plot(df_results[\"threshold\"], df_results[\"precision\"], label=\"precision\")\n",
    "plt.plot(df_results[\"threshold\"], df_results[\"recall\"], label=\"recall\")\n",
    "plt.plot(df_results[\"threshold\"], df_results[\"F1\"], label=\"F1\")\n",
    "plt.xlabel(\"Threshold\")\n",
    "plt.ylabel(\"Score\")\n",
    "plt.title(\"Ensemble Threshold Tuning\")\n",
    "plt.legend()\n",
    "plt.grid()\n",
    "plt.show()"
   ]
  },
  {
   "cell_type": "markdown",
   "id": "960d85dd-6b5e-4e97-a532-bbd0f43cafd5",
   "metadata": {},
   "source": [
    "### 각모델의 변수 중요도 top20"
   ]
  },
  {
   "cell_type": "code",
   "execution_count": null,
   "id": "5aec84e7-beeb-4047-9930-40767ab408c3",
   "metadata": {},
   "outputs": [],
   "source": [
    "def plot_feature_importance(model_name, features, importances, top_n=20):\n",
    "    idx = np.argsort(importances)[::-1][:top_n]\n",
    "    plt.barh(np.array(features)[idx][::-1], np.array(importances)[idx][::-1])\n",
    "    plt.title(f\"{model_name} Feature Importance (Top {top_n})\")\n",
    "    plt.xlabel(\"Importance score\")\n",
    "    plt.ylabel(\"Features\")\n",
    "    plt.show()\n",
    "\n",
    "\n",
    "# LightGBM\n",
    "fi_lgb = lgb_model.feature_importances_\n",
    "plot_feature_importance(\"LightGBM\", X_val.columns, fi_lgb)\n",
    "\n",
    "# XGBoost\n",
    "fi_xgb = xgb_model.feature_importances_  # numpy array\n",
    "plot_feature_importance(\"XGBoost\", X_val.columns, fi_xgb)\n",
    "\n",
    "# CatBoost\n",
    "# fi_cat = cat_model.get_feature_importance()\n",
    "# plot_feature_importance(\"CatBoost\", X_val.columns, fi_cat)\n"
   ]
  },
  {
   "cell_type": "markdown",
   "id": "39944de5-deb5-44b5-9efc-13bd9ec95899",
   "metadata": {},
   "source": [
    "### 로지스틱 회귀 메타 스태킹앙상블"
   ]
  },
  {
   "cell_type": "code",
   "execution_count": null,
   "id": "a46652c9-f403-42ed-96b0-65401fdd1daa",
   "metadata": {},
   "outputs": [],
   "source": [
    "X_train = X_train.astype(\"float32\")\n",
    "X_val = X_val.astype(\"float32\")"
   ]
  },
  {
   "cell_type": "markdown",
   "id": "af5d2106-7a9e-4e40-80a3-81d33573a3a5",
   "metadata": {},
   "source": [
    "float64로돌리니 메모리 부족으로 타입변환"
   ]
  },
  {
   "cell_type": "code",
   "execution_count": null,
   "id": "0d85f3cf-e7ce-49e2-bd3c-cc1658c4aefc",
   "metadata": {},
   "outputs": [],
   "source": [
    "stack_model = StackingClassifier(\n",
    "    estimators=[\n",
    "        ('log', log_model),\n",
    "        ('rf', rf_model),\n",
    "        ('lgb', lgb_model),\n",
    "        ('xgb', xgb_model),\n",
    "    ],\n",
    "    final_estimator=LogisticRegression(max_iter=1000),\n",
    "    cv=3,                \n",
    "    n_jobs=1,\n",
    "    passthrough=False \n",
    ")\n",
    "\n",
    "stack_model.fit(X_train, y_train)\n",
    "res_stack = evaluate_model_cv(stack_model, X_val, y_val, cv)\n"
   ]
  },
  {
   "cell_type": "code",
   "execution_count": null,
   "id": "eaf914e8-b688-45b7-889b-1ea35dce8d1a",
   "metadata": {},
   "outputs": [],
   "source": [
    "f1_scores, pr_scores = res_stack\n",
    "print(\"\\n===== Stacking Ensemble =====\")\n",
    "print(\"F1 평균:\", np.mean(f1_scores).round(4))\n",
    "print(\"PR-AUC 평균:\", np.mean(pr_scores).round(4))"
   ]
  },
  {
   "cell_type": "code",
   "execution_count": null,
   "id": "8b0a54ea-f546-489c-9658-47e36361ee91",
   "metadata": {
    "scrolled": true
   },
   "outputs": [],
   "source": [
    "앙상블 임포턴스\n",
    "퍼뮤테이션임포턴스"
   ]
  },
  {
   "cell_type": "code",
   "execution_count": null,
   "id": "b373e7a2-2979-4805-96bd-16e902b5cc86",
   "metadata": {},
   "outputs": [],
   "source": [
    "\n",
    "# 메타 입력 데이터 구성\n",
    "stack_input = np.column_stack([proba_log,proba_rf,proba_lgb,proba_xgb]).astype(\"float32\")\n",
    "\n",
    "meta_model = LogisticRegression()\n",
    "meta_model.fit(stack_input, y_val)\n"
   ]
  },
  {
   "cell_type": "code",
   "execution_count": null,
   "id": "3c468858-12b6-4fb6-be91-d0eb12b31a68",
   "metadata": {},
   "outputs": [],
   "source": []
  },
  {
   "cell_type": "code",
   "execution_count": null,
   "id": "a52714f5-ff8f-4e69-bb74-64af52d7333a",
   "metadata": {},
   "outputs": [],
   "source": []
  },
  {
   "cell_type": "code",
   "execution_count": null,
   "id": "e1f1f68a-50bd-44d6-bdd4-101dcbf02d3d",
   "metadata": {},
   "outputs": [],
   "source": []
  }
 ],
 "metadata": {
  "kernelspec": {
   "display_name": "Python [conda env:project_env]",
   "language": "python",
   "name": "conda-env-project_env-py"
  },
  "language_info": {
   "codemirror_mode": {
    "name": "ipython",
    "version": 3
   },
   "file_extension": ".py",
   "mimetype": "text/x-python",
   "name": "python",
   "nbconvert_exporter": "python",
   "pygments_lexer": "ipython3",
   "version": "3.10.18"
  }
 },
 "nbformat": 4,
 "nbformat_minor": 5
}
