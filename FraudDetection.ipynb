{
 "cells": [
  {
   "cell_type": "markdown",
   "id": "3884ff61",
   "metadata": {},
   "source": [
    "- 사기거래탐지"
   ]
  },
  {
   "cell_type": "markdown",
   "id": "18a1f836",
   "metadata": {},
   "source": [
    "# EDA"
   ]
  },
  {
   "cell_type": "markdown",
   "id": "1c9e9bdf",
   "metadata": {},
   "source": [
    "### 데이터 불러오기"
   ]
  },
  {
   "cell_type": "code",
   "execution_count": 1,
   "id": "42466937",
   "metadata": {
    "collapsed": true,
    "jupyter": {
     "outputs_hidden": true
    },
    "scrolled": true
   },
   "outputs": [
    {
     "name": "stdout",
     "output_type": "stream",
     "text": [
      "Requirement already satisfied: numpy==2.0.0 in c:\\users\\ceo\\anaconda3\\envs\\project_env\\lib\\site-packages (from -r requirements.txt (line 1)) (2.0.0)\n",
      "Requirement already satisfied: pandas==2.3.2 in c:\\users\\ceo\\anaconda3\\envs\\project_env\\lib\\site-packages (from -r requirements.txt (line 2)) (2.3.2)\n",
      "Requirement already satisfied: matplotlib==3.10.6 in c:\\users\\ceo\\anaconda3\\envs\\project_env\\lib\\site-packages (from -r requirements.txt (line 3)) (3.10.6)\n",
      "Requirement already satisfied: seaborn==0.13.2 in c:\\users\\ceo\\anaconda3\\envs\\project_env\\lib\\site-packages (from -r requirements.txt (line 4)) (0.13.2)\n",
      "Requirement already satisfied: scikit-learn==1.7.1 in c:\\users\\ceo\\anaconda3\\envs\\project_env\\lib\\site-packages (from -r requirements.txt (line 5)) (1.7.1)\n",
      "Requirement already satisfied: scipy==1.15.3 in c:\\users\\ceo\\anaconda3\\envs\\project_env\\lib\\site-packages (from -r requirements.txt (line 6)) (1.15.3)\n",
      "Requirement already satisfied: pgeocode==0.5.0 in c:\\users\\ceo\\anaconda3\\envs\\project_env\\lib\\site-packages (from -r requirements.txt (line 7)) (0.5.0)\n",
      "Requirement already satisfied: haversine==2.9.0 in c:\\users\\ceo\\anaconda3\\envs\\project_env\\lib\\site-packages (from -r requirements.txt (line 8)) (2.9.0)\n",
      "Requirement already satisfied: lightgbm==4.6.0 in c:\\users\\ceo\\anaconda3\\envs\\project_env\\lib\\site-packages (from -r requirements.txt (line 9)) (4.6.0)\n",
      "Requirement already satisfied: xgboost==3.0.5 in c:\\users\\ceo\\anaconda3\\envs\\project_env\\lib\\site-packages (from -r requirements.txt (line 10)) (3.0.5)\n",
      "Requirement already satisfied: catboost==1.2.8 in c:\\users\\ceo\\anaconda3\\envs\\project_env\\lib\\site-packages (from -r requirements.txt (line 11)) (1.2.8)\n",
      "Requirement already satisfied: python-dateutil>=2.8.2 in c:\\users\\ceo\\anaconda3\\envs\\project_env\\lib\\site-packages (from pandas==2.3.2->-r requirements.txt (line 2)) (2.9.0.post0)\n",
      "Requirement already satisfied: pytz>=2020.1 in c:\\users\\ceo\\anaconda3\\envs\\project_env\\lib\\site-packages (from pandas==2.3.2->-r requirements.txt (line 2)) (2025.2)\n",
      "Requirement already satisfied: tzdata>=2022.7 in c:\\users\\ceo\\anaconda3\\envs\\project_env\\lib\\site-packages (from pandas==2.3.2->-r requirements.txt (line 2)) (2025.2)\n",
      "Requirement already satisfied: contourpy>=1.0.1 in c:\\users\\ceo\\anaconda3\\envs\\project_env\\lib\\site-packages (from matplotlib==3.10.6->-r requirements.txt (line 3)) (1.3.2)\n",
      "Requirement already satisfied: cycler>=0.10 in c:\\users\\ceo\\anaconda3\\envs\\project_env\\lib\\site-packages (from matplotlib==3.10.6->-r requirements.txt (line 3)) (0.12.1)\n",
      "Requirement already satisfied: fonttools>=4.22.0 in c:\\users\\ceo\\anaconda3\\envs\\project_env\\lib\\site-packages (from matplotlib==3.10.6->-r requirements.txt (line 3)) (4.59.2)\n",
      "Requirement already satisfied: kiwisolver>=1.3.1 in c:\\users\\ceo\\anaconda3\\envs\\project_env\\lib\\site-packages (from matplotlib==3.10.6->-r requirements.txt (line 3)) (1.4.9)\n",
      "Requirement already satisfied: packaging>=20.0 in c:\\users\\ceo\\anaconda3\\envs\\project_env\\lib\\site-packages (from matplotlib==3.10.6->-r requirements.txt (line 3)) (25.0)\n",
      "Requirement already satisfied: pillow>=8 in c:\\users\\ceo\\anaconda3\\envs\\project_env\\lib\\site-packages (from matplotlib==3.10.6->-r requirements.txt (line 3)) (11.3.0)\n",
      "Requirement already satisfied: pyparsing>=2.3.1 in c:\\users\\ceo\\anaconda3\\envs\\project_env\\lib\\site-packages (from matplotlib==3.10.6->-r requirements.txt (line 3)) (3.2.4)\n",
      "Requirement already satisfied: joblib>=1.2.0 in c:\\users\\ceo\\anaconda3\\envs\\project_env\\lib\\site-packages (from scikit-learn==1.7.1->-r requirements.txt (line 5)) (1.5.2)\n",
      "Requirement already satisfied: threadpoolctl>=3.1.0 in c:\\users\\ceo\\anaconda3\\envs\\project_env\\lib\\site-packages (from scikit-learn==1.7.1->-r requirements.txt (line 5)) (3.6.0)\n",
      "Requirement already satisfied: requests in c:\\users\\ceo\\anaconda3\\envs\\project_env\\lib\\site-packages (from pgeocode==0.5.0->-r requirements.txt (line 7)) (2.32.5)\n",
      "Requirement already satisfied: graphviz in c:\\users\\ceo\\anaconda3\\envs\\project_env\\lib\\site-packages (from catboost==1.2.8->-r requirements.txt (line 11)) (0.21)\n",
      "Requirement already satisfied: plotly in c:\\users\\ceo\\anaconda3\\envs\\project_env\\lib\\site-packages (from catboost==1.2.8->-r requirements.txt (line 11)) (6.3.0)\n",
      "Requirement already satisfied: six in c:\\users\\ceo\\anaconda3\\envs\\project_env\\lib\\site-packages (from catboost==1.2.8->-r requirements.txt (line 11)) (1.17.0)\n",
      "Requirement already satisfied: narwhals>=1.15.1 in c:\\users\\ceo\\anaconda3\\envs\\project_env\\lib\\site-packages (from plotly->catboost==1.2.8->-r requirements.txt (line 11)) (2.5.0)\n",
      "Requirement already satisfied: charset_normalizer<4,>=2 in c:\\users\\ceo\\anaconda3\\envs\\project_env\\lib\\site-packages (from requests->pgeocode==0.5.0->-r requirements.txt (line 7)) (3.4.3)\n",
      "Requirement already satisfied: idna<4,>=2.5 in c:\\users\\ceo\\anaconda3\\envs\\project_env\\lib\\site-packages (from requests->pgeocode==0.5.0->-r requirements.txt (line 7)) (3.10)\n",
      "Requirement already satisfied: urllib3<3,>=1.21.1 in c:\\users\\ceo\\anaconda3\\envs\\project_env\\lib\\site-packages (from requests->pgeocode==0.5.0->-r requirements.txt (line 7)) (2.5.0)\n",
      "Requirement already satisfied: certifi>=2017.4.17 in c:\\users\\ceo\\anaconda3\\envs\\project_env\\lib\\site-packages (from requests->pgeocode==0.5.0->-r requirements.txt (line 7)) (2025.8.3)\n"
     ]
    }
   ],
   "source": [
    "!pip install -r requirements.txt"
   ]
  },
  {
   "cell_type": "code",
   "execution_count": 118,
   "id": "cd59cae9",
   "metadata": {},
   "outputs": [],
   "source": [
    "import numpy as np\n",
    "import pandas as pd\n",
    "import matplotlib.pyplot as plt\n",
    "import seaborn as sns\n",
    "import warnings\n",
    "import pgeocode #우편 변호 지원 \n",
    "from sklearn.model_selection import train_test_split,StratifiedKFold, cross_val_score\n",
    "from sklearn.preprocessing import LabelEncoder\n",
    "from sklearn.metrics import roc_auc_score, f1_score, average_precision_score, classification_report, confusion_matrix\n",
    "from sklearn.metrics import precision_recall_curve, auc,precision_score, recall_score, matthews_corrcoef,log_loss\n",
    "from haversine import haversine, haversine_vector, Unit # 지리적 거리 차이 계산\n",
    "warnings.filterwarnings('ignore')\n",
    "from sklearn.ensemble import StackingClassifier\n",
    "from sklearn.linear_model import LogisticRegression\n",
    "from lightgbm import LGBMClassifier\n",
    "from xgboost import XGBClassifier\n",
    "from catboost import CatBoostClassifier\n",
    "import lightgbm as lgb\n",
    "import xgboost as xgb\n",
    "import catboost as cb"
   ]
  },
  {
   "cell_type": "code",
   "execution_count": 3,
   "id": "2cfac6e4",
   "metadata": {},
   "outputs": [],
   "source": [
    "card_df = pd.read_csv('../data/ftd/cards_data.csv')\n",
    "trans_df = pd.read_csv('../data/ftd/transactions_data.csv')\n",
    "user_df = pd.read_csv('../data/ftd/users_data.csv')\n",
    "mcc_df = pd.read_json('../data/ftd/mcc_codes.json', orient='index').rename({0:'category'}, axis=1)\n",
    "fraud_df = pd.read_json('../data/ftd/train_fraud_labels.json')"
   ]
  },
  {
   "cell_type": "markdown",
   "id": "465e18d4",
   "metadata": {},
   "source": [
    "### 데이터별 컬럼 의미"
   ]
  },
  {
   "cell_type": "code",
   "execution_count": 4,
   "id": "4803a5b1",
   "metadata": {},
   "outputs": [],
   "source": [
    "# card_df"
   ]
  },
  {
   "cell_type": "markdown",
   "id": "28af8a0e",
   "metadata": {},
   "source": [
    "- **id**: 카드 id \n",
    "- **client**: 고객 id\n",
    "- **card_brand**: 카드사\n",
    "- **card_type**: 카드 종류(신용/체크)\n",
    "- **card_number**: 카드번호\n",
    "- **expires**: 카드 만료기간\n",
    "- **cvv**: 카드 인증코드\n",
    "- **has_chip**: 카드 IC칩 보유 여부(IC칩 있을 시 카드 도용/복제에 상대적으로 안전)\n",
    "- **num_cards_issued**: 문제 발생 횟수??\n",
    "- **credit_limit**: 신용 한도\n",
    "- **acct_open_date**: 계좌 개설일\n",
    "- **year_pin_last_changed**: 카드 pin번호 최근 변경연도\n",
    "- **card_on_dark_web**: 다크웹 사용?? => No만 존재 => 제거 가능"
   ]
  },
  {
   "cell_type": "code",
   "execution_count": 5,
   "id": "25282d20",
   "metadata": {},
   "outputs": [],
   "source": [
    "# trans_df"
   ]
  },
  {
   "cell_type": "markdown",
   "id": "080b8231",
   "metadata": {},
   "source": [
    "- **id**: 거래식별번호\n",
    "- **date**: 거래일자\n",
    "- **client_id**: 고객id\n",
    "- **card_id**: 카드id\n",
    "- **amount**: 거래금액 => 음수 데이터 존재\n",
    "- **use_chip**: 카드 결제 방식\n",
    "    - Swipe Transaction: 마그네틱 카드로 긁어서 결제\n",
    "    - Chip Transaction: ic칩 카드로 결제\n",
    "    - Online Transaction: 온라인 결제\n",
    "- **merchant_id**: 매장id\n",
    "- **merchant_city**: 매장 위치(시)\n",
    "- **merchant_state**: 매장 위치(주)\n",
    "- **zip**: 매장 우편번호\n",
    "- **mcc**: 매장 분류코드\n",
    "- **errors**: 거래 성공 여부(결제 오류 시 오류 원인이 적혀있음)"
   ]
  },
  {
   "cell_type": "code",
   "execution_count": 6,
   "id": "ecb801ad",
   "metadata": {},
   "outputs": [],
   "source": [
    "# user_df"
   ]
  },
  {
   "cell_type": "markdown",
   "id": "bf40784c",
   "metadata": {},
   "source": [
    "- **id**: 고객id\n",
    "- **current_age**: 현재 나이\n",
    "- **retirement_age**: 퇴직 연령\n",
    "- **birth_year**: 출생연도\n",
    "- **gender**: 성별\n",
    "- **address**: 주소\n",
    "- **latitude**: 위도\n",
    "- **longitude**: 경도\n",
    "- **per_capita_income**: 1인당 소득 (전체 소득 / 인구 수)\n",
    "- **yearly_income**: 연봉\n",
    "- **total_debt**: 채무액\n",
    "- **credit_score**: 신용점수\n",
    "- **num_credit_cards**: 보유 중인 신용카드 수"
   ]
  },
  {
   "cell_type": "code",
   "execution_count": 7,
   "id": "23153162",
   "metadata": {},
   "outputs": [
    {
     "data": {
      "text/html": [
       "<div>\n",
       "<style scoped>\n",
       "    .dataframe tbody tr th:only-of-type {\n",
       "        vertical-align: middle;\n",
       "    }\n",
       "\n",
       "    .dataframe tbody tr th {\n",
       "        vertical-align: top;\n",
       "    }\n",
       "\n",
       "    .dataframe thead th {\n",
       "        text-align: right;\n",
       "    }\n",
       "</style>\n",
       "<table border=\"1\" class=\"dataframe\">\n",
       "  <thead>\n",
       "    <tr style=\"text-align: right;\">\n",
       "      <th></th>\n",
       "      <th>index</th>\n",
       "      <th>category</th>\n",
       "    </tr>\n",
       "  </thead>\n",
       "  <tbody>\n",
       "    <tr>\n",
       "      <th>0</th>\n",
       "      <td>5812</td>\n",
       "      <td>Eating Places and Restaurants</td>\n",
       "    </tr>\n",
       "    <tr>\n",
       "      <th>1</th>\n",
       "      <td>5541</td>\n",
       "      <td>Service Stations</td>\n",
       "    </tr>\n",
       "    <tr>\n",
       "      <th>2</th>\n",
       "      <td>7996</td>\n",
       "      <td>Amusement Parks, Carnivals, Circuses</td>\n",
       "    </tr>\n",
       "    <tr>\n",
       "      <th>3</th>\n",
       "      <td>5411</td>\n",
       "      <td>Grocery Stores, Supermarkets</td>\n",
       "    </tr>\n",
       "    <tr>\n",
       "      <th>4</th>\n",
       "      <td>4784</td>\n",
       "      <td>Tolls and Bridge Fees</td>\n",
       "    </tr>\n",
       "    <tr>\n",
       "      <th>...</th>\n",
       "      <td>...</td>\n",
       "      <td>...</td>\n",
       "    </tr>\n",
       "    <tr>\n",
       "      <th>104</th>\n",
       "      <td>7549</td>\n",
       "      <td>Towing Services</td>\n",
       "    </tr>\n",
       "    <tr>\n",
       "      <th>105</th>\n",
       "      <td>5941</td>\n",
       "      <td>Sporting Goods Stores</td>\n",
       "    </tr>\n",
       "    <tr>\n",
       "      <th>106</th>\n",
       "      <td>5722</td>\n",
       "      <td>Household Appliance Stores</td>\n",
       "    </tr>\n",
       "    <tr>\n",
       "      <th>107</th>\n",
       "      <td>3009</td>\n",
       "      <td>Fabricated Structural Metal Products</td>\n",
       "    </tr>\n",
       "    <tr>\n",
       "      <th>108</th>\n",
       "      <td>5733</td>\n",
       "      <td>Music Stores - Musical Instruments</td>\n",
       "    </tr>\n",
       "  </tbody>\n",
       "</table>\n",
       "<p>109 rows × 2 columns</p>\n",
       "</div>"
      ],
      "text/plain": [
       "     index                              category\n",
       "0     5812         Eating Places and Restaurants\n",
       "1     5541                      Service Stations\n",
       "2     7996  Amusement Parks, Carnivals, Circuses\n",
       "3     5411          Grocery Stores, Supermarkets\n",
       "4     4784                 Tolls and Bridge Fees\n",
       "..     ...                                   ...\n",
       "104   7549                       Towing Services\n",
       "105   5941                 Sporting Goods Stores\n",
       "106   5722            Household Appliance Stores\n",
       "107   3009  Fabricated Structural Metal Products\n",
       "108   5733    Music Stores - Musical Instruments\n",
       "\n",
       "[109 rows x 2 columns]"
      ]
     },
     "execution_count": 7,
     "metadata": {},
     "output_type": "execute_result"
    }
   ],
   "source": [
    "mcc_df.reset_index()"
   ]
  },
  {
   "cell_type": "markdown",
   "id": "f9e88b05",
   "metadata": {},
   "source": [
    "- mcc별 상점 종류"
   ]
  },
  {
   "cell_type": "code",
   "execution_count": 8,
   "id": "b8b0bc15",
   "metadata": {},
   "outputs": [
    {
     "data": {
      "text/html": [
       "<div>\n",
       "<style scoped>\n",
       "    .dataframe tbody tr th:only-of-type {\n",
       "        vertical-align: middle;\n",
       "    }\n",
       "\n",
       "    .dataframe tbody tr th {\n",
       "        vertical-align: top;\n",
       "    }\n",
       "\n",
       "    .dataframe thead th {\n",
       "        text-align: right;\n",
       "    }\n",
       "</style>\n",
       "<table border=\"1\" class=\"dataframe\">\n",
       "  <thead>\n",
       "    <tr style=\"text-align: right;\">\n",
       "      <th></th>\n",
       "      <th>index</th>\n",
       "      <th>target</th>\n",
       "    </tr>\n",
       "  </thead>\n",
       "  <tbody>\n",
       "    <tr>\n",
       "      <th>0</th>\n",
       "      <td>10649266</td>\n",
       "      <td>No</td>\n",
       "    </tr>\n",
       "    <tr>\n",
       "      <th>1</th>\n",
       "      <td>23410063</td>\n",
       "      <td>No</td>\n",
       "    </tr>\n",
       "    <tr>\n",
       "      <th>2</th>\n",
       "      <td>9316588</td>\n",
       "      <td>No</td>\n",
       "    </tr>\n",
       "    <tr>\n",
       "      <th>3</th>\n",
       "      <td>12478022</td>\n",
       "      <td>No</td>\n",
       "    </tr>\n",
       "    <tr>\n",
       "      <th>4</th>\n",
       "      <td>9558530</td>\n",
       "      <td>No</td>\n",
       "    </tr>\n",
       "    <tr>\n",
       "      <th>...</th>\n",
       "      <td>...</td>\n",
       "      <td>...</td>\n",
       "    </tr>\n",
       "    <tr>\n",
       "      <th>8914958</th>\n",
       "      <td>14064699</td>\n",
       "      <td>No</td>\n",
       "    </tr>\n",
       "    <tr>\n",
       "      <th>8914959</th>\n",
       "      <td>7676538</td>\n",
       "      <td>No</td>\n",
       "    </tr>\n",
       "    <tr>\n",
       "      <th>8914960</th>\n",
       "      <td>15131030</td>\n",
       "      <td>No</td>\n",
       "    </tr>\n",
       "    <tr>\n",
       "      <th>8914961</th>\n",
       "      <td>17244732</td>\n",
       "      <td>No</td>\n",
       "    </tr>\n",
       "    <tr>\n",
       "      <th>8914962</th>\n",
       "      <td>15151926</td>\n",
       "      <td>No</td>\n",
       "    </tr>\n",
       "  </tbody>\n",
       "</table>\n",
       "<p>8914963 rows × 2 columns</p>\n",
       "</div>"
      ],
      "text/plain": [
       "            index target\n",
       "0        10649266     No\n",
       "1        23410063     No\n",
       "2         9316588     No\n",
       "3        12478022     No\n",
       "4         9558530     No\n",
       "...           ...    ...\n",
       "8914958  14064699     No\n",
       "8914959   7676538     No\n",
       "8914960  15131030     No\n",
       "8914961  17244732     No\n",
       "8914962  15151926     No\n",
       "\n",
       "[8914963 rows x 2 columns]"
      ]
     },
     "execution_count": 8,
     "metadata": {},
     "output_type": "execute_result"
    }
   ],
   "source": [
    "fraud_df.reset_index()"
   ]
  },
  {
   "cell_type": "markdown",
   "id": "c65e364e",
   "metadata": {},
   "source": [
    "- 거래 id별 정상거래/사기거래 여부"
   ]
  },
  {
   "cell_type": "markdown",
   "id": "2f1579fa",
   "metadata": {},
   "source": [
    "### 데이터 살펴보기"
   ]
  },
  {
   "cell_type": "code",
   "execution_count": 9,
   "id": "702a16f5",
   "metadata": {},
   "outputs": [],
   "source": [
    "user_df = user_df.rename(columns={'id':'client_id'}) #user_df의 id를 client_id로 변경\n",
    "card_user_df = card_df.merge(user_df, on='client_id') #카드 정보와 고객 정보를 병함(카드 데이터를 기준으로)\n",
    "\n",
    "card_user_df = card_user_df.drop(columns=['card_number','cvv']) #카드 번호, cvv(보안 번호, cvc 번호랑 비슷함) 삭제\n",
    "card_user_df = card_user_df.rename(columns={'id':'card_id'}) #card_df의 id를 card_id로 변경"
   ]
  },
  {
   "cell_type": "code",
   "execution_count": 10,
   "id": "8cfc152d",
   "metadata": {},
   "outputs": [],
   "source": [
    "mcc_df = mcc_df.reset_index() #index 초기화\n",
    "fraud_df = fraud_df.reset_index()\n",
    "\n",
    "fraud_df = fraud_df.rename(columns={'index':'id','target':'fraud_label'}) #fraud_df의 index를 id로 변경,target를 fraud_label로 변경\n",
    "mcc_df = mcc_df.rename(columns={'index':'mcc','category':'merchant_cat'}) #mcc_df의 index를 id로 변경,category를 merchant_cat로 변경\n",
    "\n",
    "trans_df = trans_df.merge(fraud_df, on='id',how='left') #거래 정보와 사기 정보 결합\n",
    "trans_df = trans_df.merge(mcc_df, on='mcc',how='left') #거래 정보와 판매점 정보 결합\n",
    "\n",
    "#거래, 카드, 고객 정보 통합\n",
    "trans_df = trans_df.merge(card_user_df, on=['card_id','client_id'],how='left')"
   ]
  },
  {
   "cell_type": "markdown",
   "id": "61a521d9",
   "metadata": {},
   "source": [
    "#### trans_df"
   ]
  },
  {
   "cell_type": "markdown",
   "id": "a92911a2",
   "metadata": {},
   "source": [
    "- date는 datetime으로 바꾸는게 좋아보임\n",
    "- amount 음수인 경우 확인 필요"
   ]
  },
  {
   "cell_type": "markdown",
   "id": "d8a10f08",
   "metadata": {},
   "source": [
    "- errors의 결측치: 결제 성공 의미 => NaN대신 다른 값으로 변환 필요해 보임\n",
    "- merchant_state => Italy 사기거래 백분율 65% => 단순 우연?\n",
    "- zip => 별 의미 없는 데이터"
   ]
  },
  {
   "cell_type": "markdown",
   "id": "4482614f",
   "metadata": {},
   "source": [
    "#### 생각해볼만한 것"
   ]
  },
  {
   "cell_type": "markdown",
   "id": "cb88d777",
   "metadata": {},
   "source": [
    "- card_brand와 사기거래 관련성\n",
    "- card_type과 사기거래 관련성\n",
    "- has_chip과 사기거래 관련성\n",
    "- credit_limit과 사기거래 관련성"
   ]
  },
  {
   "cell_type": "markdown",
   "id": "7e3d7f82",
   "metadata": {},
   "source": [
    "- date와 사기거래 관련성\n",
    "- amount와 사기거래 관련성\n",
    "- use_chip과 사기거래 관련성\n",
    "- merchant_state와 사기거래 관련성\n",
    "- category와 사기거래 관련성"
   ]
  },
  {
   "cell_type": "markdown",
   "id": "62eeaad4",
   "metadata": {},
   "source": [
    "- current_age와 사기거래 관련성\n",
    "- gender과 사기거래 관련성\n",
    "- latitude, longitude와 사기거래 관련성\n",
    "- yearly_income와 사기거래 관련성\n",
    "- credit_score와 사기거래 관련성\n",
    "- num_credit_cards와 사기거래 관련성"
   ]
  },
  {
   "cell_type": "markdown",
   "id": "7bda0b06",
   "metadata": {},
   "source": [
    "### 중복값 확인"
   ]
  },
  {
   "cell_type": "code",
   "execution_count": 11,
   "id": "14560ac6",
   "metadata": {},
   "outputs": [],
   "source": [
    "#mcc_df[mcc_df.duplicated(keep=False)]"
   ]
  },
  {
   "cell_type": "markdown",
   "id": "5375592a",
   "metadata": {},
   "source": [
    "- trans_df와 합치면 상관없음"
   ]
  },
  {
   "cell_type": "markdown",
   "id": "ab9325ee",
   "metadata": {},
   "source": [
    "# Feature Engineering"
   ]
  },
  {
   "cell_type": "markdown",
   "id": "70c7acde",
   "metadata": {},
   "source": [
    "해결해야 하는 문제\n",
    "\n",
    "- 제거를 고려하는 변수들: address, latitude, longitude\n",
    "  \n",
    "- 해 마다 갱신 될 가능성이 높은 변수들: total_debt, credit_score(FICO Score로 추정됨)\n",
    "\n",
    "- merchant_state,city 의 처리"
   ]
  },
  {
   "cell_type": "code",
   "execution_count": 12,
   "id": "f486dd43",
   "metadata": {},
   "outputs": [],
   "source": [
    "# mcc 범주화\n",
    "food = ['Eating Places and Restaurants', 'Fast Food Restaurants', 'Drinking Places (Alcoholic Beverages)', 'Grocery Stores, Supermarkets', \n",
    "              'Miscellaneous Food Stores', 'Package Stores, Beer, Wine, Liquor', 'Wholesale Clubs', 'Discount Stores']\n",
    "\n",
    "medical = ['Medical Services', 'Doctors, Physicians', 'Dentists and Orthodontists', 'Chiropractors', 'Podiatrists',\n",
    "                    'Optometrists, Optical Goods and Eyeglasses', 'Hospitals', 'Drug Stores and Pharmacies']\n",
    "\n",
    "transport = ['Service Stations', 'Automotive Service Shops', 'Automotive Body Repair Shops', 'Automotive Parts and Accessories Stores',\n",
    "                       'Taxicabs and Limousines', 'Bus Lines', 'Passenger Railways', 'Railroad Passenger Transport', 'Railroad Freight',\n",
    "                       'Motor Freight Carriers and Trucking', 'Airlines', 'Cruise Lines', 'Lodging - Hotels, Motels, Resorts',\n",
    "                       'Local and Suburban Commuter Transportation']\n",
    "\n",
    "service = ['Laundry Services', 'Car Washes', 'Towing Services', 'Cleaning and Maintenance Services', 'Tax Preparation Services',\n",
    "                   'Accounting, Auditing, and Bookkeeping Services', 'Legal Services and Attorneys', 'Detective Agencies, Security Services', 'Money Transfer',\n",
    "                   'Insurance Sales, Underwriting', 'Travel Agencies']\n",
    "\n",
    "retail = ['Department Stores', 'Family Clothing Stores', \"Women's Ready-To-Wear Stores\", 'Shoe Stores', 'Sports Apparel, Riding Apparel Stores',\n",
    "              'Sporting Goods Stores', 'Leather Goods', 'Precious Stones and Metals', 'Antique Shops', 'Music Stores - Musical Instruments',\n",
    "              'Artist Supply Stores, Craft Shops', 'Book Stores', 'Books, Periodicals, Newspapers', 'Electronics Stores',\n",
    "              'Computers, Computer Peripheral Equipment', 'Digital Goods - Media, Books, Apps', 'Digital Goods - Games', 'Cosmetic Stores',\n",
    "              'Beauty and Barber Shops', 'Gift, Card, Novelty Stores', 'Miscellaneous Home Furnishing Stores', \n",
    "              'Furniture, Home Furnishings, and Equipment Stores', 'Upholstery and Drapery Stores', 'Lighting, Fixtures, Electrical Supplies',\n",
    "              'Floor Covering Stores', 'Lawn and Garden Supply Stores', 'Gardening Supplies', 'Hardware Stores', 'Household Appliance Stores',\n",
    "              'Florists Supplies, Nursery Stock and Flowers', 'Non-Precious Metal Services']\n",
    "\n",
    "industry = ['Lumber and Building Materials', 'Brick, Stone, and Related Materials', 'Industrial Equipment and Supplies',\n",
    "                    'Tools, Parts, Supplies Manufacturing', 'Heating, Plumbing, Air Conditioning Contractors', 'Fabricated Structural Metal Products',\n",
    "                    'Steel Products Manufacturing', 'Steelworks', 'Ironwork', 'Welding Repair', 'Electroplating, Plating, Polishing Services',\n",
    "                    'Heat Treating Metal Services', 'Bolt, Nut, Screw, Rivet Manufacturing', 'Coated and Laminated Products', 'Non-Ferrous Metal Foundries',\n",
    "                    'Steel Drums and Barrels', 'Miscellaneous Metal Fabrication', 'Miscellaneous Metals', 'Miscellaneous Fabricated Metal Products',\n",
    "                    'Miscellaneous Metalwork', 'Pottery and Ceramics', 'Semiconductors and Related Devices', 'Ship Chandlers',\n",
    "                    'Utilities - Electric, Gas, Water, Sanitary', 'Telecommunication Services', 'Computer Network Services', \n",
    "                    'Cable, Satellite, and Other Pay Television Services', 'Postal Services - Government Only', 'Tolls and Bridge Fees', \n",
    "                    'Amusement Parks, Carnivals, Circuses', 'Motion Picture Theaters', 'Theatrical Producers', 'Recreational Sports, Clubs', \n",
    "                    'Athletic Fields, Commercial Sports', 'Betting (including Lottery Tickets, Casinos)', 'Miscellaneous Machinery and Parts Manufacturing']"
   ]
  },
  {
   "cell_type": "code",
   "execution_count": 13,
   "id": "f2fce27e",
   "metadata": {},
   "outputs": [],
   "source": [
    "trans_df.loc[trans_df['merchant_cat'].isin(food), 'merchant_cat'] = 'food'\n",
    "trans_df.loc[trans_df['merchant_cat'].isin(medical), 'merchant_cat'] = 'medical'\n",
    "trans_df.loc[trans_df['merchant_cat'].isin(transport), 'merchant_cat'] = 'transport'\n",
    "trans_df.loc[trans_df['merchant_cat'].isin(service), 'merchant_cat'] = 'service'\n",
    "trans_df.loc[trans_df['merchant_cat'].isin(retail), 'merchant_cat'] = 'retail'\n",
    "trans_df.loc[trans_df['merchant_cat'].isin(industry), 'merchant_cat'] = 'industry'"
   ]
  },
  {
   "cell_type": "code",
   "execution_count": 14,
   "id": "b61177c8",
   "metadata": {},
   "outputs": [],
   "source": [
    "trans_df['errors'] = trans_df['errors'].fillna(0) #정상 거래는 0값으로 처리\n",
    "\n",
    "#merchant_city가 ONLINE 일 떄 merchant_state도 ONLINE으로 변경\n",
    "trans_df.loc[trans_df['merchant_city'] == 'ONLINE', 'merchant_state'] = 'ONLINE'\n",
    "\n",
    "#고객 ID, 카드 ID, 다크웹에서 카드?,거래 id, 상점 id, 상점 카테고리 식별 번호 삭제\n",
    "trans_df = trans_df.drop(columns=['id','merchant_id','mcc','client_id','card_on_dark_web'])"
   ]
  },
  {
   "cell_type": "code",
   "execution_count": 15,
   "id": "e2dde5ad",
   "metadata": {},
   "outputs": [],
   "source": [
    "trans_df['date'] = pd.to_datetime(trans_df['date']) #date의 데이터 구조를 datetime으로 변환\n",
    "\n",
    "#금액에서 $표시를 제거해서 돈과 관련된 수치를 숫자로 변환\n",
    "trans_df['amount'] = pd.to_numeric(trans_df['amount'].str.split('$', expand=True)[1]) #\n",
    "trans_df['credit_limit'] = pd.to_numeric(trans_df['credit_limit'].str.split('$', expand=True)[1]) #\n",
    "trans_df['per_capita_income'] = pd.to_numeric(trans_df['per_capita_income'].str.split('$', expand=True)[1])\n",
    "trans_df['yearly_income'] = pd.to_numeric(trans_df['yearly_income'].str.split('$', expand=True)[1])\n",
    "trans_df['total_debt'] = pd.to_numeric(trans_df['total_debt'].str.split('$', expand=True)[1])"
   ]
  },
  {
   "cell_type": "code",
   "execution_count": 16,
   "id": "583925a4",
   "metadata": {},
   "outputs": [],
   "source": [
    "#거래 날짜와 고객,카드 정보를 통해 시간과 관련된 새로운 피쳐 생성\n",
    "\n",
    "trans_df['day'] = trans_df['date'].dt.day #거래 당시의 일 생성\n",
    "trans_df['month'] = trans_df['date'].dt.month #거래 당시의 월 생성\n",
    "trans_df['year'] = trans_df['date'].dt.year #거래 당시의 년 생성\n",
    "\n",
    "trans_df['expire_month'] = pd.to_numeric(trans_df['expires'].str.split('/', expand=True)[0]) #카드 만료 날의 월 \n",
    "trans_df['expire_year'] = pd.to_numeric(trans_df['expires'].str.split('/', expand=True)[1]) #카드 만료 날의 년\n",
    "\n",
    "trans_df['acct_open_date_month'] = pd.to_numeric(trans_df['acct_open_date'].str.split('/', expand=True)[0]) #계좌 개설 날의 월 \n",
    "trans_df['acct_open_date_year'] = pd.to_numeric(trans_df['acct_open_date'].str.split('/', expand=True)[1]) #계좌 개설 날의 년\n",
    "\n",
    "trans_df['current_age'] = trans_df['year'] - trans_df['birth_year'] #현재 나이를 2019년이 아닌 거래 날짜를 기준으로 변경\n",
    "trans_df['year_since_pin_changed'] = trans_df['year'] - trans_df['year_pin_last_changed'] #핀 번호 변경으로 부터 지난 해 기간\n",
    "trans_df['year_since_pin_changed'] = trans_df['year_since_pin_changed'].clip(lower=0) #핀 번호 갱신 기간이 음수인 경우 0으로 변환\n",
    "trans_df['years_to_retirement'] = trans_df['retirement_age'] - trans_df['current_age'] #은퇴까지 남은 년\n",
    "\n",
    "trans_df['month_to_expires'] = (12*(trans_df['expire_year'] - trans_df['year']) \n",
    "                                + (trans_df['expire_month'] - trans_df['month'])) #카드 만료까지 남은 개월 수\n",
    "\n",
    "trans_df['month_to_acct_open'] = (12*(trans_df['year'] - trans_df['acct_open_date_year']) \n",
    "                                + (trans_df['month'] - trans_df['acct_open_date_month'])) #계좌 개설 후 지난 개월 수\n"
   ]
  },
  {
   "cell_type": "code",
   "execution_count": 17,
   "id": "10cf9836",
   "metadata": {},
   "outputs": [],
   "source": [
    "trans_df['hour'] = trans_df['date'].dt.hour #거래 당시의 시간 \n",
    "trans_df['min'] = trans_df['date'].dt.minute #거래 당시의 분  \n",
    "\n",
    "trans_df['time'] = 60*trans_df['hour'] + trans_df['min'] #거래 당시의 시간대\n",
    "\n",
    "#해당 고객의 최근 거래 15건의 시간대의 이동 평균 계산 (사용한 카드 기준)\n",
    "trans_df['time_15_ma'] = trans_df.groupby('card_id')['time'].rolling(window=15, min_periods=1).mean().reset_index(level=0, drop=True)\n",
    "trans_df['time_15_ma'] = np.abs(trans_df['time_15_ma']-trans_df['time']).round(2) #거래 시간대 이동 평균과 거래 시간대 차이 "
   ]
  },
  {
   "cell_type": "code",
   "execution_count": 18,
   "id": "5d1f90c2",
   "metadata": {},
   "outputs": [],
   "source": [
    "trans_df = trans_df.drop(columns=['birth_year','birth_month','date','year_pin_last_changed','retirement_age','expires','acct_open_date',\n",
    "                                 'expire_month','expire_year','acct_open_date_month','acct_open_date_year'])"
   ]
  },
  {
   "cell_type": "markdown",
   "id": "776248f3",
   "metadata": {},
   "source": [
    "- 소비자 물가 지수(CPI)로 년마다 연봉 갱신\n",
    "\n",
    "|연도|소비자 물가 지수|단위 환산|\n",
    "|------|---|---|\n",
    "|2010년|218.1|85.30|\n",
    "|2011년|224.9|87.95|\n",
    "|2012년|229.6|89.79|\n",
    "|2013년|232.9|91.08|\n",
    "|2014년|236.7|92.57|\n",
    "|2015년|237.0|92.69|\n",
    "|2016년|240.0|93.86|\n",
    "|2017년|245.1|95.85|\n",
    "|2018년|251.1|98.20|\n",
    "|2019년|255.7|100|\n",
    "\n",
    "출처: https://ko.tradingeconomics.com/united-states"
   ]
  },
  {
   "cell_type": "code",
   "execution_count": 19,
   "id": "ad2373a0",
   "metadata": {},
   "outputs": [],
   "source": [
    "#소비자 물기 지수(CPI)로 연봉을 평준화 \n",
    "CPI = {2019:1, 2018:0.982 ,2017:0.9585,2016:0.9386, 2015:0.9269, 2014:0.9257, 2013:0.9108, 2012:0.8979, 2011:0.8795, 2010:0.853}\n",
    "\n",
    "trans_df['CPI'] = trans_df['year'].map(CPI)\n",
    "trans_df['per_capita_income'] = trans_df['per_capita_income']*trans_df['CPI'] #지역 연봉 * CPI 지수 가중치\n",
    "trans_df['yearly_income'] = trans_df['yearly_income']*trans_df['CPI'] #연봉 * CPI 지수 가중치\n",
    "trans_df = trans_df.drop(columns=['CPI'])"
   ]
  },
  {
   "cell_type": "code",
   "execution_count": 20,
   "id": "8e75bad2",
   "metadata": {},
   "outputs": [],
   "source": [
    "#지리 정보를 이용한 feature engineering\n",
    "\n",
    "manual_coords = {\n",
    "    '30399': (33.7490, -84.3880), '94101': (37.7834, -122.4194),\n",
    "    '98205': (47.9790, -122.2021), '10072': (40.7766, -73.9525),\n",
    "    '19640': (40.3356, -75.9269), '45418': (39.7589, -84.1916),\n",
    "    '21748': (39.6418, -77.7200), '10558': (40.9126, -73.8385),\n",
    "    '92164': (32.7157, -117.1611), '14645': (43.1566, -77.6088),\n",
    "    '33121': (25.7617, -80.1918), '17767': (41.2951, -77.1641),\n",
    "    '16532': (42.1292, -80.0851), '29573': (33.6891, -78.8867),\n",
    "    '19388': (39.9607, -75.6055), '41338': (37.5551, -83.3882),\n",
    "    '21681': (39.2157, -76.0694), '19483': (40.0970, -75.3888),\n",
    "    '40446': (37.4298, -83.9785), '92412': (34.1083, -117.2898),\n",
    "    '11594': (40.7559, -73.5876), '25965': (37.6729, -80.8906)\n",
    "} #우편번호 라이브러리에 등록되지 않은 위치 정보\n",
    "\n",
    "#상점 우편 번호로 상점의 위도 경도 지리 정보 추출\n",
    "geo_locator = pgeocode.Nominatim('us') #미국 우편 번호 객체 생성\n",
    "\n",
    "trans_df['zip'].fillna(0, inplace=True) #결측치 채우기\n",
    "trans_df['zip_str'] = trans_df['zip'].astype(int).astype(str).str.zfill(5) #우편 번호를 문자열로 저장\n",
    "geo_info = geo_locator.query_postal_code(trans_df['zip_str'].tolist()) #우편 번호를 위도, 경도로 변환\n",
    "\n",
    "trans_df['market_latitude'] = geo_info['latitude'] #거래 데이터에 상점의 위도, 경도 정보 저장\n",
    "trans_df['market_longitude'] = geo_info['longitude']\n",
    "\n",
    "#라이브러리에 등록되지 않는 위도, 경도 정보를 딕션너리로 변환\n",
    "lat_map = {zip_code: coords[0] for zip_code, coords in manual_coords.items()} #위도 정보 변환\n",
    "lon_map = {zip_code: coords[1] for zip_code, coords in manual_coords.items()} #경도 정보 변환\n",
    "\n",
    "#위도-경도 딕션너리를 매핑을 통해 거래 데이터에 저장\n",
    "trans_df['market_latitude'] = trans_df['market_latitude'].fillna(trans_df['zip_str'].map(lat_map)) #결측치에 위도, 경도 정보 저장\n",
    "trans_df['market_longitude'] = trans_df['market_longitude'].fillna(trans_df['zip_str'].map(lon_map))\n",
    "\n",
    "#상점과 고객 주소 간의 거리 계산\n",
    "client_coords = list(zip(trans_df['latitude'], trans_df['longitude'])) #고객 주소 좌표\n",
    "market_coords = list(zip(trans_df['market_latitude'], trans_df['market_longitude'])) #상점 주소 좌표\n",
    "trans_df['distance_km'] = haversine_vector(client_coords, market_coords, unit=Unit.KILOMETERS) #고객과 상점 거리를 km 단위로 계산\n",
    "\n",
    "#해당 고객의 최근 거래 15건의 상점-주소 거리의 이동 평균 계산\n",
    "trans_df['distance_15_ma'] = trans_df.groupby('card_id')['distance_km'].rolling(window=15, min_periods=1).mean().reset_index(level=0, drop=True)\n",
    "\n",
    "# 소수점 둘째 자리까지 반올림\n",
    "trans_df['distance_15_ma'] = np.abs(trans_df['distance_km']- trans_df['distance_15_ma']).round(2) #이동 평균과 거리 차이로 계산\n",
    "trans_df['distance_km'] = trans_df['distance_km'].round(2)\n",
    "\n",
    "us_state_codes = {\n",
    "    'AL', 'AK', 'AZ', 'AR', 'CA', 'CO', 'CT', 'DE', 'DC', 'FL', 'GA',\n",
    "    'HI', 'ID', 'IL', 'IN', 'IA', 'KS', 'KY', 'LA', 'ME', 'MD', 'MA',\n",
    "    'MI', 'MN', 'MS', 'MO', 'MT', 'NE', 'NV', 'NH', 'NJ', 'NM', 'NY',\n",
    "    'NC', 'ND', 'OH', 'OK', 'OR', 'PA', 'RI', 'SC', 'SD', 'TN', 'TX',\n",
    "    'UT', 'VT', 'VA', 'WA', 'WV', 'WI', 'WY'} #미국 50개 주 +D.C(워싱턴)\n",
    "\n",
    "condition = trans_df['merchant_state'].isin(us_state_codes) # 상점 위치가 미국 내인지 판단\n",
    "trans_df['national'] = np.where(condition, 'domestic', 'overseas') #미국 내이면 'domestic', 해외면 'overseas' 값을 가짐\n",
    "\n",
    "#상점 위치가 해외이면 merchant_state 값을 overseas로 변환\n",
    "condition2 = (trans_df['national'] == 'overseas') & (trans_df['merchant_city'] != 'ONLINE')\n",
    "trans_df.loc[condition2, 'merchant_state'] = 'overseas'"
   ]
  },
  {
   "cell_type": "code",
   "execution_count": 21,
   "id": "9257c91d",
   "metadata": {},
   "outputs": [],
   "source": [
    "#거래 금액 관련 feature-engineering\n",
    "\n",
    "condition = trans_df['amount'] < 0 #거래 금액이 음수인지 판단(환불 거래)\n",
    "trans_df['refund'] = np.where(condition,1,0)\n",
    "trans_df['amount'] = np.abs(trans_df['amount']) #거래 금액을 양수로 바꿈\n",
    "\n",
    "window_size = 200 #최근 200개 데이터 선별\n",
    "\n",
    "def count_current_customer(window):\n",
    "    current_customer = window.iloc[-1]\n",
    "    return (window == current_customer).sum()\n",
    "\n",
    "#최근 200개 거래 데이터 중 현재 고객의 거래 건수 총합을 계산\n",
    "trans_df['recent_trans'] = trans_df['card_id'].rolling(window=window_size, min_periods=1).apply(count_current_customer, raw=False)\n",
    "\n"
   ]
  },
  {
   "cell_type": "code",
   "execution_count": 22,
   "id": "149904cd",
   "metadata": {},
   "outputs": [],
   "source": [
    "#고객 정보와 환불 정보 통합 \n",
    "trans_df['combo_id'] = trans_df['card_id'].astype(str) + trans_df['refund'].astype(str)*3\n",
    "trans_df['combo_id'] = trans_df['combo_id'].astype(int)\n",
    "\n",
    "\n",
    "def refund_count_current_customer(window):\n",
    "    current_customer = str(int(window.iloc[-1]))\n",
    "    target_id = int(current_customer[:4] + '111')\n",
    "    \n",
    "    return (window == target_id).sum()\n",
    "   \n",
    "#최근 200개 거래 데이터 중 현재 고객의 환불 거래 건수 총합을 계산\n",
    "trans_df['recent_refund_trans'] = trans_df['combo_id'].rolling(window=window_size, min_periods=1).apply(refund_count_current_customer, raw=False)\n",
    "\n",
    "#해당 고객의 최근 거래 15건의 거래 금액의 이동 평균 계산\n",
    "trans_df['amount_15_ma'] = trans_df.groupby('card_id')['amount'].rolling(window=15, min_periods=1).mean().reset_index(level=0, drop=True)\n",
    "\n",
    "#거래 금액과 최근 15건의 거래 금액 평균의 차이 \n",
    "trans_df['amount_15_ma'] = np.abs(trans_df['amount']- trans_df['amount_15_ma']).round(2) "
   ]
  },
  {
   "cell_type": "code",
   "execution_count": 23,
   "id": "8fab711a",
   "metadata": {},
   "outputs": [],
   "source": [
    "#필요 없는 정보 제거\n",
    "trans_df = trans_df.drop(columns=['address','latitude','longitude','zip','zip_str','combo_id',\n",
    "                                  'market_latitude','market_longitude','card_id','merchant_city','national','time'])"
   ]
  },
  {
   "cell_type": "code",
   "execution_count": 24,
   "id": "90d202e5",
   "metadata": {},
   "outputs": [],
   "source": [
    "train_trans_df = trans_df[trans_df['fraud_label'].notnull()] # 사기 정보가 있는 데이터 900만개\n",
    "test_trans_df = trans_df[trans_df['fraud_label'].isnull()] # 사기 정보가 없는 데이터  400만개\n",
    "\n",
    "#사기 거래 정보 값을 Yes, NO에서 1,0으로 변경\n",
    "YN_dict = {\"Yes\": 1, \"No\" : 0}\n",
    "train_trans_df['fraud_label'] = train_trans_df['fraud_label'].map(YN_dict)"
   ]
  },
  {
   "cell_type": "code",
   "execution_count": 25,
   "id": "1a4fa6d8",
   "metadata": {},
   "outputs": [
    {
     "data": {
      "text/plain": [
       "Index(['amount', 'use_chip', 'merchant_state', 'errors', 'fraud_label',\n",
       "       'merchant_cat', 'card_brand', 'card_type', 'has_chip',\n",
       "       'num_cards_issued', 'credit_limit', 'current_age', 'gender',\n",
       "       'per_capita_income', 'yearly_income', 'total_debt', 'credit_score',\n",
       "       'num_credit_cards', 'day', 'month', 'year', 'year_since_pin_changed',\n",
       "       'years_to_retirement', 'month_to_expires', 'month_to_acct_open', 'hour',\n",
       "       'min', 'time_15_ma', 'distance_km', 'distance_15_ma', 'refund',\n",
       "       'recent_trans', 'recent_refund_trans', 'amount_15_ma'],\n",
       "      dtype='object')"
      ]
     },
     "execution_count": 25,
     "metadata": {},
     "output_type": "execute_result"
    }
   ],
   "source": [
    "#feature\n",
    "train_trans_df.columns"
   ]
  },
  {
   "cell_type": "markdown",
   "id": "edc0b3c5",
   "metadata": {},
   "source": [
    "<span style=\"font-size: 22px; color: black\">**추가된 변수**</span>\n",
    "\n",
    "- **day**: 거래된 일\n",
    "- **month**: 거래된 월\n",
    "- **year**: 거래된 년\n",
    "- **hour**: 거래된 시간\n",
    "- **min**: 거래된 분\n",
    "- **year_since_pin_changed**: 핀 번호 변경으로 부터 지난 년\n",
    "- **years_to_retirement**: 은퇴까지 남은 년\n",
    "- **month_to_expires**: 카드 만료까지 남은 달\n",
    "- **month_to_acct_open**: 계좌 개설로 부터 지난 달\n",
    "- **distance_km**: 상점과 고객 주소의 거리 차이(km)\n",
    "- **distance_15_ma**\" 최근 15번 거래의 상점-고객 거리의 이동 평균과 현재 거래에서 거리의 차이(카드 기준) \n",
    "- **time_15_ma**\" 최근 15번 거래의 거래 시간의 이동 평균과 현재 거래에서 시간대 차이 (카드 기준)\n",
    "- **refund**: 환불 여부\n",
    "- **recent_trans**:최근 거래 횟수\n",
    "- **recent_refund_trans**:최근 환불 횟수\n",
    "- **amount_15_ma**: 최근 15번 거래의 거래 금액 평균과 거래 금액 차이\n",
    "\n",
    "\n",
    "<span style=\"font-size: 22px; color: black\">**변경된 변수**</span>\n",
    "\n",
    "- **fraud_label**: NO, Yes를 0,1로 변경\n",
    "- **current_age**: 현재 나이를 2019년 기준에서 거래 당시 시간으로 변경\n",
    "- **per_capita_income**: 수입 기준을 2019년에서 CPA를 적용해서 년마다 갱신\n",
    "- **yearly_income**: 연봉 기준을 2019년에서 CPA를 적용해서 년마다 갱신\n",
    "- **merchant_state**: 해외는 overseas, 미국 내는 주, 온라인 거래는 ONLINE 으로 변경\n"
   ]
  },
  {
   "cell_type": "code",
   "execution_count": 26,
   "id": "023f96f0",
   "metadata": {},
   "outputs": [
    {
     "name": "stdout",
     "output_type": "stream",
     "text": [
      "<class 'pandas.core.frame.DataFrame'>\n",
      "Index: 8914963 entries, 0 to 13305912\n",
      "Data columns (total 34 columns):\n",
      " #   Column                  Dtype  \n",
      "---  ------                  -----  \n",
      " 0   amount                  float64\n",
      " 1   use_chip                object \n",
      " 2   merchant_state          object \n",
      " 3   errors                  object \n",
      " 4   fraud_label             int64  \n",
      " 5   merchant_cat            object \n",
      " 6   card_brand              object \n",
      " 7   card_type               object \n",
      " 8   has_chip                object \n",
      " 9   num_cards_issued        int64  \n",
      " 10  credit_limit            int64  \n",
      " 11  current_age             int64  \n",
      " 12  gender                  object \n",
      " 13  per_capita_income       float64\n",
      " 14  yearly_income           float64\n",
      " 15  total_debt              int64  \n",
      " 16  credit_score            int64  \n",
      " 17  num_credit_cards        int64  \n",
      " 18  day                     int32  \n",
      " 19  month                   int32  \n",
      " 20  year                    int32  \n",
      " 21  year_since_pin_changed  int64  \n",
      " 22  years_to_retirement     int64  \n",
      " 23  month_to_expires        int64  \n",
      " 24  month_to_acct_open      int64  \n",
      " 25  hour                    int32  \n",
      " 26  min                     int32  \n",
      " 27  time_15_ma              float64\n",
      " 28  distance_km             float64\n",
      " 29  distance_15_ma          float64\n",
      " 30  refund                  int64  \n",
      " 31  recent_trans            float64\n",
      " 32  recent_refund_trans     float64\n",
      " 33  amount_15_ma            float64\n",
      "dtypes: float64(9), int32(5), int64(12), object(8)\n",
      "memory usage: 2.2+ GB\n"
     ]
    }
   ],
   "source": [
    "train_trans_df.info()"
   ]
  },
  {
   "cell_type": "code",
   "execution_count": 27,
   "id": "c0c41d83",
   "metadata": {},
   "outputs": [
    {
     "data": {
      "text/html": [
       "<div>\n",
       "<style scoped>\n",
       "    .dataframe tbody tr th:only-of-type {\n",
       "        vertical-align: middle;\n",
       "    }\n",
       "\n",
       "    .dataframe tbody tr th {\n",
       "        vertical-align: top;\n",
       "    }\n",
       "\n",
       "    .dataframe thead th {\n",
       "        text-align: right;\n",
       "    }\n",
       "</style>\n",
       "<table border=\"1\" class=\"dataframe\">\n",
       "  <thead>\n",
       "    <tr style=\"text-align: right;\">\n",
       "      <th></th>\n",
       "      <th>amount</th>\n",
       "      <th>use_chip</th>\n",
       "      <th>merchant_state</th>\n",
       "      <th>errors</th>\n",
       "      <th>fraud_label</th>\n",
       "      <th>merchant_cat</th>\n",
       "      <th>card_brand</th>\n",
       "      <th>card_type</th>\n",
       "      <th>has_chip</th>\n",
       "      <th>num_cards_issued</th>\n",
       "      <th>...</th>\n",
       "      <th>month_to_acct_open</th>\n",
       "      <th>hour</th>\n",
       "      <th>min</th>\n",
       "      <th>time_15_ma</th>\n",
       "      <th>distance_km</th>\n",
       "      <th>distance_15_ma</th>\n",
       "      <th>refund</th>\n",
       "      <th>recent_trans</th>\n",
       "      <th>recent_refund_trans</th>\n",
       "      <th>amount_15_ma</th>\n",
       "    </tr>\n",
       "  </thead>\n",
       "  <tbody>\n",
       "    <tr>\n",
       "      <th>0</th>\n",
       "      <td>77.00</td>\n",
       "      <td>Swipe Transaction</td>\n",
       "      <td>ND</td>\n",
       "      <td>0</td>\n",
       "      <td>0</td>\n",
       "      <td>food</td>\n",
       "      <td>Mastercard</td>\n",
       "      <td>Debit (Prepaid)</td>\n",
       "      <td>YES</td>\n",
       "      <td>2</td>\n",
       "      <td>...</td>\n",
       "      <td>20</td>\n",
       "      <td>0</td>\n",
       "      <td>1</td>\n",
       "      <td>0.0</td>\n",
       "      <td>95.08</td>\n",
       "      <td>0.0</td>\n",
       "      <td>1</td>\n",
       "      <td>1.0</td>\n",
       "      <td>1.0</td>\n",
       "      <td>0.0</td>\n",
       "    </tr>\n",
       "    <tr>\n",
       "      <th>1</th>\n",
       "      <td>14.57</td>\n",
       "      <td>Swipe Transaction</td>\n",
       "      <td>IA</td>\n",
       "      <td>0</td>\n",
       "      <td>0</td>\n",
       "      <td>retail</td>\n",
       "      <td>Mastercard</td>\n",
       "      <td>Credit</td>\n",
       "      <td>YES</td>\n",
       "      <td>1</td>\n",
       "      <td>...</td>\n",
       "      <td>52</td>\n",
       "      <td>0</td>\n",
       "      <td>2</td>\n",
       "      <td>0.0</td>\n",
       "      <td>98.56</td>\n",
       "      <td>0.0</td>\n",
       "      <td>0</td>\n",
       "      <td>1.0</td>\n",
       "      <td>0.0</td>\n",
       "      <td>0.0</td>\n",
       "    </tr>\n",
       "    <tr>\n",
       "      <th>2</th>\n",
       "      <td>80.00</td>\n",
       "      <td>Swipe Transaction</td>\n",
       "      <td>CA</td>\n",
       "      <td>0</td>\n",
       "      <td>0</td>\n",
       "      <td>service</td>\n",
       "      <td>Mastercard</td>\n",
       "      <td>Debit</td>\n",
       "      <td>YES</td>\n",
       "      <td>1</td>\n",
       "      <td>...</td>\n",
       "      <td>48</td>\n",
       "      <td>0</td>\n",
       "      <td>2</td>\n",
       "      <td>0.0</td>\n",
       "      <td>7.14</td>\n",
       "      <td>0.0</td>\n",
       "      <td>0</td>\n",
       "      <td>1.0</td>\n",
       "      <td>0.0</td>\n",
       "      <td>0.0</td>\n",
       "    </tr>\n",
       "    <tr>\n",
       "      <th>4</th>\n",
       "      <td>46.41</td>\n",
       "      <td>Swipe Transaction</td>\n",
       "      <td>MD</td>\n",
       "      <td>0</td>\n",
       "      <td>0</td>\n",
       "      <td>food</td>\n",
       "      <td>Visa</td>\n",
       "      <td>Debit</td>\n",
       "      <td>YES</td>\n",
       "      <td>1</td>\n",
       "      <td>...</td>\n",
       "      <td>6</td>\n",
       "      <td>0</td>\n",
       "      <td>6</td>\n",
       "      <td>0.0</td>\n",
       "      <td>1.27</td>\n",
       "      <td>0.0</td>\n",
       "      <td>0</td>\n",
       "      <td>1.0</td>\n",
       "      <td>0.0</td>\n",
       "      <td>0.0</td>\n",
       "    </tr>\n",
       "    <tr>\n",
       "      <th>5</th>\n",
       "      <td>4.81</td>\n",
       "      <td>Swipe Transaction</td>\n",
       "      <td>NY</td>\n",
       "      <td>0</td>\n",
       "      <td>0</td>\n",
       "      <td>retail</td>\n",
       "      <td>Mastercard</td>\n",
       "      <td>Debit (Prepaid)</td>\n",
       "      <td>YES</td>\n",
       "      <td>1</td>\n",
       "      <td>...</td>\n",
       "      <td>24</td>\n",
       "      <td>0</td>\n",
       "      <td>7</td>\n",
       "      <td>0.0</td>\n",
       "      <td>6.99</td>\n",
       "      <td>0.0</td>\n",
       "      <td>0</td>\n",
       "      <td>1.0</td>\n",
       "      <td>0.0</td>\n",
       "      <td>0.0</td>\n",
       "    </tr>\n",
       "  </tbody>\n",
       "</table>\n",
       "<p>5 rows × 34 columns</p>\n",
       "</div>"
      ],
      "text/plain": [
       "   amount           use_chip merchant_state errors  fraud_label merchant_cat  \\\n",
       "0   77.00  Swipe Transaction             ND      0            0         food   \n",
       "1   14.57  Swipe Transaction             IA      0            0       retail   \n",
       "2   80.00  Swipe Transaction             CA      0            0      service   \n",
       "4   46.41  Swipe Transaction             MD      0            0         food   \n",
       "5    4.81  Swipe Transaction             NY      0            0       retail   \n",
       "\n",
       "   card_brand        card_type has_chip  num_cards_issued  ...  \\\n",
       "0  Mastercard  Debit (Prepaid)      YES                 2  ...   \n",
       "1  Mastercard           Credit      YES                 1  ...   \n",
       "2  Mastercard            Debit      YES                 1  ...   \n",
       "4        Visa            Debit      YES                 1  ...   \n",
       "5  Mastercard  Debit (Prepaid)      YES                 1  ...   \n",
       "\n",
       "   month_to_acct_open  hour min  time_15_ma  distance_km  distance_15_ma  \\\n",
       "0                  20     0   1         0.0        95.08             0.0   \n",
       "1                  52     0   2         0.0        98.56             0.0   \n",
       "2                  48     0   2         0.0         7.14             0.0   \n",
       "4                   6     0   6         0.0         1.27             0.0   \n",
       "5                  24     0   7         0.0         6.99             0.0   \n",
       "\n",
       "   refund  recent_trans  recent_refund_trans  amount_15_ma  \n",
       "0       1           1.0                  1.0           0.0  \n",
       "1       0           1.0                  0.0           0.0  \n",
       "2       0           1.0                  0.0           0.0  \n",
       "4       0           1.0                  0.0           0.0  \n",
       "5       0           1.0                  0.0           0.0  \n",
       "\n",
       "[5 rows x 34 columns]"
      ]
     },
     "execution_count": 27,
     "metadata": {},
     "output_type": "execute_result"
    }
   ],
   "source": [
    "train_trans_df.head()"
   ]
  },
  {
   "cell_type": "markdown",
   "id": "5432ef9b",
   "metadata": {},
   "source": [
    "- target은 fraud_label\n",
    "- fraud_label 값이 0: 정상 거래 1: 사기 거래\n",
    "\n",
    "- 학습할 데이터: train_trans_df (X,y 분리 안되어 있음)"
   ]
  },
  {
   "cell_type": "markdown",
   "id": "0fc09883-0b6a-4157-b659-a59583951150",
   "metadata": {},
   "source": [
    "# 레이블인코딩"
   ]
  },
  {
   "cell_type": "code",
   "execution_count": 98,
   "id": "55783aa7-d6ac-4512-a37b-9525a845f4b2",
   "metadata": {},
   "outputs": [],
   "source": [
    "label_encoders = {}\n",
    "\n",
    "categorical_cols = train_trans_df.select_dtypes(include=[\"object\"]).columns\n",
    "label_encoders = {}\n",
    "\n",
    "for col in categorical_cols:\n",
    "    le = LabelEncoder()\n",
    "    train_trans_df[col] = le.fit_transform(train_trans_df[col].astype(str))\n",
    "    test_trans_df[col] = le.transform(test_trans_df[col].astype(str)) \n",
    "    label_encoders[col] = le\n"
   ]
  },
  {
   "cell_type": "markdown",
   "id": "03b1fbef-ccd2-45fb-a06f-ab6673e6072d",
   "metadata": {},
   "source": [
    "###  데이터셋 준비"
   ]
  },
  {
   "cell_type": "code",
   "execution_count": 99,
   "id": "f6a13b90-c228-4b56-bd3d-f86df26e699b",
   "metadata": {},
   "outputs": [],
   "source": [
    "X = train_trans_df.drop(\"fraud_label\", axis=1)\n",
    "y = train_trans_df[\"fraud_label\"]\n",
    "\n",
    "X_unlabeled =test_trans_df.drop(\"fraud_label\", axis=1) "
   ]
  },
  {
   "cell_type": "markdown",
   "id": "d67bc3cd-2104-4d71-948a-f7620569b5aa",
   "metadata": {},
   "source": [
    "### 데이터 스플릿 및 각종지표 함수화"
   ]
  },
  {
   "cell_type": "code",
   "execution_count": 100,
   "id": "d63fc6dd-d853-4525-a7b3-706aba4a1846",
   "metadata": {},
   "outputs": [],
   "source": [
    "X_train, X_val, y_train, y_val = train_test_split(\n",
    "    X, y, test_size=0.2, random_state=42, stratify=y\n",
    ")\n",
    "\n",
    "def evaluate_model(model, X_val, y_val, model_name=\"Model\"):\n",
    "    # 예측값과 확률\n",
    "    preds = model.predict(X_val)\n",
    "    probas = model.predict_proba(X_val)[:, 1]\n",
    "\n",
    "    # 주요 지표\n",
    "    #사기vs정상을 구분하는 능력 0.5=랜덤추측,1.0=완벽한 구분\n",
    "    roc_auc = roc_auc_score(y_val, probas)\n",
    "    \n",
    "    #precision vs recall 의 균형 0 ~ 1.0 ,0.6이상\n",
    "    f1 = f1_score(y_val, preds)\n",
    "    \n",
    "    #정밀도(precision) 높을수록 좋음 0.8이상 양호 0.9 이상 최상\n",
    "    #사기라고 예측한 거래중 실제 사기 비율 - 고객불편\n",
    "    #recall 높을수록 좋음 0.7이상 양호 0.9이상 최상\n",
    "    #실제 사기거래중에서 모델이 잡아낸 비율 - 금전손실위험\n",
    "    # 실제 사기 거래 중에서 모델이 얼마나 잘 잡아내는지를 보기 위해\n",
    "    # 다양한 threshold(0~1)를 기준으로 Precision과 Recall 값을 계산\n",
    "    precision, recall, _ = precision_recall_curve(y_val, probas)\n",
    "\n",
    "    # Precision-Recall 곡선의 면적 (0~1.0 사이 값)\n",
    "    # 불균형 데이터에서 모델 성능을 평가할 때 특히 중요\n",
    "    # 0.7 이상이면 좋은 편, 값이 클수록 사기 거래 탐지 능력이 우수\n",
    "    pr_auc = auc(recall, precision)\n",
    "\n",
    "    # 특정 threshold(기본적으로 0.5) 기준에서의 Precision 값\n",
    "    # '사기라고 예측한 거래 중에서 실제 사기 비율'을 의미\n",
    "    # Precision이 낮으면 정상 거래를 잘못 사기로 예측(FP)이 많다는 뜻\n",
    "    prec = precision_score(y_val, preds)\n",
    "    \n",
    "    rec = recall_score(y_val, preds)\n",
    "\n",
    "    #-1~1 사이값\n",
    "    # 0.5이상 안정적 0.7 이상이면 우수\n",
    "    mcc = matthews_corrcoef(y_val, preds)\n",
    "\n",
    "    #0이상의값 \n",
    "    #작을수록 좋음 0.3 이하 우수\n",
    "    loss = log_loss(y_val, probas)\n",
    "\n",
    "    #TN (8500): 정상 → 정상 맞춤\n",
    "\n",
    "    # FP (300): 정상인데 사기라고 잘못 탐지\n",
    "    \n",
    "    # FN (200): 사기인데 정상으로 놓침 ⚠️ (가장 위험)\n",
    "    \n",
    "    # TP (1000): 사기 → 사기 맞춤\n",
    "    cm = confusion_matrix(y_val, preds)\n",
    "\n",
    "    # 출력\n",
    "    print(f\"\\n {model_name} 결과\")\n",
    "    print(f\"ROC-AUC: {roc_auc:.4f}\")\n",
    "    print(f\"F1: {f1:.4f}\")\n",
    "    print(f\"PR-AUC: {pr_auc:.4f}\")\n",
    "    print(f\"Precision: {prec:.4f}\")\n",
    "    print(f\"Recall: {rec:.4f}\")\n",
    "    print(f\"MCC: {mcc:.4f}\")\n",
    "    print(f\"LogLoss: {loss:.4f}\")\n",
    "    print(\"Confusion Matrix:\")\n",
    "    print(cm)\n",
    "    print(\"\\nClassification Report:\")\n",
    "    print(classification_report(y_val, preds))\n",
    "\n",
    "    return {\n",
    "        \"roc_auc\": roc_auc,\n",
    "        \"f1\": f1,\n",
    "        \"pr_auc\": pr_auc,\n",
    "        \"precision\": prec,\n",
    "        \"recall\": rec,\n",
    "        \"mcc\": mcc,\n",
    "        \"log_loss\": loss,\n",
    "        \"confusion_matrix\": cm\n",
    "    }\n",
    "\n"
   ]
  },
  {
   "cell_type": "code",
   "execution_count": 101,
   "id": "3c37e8b2-2d33-4a6a-9fa6-b2230ed5b09e",
   "metadata": {},
   "outputs": [],
   "source": [
    "# # 테스트 데이터 10%\n",
    "train_sample = train_trans_df.sample(n=100000, random_state=42)\n",
    "X_unlabeled = test_trans_df.sample(n=100000, random_state=42)\n",
    "X = train_sample.drop(\"fraud_label\", axis=1)\n",
    "y = train_sample[\"fraud_label\"]\n",
    "\n",
    "X_train, X_val, y_train, y_val = train_test_split(\n",
    "    X, y, test_size=0.2, random_state=42, stratify=y\n",
    ")"
   ]
  },
  {
   "cell_type": "markdown",
   "id": "84cb4cda-e819-4f07-b6b4-f573ab509505",
   "metadata": {},
   "source": [
    "### LGB모델"
   ]
  },
  {
   "cell_type": "code",
   "execution_count": 102,
   "id": "406bb977-7f3d-4989-b3c4-cf56e0ad1485",
   "metadata": {
    "scrolled": true
   },
   "outputs": [
    {
     "name": "stdout",
     "output_type": "stream",
     "text": [
      "\n",
      " LightGBM 결과\n",
      "ROC-AUC: 0.9787\n",
      "F1: 0.2051\n",
      "PR-AUC: 0.2308\n",
      "Precision: 0.4444\n",
      "Recall: 0.1333\n",
      "MCC: 0.2428\n",
      "LogLoss: 0.0077\n",
      "Confusion Matrix:\n",
      "[[19965     5]\n",
      " [   26     4]]\n",
      "\n",
      "Classification Report:\n",
      "              precision    recall  f1-score   support\n",
      "\n",
      "           0       1.00      1.00      1.00     19970\n",
      "           1       0.44      0.13      0.21        30\n",
      "\n",
      "    accuracy                           1.00     20000\n",
      "   macro avg       0.72      0.57      0.60     20000\n",
      "weighted avg       1.00      1.00      1.00     20000\n",
      "\n"
     ]
    }
   ],
   "source": [
    "\n",
    "lgb_model = lgb.LGBMClassifier(\n",
    "    n_estimators=500,\n",
    "    learning_rate=0.05,\n",
    "    class_weight = \"balanced\", #가중치추가\n",
    "    max_depth=-1,\n",
    "    num_leaves=64,\n",
    "    subsample=0.8,\n",
    "    colsample_bytree=0.8,\n",
    "    min_gain_to_split=0.05,\n",
    "    random_state=42,\n",
    "    n_jobs=-1,\n",
    "    verbose=-1,\n",
    ")\n",
    "\n",
    "lgb_model.fit(X_train, y_train)\n",
    "res_lgb = evaluate_model(lgb_model, X_val, y_val, \"LightGBM\")"
   ]
  },
  {
   "cell_type": "markdown",
   "id": "f102cd71-a30f-4f78-8991-6cbf9d9840b3",
   "metadata": {},
   "source": [
    "### XGBBOOST모델"
   ]
  },
  {
   "cell_type": "code",
   "execution_count": 103,
   "id": "c810131f-c62c-4f43-a57f-c55ddaebad3c",
   "metadata": {},
   "outputs": [
    {
     "name": "stdout",
     "output_type": "stream",
     "text": [
      "\n",
      " XGBoost 결과\n",
      "ROC-AUC: 0.9741\n",
      "F1: 0.1463\n",
      "PR-AUC: 0.1972\n",
      "Precision: 0.2727\n",
      "Recall: 0.1000\n",
      "MCC: 0.1644\n",
      "LogLoss: 0.0073\n",
      "Confusion Matrix:\n",
      "[[19962     8]\n",
      " [   27     3]]\n",
      "\n",
      "Classification Report:\n",
      "              precision    recall  f1-score   support\n",
      "\n",
      "           0       1.00      1.00      1.00     19970\n",
      "           1       0.27      0.10      0.15        30\n",
      "\n",
      "    accuracy                           1.00     20000\n",
      "   macro avg       0.64      0.55      0.57     20000\n",
      "weighted avg       1.00      1.00      1.00     20000\n",
      "\n"
     ]
    }
   ],
   "source": [
    "xgb_model = XGBClassifier(\n",
    "    n_estimators=500,\n",
    "    learning_rate=0.05,\n",
    "    max_depth=6,\n",
    "    subsample=0.8,\n",
    "    colsample_bytree=0.8,\n",
    "    scale_pos_weight=(len(y_train) - sum(y_train)) / sum(y_train),\n",
    "    random_state=42,\n",
    "    n_jobs=-1,\n",
    "    use_label_encoder=False,\n",
    "    eval_metric=\"logloss\"\n",
    ")\n",
    "\n",
    "xgb_model.fit(X_train, y_train)\n",
    "res_xgb = evaluate_model(xgb_model, X_val, y_val, \"XGBoost\")\n"
   ]
  },
  {
   "cell_type": "markdown",
   "id": "e7d09269-66a0-4d3a-9f49-cf531160e797",
   "metadata": {},
   "source": [
    "### CATBOOST모델"
   ]
  },
  {
   "cell_type": "code",
   "execution_count": 104,
   "id": "2e4fa585-c3e6-423e-aa64-16ab2b840762",
   "metadata": {},
   "outputs": [
    {
     "name": "stdout",
     "output_type": "stream",
     "text": [
      "0:\tlearn: 0.6427100\ttotal: 15.2ms\tremaining: 7.57s\n",
      "100:\tlearn: 0.0745233\ttotal: 1.56s\tremaining: 6.18s\n",
      "200:\tlearn: 0.0275037\ttotal: 3.03s\tremaining: 4.51s\n",
      "300:\tlearn: 0.0100972\ttotal: 4.46s\tremaining: 2.95s\n",
      "400:\tlearn: 0.0042955\ttotal: 5.88s\tremaining: 1.45s\n",
      "499:\tlearn: 0.0023231\ttotal: 7.26s\tremaining: 0us\n",
      "\n",
      " CatBoost 결과\n",
      "ROC-AUC: 0.9722\n",
      "F1: 0.2769\n",
      "PR-AUC: 0.2194\n",
      "Precision: 0.2571\n",
      "Recall: 0.3000\n",
      "MCC: 0.2766\n",
      "LogLoss: 0.0082\n",
      "Confusion Matrix:\n",
      "[[19944    26]\n",
      " [   21     9]]\n",
      "\n",
      "Classification Report:\n",
      "              precision    recall  f1-score   support\n",
      "\n",
      "           0       1.00      1.00      1.00     19970\n",
      "           1       0.26      0.30      0.28        30\n",
      "\n",
      "    accuracy                           1.00     20000\n",
      "   macro avg       0.63      0.65      0.64     20000\n",
      "weighted avg       1.00      1.00      1.00     20000\n",
      "\n"
     ]
    }
   ],
   "source": [
    "neg, pos = np.bincount(y_train)\n",
    "scale_pos_weight = neg / pos\n",
    "\n",
    "cat_model = CatBoostClassifier(\n",
    "    iterations=500,\n",
    "    learning_rate=0.05,\n",
    "    depth=6,\n",
    "    class_weights=[1, scale_pos_weight], #가중치추가\n",
    "    random_seed=42,\n",
    "    verbose=100,\n",
    "    task_type=\"CPU\"  \n",
    ")\n",
    "\n",
    "cat_model.fit(X_train, y_train)\n",
    "res_cat = evaluate_model(cat_model, X_val, y_val, \"CatBoost\")"
   ]
  },
  {
   "cell_type": "markdown",
   "id": "a8429ffc-41ce-4ba8-b7fa-1394cdbff231",
   "metadata": {},
   "source": [
    "### 각종모델 성능비교"
   ]
  },
  {
   "cell_type": "code",
   "execution_count": 105,
   "id": "a833506c-d7a3-4df4-adbe-a2dbbf0985ed",
   "metadata": {},
   "outputs": [
    {
     "name": "stdout",
     "output_type": "stream",
     "text": [
      "\n",
      " 최종 성능 비교\n",
      "           roc_auc        f1    pr_auc  precision    recall       mcc  \\\n",
      "LightGBM  0.978675  0.205128  0.230789   0.444444  0.133333  0.242847   \n",
      "XGBoost   0.974133  0.146341  0.197233   0.272727  0.100000  0.164405   \n",
      "CatBoost  0.972180  0.276923  0.219442   0.257143  0.300000  0.276575   \n",
      "\n",
      "          log_loss        confusion_matrix  \n",
      "LightGBM  0.007654   [[19965, 5], [26, 4]]  \n",
      "XGBoost   0.007289   [[19962, 8], [27, 3]]  \n",
      "CatBoost  0.008192  [[19944, 26], [21, 9]]  \n"
     ]
    }
   ],
   "source": [
    "results = pd.DataFrame([res_lgb, res_xgb, res_cat], \n",
    "                       index=[\"LightGBM\", \"XGBoost\", \"CatBoost\"])\n",
    "print(\"\\n 최종 성능 비교\")\n",
    "print(results)"
   ]
  },
  {
   "cell_type": "markdown",
   "id": "b40166db-aed4-471c-a43d-8cb52d836b33",
   "metadata": {},
   "source": [
    "##성능비교 해석 "
   ]
  },
  {
   "cell_type": "markdown",
   "id": "15c548d9-789a-421c-bc0f-b37c056b1cff",
   "metadata": {},
   "source": [
    "### precision-recall 곡선 시각화"
   ]
  },
  {
   "cell_type": "code",
   "execution_count": 106,
   "id": "0b22dc73-70c1-4726-8382-15e2e63fcae7",
   "metadata": {},
   "outputs": [
    {
     "data": {
      "image/png": "[encoded data removed]",
      "text/plain": [
       "<Figure size 800x600 with 1 Axes>"
      ]
     },
     "metadata": {},
     "output_type": "display_data"
    }
   ],
   "source": [
    "\n",
    "y_pred_lgbm = lgb_model.predict_proba(X_val)[:, 1]\n",
    "y_pred_xgb  = xgb_model.predict_proba(X_val)[:, 1]\n",
    "y_pred_cat  = cat_model.predict_proba(X_val)[:, 1]\n",
    "\n",
    "precision_lgbm, recall_lgbm, _ = precision_recall_curve(y_val, y_pred_lgbm)\n",
    "precision_xgb,  recall_xgb,  _ = precision_recall_curve(y_val, y_pred_xgb)\n",
    "precision_cat,  recall_cat,  _ = precision_recall_curve(y_val, y_pred_cat)\n",
    "\n",
    "pr_auc_lgbm = auc(recall_lgbm, precision_lgbm)\n",
    "pr_auc_xgb  = auc(recall_xgb, precision_xgb)\n",
    "pr_auc_cat  = auc(recall_cat, precision_cat)\n",
    "\n",
    "# 그래프 출력\n",
    "plt.figure(figsize=(8,6))\n",
    "plt.plot(recall_lgbm, precision_lgbm, label=f\"LGBM (PR-AUC={pr_auc_lgbm:.3f})\")\n",
    "plt.plot(recall_xgb,  precision_xgb,  label=f\"XGBoost (PR-AUC={pr_auc_xgb:.3f})\")\n",
    "plt.plot(recall_cat,  precision_cat,  label=f\"CatBoost (PR-AUC={pr_auc_cat:.3f})\")\n",
    "\n",
    "plt.xlabel(\"Recall\")\n",
    "plt.ylabel(\"Precision\")\n",
    "plt.title(\"Precision-Recall Curve (Fraud Detection)\")\n",
    "plt.legend()\n",
    "plt.grid()\n",
    "plt.show()\n"
   ]
  },
  {
   "cell_type": "markdown",
   "id": "efbd5cdc-bedb-4f66-963f-f9d58535607e",
   "metadata": {},
   "source": [
    "### 교차검증"
   ]
  },
  {
   "cell_type": "code",
   "execution_count": 107,
   "id": "68adc843-7ed3-456d-bb8b-26535ab42858",
   "metadata": {},
   "outputs": [
    {
     "name": "stdout",
     "output_type": "stream",
     "text": [
      "\n",
      "===== LightGBM =====\n",
      "F1: 0.2252\n",
      "PR-AUC: 0.212\n",
      "\n",
      "===== XGBoost =====\n",
      "F1: 0.1733\n",
      "PR-AUC: 0.1886\n",
      "\n",
      "===== CatBoost =====\n",
      "F1: 0.1998\n",
      "PR-AUC: 0.1535\n"
     ]
    }
   ],
   "source": [
    "#교차검증\n",
    "cv = StratifiedKFold(n_splits=3, shuffle=True, random_state=42)\n",
    "\n",
    "def evaluate_model(model, X, y, cv):\n",
    "    # auc_scores = cross_val_score(model, X, y, cv=cv, scoring=\"roc_auc\", n_jobs=-1)\n",
    "    f1_scores  = cross_val_score(model, X, y, cv=cv, scoring=\"f1\", n_jobs=-1)\n",
    "    pr_scores  = cross_val_score(model, X, y, cv=cv, scoring=\"average_precision\", n_jobs=-1)\n",
    "    return f1_scores, pr_scores\n",
    "\n",
    "\n",
    "models = {\n",
    "    \"LightGBM\": lgb_model,\n",
    "    \"XGBoost\": xgb_model,\n",
    "    \"CatBoost\": cat_model\n",
    "}\n",
    "\n",
    "for name, model in models.items():\n",
    "    f1_scores, pr_scores = evaluate_model(model, X, y, cv)\n",
    "    # auc_scores, \n",
    "    \n",
    "    print(f\"\\n===== {name} =====\")\n",
    "    # print(\"ROC-AUC:\", np.mean(auc_scores).round(4))\n",
    "    print(\"F1:\", np.mean(f1_scores).round(4))\n",
    "    print(\"PR-AUC:\", np.mean(pr_scores).round(4))\n"
   ]
  },
  {
   "cell_type": "markdown",
   "id": "59dc9c0c-ccf1-479f-bc14-677a6b6abe0b",
   "metadata": {},
   "source": [
    "###  Precision과 Recall의 trade-off 관계 시각화"
   ]
  },
  {
   "cell_type": "code",
   "execution_count": 108,
   "id": "a3f6a120-7c02-4e6d-abbc-7140c3f9afe0",
   "metadata": {},
   "outputs": [
    {
     "data": {
      "image/png": "[encoded data removed]",
      "text/plain": [
       "<Figure size 640x480 with 1 Axes>"
      ]
     },
     "metadata": {},
     "output_type": "display_data"
    }
   ],
   "source": [
    "y_pred_proba = lgb_model.fit(X, y).predict_proba(X)[:,1]\n",
    "prec, rec, thres = precision_recall_curve(y, y_pred_proba)\n",
    "\n",
    "\n",
    "plt.plot(thres, prec[:-1], label=\"Precision\")\n",
    "plt.plot(thres, rec[:-1], label=\"Recall\")\n",
    "plt.xlabel(\"Threshold\")\n",
    "plt.legend(); plt.show()\n"
   ]
  },
  {
   "cell_type": "markdown",
   "id": "45b8eb7d-c1a3-478a-9981-2d5bf8a3f2da",
   "metadata": {},
   "source": [
    "### 앙상블"
   ]
  },
  {
   "cell_type": "code",
   "execution_count": 109,
   "id": "c8882442-c492-409d-828d-f35086b93dc3",
   "metadata": {},
   "outputs": [
    {
     "name": "stdout",
     "output_type": "stream",
     "text": [
      "===== Ensemble (Proba 평균) =====\n",
      "ROC-AUC: 0.999\n",
      "F1: 0.3256\n",
      "PR-AUC: 0.5011\n",
      "\n",
      "Classification Report:\n",
      "              precision    recall  f1-score   support\n",
      "\n",
      "           0     0.9988    0.9997    0.9993     19970\n",
      "           1     0.5385    0.2333    0.3256        30\n",
      "\n",
      "    accuracy                         0.9986     20000\n",
      "   macro avg     0.7687    0.6165    0.6624     20000\n",
      "weighted avg     0.9982    0.9986    0.9983     20000\n",
      "\n",
      "\n",
      "Confusion Matrix:\n",
      "[[19964     6]\n",
      " [   23     7]]\n"
     ]
    }
   ],
   "source": [
    "proba_lgb = lgb_model.predict_proba(X_val)[:, 1]\n",
    "proba_xgb = xgb_model.predict_proba(X_val)[:, 1]\n",
    "proba_cat = cat_model.predict_proba(X_val)[:, 1]\n",
    "\n",
    "weights = [0.2,0.4,0.4]\n",
    "\n",
    "proba_ensemble = (\n",
    "    weights[0] * proba_lgb +\n",
    "    weights[1] * proba_xgb +\n",
    "    weights[2] * proba_cat\n",
    ")\n",
    "\n",
    "preds_ensemble = (proba_ensemble >= 0.5).astype(int)\n",
    "\n",
    "roc_auc = roc_auc_score(y_val, proba_ensemble)\n",
    "f1 = f1_score(y_val, preds_ensemble)\n",
    "pr_auc = average_precision_score(y_val, proba_ensemble)\n",
    "\n",
    "print(\"===== Ensemble (Proba 평균) =====\")\n",
    "print(\"ROC-AUC:\", round(roc_auc, 4))\n",
    "print(\"F1:\", round(f1, 4))\n",
    "print(\"PR-AUC:\", round(pr_auc, 4))\n",
    "\n",
    "print(\"\\nClassification Report:\")\n",
    "print(classification_report(y_val, preds_ensemble, digits=4))\n",
    "\n",
    "print(\"\\nConfusion Matrix:\")\n",
    "print(confusion_matrix(y_val, preds_ensemble))\n"
   ]
  },
  {
   "cell_type": "markdown",
   "id": "099fcc53-a6be-453c-8d2f-4b6d8a38a7a2",
   "metadata": {},
   "source": [
    "### 앙상블 확률값 수정"
   ]
  },
  {
   "cell_type": "code",
   "execution_count": 110,
   "id": "c34e298a-968f-4f17-8888-058134461771",
   "metadata": {},
   "outputs": [
    {
     "name": "stdout",
     "output_type": "stream",
     "text": [
      "===== Ensemble (Proba 평균) =====\n",
      "ROC-AUC: 0.999\n",
      "F1: 0.6186\n",
      "PR-AUC: 0.5011\n",
      "\n",
      "Classification Report:\n",
      "              precision    recall  f1-score   support\n",
      "\n",
      "           0     1.0000    0.9981    0.9991     19970\n",
      "           1     0.4478    1.0000    0.6186        30\n",
      "\n",
      "    accuracy                         0.9981     20000\n",
      "   macro avg     0.7239    0.9991    0.8088     20000\n",
      "weighted avg     0.9992    0.9981    0.9985     20000\n",
      "\n",
      "\n",
      "Confusion Matrix:\n",
      "[[19933    37]\n",
      " [    0    30]]\n"
     ]
    }
   ],
   "source": [
    "proba_lgb = lgb_model.predict_proba(X_val)[:, 1]\n",
    "proba_xgb = xgb_model.predict_proba(X_val)[:, 1]\n",
    "proba_cat = cat_model.predict_proba(X_val)[:, 1]\n",
    "\n",
    "weights = [0.2,0.4,0.4]\n",
    "\n",
    "proba_ensemble = (\n",
    "    weights[0] * proba_lgb +\n",
    "    weights[1] * proba_xgb +\n",
    "    weights[2] * proba_cat\n",
    ")\n",
    "\n",
    "preds_ensemble = (proba_ensemble >= 0.2).astype(int)\n",
    "\n",
    "roc_auc = roc_auc_score(y_val, proba_ensemble)\n",
    "f1 = f1_score(y_val, preds_ensemble)\n",
    "pr_auc = average_precision_score(y_val, proba_ensemble)\n",
    "\n",
    "print(\"===== Ensemble (Proba 평균) =====\")\n",
    "print(\"ROC-AUC:\", round(roc_auc, 4))\n",
    "print(\"F1:\", round(f1, 4))\n",
    "print(\"PR-AUC:\", round(pr_auc, 4))\n",
    "\n",
    "print(\"\\nClassification Report:\")\n",
    "print(classification_report(y_val, preds_ensemble, digits=4))\n",
    "\n",
    "print(\"\\nConfusion Matrix:\")\n",
    "print(confusion_matrix(y_val, preds_ensemble))\n"
   ]
  },
  {
   "cell_type": "markdown",
   "id": "909f0345-f35a-468d-b629-d5f2c0a8bc73",
   "metadata": {},
   "source": [
    "### 앙상블 예측 확률을 여러 임계값으로 나눠 적용해 최적 threshold를 찾는다"
   ]
  },
  {
   "cell_type": "code",
   "execution_count": 111,
   "id": "6cd2a6fa-0793-42ea-b7d4-585201ebb8e2",
   "metadata": {},
   "outputs": [
    {
     "name": "stdout",
     "output_type": "stream",
     "text": [
      "    Threshold  Precision  Recall      F1     MCC\n",
      "0        0.10     0.2804  1.0000  0.4380  0.5285\n",
      "1        0.15     0.3488  1.0000  0.5172  0.5898\n",
      "2        0.20     0.4478  1.0000  0.6186  0.6685\n",
      "3        0.25     0.3810  0.5333  0.4444  0.4498\n",
      "4        0.30     0.4516  0.4667  0.4590  0.4583\n",
      "5        0.35     0.4167  0.3333  0.3704  0.3718\n",
      "6        0.40     0.5294  0.3000  0.3830  0.3979\n",
      "7        0.45     0.5333  0.2667  0.3556  0.3765\n",
      "8        0.50     0.5385  0.2333  0.3256  0.3539\n",
      "9        0.55     0.6364  0.2333  0.3415  0.3848\n",
      "10       0.60     0.6000  0.2000  0.3000  0.3459\n",
      "11       0.65     0.6250  0.1667  0.2632  0.3223\n",
      "12       0.70     0.5000  0.1000  0.1667  0.2231\n",
      "13       0.75     0.6667  0.0667  0.1212  0.2105\n",
      "14       0.80     1.0000  0.0667  0.1250  0.2580\n",
      "15       0.85     1.0000  0.0667  0.1250  0.2580\n",
      "\n",
      " F1 기준 최적 threshold: 0.20000000000000004, F1=0.6186\n",
      " MCC 기준 최적 threshold: 0.20000000000000004, MCC=0.6685\n"
     ]
    }
   ],
   "source": [
    "thresholds = np.arange(0.1, 0.9, 0.05)\n",
    "results = []\n",
    "\n",
    "best_f1, best_th, best_mcc, best_mcc_th = 0, 0, -1, 0\n",
    "\n",
    "for th in thresholds:\n",
    "    preds = (proba_ensemble >= th).astype(int)\n",
    "    prec = precision_score(y_val, preds, zero_division=0)\n",
    "    rec  = recall_score(y_val, preds, zero_division=0)\n",
    "    f1   = f1_score(y_val, preds, zero_division=0)\n",
    "    mcc  = matthews_corrcoef(y_val, preds)\n",
    "    results.append((th, prec, rec, f1, mcc))\n",
    "    \n",
    "    if f1 > best_f1:\n",
    "        best_f1, best_th = f1, th\n",
    "    if mcc > best_mcc:\n",
    "        best_mcc, best_mcc_th = mcc, th\n",
    "\n",
    "df_results = pd.DataFrame(results, columns=[\"Threshold\", \"Precision\", \"Recall\", \"F1\", \"MCC\"])\n",
    "print(df_results.round(4))\n",
    "\n",
    "print(f\"\\n F1 기준 최적 threshold: {best_th}, F1={best_f1:.4f}\")\n",
    "print(f\" MCC 기준 최적 threshold: {best_mcc_th}, MCC={best_mcc:.4f}\")"
   ]
  },
  {
   "cell_type": "markdown",
   "id": "78f3d429-425e-44f0-9ca1-1a3354f0a255",
   "metadata": {},
   "source": [
    "### 임계값에따라 변하는 Precision, Recall, F1 값 시각화 "
   ]
  },
  {
   "cell_type": "code",
   "execution_count": 112,
   "id": "0861f5ce-a797-454f-a950-5c3fc0d66823",
   "metadata": {},
   "outputs": [
    {
     "data": {
      "image/png": "[encoded data removed]",
      "text/plain": [
       "<Figure size 600x400 with 1 Axes>"
      ]
     },
     "metadata": {},
     "output_type": "display_data"
    }
   ],
   "source": [
    "plt.figure(figsize=(6,4))\n",
    "plt.plot(df_results[\"Threshold\"], df_results[\"Precision\"], label=\"Precision\")\n",
    "plt.plot(df_results[\"Threshold\"], df_results[\"Recall\"], label=\"Recall\")\n",
    "plt.plot(df_results[\"Threshold\"], df_results[\"F1\"], label=\"F1\")\n",
    "plt.xlabel(\"Threshold\")\n",
    "plt.ylabel(\"Score\")\n",
    "plt.title(\"Ensemble Threshold Tuning\")\n",
    "plt.legend()\n",
    "plt.grid()\n",
    "plt.show()"
   ]
  },
  {
   "cell_type": "markdown",
   "id": "960d85dd-6b5e-4e97-a532-bbd0f43cafd5",
   "metadata": {},
   "source": [
    "### 각모델의 변수 중요도 top20"
   ]
  },
  {
   "cell_type": "code",
   "execution_count": 113,
   "id": "5aec84e7-beeb-4047-9930-40767ab408c3",
   "metadata": {},
   "outputs": [
    {
     "data": {
      "image/png": "[encoded data removed]",
      "text/plain": [
       "<Figure size 640x480 with 1 Axes>"
      ]
     },
     "metadata": {},
     "output_type": "display_data"
    },
    {
     "data": {
      "image/png": "[encoded data removed]",
      "text/plain": [
       "<Figure size 640x480 with 1 Axes>"
      ]
     },
     "metadata": {},
     "output_type": "display_data"
    },
    {
     "data": {
      "image/png": "[encoded data removed]",
      "text/plain": [
       "<Figure size 640x480 with 1 Axes>"
      ]
     },
     "metadata": {},
     "output_type": "display_data"
    }
   ],
   "source": [
    "def plot_feature_importance(model_name, features, importances, top_n=20):\n",
    "    idx = np.argsort(importances)[::-1][:top_n]\n",
    "    plt.barh(np.array(features)[idx][::-1], np.array(importances)[idx][::-1])\n",
    "    plt.title(f\"{model_name} Feature Importance (Top {top_n})\")\n",
    "    plt.xlabel(\"Importance score\")\n",
    "    plt.ylabel(\"Features\")\n",
    "    plt.show()\n",
    "\n",
    "# LightGBM\n",
    "fi_lgb = lgb_model.feature_importances_\n",
    "plot_feature_importance(\"LightGBM\", X_val.columns, fi_lgb)\n",
    "\n",
    "# XGBoost\n",
    "fi_xgb = xgb_model.feature_importances_  # numpy array\n",
    "plot_feature_importance(\"XGBoost\", X_val.columns, fi_xgb)\n",
    "\n",
    "# CatBoost\n",
    "fi_cat = cat_model.get_feature_importance()\n",
    "plot_feature_importance(\"CatBoost\", X_val.columns, fi_cat)\n"
   ]
  },
  {
   "cell_type": "markdown",
   "id": "39944de5-deb5-44b5-9efc-13bd9ec95899",
   "metadata": {},
   "source": [
    "### 로지스틱 회귀 메타 스태킹앙상블"
   ]
  },
  {
   "cell_type": "code",
   "execution_count": 116,
   "id": "0d85f3cf-e7ce-49e2-bd3c-cc1658c4aefc",
   "metadata": {},
   "outputs": [],
   "source": [
    "\n",
    "cv = StratifiedKFold(n_splits=3, shuffle=True, random_state=42)\n",
    "lgb_model = LGBMClassifier(\n",
    "    n_estimators=300, learning_rate=0.05, class_weight=\"balanced\", random_state=42, n_jobs=-1\n",
    ")\n",
    "xgb_model = XGBClassifier(\n",
    "    n_estimators=300, learning_rate=0.05, scale_pos_weight=(len(y_train)-sum(y_train))/sum(y_train),\n",
    "    use_label_encoder=False, eval_metric=\"logloss\", random_state=42, n_jobs=-1\n",
    ")\n",
    "cat_model = CatBoostClassifier(\n",
    "    iterations=300, learning_rate=0.05, depth=6, auto_class_weights=\"Balanced\",\n",
    "    random_seed=42, verbose=0\n",
    ")\n",
    "\n",
    "stack_model = StackingClassifier(\n",
    "    estimators=[\n",
    "        ('lgb', lgb_model),\n",
    "        ('xgb', xgb_model),\n",
    "        ('cat', cat_model)\n",
    "    ],\n",
    "    final_estimator=LogisticRegression(max_iter=1000),\n",
    "    cv=3,                \n",
    "    n_jobs=-1,\n",
    "    passthrough=False \n",
    ")\n",
    "\n",
    "stack_model.fit(X_train, y_train)\n",
    "res_stack = evaluate_model(stack_model, X_val, y_val, cv)\n"
   ]
  },
  {
   "cell_type": "code",
   "execution_count": 117,
   "id": "eaf914e8-b688-45b7-889b-1ea35dce8d1a",
   "metadata": {},
   "outputs": [
    {
     "name": "stdout",
     "output_type": "stream",
     "text": [
      "\n",
      "===== Stacking Ensemble =====\n",
      "F1 평균: 0.0\n",
      "PR-AUC 평균: 0.1311\n"
     ]
    }
   ],
   "source": [
    "f1_scores, pr_scores = res_stack\n",
    "print(\"\\n===== Stacking Ensemble =====\")\n",
    "print(\"F1 평균:\", np.mean(f1_scores).round(4))\n",
    "print(\"PR-AUC 평균:\", np.mean(pr_scores).round(4))"
   ]
  },
  {
   "cell_type": "code",
   "execution_count": null,
   "id": "8b0a54ea-f546-489c-9658-47e36361ee91",
   "metadata": {
    "scrolled": true
   },
   "outputs": [],
   "source": []
  }
 ],
 "metadata": {
  "kernelspec": {
   "display_name": "Python [conda env:project_env]",
   "language": "python",
   "name": "conda-env-project_env-py"
  },
  "language_info": {
   "codemirror_mode": {
    "name": "ipython",
    "version": 3
   },
   "file_extension": ".py",
   "mimetype": "text/x-python",
   "name": "python",
   "nbconvert_exporter": "python",
   "pygments_lexer": "ipython3",
   "version": "3.10.18"
  }
 },
 "nbformat": 4,
 "nbformat_minor": 5
}
