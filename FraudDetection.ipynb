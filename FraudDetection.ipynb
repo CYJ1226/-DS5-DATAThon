{
 "cells": [
  {
   "cell_type": "markdown",
   "id": "b3a4ae46",
   "metadata": {},
   "source": [
    "- 사기거래탐지"
   ]
  },
  {
   "cell_type": "markdown",
   "id": "32dfd40d",
   "metadata": {},
   "source": [
    "# EDA"
   ]
  },
  {
   "cell_type": "markdown",
   "id": "d03d676a",
   "metadata": {},
   "source": [
    "### 데이터 불러오기"
   ]
  },
  {
   "cell_type": "code",
   "execution_count": null,
   "id": "c3561ef6",
   "metadata": {},
   "outputs": [
    {
     "ename": "ModuleNotFoundError",
     "evalue": "No module named 'pgeocode'",
     "output_type": "error",
     "traceback": [
      "\u001b[31m---------------------------------------------------------------------------\u001b[39m",
      "\u001b[31mModuleNotFoundError\u001b[39m                       Traceback (most recent call last)",
      "\u001b[36mCell\u001b[39m\u001b[36m \u001b[39m\u001b[32mIn[3]\u001b[39m\u001b[32m, line 6\u001b[39m\n\u001b[32m      4\u001b[39m \u001b[38;5;28;01mimport\u001b[39;00m\u001b[38;5;250m \u001b[39m\u001b[34;01mseaborn\u001b[39;00m\u001b[38;5;250m \u001b[39m\u001b[38;5;28;01mas\u001b[39;00m\u001b[38;5;250m \u001b[39m\u001b[34;01msns\u001b[39;00m\n\u001b[32m      5\u001b[39m \u001b[38;5;28;01mimport\u001b[39;00m\u001b[38;5;250m \u001b[39m\u001b[34;01mwarnings\u001b[39;00m\n\u001b[32m----> \u001b[39m\u001b[32m6\u001b[39m \u001b[38;5;28;01mimport\u001b[39;00m\u001b[38;5;250m \u001b[39m\u001b[34;01mpgeocode\u001b[39;00m \u001b[38;5;66;03m#우편 변호 지원 \u001b[39;00m\n\u001b[32m      7\u001b[39m \u001b[38;5;28;01mfrom\u001b[39;00m\u001b[38;5;250m \u001b[39m\u001b[34;01msklearn\u001b[39;00m\u001b[34;01m.\u001b[39;00m\u001b[34;01mpreprocessing\u001b[39;00m\u001b[38;5;250m \u001b[39m\u001b[38;5;28;01mimport\u001b[39;00m LabelEncoder\n\u001b[32m      8\u001b[39m \u001b[38;5;28;01mfrom\u001b[39;00m\u001b[38;5;250m \u001b[39m\u001b[34;01msklearn\u001b[39;00m\u001b[34;01m.\u001b[39;00m\u001b[34;01mmodel_selection\u001b[39;00m\u001b[38;5;250m \u001b[39m\u001b[38;5;28;01mimport\u001b[39;00m train_test_split,StratifiedKFold, cross_val_score\n",
      "\u001b[31mModuleNotFoundError\u001b[39m: No module named 'pgeocode'"
     ]
    }
   ],
   "source": [
    "import numpy as np\n",
    "import pandas as pd\n",
    "import matplotlib.pyplot as plt\n",
    "import seaborn as sns\n",
    "import warnings\n",
    "import pgeocode #우편 변호 지원 \n",
    "from sklearn.preprocessing import LabelEncoder\n",
    "\n",
    "\n",
    "from haversine import haversine, haversine_vector, Unit # 지리적 거리 차이 계산\n",
    "warnings.filterwarnings('ignore')"
   ]
  },
  {
   "cell_type": "code",
   "execution_count": null,
   "id": "9d41008a",
   "metadata": {},
   "outputs": [],
   "source": []
  },
  {
   "cell_type": "code",
   "execution_count": null,
   "id": "981a64d0",
   "metadata": {},
   "outputs": [],
   "source": [
    "card_df = pd.read_csv('../data/ftd/cards_data.csv')\n",
    "trans_df = pd.read_csv('../data/ftd/transactions_data.csv')\n",
    "user_df = pd.read_csv('../data/ftd/users_data.csv')\n",
    "mcc_df = pd.read_json('../data/ftd/mcc_codes.json', orient='index').rename({0:'category'}, axis=1)\n",
    "fraud_df = pd.read_json('../data/ftd/train_fraud_labels.json')"
   ]
  },
  {
   "cell_type": "markdown",
   "id": "ec6432f0",
   "metadata": {},
   "source": [
    "### 데이터별 컬럼 의미"
   ]
  },
  {
   "cell_type": "code",
   "execution_count": null,
   "id": "323ff11e",
   "metadata": {},
   "outputs": [],
   "source": [
    "# card_df"
   ]
  },
  {
   "cell_type": "markdown",
   "id": "4b7b77d7",
   "metadata": {},
   "source": [
    "- **id**: 카드 id \n",
    "- **client**: 고객 id\n",
    "- **card_brand**: 카드사\n",
    "- **card_type**: 카드 종류(신용/체크)\n",
    "- **card_number**: 카드번호\n",
    "- **expires**: 카드 만료기간\n",
    "- **cvv**: 카드 인증코드\n",
    "- **has_chip**: 카드 IC칩 보유 여부(IC칩 있을 시 카드 도용/복제에 상대적으로 안전)\n",
    "- **num_cards_issued**: 문제 발생 횟수??\n",
    "- **credit_limit**: 신용 한도\n",
    "- **acct_open_date**: 계좌 개설일\n",
    "- **year_pin_last_changed**: 카드 pin번호 최근 변경연도\n",
    "- **card_on_dark_web**: 다크웹 사용?? => No만 존재 => 제거 가능"
   ]
  },
  {
   "cell_type": "code",
   "execution_count": null,
   "id": "1bb60ecd",
   "metadata": {},
   "outputs": [],
   "source": [
    "# trans_df"
   ]
  },
  {
   "cell_type": "markdown",
   "id": "34cd6a91",
   "metadata": {},
   "source": [
    "- **id**: 거래식별번호\n",
    "- **date**: 거래일자\n",
    "- **client_id**: 고객id\n",
    "- **card_id**: 카드id\n",
    "- **amount**: 거래금액 => 음수 데이터 존재\n",
    "- **use_chip**: 카드 결제 방식\n",
    "    - Swipe Transaction: 마그네틱 카드로 긁어서 결제\n",
    "    - Chip Transaction: ic칩 카드로 결제\n",
    "    - Online Transaction: 온라인 결제\n",
    "- **merchant_id**: 매장id\n",
    "- **merchant_city**: 매장 위치(시)\n",
    "- **merchant_state**: 매장 위치(주)\n",
    "- **zip**: 매장 우편번호\n",
    "- **mcc**: 매장 분류코드\n",
    "- **errors**: 거래 성공 여부(결제 오류 시 오류 원인이 적혀있음)"
   ]
  },
  {
   "cell_type": "code",
   "execution_count": null,
   "id": "b5b7ae82",
   "metadata": {},
   "outputs": [],
   "source": [
    "# user_df"
   ]
  },
  {
   "cell_type": "markdown",
   "id": "dc776c9e",
   "metadata": {},
   "source": [
    "- **id**: 고객id\n",
    "- **current_age**: 현재 나이\n",
    "- **retirement_age**: 퇴직 연령\n",
    "- **birth_year**: 출생연도\n",
    "- **gender**: 성별\n",
    "- **address**: 주소\n",
    "- **latitude**: 위도\n",
    "- **longitude**: 경도\n",
    "- **per_capita_income**: 1인당 소득 (전체 소득 / 인구 수)\n",
    "- **yearly_income**: 연봉\n",
    "- **total_debt**: 채무액\n",
    "- **credit_score**: 신용점수\n",
    "- **num_credit_cards**: 보유 중인 신용카드 수"
   ]
  },
  {
   "cell_type": "code",
   "execution_count": null,
   "id": "21511084",
   "metadata": {},
   "outputs": [
    {
     "data": {
      "text/html": [
       "<div>\n",
       "<style scoped>\n",
       "    .dataframe tbody tr th:only-of-type {\n",
       "        vertical-align: middle;\n",
       "    }\n",
       "\n",
       "    .dataframe tbody tr th {\n",
       "        vertical-align: top;\n",
       "    }\n",
       "\n",
       "    .dataframe thead th {\n",
       "        text-align: right;\n",
       "    }\n",
       "</style>\n",
       "<table border=\"1\" class=\"dataframe\">\n",
       "  <thead>\n",
       "    <tr style=\"text-align: right;\">\n",
       "      <th></th>\n",
       "      <th>index</th>\n",
       "      <th>category</th>\n",
       "    </tr>\n",
       "  </thead>\n",
       "  <tbody>\n",
       "    <tr>\n",
       "      <th>0</th>\n",
       "      <td>5812</td>\n",
       "      <td>Eating Places and Restaurants</td>\n",
       "    </tr>\n",
       "    <tr>\n",
       "      <th>1</th>\n",
       "      <td>5541</td>\n",
       "      <td>Service Stations</td>\n",
       "    </tr>\n",
       "    <tr>\n",
       "      <th>2</th>\n",
       "      <td>7996</td>\n",
       "      <td>Amusement Parks, Carnivals, Circuses</td>\n",
       "    </tr>\n",
       "    <tr>\n",
       "      <th>3</th>\n",
       "      <td>5411</td>\n",
       "      <td>Grocery Stores, Supermarkets</td>\n",
       "    </tr>\n",
       "    <tr>\n",
       "      <th>4</th>\n",
       "      <td>4784</td>\n",
       "      <td>Tolls and Bridge Fees</td>\n",
       "    </tr>\n",
       "    <tr>\n",
       "      <th>...</th>\n",
       "      <td>...</td>\n",
       "      <td>...</td>\n",
       "    </tr>\n",
       "    <tr>\n",
       "      <th>104</th>\n",
       "      <td>7549</td>\n",
       "      <td>Towing Services</td>\n",
       "    </tr>\n",
       "    <tr>\n",
       "      <th>105</th>\n",
       "      <td>5941</td>\n",
       "      <td>Sporting Goods Stores</td>\n",
       "    </tr>\n",
       "    <tr>\n",
       "      <th>106</th>\n",
       "      <td>5722</td>\n",
       "      <td>Household Appliance Stores</td>\n",
       "    </tr>\n",
       "    <tr>\n",
       "      <th>107</th>\n",
       "      <td>3009</td>\n",
       "      <td>Fabricated Structural Metal Products</td>\n",
       "    </tr>\n",
       "    <tr>\n",
       "      <th>108</th>\n",
       "      <td>5733</td>\n",
       "      <td>Music Stores - Musical Instruments</td>\n",
       "    </tr>\n",
       "  </tbody>\n",
       "</table>\n",
       "<p>109 rows × 2 columns</p>\n",
       "</div>"
      ],
      "text/plain": [
       "     index                              category\n",
       "0     5812         Eating Places and Restaurants\n",
       "1     5541                      Service Stations\n",
       "2     7996  Amusement Parks, Carnivals, Circuses\n",
       "3     5411          Grocery Stores, Supermarkets\n",
       "4     4784                 Tolls and Bridge Fees\n",
       "..     ...                                   ...\n",
       "104   7549                       Towing Services\n",
       "105   5941                 Sporting Goods Stores\n",
       "106   5722            Household Appliance Stores\n",
       "107   3009  Fabricated Structural Metal Products\n",
       "108   5733    Music Stores - Musical Instruments\n",
       "\n",
       "[109 rows x 2 columns]"
      ]
     },
     "metadata": {},
     "output_type": "display_data"
    }
   ],
   "source": [
    "mcc_df.reset_index()"
   ]
  },
  {
   "cell_type": "markdown",
   "id": "f792c9bb",
   "metadata": {},
   "source": [
    "- mcc별 상점 종류"
   ]
  },
  {
   "cell_type": "code",
   "execution_count": null,
   "id": "8aa9ff4c",
   "metadata": {},
   "outputs": [
    {
     "data": {
      "text/html": [
       "<div>\n",
       "<style scoped>\n",
       "    .dataframe tbody tr th:only-of-type {\n",
       "        vertical-align: middle;\n",
       "    }\n",
       "\n",
       "    .dataframe tbody tr th {\n",
       "        vertical-align: top;\n",
       "    }\n",
       "\n",
       "    .dataframe thead th {\n",
       "        text-align: right;\n",
       "    }\n",
       "</style>\n",
       "<table border=\"1\" class=\"dataframe\">\n",
       "  <thead>\n",
       "    <tr style=\"text-align: right;\">\n",
       "      <th></th>\n",
       "      <th>index</th>\n",
       "      <th>target</th>\n",
       "    </tr>\n",
       "  </thead>\n",
       "  <tbody>\n",
       "    <tr>\n",
       "      <th>0</th>\n",
       "      <td>10649266</td>\n",
       "      <td>No</td>\n",
       "    </tr>\n",
       "    <tr>\n",
       "      <th>1</th>\n",
       "      <td>23410063</td>\n",
       "      <td>No</td>\n",
       "    </tr>\n",
       "    <tr>\n",
       "      <th>2</th>\n",
       "      <td>9316588</td>\n",
       "      <td>No</td>\n",
       "    </tr>\n",
       "    <tr>\n",
       "      <th>3</th>\n",
       "      <td>12478022</td>\n",
       "      <td>No</td>\n",
       "    </tr>\n",
       "    <tr>\n",
       "      <th>4</th>\n",
       "      <td>9558530</td>\n",
       "      <td>No</td>\n",
       "    </tr>\n",
       "    <tr>\n",
       "      <th>...</th>\n",
       "      <td>...</td>\n",
       "      <td>...</td>\n",
       "    </tr>\n",
       "    <tr>\n",
       "      <th>8914958</th>\n",
       "      <td>14064699</td>\n",
       "      <td>No</td>\n",
       "    </tr>\n",
       "    <tr>\n",
       "      <th>8914959</th>\n",
       "      <td>7676538</td>\n",
       "      <td>No</td>\n",
       "    </tr>\n",
       "    <tr>\n",
       "      <th>8914960</th>\n",
       "      <td>15131030</td>\n",
       "      <td>No</td>\n",
       "    </tr>\n",
       "    <tr>\n",
       "      <th>8914961</th>\n",
       "      <td>17244732</td>\n",
       "      <td>No</td>\n",
       "    </tr>\n",
       "    <tr>\n",
       "      <th>8914962</th>\n",
       "      <td>15151926</td>\n",
       "      <td>No</td>\n",
       "    </tr>\n",
       "  </tbody>\n",
       "</table>\n",
       "<p>8914963 rows × 2 columns</p>\n",
       "</div>"
      ],
      "text/plain": [
       "            index target\n",
       "0        10649266     No\n",
       "1        23410063     No\n",
       "2         9316588     No\n",
       "3        12478022     No\n",
       "4         9558530     No\n",
       "...           ...    ...\n",
       "8914958  14064699     No\n",
       "8914959   7676538     No\n",
       "8914960  15131030     No\n",
       "8914961  17244732     No\n",
       "8914962  15151926     No\n",
       "\n",
       "[8914963 rows x 2 columns]"
      ]
     },
     "metadata": {},
     "output_type": "display_data"
    }
   ],
   "source": [
    "fraud_df.reset_index()"
   ]
  },
  {
   "cell_type": "markdown",
   "id": "6e1be25c",
   "metadata": {},
   "source": [
    "- 거래 id별 정상거래/사기거래 여부"
   ]
  },
  {
   "cell_type": "markdown",
   "id": "8a031fa3",
   "metadata": {},
   "source": [
    "### 데이터 살펴보기"
   ]
  },
  {
   "cell_type": "code",
   "execution_count": null,
   "id": "0ab81f40",
   "metadata": {},
   "outputs": [],
   "source": [
    "user_df = user_df.rename(columns={'id':'client_id'}) #user_df의 id를 client_id로 변경\n",
    "card_user_df = card_df.merge(user_df, on='client_id') #카드 정보와 고객 정보를 병함(카드 데이터를 기준으로)\n",
    "\n",
    "card_user_df = card_user_df.drop(columns=['card_number','cvv']) #카드 번호, cvv(보안 번호, cvc 번호랑 비슷함) 삭제\n",
    "card_user_df = card_user_df.rename(columns={'id':'card_id'}) #card_df의 id를 card_id로 변경"
   ]
  },
  {
   "cell_type": "code",
   "execution_count": null,
   "id": "5188a890",
   "metadata": {},
   "outputs": [],
   "source": [
    "mcc_df = mcc_df.reset_index() #index 초기화\n",
    "fraud_df = fraud_df.reset_index()\n",
    "\n",
    "fraud_df = fraud_df.rename(columns={'index':'id','target':'fraud_label'}) #fraud_df의 index를 id로 변경,target를 fraud_label로 변경\n",
    "mcc_df = mcc_df.rename(columns={'index':'mcc','category':'merchant_cat'}) #mcc_df의 index를 id로 변경,category를 merchant_cat로 변경\n",
    "\n",
    "trans_df = trans_df.merge(fraud_df, on='id',how='left') #거래 정보와 사기 정보 결합\n",
    "trans_df = trans_df.merge(mcc_df, on='mcc',how='left') #거래 정보와 판매점 정보 결합\n",
    "\n",
    "#거래, 카드, 고객 정보 통합\n",
    "trans_df = trans_df.merge(card_user_df, on=['card_id','client_id'],how='left')"
   ]
  },
  {
   "cell_type": "markdown",
   "id": "e73429a6",
   "metadata": {},
   "source": [
    "#### trans_df"
   ]
  },
  {
   "cell_type": "markdown",
   "id": "4bfaac0a",
   "metadata": {},
   "source": [
    "- date는 datetime으로 바꾸는게 좋아보임\n",
    "- amount 음수인 경우 확인 필요"
   ]
  },
  {
   "cell_type": "markdown",
   "id": "863dad5a",
   "metadata": {},
   "source": [
    "- errors의 결측치: 결제 성공 의미 => NaN대신 다른 값으로 변환 필요해 보임\n",
    "- merchant_state => Italy 사기거래 백분율 65% => 단순 우연?\n",
    "- zip => 별 의미 없는 데이터"
   ]
  },
  {
   "cell_type": "markdown",
   "id": "9b9cbbf2",
   "metadata": {},
   "source": [
    "#### 생각해볼만한 것"
   ]
  },
  {
   "cell_type": "markdown",
   "id": "3cee5aa9",
   "metadata": {},
   "source": [
    "- card_brand와 사기거래 관련성\n",
    "- card_type과 사기거래 관련성\n",
    "- has_chip과 사기거래 관련성\n",
    "- credit_limit과 사기거래 관련성"
   ]
  },
  {
   "cell_type": "markdown",
   "id": "78d6b39b",
   "metadata": {},
   "source": [
    "- date와 사기거래 관련성\n",
    "- amount와 사기거래 관련성\n",
    "- use_chip과 사기거래 관련성\n",
    "- merchant_state와 사기거래 관련성\n",
    "- category와 사기거래 관련성"
   ]
  },
  {
   "cell_type": "markdown",
   "id": "f5711312",
   "metadata": {},
   "source": [
    "- current_age와 사기거래 관련성\n",
    "- gender과 사기거래 관련성\n",
    "- latitude, longitude와 사기거래 관련성\n",
    "- yearly_income와 사기거래 관련성\n",
    "- credit_score와 사기거래 관련성\n",
    "- num_credit_cards와 사기거래 관련성"
   ]
  },
  {
   "cell_type": "markdown",
   "id": "9984dfe0",
   "metadata": {},
   "source": [
    "### 중복값 확인"
   ]
  },
  {
   "cell_type": "code",
   "execution_count": null,
   "id": "cadecf37",
   "metadata": {},
   "outputs": [],
   "source": [
    "#mcc_df[mcc_df.duplicated(keep=False)]"
   ]
  },
  {
   "cell_type": "markdown",
   "id": "efb10822",
   "metadata": {},
   "source": [
    "- trans_df와 합치면 상관없음"
   ]
  },
  {
   "cell_type": "markdown",
   "id": "75b59e60",
   "metadata": {},
   "source": [
    "# Feature Engineering"
   ]
  },
  {
   "cell_type": "markdown",
   "id": "fe715a92",
   "metadata": {},
   "source": [
    "해결해야 하는 문제\n",
    "\n",
    "- 제거를 고려하는 변수들: address, latitude, longitude\n",
    "  \n",
    "- 해 마다 갱신 될 가능성이 높은 변수들: total_debt, credit_score(FICO Score로 추정됨)\n",
    "\n",
    "- merchant_state,city 의 처리"
   ]
  },
  {
   "cell_type": "code",
   "execution_count": null,
   "id": "05d93326",
   "metadata": {},
   "outputs": [],
   "source": [
    "# mcc 범주화\n",
    "food = ['Eating Places and Restaurants', 'Fast Food Restaurants', 'Drinking Places (Alcoholic Beverages)', 'Grocery Stores, Supermarkets', \n",
    "              'Miscellaneous Food Stores', 'Package Stores, Beer, Wine, Liquor', 'Wholesale Clubs', 'Discount Stores']\n",
    "\n",
    "medical = ['Medical Services', 'Doctors, Physicians', 'Dentists and Orthodontists', 'Chiropractors', 'Podiatrists',\n",
    "                    'Optometrists, Optical Goods and Eyeglasses', 'Hospitals', 'Drug Stores and Pharmacies']\n",
    "\n",
    "transport = ['Service Stations', 'Automotive Service Shops', 'Automotive Body Repair Shops', 'Automotive Parts and Accessories Stores',\n",
    "                       'Taxicabs and Limousines', 'Bus Lines', 'Passenger Railways', 'Railroad Passenger Transport', 'Railroad Freight',\n",
    "                       'Motor Freight Carriers and Trucking', 'Airlines', 'Cruise Lines', 'Lodging - Hotels, Motels, Resorts',\n",
    "                       'Local and Suburban Commuter Transportation']\n",
    "\n",
    "service = ['Laundry Services', 'Car Washes', 'Towing Services', 'Cleaning and Maintenance Services', 'Tax Preparation Services',\n",
    "                   'Accounting, Auditing, and Bookkeeping Services', 'Legal Services and Attorneys', 'Detective Agencies, Security Services', 'Money Transfer',\n",
    "                   'Insurance Sales, Underwriting', 'Travel Agencies']\n",
    "\n",
    "retail = ['Department Stores', 'Family Clothing Stores', \"Women's Ready-To-Wear Stores\", 'Shoe Stores', 'Sports Apparel, Riding Apparel Stores',\n",
    "              'Sporting Goods Stores', 'Leather Goods', 'Precious Stones and Metals', 'Antique Shops', 'Music Stores - Musical Instruments',\n",
    "              'Artist Supply Stores, Craft Shops', 'Book Stores', 'Books, Periodicals, Newspapers', 'Electronics Stores',\n",
    "              'Computers, Computer Peripheral Equipment', 'Digital Goods - Media, Books, Apps', 'Digital Goods - Games', 'Cosmetic Stores',\n",
    "              'Beauty and Barber Shops', 'Gift, Card, Novelty Stores', 'Miscellaneous Home Furnishing Stores', \n",
    "              'Furniture, Home Furnishings, and Equipment Stores', 'Upholstery and Drapery Stores', 'Lighting, Fixtures, Electrical Supplies',\n",
    "              'Floor Covering Stores', 'Lawn and Garden Supply Stores', 'Gardening Supplies', 'Hardware Stores', 'Household Appliance Stores',\n",
    "              'Florists Supplies, Nursery Stock and Flowers', 'Non-Precious Metal Services']\n",
    "\n",
    "industry = ['Lumber and Building Materials', 'Brick, Stone, and Related Materials', 'Industrial Equipment and Supplies',\n",
    "                    'Tools, Parts, Supplies Manufacturing', 'Heating, Plumbing, Air Conditioning Contractors', 'Fabricated Structural Metal Products',\n",
    "                    'Steel Products Manufacturing', 'Steelworks', 'Ironwork', 'Welding Repair', 'Electroplating, Plating, Polishing Services',\n",
    "                    'Heat Treating Metal Services', 'Bolt, Nut, Screw, Rivet Manufacturing', 'Coated and Laminated Products', 'Non-Ferrous Metal Foundries',\n",
    "                    'Steel Drums and Barrels', 'Miscellaneous Metal Fabrication', 'Miscellaneous Metals', 'Miscellaneous Fabricated Metal Products',\n",
    "                    'Miscellaneous Metalwork', 'Pottery and Ceramics', 'Semiconductors and Related Devices', 'Ship Chandlers',\n",
    "                    'Utilities - Electric, Gas, Water, Sanitary', 'Telecommunication Services', 'Computer Network Services', \n",
    "                    'Cable, Satellite, and Other Pay Television Services', 'Postal Services - Government Only', 'Tolls and Bridge Fees', \n",
    "                    'Amusement Parks, Carnivals, Circuses', 'Motion Picture Theaters', 'Theatrical Producers', 'Recreational Sports, Clubs', \n",
    "                    'Athletic Fields, Commercial Sports', 'Betting (including Lottery Tickets, Casinos)', 'Miscellaneous Machinery and Parts Manufacturing']"
   ]
  },
  {
   "cell_type": "code",
   "execution_count": null,
   "id": "d104a561",
   "metadata": {},
   "outputs": [],
   "source": [
    "trans_df.loc[trans_df['merchant_cat'].isin(food), 'merchant_cat'] = 'food'\n",
    "trans_df.loc[trans_df['merchant_cat'].isin(medical), 'merchant_cat'] = 'medical'\n",
    "trans_df.loc[trans_df['merchant_cat'].isin(transport), 'merchant_cat'] = 'transport'\n",
    "trans_df.loc[trans_df['merchant_cat'].isin(service), 'merchant_cat'] = 'service'\n",
    "trans_df.loc[trans_df['merchant_cat'].isin(retail), 'merchant_cat'] = 'retail'\n",
    "trans_df.loc[trans_df['merchant_cat'].isin(industry), 'merchant_cat'] = 'industry'"
   ]
  },
  {
   "cell_type": "code",
   "execution_count": null,
   "id": "3a879909",
   "metadata": {},
   "outputs": [],
   "source": [
    "trans_df['errors'] = trans_df['errors'].fillna(0) #정상 거래는 0값으로 처리\n",
    "\n",
    "#merchant_city가 ONLINE 일 떄 merchant_state도 ONLINE으로 변경\n",
    "trans_df.loc[trans_df['merchant_city'] == 'ONLINE', 'merchant_state'] = 'ONLINE'\n",
    "\n",
    "#고객 ID, 카드 ID, 다크웹에서 카드?,거래 id, 상점 id, 상점 카테고리 식별 번호 삭제\n",
    "trans_df = trans_df.drop(columns=['id','merchant_id','mcc','client_id','card_on_dark_web'])"
   ]
  },
  {
   "cell_type": "code",
   "execution_count": null,
   "id": "1bb3bef7",
   "metadata": {},
   "outputs": [],
   "source": [
    "trans_df['date'] = pd.to_datetime(trans_df['date']) #date의 데이터 구조를 datetime으로 변환\n",
    "\n",
    "#금액에서 $표시를 제거해서 돈과 관련된 수치를 숫자로 변환\n",
    "trans_df['amount'] = pd.to_numeric(trans_df['amount'].str.split('$', expand=True)[1]) #\n",
    "trans_df['credit_limit'] = pd.to_numeric(trans_df['credit_limit'].str.split('$', expand=True)[1]) #\n",
    "trans_df['per_capita_income'] = pd.to_numeric(trans_df['per_capita_income'].str.split('$', expand=True)[1])\n",
    "trans_df['yearly_income'] = pd.to_numeric(trans_df['yearly_income'].str.split('$', expand=True)[1])\n",
    "trans_df['total_debt'] = pd.to_numeric(trans_df['total_debt'].str.split('$', expand=True)[1])"
   ]
  },
  {
   "cell_type": "code",
   "execution_count": null,
   "id": "e741dd2d",
   "metadata": {},
   "outputs": [],
   "source": [
    "#거래 날짜와 고객,카드 정보를 통해 시간과 관련된 새로운 피쳐 생성\n",
    "\n",
    "trans_df['day'] = trans_df['date'].dt.day #거래 당시의 일 생성\n",
    "trans_df['month'] = trans_df['date'].dt.month #거래 당시의 월 생성\n",
    "trans_df['year'] = trans_df['date'].dt.year #거래 당시의 년 생성\n",
    "\n",
    "trans_df['expire_month'] = pd.to_numeric(trans_df['expires'].str.split('/', expand=True)[0]) #카드 만료 날의 월 \n",
    "trans_df['expire_year'] = pd.to_numeric(trans_df['expires'].str.split('/', expand=True)[1]) #카드 만료 날의 년\n",
    "\n",
    "trans_df['acct_open_date_month'] = pd.to_numeric(trans_df['acct_open_date'].str.split('/', expand=True)[0]) #계좌 개설 날의 월 \n",
    "trans_df['acct_open_date_year'] = pd.to_numeric(trans_df['acct_open_date'].str.split('/', expand=True)[1]) #계좌 개설 날의 년\n",
    "\n",
    "trans_df['current_age'] = trans_df['year'] - trans_df['birth_year'] #현재 나이를 2019년이 아닌 거래 날짜를 기준으로 변경\n",
    "trans_df['year_since_pin_changed'] = trans_df['year'] - trans_df['year_pin_last_changed'] #핀 번호 변경으로 부터 지난 해 기간\n",
    "trans_df['year_since_pin_changed'] = trans_df['year_since_pin_changed'].clip(lower=0) #핀 번호 갱신 기간이 음수인 경우 0으로 변환\n",
    "trans_df['years_to_retirement'] = trans_df['retirement_age'] - trans_df['current_age'] #은퇴까지 남은 년\n",
    "\n",
    "trans_df['month_to_expires'] = (12*(trans_df['expire_year'] - trans_df['year']) \n",
    "                                + (trans_df['expire_month'] - trans_df['month'])) #카드 만료까지 남은 개월 수\n",
    "\n",
    "trans_df['month_to_acct_open'] = (12*(trans_df['year'] - trans_df['acct_open_date_year']) \n",
    "                                + (trans_df['month'] - trans_df['acct_open_date_month'])) #계좌 개설 후 지난 개월 수\n"
   ]
  },
  {
   "cell_type": "code",
   "execution_count": null,
   "id": "dea16218",
   "metadata": {},
   "outputs": [],
   "source": [
    "trans_df['hour'] = trans_df['date'].dt.hour #거래 당시의 시간 \n",
    "trans_df['min'] = trans_df['date'].dt.minute #거래 당시의 분  \n",
    "\n",
    "trans_df['time'] = 60*trans_df['hour'] + trans_df['min'] #거래 당시의 시간대\n",
    "\n",
    "#해당 고객의 최근 거래 7건의 시간대의 이동 평균 계산 (사용한 카드 기준)\n",
    "trans_df['time_7_ma'] = trans_df.groupby('card_id')['time'].rolling(window=7, min_periods=1).mean().reset_index(level=0, drop=True)\n",
    "trans_df['time_7_ma'] = trans_df['time_7_ma'].round(2)"
   ]
  },
  {
   "cell_type": "code",
   "execution_count": null,
   "id": "ab619e8e",
   "metadata": {},
   "outputs": [],
   "source": [
    "trans_df = trans_df.drop(columns=['birth_year','birth_month','date','year_pin_last_changed','retirement_age','expires','acct_open_date',\n",
    "                                 'expire_month','expire_year','acct_open_date_month','acct_open_date_year'])"
   ]
  },
  {
   "cell_type": "markdown",
   "id": "8517096d",
   "metadata": {},
   "source": [
    "- 소비자 물가 지수(CPI)로 년마다 연봉 갱신\n",
    "\n",
    "|연도|소비자 물가 지수|단위 환산|\n",
    "|------|---|---|\n",
    "|2010년|218.1|85.30|\n",
    "|2011년|224.9|87.95|\n",
    "|2012년|229.6|89.79|\n",
    "|2013년|232.9|91.08|\n",
    "|2014년|236.7|92.57|\n",
    "|2015년|237.0|92.69|\n",
    "|2016년|240.0|93.86|\n",
    "|2017년|245.1|95.85|\n",
    "|2018년|251.1|98.20|\n",
    "|2019년|255.7|100|\n",
    "\n",
    "출처: https://ko.tradingeconomics.com/united-states"
   ]
  },
  {
   "cell_type": "code",
   "execution_count": null,
   "id": "8a2e664d",
   "metadata": {},
   "outputs": [],
   "source": [
    "#소비자 물기 지수(CPI)로 연봉을 평준화 \n",
    "CPI = {2019:1, 2018:0.982 ,2017:0.9585,2016:0.9386, 2015:0.9269, 2014:0.9257, 2013:0.9108, 2012:0.8979, 2011:0.8795, 2010:0.853}\n",
    "\n",
    "trans_df['CPI'] = trans_df['year'].map(CPI)\n",
    "trans_df['per_capita_income'] = trans_df['per_capita_income']*trans_df['CPI'] #지역 연봉 * CPI 지수 가중치\n",
    "trans_df['yearly_income'] = trans_df['yearly_income']*trans_df['CPI'] #연봉 * CPI 지수 가중치\n",
    "trans_df = trans_df.drop(columns=['CPI'])"
   ]
  },
  {
   "cell_type": "code",
   "execution_count": null,
   "id": "f7529788",
   "metadata": {},
   "outputs": [],
   "source": [
    "#지리 정보를 이용한 feature engineering\n",
    "\n",
    "manual_coords = {\n",
    "    '30399': (33.7490, -84.3880), '94101': (37.7834, -122.4194),\n",
    "    '98205': (47.9790, -122.2021), '10072': (40.7766, -73.9525),\n",
    "    '19640': (40.3356, -75.9269), '45418': (39.7589, -84.1916),\n",
    "    '21748': (39.6418, -77.7200), '10558': (40.9126, -73.8385),\n",
    "    '92164': (32.7157, -117.1611), '14645': (43.1566, -77.6088),\n",
    "    '33121': (25.7617, -80.1918), '17767': (41.2951, -77.1641),\n",
    "    '16532': (42.1292, -80.0851), '29573': (33.6891, -78.8867),\n",
    "    '19388': (39.9607, -75.6055), '41338': (37.5551, -83.3882),\n",
    "    '21681': (39.2157, -76.0694), '19483': (40.0970, -75.3888),\n",
    "    '40446': (37.4298, -83.9785), '92412': (34.1083, -117.2898),\n",
    "    '11594': (40.7559, -73.5876), '25965': (37.6729, -80.8906)\n",
    "} #우편번호 라이브러리에 등록되지 않은 위치 정보\n",
    "\n",
    "#상점 우편 번호로 상점의 위도 경도 지리 정보 추출\n",
    "geo_locator = pgeocode.Nominatim('us') #미국 우편 번호 객체 생성\n",
    "\n",
    "trans_df['zip'].fillna(0, inplace=True)\n",
    "trans_df['zip_str'] = trans_df['zip'].astype(int).astype(str).str.zfill(5)\n",
    "geo_info = geo_locator.query_postal_code(trans_df['zip_str'].tolist()) #우편 번호를 위도, 경도로 변환\n",
    "\n",
    "trans_df['market_latitude'] = geo_info['latitude'] #거래 데이터에 상점의 위도, 경도 정보 저장\n",
    "trans_df['market_longitude'] = geo_info['longitude']\n",
    "\n",
    "lat_map = {zip_code: coords[0] for zip_code, coords in manual_coords.items()} #위도 정보 변환\n",
    "lon_map = {zip_code: coords[1] for zip_code, coords in manual_coords.items()} #경도 정보 변환\n",
    "\n",
    "trans_df['market_latitude'] = trans_df['market_latitude'].fillna(trans_df['zip_str'].map(lat_map)) #결측치에 위도, 경도 정보 저장\n",
    "trans_df['market_longitude'] = trans_df['market_longitude'].fillna(trans_df['zip_str'].map(lon_map))\n",
    "\n",
    "#상점과 고객 주소 간의 거리 계산\n",
    "client_coords = list(zip(trans_df['latitude'], trans_df['longitude'])) #고객 주소 좌표\n",
    "market_coords = list(zip(trans_df['market_latitude'], trans_df['market_longitude'])) #상점 주소 좌표\n",
    "trans_df['distance_km'] = haversine_vector(client_coords, market_coords, unit=Unit.KILOMETERS) #고객과 상점 거리를 km 단위로 계산\n",
    "trans_df['distance_km'] = trans_df['distance_km'].round(2)\n",
    "\n",
    "#해당 고객의 최근 거래 7건의 이동 평균 계산\n",
    "trans_df['distance_7_ma'] = trans_df.groupby('card_id')['distance_km'].rolling(window=7, min_periods=1).mean().reset_index(level=0, drop=True)\n",
    "\n",
    "# 소수점 둘째 자리까지 반올림\n",
    "trans_df['distance_7_ma'] = trans_df['distance_7_ma'].round(2)\n",
    "\n",
    "us_state_codes = {\n",
    "    'AL', 'AK', 'AZ', 'AR', 'CA', 'CO', 'CT', 'DE', 'DC', 'FL', 'GA',\n",
    "    'HI', 'ID', 'IL', 'IN', 'IA', 'KS', 'KY', 'LA', 'ME', 'MD', 'MA',\n",
    "    'MI', 'MN', 'MS', 'MO', 'MT', 'NE', 'NV', 'NH', 'NJ', 'NM', 'NY',\n",
    "    'NC', 'ND', 'OH', 'OK', 'OR', 'PA', 'RI', 'SC', 'SD', 'TN', 'TX',\n",
    "    'UT', 'VT', 'VA', 'WA', 'WV', 'WI', 'WY'} #미국 50개 주 +D.C(워싱턴)\n",
    "\n",
    "condition = trans_df['merchant_state'].isin(us_state_codes) # 상점 위치가 미국 내인지 판단\n",
    "trans_df['national'] = np.where(condition, 'domestic', 'overseas') #미국 내이면 'domestic', 해외면 'overseas' 값을 가짐\n",
    "\n",
    "#상점 위치가 해외이면 merchant_state 값을 overseas로 변환\n",
    "condition2 = (trans_df['national'] == 'overseas') & (trans_df['merchant_city'] != 'ONLINE')\n",
    "trans_df.loc[condition2, 'merchant_state'] = 'overseas'"
   ]
  },
  {
   "cell_type": "code",
   "execution_count": null,
   "id": "1c1a89e8",
   "metadata": {},
   "outputs": [],
   "source": [
    "#거래 금액 관련 feature-engineering\n",
    "\n",
    "condition = trans_df['amount'] < 0 #거래 금액이 음수인지 판단(환불 거래)\n",
    "trans_df['refund'] = np.where(condition,1,0)\n",
    "trans_df['amount'] = np.abs(trans_df['amount']) #거래 금액을 양수로 바꿈\n",
    "\n",
    "window_size = 200 #최근 200개 데이터 선별\n",
    "\n",
    "def count_current_customer(window):\n",
    "    current_customer = window.iloc[-1]\n",
    "    return (window == current_customer).sum()\n",
    "\n",
    "trans_df['recent_trans'] = trans_df['card_id'].rolling(window=window_size, min_periods=1).apply(count_current_customer, raw=False)\n",
    "\n",
    "#trans_df['combo_id'] = trans_df['card_id'].astype(str) + '_' + trans_df['refund'].astype(str)"
   ]
  },
  {
   "cell_type": "code",
   "execution_count": null,
   "id": "f6bae3e1",
   "metadata": {},
   "outputs": [],
   "source": [
    "#필요 없는 정보 제거\n",
    "trans_df = trans_df.drop(columns=['address','latitude','longitude','zip','zip_str','market_latitude','market_longitude','card_id','merchant_city','national','time'])"
   ]
  },
  {
   "cell_type": "code",
   "execution_count": null,
   "id": "17d7a56c",
   "metadata": {},
   "outputs": [],
   "source": [
    "train_trans_df = trans_df[trans_df['fraud_label'].notnull()] # 사기 정보가 있는 데이터 900만개\n",
    "test_trans_df = trans_df[trans_df['fraud_label'].isnull()] # 사기 정보가 없는 데이터  400만개\n",
    "\n",
    "#사기 거래 정보 값을 Yes, NO에서 1,0으로 변경\n",
    "YN_dict = {\"Yes\": 1, \"No\" : 0}\n",
    "train_trans_df['fraud_label'] = train_trans_df['fraud_label'].map(YN_dict)"
   ]
  },
  {
   "cell_type": "code",
   "execution_count": null,
   "id": "ad686bf5",
   "metadata": {},
   "outputs": [
    {
     "data": {
      "text/plain": [
       "Index(['amount', 'use_chip', 'merchant_state', 'errors', 'fraud_label',\n",
       "       'merchant_cat', 'card_brand', 'card_type', 'has_chip',\n",
       "       'num_cards_issued', 'credit_limit', 'current_age', 'gender',\n",
       "       'per_capita_income', 'yearly_income', 'total_debt', 'credit_score',\n",
       "       'num_credit_cards', 'day', 'month', 'year', 'year_since_pin_changed',\n",
       "       'years_to_retirement', 'month_to_expires', 'month_to_acct_open', 'hour',\n",
       "       'min', 'time_7_ma', 'distance_km', 'distance_7_ma', 'refund',\n",
       "       'recent_trans', 'combo_id'],\n",
       "      dtype='object')"
      ]
     },
     "metadata": {},
     "output_type": "display_data"
    }
   ],
   "source": [
    "#feature\n",
    "train_trans_df.columns"
   ]
  },
  {
   "cell_type": "markdown",
   "id": "6afd82c6",
   "metadata": {},
   "source": [
    "<span style=\"font-size: 22px; color: black\">**추가된 변수**</span>\n",
    "\n",
    "- **day**: 거래된 일\n",
    "- **month**: 거래된 월\n",
    "- **year**: 거래된 년\n",
    "- **hour**: 거래된 시간\n",
    "- **min**: 거래된 분\n",
    "- **year_since_pin_changed**: 핀 번호 변경으로 부터 지난 년\n",
    "- **years_to_retirement**: 은퇴까지 남은 년\n",
    "- **month_to_expires**: 카드 만료까지 남은 달\n",
    "- **month_to_acct_open**: 계좌 개설로 부터 지난 달\n",
    "- **distance_km**: 상점과 고객 주소의 거리 차이(km)\n",
    "- **distance_7_ma**\" 최근 7번 거래의 상점-고객 거리의 이동 평균 (카드 기준) -차이로 바꿀 예정\n",
    "- **time_7_ma**\" 최근 7번 거래의 거래 시간의 이동 평균 (카드 기준) -차이로 바꿀 예정\n",
    "- **refund**: 환불 여부\n",
    "- **recent_trans**:최근 거래 횟수\n",
    "- 최근 환불 횟수(추가 예정)\n",
    "- 최근 7번 거래의 거래 금액 평균(추가 예정) -차이로 바꿀 예정\n",
    "- \n",
    "\n",
    "<span style=\"font-size: 22px; color: black\">**변경된 변수**</span>\n",
    "\n",
    "- **fraud_label**: NO, Yes를 0,1로 변경\n",
    "- **current_age**: 현재 나이를 2019년 기준에서 거래 당시 시간으로 변경\n",
    "- **per_capita_income**: 수입 기준을 2019년에서 CPA를 적용해서 년마다 갱신\n",
    "- **yearly_income**: 연봉 기준을 2019년에서 CPA를 적용해서 년마다 갱신\n",
    "- **merchant_state**: 해외는 overseas, 미국 내는 주, 온라인 거래는 ONLINE 으로 변경\n"
   ]
  },
  {
   "cell_type": "code",
   "execution_count": null,
   "id": "cd7c3f36",
   "metadata": {},
   "outputs": [
    {
     "name": "stdout",
     "output_type": "stream",
     "text": [
      "<class 'pandas.core.frame.DataFrame'>\n",
      "Index: 8914963 entries, 0 to 13305912\n",
      "Data columns (total 33 columns):\n",
      " #   Column                  Dtype  \n",
      "---  ------                  -----  \n",
      " 0   amount                  float64\n",
      " 1   use_chip                object \n",
      " 2   merchant_state          object \n",
      " 3   errors                  object \n",
      " 4   fraud_label             int64  \n",
      " 5   merchant_cat            object \n",
      " 6   card_brand              object \n",
      " 7   card_type               object \n",
      " 8   has_chip                object \n",
      " 9   num_cards_issued        int64  \n",
      " 10  credit_limit            int64  \n",
      " 11  current_age             int64  \n",
      " 12  gender                  object \n",
      " 13  per_capita_income       float64\n",
      " 14  yearly_income           float64\n",
      " 15  total_debt              int64  \n",
      " 16  credit_score            int64  \n",
      " 17  num_credit_cards        int64  \n",
      " 18  day                     int32  \n",
      " 19  month                   int32  \n",
      " 20  year                    int32  \n",
      " 21  year_since_pin_changed  int64  \n",
      " 22  years_to_retirement     int64  \n",
      " 23  month_to_expires        int64  \n",
      " 24  month_to_acct_open      int64  \n",
      " 25  hour                    int32  \n",
      " 26  min                     int32  \n",
      " 27  time_7_ma               float64\n",
      " 28  distance_km             float64\n",
      " 29  distance_7_ma           float64\n",
      " 30  refund                  int64  \n",
      " 31  recent_trans            float64\n",
      " 32  combo_id                object \n",
      "dtypes: float64(7), int32(5), int64(12), object(9)\n",
      "memory usage: 2.1+ GB\n"
     ]
    }
   ],
   "source": [
    "train_trans_df.info()"
   ]
  },
  {
   "cell_type": "code",
   "execution_count": null,
   "id": "808be170",
   "metadata": {},
   "outputs": [
    {
     "data": {
      "text/html": [
       "<div>\n",
       "<style scoped>\n",
       "    .dataframe tbody tr th:only-of-type {\n",
       "        vertical-align: middle;\n",
       "    }\n",
       "\n",
       "    .dataframe tbody tr th {\n",
       "        vertical-align: top;\n",
       "    }\n",
       "\n",
       "    .dataframe thead th {\n",
       "        text-align: right;\n",
       "    }\n",
       "</style>\n",
       "<table border=\"1\" class=\"dataframe\">\n",
       "  <thead>\n",
       "    <tr style=\"text-align: right;\">\n",
       "      <th></th>\n",
       "      <th>amount</th>\n",
       "      <th>use_chip</th>\n",
       "      <th>merchant_state</th>\n",
       "      <th>errors</th>\n",
       "      <th>fraud_label</th>\n",
       "      <th>merchant_cat</th>\n",
       "      <th>card_brand</th>\n",
       "      <th>card_type</th>\n",
       "      <th>has_chip</th>\n",
       "      <th>num_cards_issued</th>\n",
       "      <th>...</th>\n",
       "      <th>month_to_expires</th>\n",
       "      <th>month_to_acct_open</th>\n",
       "      <th>hour</th>\n",
       "      <th>min</th>\n",
       "      <th>time_7_ma</th>\n",
       "      <th>distance_km</th>\n",
       "      <th>distance_7_ma</th>\n",
       "      <th>refund</th>\n",
       "      <th>recent_trans</th>\n",
       "      <th>combo_id</th>\n",
       "    </tr>\n",
       "  </thead>\n",
       "  <tbody>\n",
       "    <tr>\n",
       "      <th>0</th>\n",
       "      <td>77.00</td>\n",
       "      <td>Swipe Transaction</td>\n",
       "      <td>ND</td>\n",
       "      <td>0</td>\n",
       "      <td>0</td>\n",
       "      <td>food</td>\n",
       "      <td>Mastercard</td>\n",
       "      <td>Debit (Prepaid)</td>\n",
       "      <td>YES</td>\n",
       "      <td>2</td>\n",
       "      <td>...</td>\n",
       "      <td>150</td>\n",
       "      <td>20</td>\n",
       "      <td>0</td>\n",
       "      <td>1</td>\n",
       "      <td>1.0</td>\n",
       "      <td>95.08</td>\n",
       "      <td>95.08</td>\n",
       "      <td>1</td>\n",
       "      <td>1.0</td>\n",
       "      <td>2972_1</td>\n",
       "    </tr>\n",
       "    <tr>\n",
       "      <th>1</th>\n",
       "      <td>14.57</td>\n",
       "      <td>Swipe Transaction</td>\n",
       "      <td>IA</td>\n",
       "      <td>0</td>\n",
       "      <td>0</td>\n",
       "      <td>retail</td>\n",
       "      <td>Mastercard</td>\n",
       "      <td>Credit</td>\n",
       "      <td>YES</td>\n",
       "      <td>1</td>\n",
       "      <td>...</td>\n",
       "      <td>179</td>\n",
       "      <td>52</td>\n",
       "      <td>0</td>\n",
       "      <td>2</td>\n",
       "      <td>2.0</td>\n",
       "      <td>98.56</td>\n",
       "      <td>98.56</td>\n",
       "      <td>0</td>\n",
       "      <td>1.0</td>\n",
       "      <td>4575_0</td>\n",
       "    </tr>\n",
       "    <tr>\n",
       "      <th>2</th>\n",
       "      <td>80.00</td>\n",
       "      <td>Swipe Transaction</td>\n",
       "      <td>CA</td>\n",
       "      <td>0</td>\n",
       "      <td>0</td>\n",
       "      <td>service</td>\n",
       "      <td>Mastercard</td>\n",
       "      <td>Debit</td>\n",
       "      <td>YES</td>\n",
       "      <td>1</td>\n",
       "      <td>...</td>\n",
       "      <td>124</td>\n",
       "      <td>48</td>\n",
       "      <td>0</td>\n",
       "      <td>2</td>\n",
       "      <td>2.0</td>\n",
       "      <td>7.14</td>\n",
       "      <td>7.14</td>\n",
       "      <td>0</td>\n",
       "      <td>1.0</td>\n",
       "      <td>102_0</td>\n",
       "    </tr>\n",
       "    <tr>\n",
       "      <th>4</th>\n",
       "      <td>46.41</td>\n",
       "      <td>Swipe Transaction</td>\n",
       "      <td>MD</td>\n",
       "      <td>0</td>\n",
       "      <td>0</td>\n",
       "      <td>food</td>\n",
       "      <td>Visa</td>\n",
       "      <td>Debit</td>\n",
       "      <td>YES</td>\n",
       "      <td>1</td>\n",
       "      <td>...</td>\n",
       "      <td>120</td>\n",
       "      <td>6</td>\n",
       "      <td>0</td>\n",
       "      <td>6</td>\n",
       "      <td>6.0</td>\n",
       "      <td>1.27</td>\n",
       "      <td>1.27</td>\n",
       "      <td>0</td>\n",
       "      <td>1.0</td>\n",
       "      <td>3915_0</td>\n",
       "    </tr>\n",
       "    <tr>\n",
       "      <th>5</th>\n",
       "      <td>4.81</td>\n",
       "      <td>Swipe Transaction</td>\n",
       "      <td>NY</td>\n",
       "      <td>0</td>\n",
       "      <td>0</td>\n",
       "      <td>retail</td>\n",
       "      <td>Mastercard</td>\n",
       "      <td>Debit (Prepaid)</td>\n",
       "      <td>YES</td>\n",
       "      <td>1</td>\n",
       "      <td>...</td>\n",
       "      <td>50</td>\n",
       "      <td>24</td>\n",
       "      <td>0</td>\n",
       "      <td>7</td>\n",
       "      <td>7.0</td>\n",
       "      <td>6.99</td>\n",
       "      <td>6.99</td>\n",
       "      <td>0</td>\n",
       "      <td>1.0</td>\n",
       "      <td>165_0</td>\n",
       "    </tr>\n",
       "  </tbody>\n",
       "</table>\n",
       "<p>5 rows × 33 columns</p>\n",
       "</div>"
      ],
      "text/plain": [
       "   amount           use_chip merchant_state errors  fraud_label merchant_cat  \\\n",
       "0   77.00  Swipe Transaction             ND      0            0         food   \n",
       "1   14.57  Swipe Transaction             IA      0            0       retail   \n",
       "2   80.00  Swipe Transaction             CA      0            0      service   \n",
       "4   46.41  Swipe Transaction             MD      0            0         food   \n",
       "5    4.81  Swipe Transaction             NY      0            0       retail   \n",
       "\n",
       "   card_brand        card_type has_chip  num_cards_issued  ...  \\\n",
       "0  Mastercard  Debit (Prepaid)      YES                 2  ...   \n",
       "1  Mastercard           Credit      YES                 1  ...   \n",
       "2  Mastercard            Debit      YES                 1  ...   \n",
       "4        Visa            Debit      YES                 1  ...   \n",
       "5  Mastercard  Debit (Prepaid)      YES                 1  ...   \n",
       "\n",
       "   month_to_expires  month_to_acct_open hour  min  time_7_ma  distance_km  \\\n",
       "0               150                  20    0    1        1.0        95.08   \n",
       "1               179                  52    0    2        2.0        98.56   \n",
       "2               124                  48    0    2        2.0         7.14   \n",
       "4               120                   6    0    6        6.0         1.27   \n",
       "5                50                  24    0    7        7.0         6.99   \n",
       "\n",
       "   distance_7_ma  refund  recent_trans  combo_id  \n",
       "0          95.08       1           1.0    2972_1  \n",
       "1          98.56       0           1.0    4575_0  \n",
       "2           7.14       0           1.0     102_0  \n",
       "4           1.27       0           1.0    3915_0  \n",
       "5           6.99       0           1.0     165_0  \n",
       "\n",
       "[5 rows x 33 columns]"
      ]
     },
     "metadata": {},
     "output_type": "display_data"
    }
   ],
   "source": [
    "train_trans_df.head()"
   ]
  },
  {
   "cell_type": "markdown",
   "id": "d90b243f",
   "metadata": {},
   "source": [
    "- target은 fraud_label\n",
    "- fraud_label 값이 0: 정상 거래 1: 사기 거래\n",
    "\n",
    "- 학습할 데이터: train_trans_df (X,y 분리 안되어 있음)"
   ]
  },
  {
   "cell_type": "code",
   "execution_count": null,
   "id": "5aa60cc2",
   "metadata": {},
   "outputs": [],
   "source": [
    "\n",
    "\n"
   ]
  },
  {
   "cell_type": "markdown",
   "id": "85ac5663",
   "metadata": {},
   "source": [
    "# EDA"
   ]
  },
  {
   "cell_type": "markdown",
   "id": "5c7156d0",
   "metadata": {},
   "source": [
    "### 데이터 불러오기"
   ]
  },
  {
   "cell_type": "code",
   "execution_count": 1,
   "id": "d3ecc65f",
   "metadata": {},
   "outputs": [],
   "source": [
    "import numpy as np\n",
    "import pandas as pd\n",
    "import matplotlib.pyplot as plt\n",
    "import seaborn as sns\n",
    "import warnings\n",
    "warnings.filterwarnings('ignore')"
   ]
  },
  {
   "cell_type": "code",
   "execution_count": 2,
   "id": "f09e90c6",
   "metadata": {},
   "outputs": [],
   "source": [
    "card_df = pd.read_csv('../data/ftd/cards_data.csv')\n",
    "trans_df = pd.read_csv('../data/ftd/transactions_data.csv')\n",
    "user_df = pd.read_csv('../data/ftd/users_data.csv')\n",
    "mcc_df = pd.read_json('../data/ftd/mcc_codes.json', orient='index').rename({0:'category'}, axis=1)\n",
    "fraud_df = pd.read_json('../data/ftd/train_fraud_labels.json')"
   ]
  },
  {
   "cell_type": "markdown",
   "id": "44437164",
   "metadata": {},
   "source": [
    "### 데이터별 컬럼 의미"
   ]
  },
  {
   "cell_type": "code",
   "execution_count": 3,
   "id": "5335383a",
   "metadata": {},
   "outputs": [],
   "source": [
    "# card_df"
   ]
  },
  {
   "cell_type": "markdown",
   "id": "3923d05d",
   "metadata": {},
   "source": [
    "- **id**: 카드 id \n",
    "- **client**: 고객 id\n",
    "- **card_brand**: 카드사\n",
    "- **card_type**: 카드 종류(신용/체크)\n",
    "- **card_number**: 카드번호\n",
    "- **expires**: 카드 만료기간\n",
    "- **cvv**: 카드 인증코드\n",
    "- **has_chip**: 카드 IC칩 보유 여부(IC칩 있을 시 카드 도용/복제에 상대적으로 안전)\n",
    "- **num_cards_issued**: 문제 발생 횟수??\n",
    "- **credit_limit**: 신용 한도\n",
    "- **acct_open_date**: 계좌 개설일\n",
    "- **year_pin_last_changed**: 카드 pin번호 최근 변경연도\n",
    "- **card_on_dark_web**: 다크웹 사용?? => No만 존재 => 제거 가능"
   ]
  },
  {
   "cell_type": "code",
   "execution_count": 4,
   "id": "8dc93925",
   "metadata": {},
   "outputs": [],
   "source": [
    "# trans_df"
   ]
  },
  {
   "cell_type": "markdown",
   "id": "c2608733",
   "metadata": {},
   "source": [
    "- **id**: 거래식별번호\n",
    "- **date**: 거래일자\n",
    "- **client_id**: 고객id\n",
    "- **card_id**: 카드id\n",
    "- **amount**: 거래금액 => 음수 데이터 존재\n",
    "- **use_chip**: 카드 결제 방식\n",
    "    - Swipe Transaction: 마그네틱 카드로 긁어서 결제\n",
    "    - Chip Transaction: ic칩 카드로 결제\n",
    "    - Online Transaction: 온라인 결제\n",
    "- **merchant_id**: 매장id\n",
    "- **merchant_city**: 매장 위치(시)\n",
    "- **merchant_state**: 매장 위치(주)\n",
    "- **zip**: 매장 우편번호\n",
    "- **mcc**: 매장 분류코드\n",
    "- **errors**: 거래 성공 여부(결제 오류 시 오류 원인이 적혀있음)"
   ]
  },
  {
   "cell_type": "code",
   "execution_count": 5,
   "id": "33d333d4",
   "metadata": {},
   "outputs": [],
   "source": [
    "# user_df"
   ]
  },
  {
   "cell_type": "markdown",
   "id": "da078ec5",
   "metadata": {},
   "source": [
    "- **id**: 고객id\n",
    "- **current_age**: 현재 나이\n",
    "- **retirement_age**: 퇴직 연령\n",
    "- **birth_year**: 출생연도\n",
    "- **gender**: 성별\n",
    "- **address**: 주소\n",
    "- **latitude**: 위도\n",
    "- **longitude**: 경도\n",
    "- **per_capita_income**: 1인당 소득 (전체 소득 / 인구 수)\n",
    "- **yearly_income**: 연봉\n",
    "- **total_debt**: 채무액\n",
    "- **credit_score**: 신용점수\n",
    "- **num_credit_cards**: 보유 중인 신용카드 수"
   ]
  },
  {
   "cell_type": "code",
   "execution_count": 6,
   "id": "59b4cea6",
   "metadata": {},
   "outputs": [
    {
     "data": {
      "text/html": [
       "<div>\n",
       "<style scoped>\n",
       "    .dataframe tbody tr th:only-of-type {\n",
       "        vertical-align: middle;\n",
       "    }\n",
       "\n",
       "    .dataframe tbody tr th {\n",
       "        vertical-align: top;\n",
       "    }\n",
       "\n",
       "    .dataframe thead th {\n",
       "        text-align: right;\n",
       "    }\n",
       "</style>\n",
       "<table border=\"1\" class=\"dataframe\">\n",
       "  <thead>\n",
       "    <tr style=\"text-align: right;\">\n",
       "      <th></th>\n",
       "      <th>index</th>\n",
       "      <th>category</th>\n",
       "    </tr>\n",
       "  </thead>\n",
       "  <tbody>\n",
       "    <tr>\n",
       "      <th>0</th>\n",
       "      <td>5812</td>\n",
       "      <td>Eating Places and Restaurants</td>\n",
       "    </tr>\n",
       "    <tr>\n",
       "      <th>1</th>\n",
       "      <td>5541</td>\n",
       "      <td>Service Stations</td>\n",
       "    </tr>\n",
       "    <tr>\n",
       "      <th>2</th>\n",
       "      <td>7996</td>\n",
       "      <td>Amusement Parks, Carnivals, Circuses</td>\n",
       "    </tr>\n",
       "    <tr>\n",
       "      <th>3</th>\n",
       "      <td>5411</td>\n",
       "      <td>Grocery Stores, Supermarkets</td>\n",
       "    </tr>\n",
       "    <tr>\n",
       "      <th>4</th>\n",
       "      <td>4784</td>\n",
       "      <td>Tolls and Bridge Fees</td>\n",
       "    </tr>\n",
       "    <tr>\n",
       "      <th>...</th>\n",
       "      <td>...</td>\n",
       "      <td>...</td>\n",
       "    </tr>\n",
       "    <tr>\n",
       "      <th>104</th>\n",
       "      <td>7549</td>\n",
       "      <td>Towing Services</td>\n",
       "    </tr>\n",
       "    <tr>\n",
       "      <th>105</th>\n",
       "      <td>5941</td>\n",
       "      <td>Sporting Goods Stores</td>\n",
       "    </tr>\n",
       "    <tr>\n",
       "      <th>106</th>\n",
       "      <td>5722</td>\n",
       "      <td>Household Appliance Stores</td>\n",
       "    </tr>\n",
       "    <tr>\n",
       "      <th>107</th>\n",
       "      <td>3009</td>\n",
       "      <td>Fabricated Structural Metal Products</td>\n",
       "    </tr>\n",
       "    <tr>\n",
       "      <th>108</th>\n",
       "      <td>5733</td>\n",
       "      <td>Music Stores - Musical Instruments</td>\n",
       "    </tr>\n",
       "  </tbody>\n",
       "</table>\n",
       "<p>109 rows × 2 columns</p>\n",
       "</div>"
      ],
      "text/plain": [
       "     index                              category\n",
       "0     5812         Eating Places and Restaurants\n",
       "1     5541                      Service Stations\n",
       "2     7996  Amusement Parks, Carnivals, Circuses\n",
       "3     5411          Grocery Stores, Supermarkets\n",
       "4     4784                 Tolls and Bridge Fees\n",
       "..     ...                                   ...\n",
       "104   7549                       Towing Services\n",
       "105   5941                 Sporting Goods Stores\n",
       "106   5722            Household Appliance Stores\n",
       "107   3009  Fabricated Structural Metal Products\n",
       "108   5733    Music Stores - Musical Instruments\n",
       "\n",
       "[109 rows x 2 columns]"
      ]
     },
     "execution_count": 6,
     "metadata": {},
     "output_type": "execute_result"
    }
   ],
   "source": [
    "mcc_df.reset_index()"
   ]
  },
  {
   "cell_type": "markdown",
   "id": "db921d6c",
   "metadata": {},
   "source": [
    "- mcc별 상점 종류"
   ]
  },
  {
   "cell_type": "code",
   "execution_count": 7,
   "id": "3311f393",
   "metadata": {},
   "outputs": [
    {
     "data": {
      "text/html": [
       "<div>\n",
       "<style scoped>\n",
       "    .dataframe tbody tr th:only-of-type {\n",
       "        vertical-align: middle;\n",
       "    }\n",
       "\n",
       "    .dataframe tbody tr th {\n",
       "        vertical-align: top;\n",
       "    }\n",
       "\n",
       "    .dataframe thead th {\n",
       "        text-align: right;\n",
       "    }\n",
       "</style>\n",
       "<table border=\"1\" class=\"dataframe\">\n",
       "  <thead>\n",
       "    <tr style=\"text-align: right;\">\n",
       "      <th></th>\n",
       "      <th>index</th>\n",
       "      <th>target</th>\n",
       "    </tr>\n",
       "  </thead>\n",
       "  <tbody>\n",
       "    <tr>\n",
       "      <th>0</th>\n",
       "      <td>10649266</td>\n",
       "      <td>No</td>\n",
       "    </tr>\n",
       "    <tr>\n",
       "      <th>1</th>\n",
       "      <td>23410063</td>\n",
       "      <td>No</td>\n",
       "    </tr>\n",
       "    <tr>\n",
       "      <th>2</th>\n",
       "      <td>9316588</td>\n",
       "      <td>No</td>\n",
       "    </tr>\n",
       "    <tr>\n",
       "      <th>3</th>\n",
       "      <td>12478022</td>\n",
       "      <td>No</td>\n",
       "    </tr>\n",
       "    <tr>\n",
       "      <th>4</th>\n",
       "      <td>9558530</td>\n",
       "      <td>No</td>\n",
       "    </tr>\n",
       "    <tr>\n",
       "      <th>...</th>\n",
       "      <td>...</td>\n",
       "      <td>...</td>\n",
       "    </tr>\n",
       "    <tr>\n",
       "      <th>8914958</th>\n",
       "      <td>14064699</td>\n",
       "      <td>No</td>\n",
       "    </tr>\n",
       "    <tr>\n",
       "      <th>8914959</th>\n",
       "      <td>7676538</td>\n",
       "      <td>No</td>\n",
       "    </tr>\n",
       "    <tr>\n",
       "      <th>8914960</th>\n",
       "      <td>15131030</td>\n",
       "      <td>No</td>\n",
       "    </tr>\n",
       "    <tr>\n",
       "      <th>8914961</th>\n",
       "      <td>17244732</td>\n",
       "      <td>No</td>\n",
       "    </tr>\n",
       "    <tr>\n",
       "      <th>8914962</th>\n",
       "      <td>15151926</td>\n",
       "      <td>No</td>\n",
       "    </tr>\n",
       "  </tbody>\n",
       "</table>\n",
       "<p>8914963 rows × 2 columns</p>\n",
       "</div>"
      ],
      "text/plain": [
       "            index target\n",
       "0        10649266     No\n",
       "1        23410063     No\n",
       "2         9316588     No\n",
       "3        12478022     No\n",
       "4         9558530     No\n",
       "...           ...    ...\n",
       "8914958  14064699     No\n",
       "8914959   7676538     No\n",
       "8914960  15131030     No\n",
       "8914961  17244732     No\n",
       "8914962  15151926     No\n",
       "\n",
       "[8914963 rows x 2 columns]"
      ]
     },
     "execution_count": 7,
     "metadata": {},
     "output_type": "execute_result"
    }
   ],
   "source": [
    "fraud_df.reset_index()"
   ]
  },
  {
   "cell_type": "markdown",
   "id": "f6b6ac48",
   "metadata": {},
   "source": [
    "- 거래 id별 정상거래/사기거래 여부"
   ]
  },
  {
   "cell_type": "markdown",
   "id": "d5a1698c",
   "metadata": {},
   "source": [
    "### 데이터 살펴보기"
   ]
  },
  {
   "cell_type": "code",
   "execution_count": 8,
   "id": "2fd4847d",
   "metadata": {},
   "outputs": [],
   "source": [
    "user_df = user_df.rename(columns={'id':'client_id'}) #user_df의 id를 client_id로 변경\n",
    "card_user_df = card_df.merge(user_df, on='client_id') #카드 정보와 고객 정보를 병함(카드 데이터를 기준으로)\n",
    "\n",
    "card_user_df = card_user_df.drop(columns=['card_number','cvv']) #카드 번호, cvv(보안 번호, cvc 번호랑 비슷함) 삭제\n",
    "card_user_df = card_user_df.rename(columns={'id':'card_id'}) #card_df의 id를 card_id로 변경"
   ]
  },
  {
   "cell_type": "code",
   "execution_count": 9,
   "id": "4a6f388c",
   "metadata": {},
   "outputs": [],
   "source": [
    "mcc_df = mcc_df.reset_index() #index 초기화\n",
    "fraud_df = fraud_df.reset_index()\n",
    "\n",
    "fraud_df = fraud_df.rename(columns={'index':'id','target':'fraud_label'}) #fraud_df의 index를 id로 변경,target를 fraud_label로 변경\n",
    "mcc_df = mcc_df.rename(columns={'index':'mcc','category':'merchant_cat'}) #mcc_df의 index를 id로 변경,category를 merchant_cat로 변경\n",
    "\n",
    "trans_df = trans_df.merge(fraud_df, on='id',how='left') #거래 정보와 사기 정보 결합\n",
    "trans_df = trans_df.merge(mcc_df, on='mcc',how='left') #거래 정보와 판매점 정보 결합\n",
    "\n",
    "#거래, 카드, 고객 정보 통합\n",
    "trans_df = trans_df.merge(card_user_df, on=['card_id','client_id'],how='left')"
   ]
  },
  {
   "cell_type": "markdown",
   "id": "bfc11eea",
   "metadata": {},
   "source": [
    "#### trans_df"
   ]
  },
  {
   "cell_type": "markdown",
   "id": "c59b39aa",
   "metadata": {},
   "source": [
    "- date는 datetime으로 바꾸는게 좋아보임\n",
    "- amount 음수인 경우 확인 필요"
   ]
  },
  {
   "cell_type": "markdown",
   "id": "496827e9",
   "metadata": {},
   "source": [
    "- errors의 결측치: 결제 성공 의미 => NaN대신 다른 값으로 변환 필요해 보임\n",
    "- merchant_state => Italy 사기거래 백분율 65% => 단순 우연?\n",
    "- zip => 별 의미 없는 데이터"
   ]
  },
  {
   "cell_type": "markdown",
   "id": "2782fb51",
   "metadata": {},
   "source": [
    "#### 생각해볼만한 것"
   ]
  },
  {
   "cell_type": "markdown",
   "id": "e5ac0c52",
   "metadata": {},
   "source": [
    "- card_brand와 사기거래 관련성\n",
    "- card_type과 사기거래 관련성\n",
    "- has_chip과 사기거래 관련성\n",
    "- credit_limit과 사기거래 관련성"
   ]
  },
  {
   "cell_type": "markdown",
   "id": "8a8cdf99",
   "metadata": {},
   "source": [
    "- date와 사기거래 관련성\n",
    "- amount와 사기거래 관련성\n",
    "- use_chip과 사기거래 관련성\n",
    "- merchant_state와 사기거래 관련성\n",
    "- category와 사기거래 관련성"
   ]
  },
  {
   "cell_type": "markdown",
   "id": "6d1a1b08",
   "metadata": {},
   "source": [
    "- current_age와 사기거래 관련성\n",
    "- gender과 사기거래 관련성\n",
    "- latitude, longitude와 사기거래 관련성\n",
    "- yearly_income와 사기거래 관련성\n",
    "- credit_score와 사기거래 관련성\n",
    "- num_credit_cards와 사기거래 관련성"
   ]
  },
  {
   "cell_type": "markdown",
   "id": "afb961f5",
   "metadata": {},
   "source": [
    "### 중복값 확인"
   ]
  },
  {
   "cell_type": "code",
   "execution_count": 10,
   "id": "653c14a8",
   "metadata": {},
   "outputs": [],
   "source": [
    "#mcc_df[mcc_df.duplicated(keep=False)]"
   ]
  },
  {
   "cell_type": "markdown",
   "id": "a58d9c00",
   "metadata": {},
   "source": [
    "- trans_df와 합치면 상관없음"
   ]
  },
  {
   "cell_type": "markdown",
   "id": "558fd6d1",
   "metadata": {},
   "source": [
    "# Feature Engineering"
   ]
  },
  {
   "cell_type": "markdown",
   "id": "53732f40",
   "metadata": {},
   "source": [
    "해결해야 하는 문제\n",
    "\n",
    "- 제거를 고려하는 변수들: address, latitude, longitude\n",
    "  \n",
    "- 해 마다 갱신 될 가능성이 높은 변수들: per_capita_income, yearly_income, total_debt, credit_score\n",
    "\n",
    "- merchant_state,city 의 처리\n",
    "\n",
    "- year_since_pin_changed의 음수 값 처리"
   ]
  },
  {
   "cell_type": "code",
   "execution_count": 11,
   "id": "9f6a9c34",
   "metadata": {},
   "outputs": [],
   "source": [
    "# mcc 범주화\n",
    "food = ['Eating Places and Restaurants', 'Fast Food Restaurants', 'Drinking Places (Alcoholic Beverages)', 'Grocery Stores, Supermarkets', \n",
    "              'Miscellaneous Food Stores', 'Package Stores, Beer, Wine, Liquor', 'Wholesale Clubs', 'Discount Stores']\n",
    "\n",
    "medical = ['Medical Services', 'Doctors, Physicians', 'Dentists and Orthodontists', 'Chiropractors', 'Podiatrists',\n",
    "                    'Optometrists, Optical Goods and Eyeglasses', 'Hospitals', 'Drug Stores and Pharmacies']\n",
    "\n",
    "transport = ['Service Stations', 'Automotive Service Shops', 'Automotive Body Repair Shops', 'Automotive Parts and Accessories Stores',\n",
    "                       'Taxicabs and Limousines', 'Bus Lines', 'Passenger Railways', 'Railroad Passenger Transport', 'Railroad Freight',\n",
    "                       'Motor Freight Carriers and Trucking', 'Airlines', 'Cruise Lines', 'Lodging - Hotels, Motels, Resorts',\n",
    "                       'Local and Suburban Commuter Transportation']\n",
    "\n",
    "service = ['Laundry Services', 'Car Washes', 'Towing Services', 'Cleaning and Maintenance Services', 'Tax Preparation Services',\n",
    "                   'Accounting, Auditing, and Bookkeeping Services', 'Legal Services and Attorneys', 'Detective Agencies, Security Services', 'Money Transfer',\n",
    "                   'Insurance Sales, Underwriting', 'Travel Agencies']\n",
    "\n",
    "retail = ['Department Stores', 'Family Clothing Stores', \"Women's Ready-To-Wear Stores\", 'Shoe Stores', 'Sports Apparel, Riding Apparel Stores',\n",
    "              'Sporting Goods Stores', 'Leather Goods', 'Precious Stones and Metals', 'Antique Shops', 'Music Stores - Musical Instruments',\n",
    "              'Artist Supply Stores, Craft Shops', 'Book Stores', 'Books, Periodicals, Newspapers', 'Electronics Stores',\n",
    "              'Computers, Computer Peripheral Equipment', 'Digital Goods - Media, Books, Apps', 'Digital Goods - Games', 'Cosmetic Stores',\n",
    "              'Beauty and Barber Shops', 'Gift, Card, Novelty Stores', 'Miscellaneous Home Furnishing Stores', \n",
    "              'Furniture, Home Furnishings, and Equipment Stores', 'Upholstery and Drapery Stores', 'Lighting, Fixtures, Electrical Supplies',\n",
    "              'Floor Covering Stores', 'Lawn and Garden Supply Stores', 'Gardening Supplies', 'Hardware Stores', 'Household Appliance Stores',\n",
    "              'Florists Supplies, Nursery Stock and Flowers', 'Non-Precious Metal Services']\n",
    "\n",
    "industry = ['Lumber and Building Materials', 'Brick, Stone, and Related Materials', 'Industrial Equipment and Supplies',\n",
    "                    'Tools, Parts, Supplies Manufacturing', 'Heating, Plumbing, Air Conditioning Contractors', 'Fabricated Structural Metal Products',\n",
    "                    'Steel Products Manufacturing', 'Steelworks', 'Ironwork', 'Welding Repair', 'Electroplating, Plating, Polishing Services',\n",
    "                    'Heat Treating Metal Services', 'Bolt, Nut, Screw, Rivet Manufacturing', 'Coated and Laminated Products', 'Non-Ferrous Metal Foundries',\n",
    "                    'Steel Drums and Barrels', 'Miscellaneous Metal Fabrication', 'Miscellaneous Metals', 'Miscellaneous Fabricated Metal Products',\n",
    "                    'Miscellaneous Metalwork', 'Pottery and Ceramics', 'Semiconductors and Related Devices', 'Ship Chandlers',\n",
    "                    'Utilities - Electric, Gas, Water, Sanitary', 'Telecommunication Services', 'Computer Network Services', \n",
    "                    'Cable, Satellite, and Other Pay Television Services', 'Postal Services - Government Only', 'Tolls and Bridge Fees', \n",
    "                    'Amusement Parks, Carnivals, Circuses', 'Motion Picture Theaters', 'Theatrical Producers', 'Recreational Sports, Clubs', \n",
    "                    'Athletic Fields, Commercial Sports', 'Betting (including Lottery Tickets, Casinos)', 'Miscellaneous Machinery and Parts Manufacturing']"
   ]
  },
  {
   "cell_type": "code",
   "execution_count": 12,
   "id": "929f30e4",
   "metadata": {},
   "outputs": [],
   "source": [
    "trans_df.loc[trans_df['merchant_cat'].isin(food), 'merchant_cat'] = 'food'\n",
    "trans_df.loc[trans_df['merchant_cat'].isin(medical), 'merchant_cat'] = 'medical'\n",
    "trans_df.loc[trans_df['merchant_cat'].isin(transport), 'merchant_cat'] = 'transport'\n",
    "trans_df.loc[trans_df['merchant_cat'].isin(service), 'merchant_cat'] = 'service'\n",
    "trans_df.loc[trans_df['merchant_cat'].isin(retail), 'merchant_cat'] = 'retail'\n",
    "trans_df.loc[trans_df['merchant_cat'].isin(industry), 'merchant_cat'] = 'industry'"
   ]
  },
  {
   "cell_type": "code",
   "execution_count": 13,
   "id": "7fffcdbb",
   "metadata": {},
   "outputs": [],
   "source": [
    "trans_df['errors'] = trans_df['errors'].fillna(0) #정상 거래는 0값으로 처리\n",
    "\n",
    "#merchant_city가 ONLINE 일 떄 merchant_state도 ONLINE으로 변경\n",
    "trans_df.loc[trans_df['merchant_city'] == 'ONLINE', 'merchant_state'] = 'ONLINE'\n",
    "\n",
    "trans_df['errors'] = trans_df['errors'].fillna(0) #정상 거래는 0값으로 처리\n",
    "\n",
    "trans_df = trans_df.drop(columns=['zip','id','merchant_id','mcc','client_id','card_id','card_on_dark_web'])\n",
    "#고객 ID, 카드 ID, 다크웹에서 카드?, 상점 우편 번호 거래 id, 상점 id 삭제"
   ]
  },
  {
   "cell_type": "code",
   "execution_count": 14,
   "id": "a9c40aac",
   "metadata": {},
   "outputs": [],
   "source": [
    "trans_df['date'] = pd.to_datetime(trans_df['date']) #date의 데이터 구조를 datetime으로 변환\n",
    "\n",
    "#금액에서 $표시를 제거해서 돈과 관련된 수치를 숫자로 변환\n",
    "trans_df['amount'] = pd.to_numeric(trans_df['amount'].str.split('$', expand=True)[1]) #\n",
    "trans_df['credit_limit'] = pd.to_numeric(trans_df['credit_limit'].str.split('$', expand=True)[1]) #\n",
    "trans_df['per_capita_income'] = pd.to_numeric(trans_df['per_capita_income'].str.split('$', expand=True)[1])\n",
    "trans_df['yearly_income'] = pd.to_numeric(trans_df['yearly_income'].str.split('$', expand=True)[1])\n",
    "trans_df['total_debt'] = pd.to_numeric(trans_df['total_debt'].str.split('$', expand=True)[1])"
   ]
  },
  {
   "cell_type": "code",
   "execution_count": 15,
   "id": "b646012f",
   "metadata": {},
   "outputs": [],
   "source": [
    "#거래 날짜와 고객,카드 정보를 통해 시간과 관련된 새로운 피쳐 생성\n",
    "\n",
    "trans_df['day'] = trans_df['date'].dt.day #거래 날짜의 일 생성\n",
    "trans_df['month'] = trans_df['date'].dt.month #거래 날짜의 월 생성\n",
    "trans_df['year'] = trans_df['date'].dt.year #거래 날짜의 년 생성\n",
    "\n",
    "trans_df['expire_month'] = pd.to_numeric(trans_df['expires'].str.split('/', expand=True)[0]) #카드 만료 날의 월 \n",
    "trans_df['expire_year'] = pd.to_numeric(trans_df['expires'].str.split('/', expand=True)[1]) #카드 만료 날의 년\n",
    "\n",
    "trans_df['acct_open_date_month'] = pd.to_numeric(trans_df['acct_open_date'].str.split('/', expand=True)[0]) #계좌 개설 날의 월 \n",
    "trans_df['acct_open_date_year'] = pd.to_numeric(trans_df['acct_open_date'].str.split('/', expand=True)[1]) #계좌 개설 날의 년\n",
    "\n",
    "trans_df['current_age'] = trans_df['year'] - trans_df['birth_year'] #현재 나이를 2019년이 아닌 거래 날짜를 기준으로 변경\n",
    "trans_df['year_since_pin_changed'] = trans_df['year'] - trans_df['year_pin_last_changed'] #핀 번호 변경으로 부터 지난 해 기간\n",
    "trans_df['years_to_retirement'] = trans_df['retirement_age'] - trans_df['current_age'] #은퇴까지 남은 년\n",
    "\n",
    "trans_df['month_to_expires'] = (12*(trans_df['expire_year'] - trans_df['year']) \n",
    "                                + (trans_df['expire_month'] - trans_df['month'])) #카드 만료까지 남은 개월 수\n",
    "\n",
    "trans_df['month_to_acct_open'] = (12*(trans_df['year'] - trans_df['acct_open_date_year']) \n",
    "                                + (trans_df['month'] - trans_df['acct_open_date_month'])) #계좌 개설 후 지난 개월 수\n"
   ]
  },
  {
   "cell_type": "code",
   "execution_count": 16,
   "id": "743e04d8",
   "metadata": {},
   "outputs": [],
   "source": [
    "trans_df = trans_df.drop(columns=['birth_year','birth_month','date','year_pin_last_changed','retirement_age','expires','acct_open_date',\n",
    "                                 'expire_month','expire_year','acct_open_date_month','acct_open_date_year'])"
   ]
  },
  {
   "cell_type": "markdown",
   "id": "518f3238",
   "metadata": {},
   "source": [
    "|연도|소비자 물가 지수|단위 환산|\n",
    "|------|---|---|\n",
    "|2010년|218.1|85.30|\n",
    "|2011년|224.9|87.95|\n",
    "|2012년|229.6|89.79|\n",
    "|2013년|232.9|91.08|\n",
    "|2014년|236.7|92.57|\n",
    "|2015년|237.0|92.69|\n",
    "|2016년|240.0|93.86|\n",
    "|2017년|245.1|95.85|\n",
    "|2018년|251.1|98.20|\n",
    "|2019년|255.7|100|\n",
    "\n",
    "출처: https://ko.tradingeconomics.com/united-states"
   ]
  },
  {
   "cell_type": "code",
   "execution_count": 17,
   "id": "bccba418",
   "metadata": {},
   "outputs": [],
   "source": [
    "#소비자 물기 지수(CPI)로 연봉을 평준화 \n",
    "CPI = {2019:1, 2018:0.982 ,2017:0.9585,2016:0.9386, 2015:0.9269, 2014:0.9257, 2013:0.9108, 2012:0.8979, 2011:0.8795, 2010:0.853}\n",
    "\n",
    "trans_df['CPI'] = trans_df['year'].map(CPI)\n",
    "trans_df['per_capita_income'] = trans_df['per_capita_income']*trans_df['CPI'] #지역 연봉 * CPI 지수 가중치\n",
    "trans_df['yearly_income'] = trans_df['yearly_income']*trans_df['CPI'] #연봉 * CPI 지수 가중치\n",
    "trans_df = trans_df.drop(columns=['CPI'])"
   ]
  },
  {
   "cell_type": "code",
   "execution_count": 18,
   "id": "39012842",
   "metadata": {},
   "outputs": [],
   "source": [
    "#우선 중요도가 낮은 피쳐들을 제거(추후 바뀔 수 있음)\n",
    "trans_df = trans_df.drop(columns=['address','latitude','longitude'])"
   ]
  },
  {
   "cell_type": "code",
   "execution_count": 19,
   "id": "9805d1e5",
   "metadata": {},
   "outputs": [],
   "source": [
    "train_trans_df = trans_df[trans_df['fraud_label'].notnull()] # 사기 정보가 있는 데이터 900만개\n",
    "test_trans_df = trans_df[trans_df['fraud_label'].isnull()] # 사기 정보가 없는 데이터  400만개\n",
    "\n",
    "#사기 거래 정보 값을 Yes, NO에서 1,0으로 변경\n",
    "YN_dict = {\"Yes\": 1, \"No\" : 0}\n",
    "train_trans_df['fraud_label'] = train_trans_df['fraud_label'].map(YN_dict)"
   ]
  },
  {
   "cell_type": "code",
   "execution_count": 20,
   "id": "d5a4e72c",
   "metadata": {},
   "outputs": [
    {
     "data": {
      "text/plain": [
       "Index(['amount', 'use_chip', 'merchant_city', 'merchant_state', 'errors',\n",
       "       'fraud_label', 'merchant_cat', 'card_brand', 'card_type', 'has_chip',\n",
       "       'num_cards_issued', 'credit_limit', 'current_age', 'gender',\n",
       "       'per_capita_income', 'yearly_income', 'total_debt', 'credit_score',\n",
       "       'num_credit_cards', 'day', 'month', 'year', 'year_since_pin_changed',\n",
       "       'years_to_retirement', 'month_to_expires', 'month_to_acct_open'],\n",
       "      dtype='object')"
      ]
     },
     "execution_count": 20,
     "metadata": {},
     "output_type": "execute_result"
    }
   ],
   "source": [
    "#feature\n",
    "train_trans_df.columns"
   ]
  },
  {
   "cell_type": "code",
   "execution_count": 21,
   "id": "083ef3f6",
   "metadata": {},
   "outputs": [
    {
     "name": "stdout",
     "output_type": "stream",
     "text": [
      "<class 'pandas.core.frame.DataFrame'>\n",
      "Index: 8914963 entries, 0 to 13305912\n",
      "Data columns (total 26 columns):\n",
      " #   Column                  Dtype  \n",
      "---  ------                  -----  \n",
      " 0   amount                  float64\n",
      " 1   use_chip                object \n",
      " 2   merchant_city           object \n",
      " 3   merchant_state          object \n",
      " 4   errors                  object \n",
      " 5   fraud_label             int64  \n",
      " 6   merchant_cat            object \n",
      " 7   card_brand              object \n",
      " 8   card_type               object \n",
      " 9   has_chip                object \n",
      " 10  num_cards_issued        int64  \n",
      " 11  credit_limit            int64  \n",
      " 12  current_age             int64  \n",
      " 13  gender                  object \n",
      " 14  per_capita_income       float64\n",
      " 15  yearly_income           float64\n",
      " 16  total_debt              int64  \n",
      " 17  credit_score            int64  \n",
      " 18  num_credit_cards        int64  \n",
      " 19  day                     int32  \n",
      " 20  month                   int32  \n",
      " 21  year                    int32  \n",
      " 22  year_since_pin_changed  int64  \n",
      " 23  years_to_retirement     int64  \n",
      " 24  month_to_expires        int64  \n",
      " 25  month_to_acct_open      int64  \n",
      "dtypes: float64(3), int32(3), int64(11), object(9)\n",
      "memory usage: 1.7+ GB\n"
     ]
    }
   ],
   "source": [
    "train_trans_df.info()"
   ]
  },
  {
   "cell_type": "code",
   "execution_count": 22,
   "id": "2beeae6a",
   "metadata": {},
   "outputs": [
    {
     "data": {
      "text/html": [
       "<div>\n",
       "<style scoped>\n",
       "    .dataframe tbody tr th:only-of-type {\n",
       "        vertical-align: middle;\n",
       "    }\n",
       "\n",
       "    .dataframe tbody tr th {\n",
       "        vertical-align: top;\n",
       "    }\n",
       "\n",
       "    .dataframe thead th {\n",
       "        text-align: right;\n",
       "    }\n",
       "</style>\n",
       "<table border=\"1\" class=\"dataframe\">\n",
       "  <thead>\n",
       "    <tr style=\"text-align: right;\">\n",
       "      <th></th>\n",
       "      <th>amount</th>\n",
       "      <th>use_chip</th>\n",
       "      <th>merchant_city</th>\n",
       "      <th>merchant_state</th>\n",
       "      <th>errors</th>\n",
       "      <th>fraud_label</th>\n",
       "      <th>merchant_cat</th>\n",
       "      <th>card_brand</th>\n",
       "      <th>card_type</th>\n",
       "      <th>has_chip</th>\n",
       "      <th>...</th>\n",
       "      <th>total_debt</th>\n",
       "      <th>credit_score</th>\n",
       "      <th>num_credit_cards</th>\n",
       "      <th>day</th>\n",
       "      <th>month</th>\n",
       "      <th>year</th>\n",
       "      <th>year_since_pin_changed</th>\n",
       "      <th>years_to_retirement</th>\n",
       "      <th>month_to_expires</th>\n",
       "      <th>month_to_acct_open</th>\n",
       "    </tr>\n",
       "  </thead>\n",
       "  <tbody>\n",
       "    <tr>\n",
       "      <th>0</th>\n",
       "      <td>-77.00</td>\n",
       "      <td>Swipe Transaction</td>\n",
       "      <td>Beulah</td>\n",
       "      <td>ND</td>\n",
       "      <td>0</td>\n",
       "      <td>0</td>\n",
       "      <td>food</td>\n",
       "      <td>Mastercard</td>\n",
       "      <td>Debit (Prepaid)</td>\n",
       "      <td>YES</td>\n",
       "      <td>...</td>\n",
       "      <td>110153</td>\n",
       "      <td>740</td>\n",
       "      <td>4</td>\n",
       "      <td>1</td>\n",
       "      <td>1</td>\n",
       "      <td>2010</td>\n",
       "      <td>2</td>\n",
       "      <td>46</td>\n",
       "      <td>150</td>\n",
       "      <td>20</td>\n",
       "    </tr>\n",
       "    <tr>\n",
       "      <th>1</th>\n",
       "      <td>14.57</td>\n",
       "      <td>Swipe Transaction</td>\n",
       "      <td>Bettendorf</td>\n",
       "      <td>IA</td>\n",
       "      <td>0</td>\n",
       "      <td>0</td>\n",
       "      <td>retail</td>\n",
       "      <td>Mastercard</td>\n",
       "      <td>Credit</td>\n",
       "      <td>YES</td>\n",
       "      <td>...</td>\n",
       "      <td>112139</td>\n",
       "      <td>834</td>\n",
       "      <td>5</td>\n",
       "      <td>1</td>\n",
       "      <td>1</td>\n",
       "      <td>2010</td>\n",
       "      <td>-5</td>\n",
       "      <td>28</td>\n",
       "      <td>179</td>\n",
       "      <td>52</td>\n",
       "    </tr>\n",
       "    <tr>\n",
       "      <th>2</th>\n",
       "      <td>80.00</td>\n",
       "      <td>Swipe Transaction</td>\n",
       "      <td>Vista</td>\n",
       "      <td>CA</td>\n",
       "      <td>0</td>\n",
       "      <td>0</td>\n",
       "      <td>service</td>\n",
       "      <td>Mastercard</td>\n",
       "      <td>Debit</td>\n",
       "      <td>YES</td>\n",
       "      <td>...</td>\n",
       "      <td>36540</td>\n",
       "      <td>686</td>\n",
       "      <td>3</td>\n",
       "      <td>1</td>\n",
       "      <td>1</td>\n",
       "      <td>2010</td>\n",
       "      <td>2</td>\n",
       "      <td>25</td>\n",
       "      <td>124</td>\n",
       "      <td>48</td>\n",
       "    </tr>\n",
       "    <tr>\n",
       "      <th>4</th>\n",
       "      <td>46.41</td>\n",
       "      <td>Swipe Transaction</td>\n",
       "      <td>Harwood</td>\n",
       "      <td>MD</td>\n",
       "      <td>0</td>\n",
       "      <td>0</td>\n",
       "      <td>food</td>\n",
       "      <td>Visa</td>\n",
       "      <td>Debit</td>\n",
       "      <td>YES</td>\n",
       "      <td>...</td>\n",
       "      <td>96182</td>\n",
       "      <td>711</td>\n",
       "      <td>2</td>\n",
       "      <td>1</td>\n",
       "      <td>1</td>\n",
       "      <td>2010</td>\n",
       "      <td>-4</td>\n",
       "      <td>27</td>\n",
       "      <td>120</td>\n",
       "      <td>6</td>\n",
       "    </tr>\n",
       "    <tr>\n",
       "      <th>5</th>\n",
       "      <td>4.81</td>\n",
       "      <td>Swipe Transaction</td>\n",
       "      <td>Bronx</td>\n",
       "      <td>NY</td>\n",
       "      <td>0</td>\n",
       "      <td>0</td>\n",
       "      <td>retail</td>\n",
       "      <td>Mastercard</td>\n",
       "      <td>Debit (Prepaid)</td>\n",
       "      <td>YES</td>\n",
       "      <td>...</td>\n",
       "      <td>98613</td>\n",
       "      <td>828</td>\n",
       "      <td>5</td>\n",
       "      <td>1</td>\n",
       "      <td>1</td>\n",
       "      <td>2010</td>\n",
       "      <td>-5</td>\n",
       "      <td>27</td>\n",
       "      <td>50</td>\n",
       "      <td>24</td>\n",
       "    </tr>\n",
       "  </tbody>\n",
       "</table>\n",
       "<p>5 rows × 26 columns</p>\n",
       "</div>"
      ],
      "text/plain": [
       "   amount           use_chip merchant_city merchant_state errors  fraud_label  \\\n",
       "0  -77.00  Swipe Transaction        Beulah             ND      0            0   \n",
       "1   14.57  Swipe Transaction    Bettendorf             IA      0            0   \n",
       "2   80.00  Swipe Transaction         Vista             CA      0            0   \n",
       "4   46.41  Swipe Transaction       Harwood             MD      0            0   \n",
       "5    4.81  Swipe Transaction         Bronx             NY      0            0   \n",
       "\n",
       "  merchant_cat  card_brand        card_type has_chip  ...  total_debt  \\\n",
       "0         food  Mastercard  Debit (Prepaid)      YES  ...      110153   \n",
       "1       retail  Mastercard           Credit      YES  ...      112139   \n",
       "2      service  Mastercard            Debit      YES  ...       36540   \n",
       "4         food        Visa            Debit      YES  ...       96182   \n",
       "5       retail  Mastercard  Debit (Prepaid)      YES  ...       98613   \n",
       "\n",
       "   credit_score  num_credit_cards day  month  year  year_since_pin_changed  \\\n",
       "0           740                 4   1      1  2010                       2   \n",
       "1           834                 5   1      1  2010                      -5   \n",
       "2           686                 3   1      1  2010                       2   \n",
       "4           711                 2   1      1  2010                      -4   \n",
       "5           828                 5   1      1  2010                      -5   \n",
       "\n",
       "   years_to_retirement  month_to_expires  month_to_acct_open  \n",
       "0                   46               150                  20  \n",
       "1                   28               179                  52  \n",
       "2                   25               124                  48  \n",
       "4                   27               120                   6  \n",
       "5                   27                50                  24  \n",
       "\n",
       "[5 rows x 26 columns]"
      ]
     },
     "execution_count": 22,
     "metadata": {},
     "output_type": "execute_result"
    }
   ],
   "source": [
    "train_trans_df.head()"
   ]
  },
  {
   "cell_type": "markdown",
   "id": "efbd360d",
   "metadata": {},
   "source": [
    "- target은 fraud_label\n",
    "- fraud_label 값이 0: 정상 거래 1: 사기 거래\n",
    "\n",
    "- 학습할 데이터: train_trans_df (X,y 분리 안되어 있음)\n",
    "- label encoding 할 feature: errors, merchant_city ,merchant_state, merchant_cat"
   ]
  },
  {
   "cell_type": "code",
   "execution_count": null,
   "id": "ddfdd802",
   "metadata": {},
   "outputs": [],
   "source": []
  },
  {
   "cell_type": "code",
   "execution_count": null,
   "id": "55783aa7-d6ac-4512-a37b-9525a845f4b2",
   "metadata": {},
   "outputs": [],
   "source": [
    "\n",
    "label_encoders = {}\n",
    "\n",
    "categorical_cols = train_trans_df.select_dtypes(include=[\"object\"]).columns\n",
    "label_encoders = {}\n",
    "\n",
    "for col in categorical_cols:\n",
    "    le = LabelEncoder()\n",
    "    train_trans_df[col] = le.fit_transform(train_trans_df[col].astype(str))\n",
    "    test_trans_df[col] = le.transform(test_trans_df[col].astype(str)) \n",
    "    label_encoders[col] = le\n",
    "\n",
    "\n"
   ]
  },
  {
   "cell_type": "code",
   "execution_count": 2,
   "id": "b2e12ed2-1f88-46ba-9cee-ede5f53a61f7",
   "metadata": {},
   "outputs": [
    {
     "ename": "NameError",
     "evalue": "name 'train_trans_df' is not defined",
     "output_type": "error",
     "traceback": [
      "\u001b[31m---------------------------------------------------------------------------\u001b[39m",
      "\u001b[31mNameError\u001b[39m                                 Traceback (most recent call last)",
      "\u001b[36mCell\u001b[39m\u001b[36m \u001b[39m\u001b[32mIn[2]\u001b[39m\u001b[32m, line 1\u001b[39m\n\u001b[32m----> \u001b[39m\u001b[32m1\u001b[39m \u001b[43mtrain_trans_df\u001b[49m.info()\n",
      "\u001b[31mNameError\u001b[39m: name 'train_trans_df' is not defined"
     ]
    }
   ],
   "source": [
    "train_trans_df.info()"
   ]
  },
  {
   "cell_type": "code",
   "execution_count": null,
   "id": "a3da609f-9363-48ff-a81a-57c2504e7d83",
   "metadata": {},
   "outputs": [],
   "source": [
    "test_trans_df.info()"
   ]
  },
  {
   "cell_type": "code",
   "execution_count": null,
   "id": "68b68c11-dbf1-47f6-82bc-d45825296e0c",
   "metadata": {},
   "outputs": [],
   "source": []
  },
  {
   "cell_type": "code",
   "execution_count": null,
   "id": "aeb17274-75d4-4cc7-8c8e-5cd88e1b299f",
   "metadata": {},
   "outputs": [],
   "source": []
  },
  {
   "cell_type": "code",
   "execution_count": null,
   "id": "36df0125-2f18-427e-b66b-50c1f752df36",
   "metadata": {},
   "outputs": [],
   "source": [
    "# LightGBM version: 4.6.0\n",
    "# XGBoost version: 3.0.5\n",
    "# CatBoost version: 1.2.8"
   ]
  },
  {
   "cell_type": "code",
   "execution_count": null,
   "id": "97261576-6c97-4a53-9122-4c1285d3d4f0",
   "metadata": {
    "scrolled": true
   },
   "outputs": [],
   "source": [
    "# !pip install lightgbm xgboost catboost"
   ]
  },
  {
   "cell_type": "code",
   "execution_count": null,
   "id": "1d14aab9-6fda-43b7-8cfd-aa64c95ec374",
   "metadata": {},
   "outputs": [
    {
     "name": "stdout",
     "output_type": "stream",
     "text": [
      "LightGBM version: 4.6.0\n",
      "XGBoost version: 3.0.5\n",
      "CatBoost version: 1.2.8\n"
     ]
    }
   ],
   "source": []
  },
  {
   "cell_type": "code",
   "execution_count": 29,
   "id": "f6a13b90-c228-4b56-bd3d-f86df26e699b",
   "metadata": {},
   "outputs": [],
   "source": [
    "X = train_trans_df.drop(\"fraud_label\", axis=1)\n",
    "y = train_trans_df[\"fraud_label\"]\n",
    "\n",
    "X_unlabeled =test_trans_df.drop(\"fraud_label\", axis=1) "
   ]
  },
  {
   "cell_type": "code",
   "execution_count": 51,
   "id": "d63fc6dd-d853-4525-a7b3-706aba4a1846",
   "metadata": {},
   "outputs": [],
   "source": [
    "X_train, X_val, y_train, y_val = train_test_split(\n",
    "    X, y, test_size=0.2, random_state=42, stratify=y\n",
    ")\n",
    "\n",
    "def evaluate_model(model, X_val, y_val, model_name=\"Model\"):\n",
    "    # 예측값과 확률\n",
    "    preds = model.predict(X_val)\n",
    "    probas = model.predict_proba(X_val)[:, 1]\n",
    "\n",
    "    # 주요 지표\n",
    "    #사기vs정상을 구분하는 능력 0.5=랜덤추측,1.0=완벽한 구분\n",
    "    roc_auc = roc_auc_score(y_val, probas)\n",
    "    \n",
    "    #precision vs recall 의 균형 0 ~ 1.0 ,0.6이상\n",
    "    f1 = f1_score(y_val, preds)\n",
    "    \n",
    "    #정밀도(precision) 높을수록 좋음 0.8이상 양호 0.9 이상 최상\n",
    "    #사기라고 예측한 거래중 실제 사기 비율 - 고객불편\n",
    "    #recall 높을수록 좋음 0.7이상 양호 0.9이상 최상\n",
    "    #실제 사기거래중에서 모델이 잡아낸 비율 - 금전손실위험\n",
    "    # 실제 사기 거래 중에서 모델이 얼마나 잘 잡아내는지를 보기 위해\n",
    "    # 다양한 threshold(0~1)를 기준으로 Precision과 Recall 값을 계산\n",
    "    precision, recall, _ = precision_recall_curve(y_val, probas)\n",
    "\n",
    "    # Precision-Recall 곡선의 면적 (0~1.0 사이 값)\n",
    "    # 불균형 데이터에서 모델 성능을 평가할 때 특히 중요\n",
    "    # 0.7 이상이면 좋은 편, 값이 클수록 사기 거래 탐지 능력이 우수\n",
    "    pr_auc = auc(recall, precision)\n",
    "\n",
    "    # 특정 threshold(기본적으로 0.5) 기준에서의 Precision 값\n",
    "    # '사기라고 예측한 거래 중에서 실제 사기 비율'을 의미\n",
    "    # Precision이 낮으면 정상 거래를 잘못 사기로 예측(FP)이 많다는 뜻\n",
    "    prec = precision_score(y_val, preds)\n",
    "    \n",
    "    rec = recall_score(y_val, preds)\n",
    "\n",
    "    #-1~1 사이값\n",
    "    # 0.5이상 안정적 0.7 이상이면 우수\n",
    "    mcc = matthews_corrcoef(y_val, preds)\n",
    "\n",
    "    #0이상의값 \n",
    "    #작을수록 좋음 0.3 이하 우수\n",
    "    loss = log_loss(y_val, probas)\n",
    "\n",
    "    #TN (8500): 정상 → 정상 맞춤\n",
    "\n",
    "    # FP (300): 정상인데 사기라고 잘못 탐지\n",
    "    \n",
    "    # FN (200): 사기인데 정상으로 놓침 ⚠️ (가장 위험)\n",
    "    \n",
    "    # TP (1000): 사기 → 사기 맞춤\n",
    "    cm = confusion_matrix(y_val, preds)\n",
    "\n",
    "    # 출력\n",
    "    print(f\"\\n {model_name} 결과\")\n",
    "    print(f\"ROC-AUC: {roc_auc:.4f}\")\n",
    "    print(f\"F1: {f1:.4f}\")\n",
    "    print(f\"PR-AUC: {pr_auc:.4f}\")\n",
    "    print(f\"Precision: {prec:.4f}\")\n",
    "    print(f\"Recall: {rec:.4f}\")\n",
    "    print(f\"MCC: {mcc:.4f}\")\n",
    "    print(f\"LogLoss: {loss:.4f}\")\n",
    "    print(\"Confusion Matrix:\")\n",
    "    print(cm)\n",
    "    print(\"\\nClassification Report:\")\n",
    "    print(classification_report(y_val, preds))\n",
    "\n",
    "    return {\n",
    "        \"roc_auc\": roc_auc,\n",
    "        \"f1\": f1,\n",
    "        \"pr_auc\": pr_auc,\n",
    "        \"precision\": prec,\n",
    "        \"recall\": rec,\n",
    "        \"mcc\": mcc,\n",
    "        \"log_loss\": loss,\n",
    "        \"confusion_matrix\": cm\n",
    "    }\n",
    "\n"
   ]
  },
  {
   "cell_type": "code",
   "execution_count": 52,
   "id": "3c37e8b2-2d33-4a6a-9fa6-b2230ed5b09e",
   "metadata": {},
   "outputs": [],
   "source": [
    "# # 테스트 데이터 1%\n",
    "train_sample = train_trans_df.sample(n=10000, random_state=42)\n",
    "X_unlabeled = test_trans_df.sample(n=10000, random_state=42)\n",
    "X = train_sample.drop(\"fraud_label\", axis=1)\n",
    "y = train_sample[\"fraud_label\"]\n",
    "\n",
    "X_train, X_val, y_train, y_val = train_test_split(\n",
    "    X, y, test_size=0.2, random_state=42, stratify=y\n",
    ")"
   ]
  },
  {
   "cell_type": "code",
   "execution_count": null,
   "id": "6cf685b1-cc67-46fb-8dec-6292415c5e7e",
   "metadata": {},
   "outputs": [],
   "source": []
  },
  {
   "cell_type": "code",
   "execution_count": 53,
   "id": "406bb977-7f3d-4989-b3c4-cf56e0ad1485",
   "metadata": {
    "scrolled": true
   },
   "outputs": [
    {
     "name": "stdout",
     "output_type": "stream",
     "text": [
      "\n",
      " LightGBM 결과\n",
      "ROC-AUC: 0.8107\n",
      "F1: 0.0000\n",
      "PR-AUC: 0.6381\n",
      "Precision: 0.0000\n",
      "Recall: 0.0000\n",
      "MCC: 0.0000\n",
      "LogLoss: 0.0084\n",
      "Confusion Matrix:\n",
      "[[1996    0]\n",
      " [   4    0]]\n",
      "\n",
      "Classification Report:\n",
      "              precision    recall  f1-score   support\n",
      "\n",
      "           0       1.00      1.00      1.00      1996\n",
      "           1       0.00      0.00      0.00         4\n",
      "\n",
      "    accuracy                           1.00      2000\n",
      "   macro avg       0.50      0.50      0.50      2000\n",
      "weighted avg       1.00      1.00      1.00      2000\n",
      "\n"
     ]
    }
   ],
   "source": [
    "lgb\n",
    "\n",
    "lgb_model = lgb.LGBMClassifier(\n",
    "    n_estimators=500,\n",
    "    learning_rate=0.05,\n",
    "    class_weight = \"balanced\", #가중치추가\n",
    "    max_depth=-1,\n",
    "    num_leaves=64,\n",
    "    subsample=0.8,\n",
    "    colsample_bytree=0.8,\n",
    "    min_gain_to_split=0.05,\n",
    "    random_state=42,\n",
    "    n_jobs=-1,\n",
    "    verbose=-1,\n",
    ")\n",
    "\n",
    "lgb_model.fit(X_train, y_train)\n",
    "res_lgb = evaluate_model(lgb_model, X_val, y_val, \"LightGBM\")"
   ]
  },
  {
   "cell_type": "code",
   "execution_count": 54,
   "id": "c810131f-c62c-4f43-a57f-c55ddaebad3c",
   "metadata": {},
   "outputs": [
    {
     "name": "stdout",
     "output_type": "stream",
     "text": [
      "\n",
      " XGBoost 결과\n",
      "ROC-AUC: 0.7293\n",
      "F1: 0.0000\n",
      "PR-AUC: 0.2954\n",
      "Precision: 0.0000\n",
      "Recall: 0.0000\n",
      "MCC: 0.0000\n",
      "LogLoss: 0.0139\n",
      "Confusion Matrix:\n",
      "[[1996    0]\n",
      " [   4    0]]\n",
      "\n",
      "Classification Report:\n",
      "              precision    recall  f1-score   support\n",
      "\n",
      "           0       1.00      1.00      1.00      1996\n",
      "           1       0.00      0.00      0.00         4\n",
      "\n",
      "    accuracy                           1.00      2000\n",
      "   macro avg       0.50      0.50      0.50      2000\n",
      "weighted avg       1.00      1.00      1.00      2000\n",
      "\n"
     ]
    }
   ],
   "source": [
    "xgb_model = XGBClassifier(\n",
    "    n_estimators=500,\n",
    "    learning_rate=0.05,\n",
    "    max_depth=6,\n",
    "    subsample=0.8,\n",
    "    colsample_bytree=0.8,\n",
    "    scale_pos_weight=(len(y_train) - sum(y_train)) / sum(y_train),\n",
    "    random_state=42,\n",
    "    n_jobs=-1,\n",
    "    use_label_encoder=False,\n",
    "    eval_metric=\"logloss\"\n",
    ")\n",
    "\n",
    "xgb_model.fit(X_train, y_train)\n",
    "res_xgb = evaluate_model(xgb_model, X_val, y_val, \"XGBoost\")\n"
   ]
  },
  {
   "cell_type": "code",
   "execution_count": 55,
   "id": "2e4fa585-c3e6-423e-aa64-16ab2b840762",
   "metadata": {},
   "outputs": [
    {
     "name": "stdout",
     "output_type": "stream",
     "text": [
      "0:\tlearn: 0.6375373\ttotal: 4.36ms\tremaining: 2.17s\n",
      "100:\tlearn: 0.0115010\ttotal: 395ms\tremaining: 1.56s\n",
      "200:\tlearn: 0.0018084\ttotal: 805ms\tremaining: 1.2s\n",
      "300:\tlearn: 0.0011934\ttotal: 1.15s\tremaining: 763ms\n",
      "400:\tlearn: 0.0011854\ttotal: 1.49s\tremaining: 367ms\n",
      "499:\tlearn: 0.0011853\ttotal: 1.83s\tremaining: 0us\n",
      "\n",
      " CatBoost 결과\n",
      "ROC-AUC: 0.6221\n",
      "F1: 0.0000\n",
      "PR-AUC: 0.0085\n",
      "Precision: 0.0000\n",
      "Recall: 0.0000\n",
      "MCC: 0.0000\n",
      "LogLoss: 0.0163\n",
      "Confusion Matrix:\n",
      "[[1996    0]\n",
      " [   4    0]]\n",
      "\n",
      "Classification Report:\n",
      "              precision    recall  f1-score   support\n",
      "\n",
      "           0       1.00      1.00      1.00      1996\n",
      "           1       0.00      0.00      0.00         4\n",
      "\n",
      "    accuracy                           1.00      2000\n",
      "   macro avg       0.50      0.50      0.50      2000\n",
      "weighted avg       1.00      1.00      1.00      2000\n",
      "\n"
     ]
    }
   ],
   "source": [
    "neg, pos = np.bincount(y_train)\n",
    "scale_pos_weight = neg / pos\n",
    "\n",
    "cat_model = CatBoostClassifier(\n",
    "    iterations=500,\n",
    "    learning_rate=0.05,\n",
    "    depth=6,\n",
    "    class_weights=[1, scale_pos_weight], #가중치추가\n",
    "    random_seed=42,\n",
    "    verbose=100,\n",
    "    task_type=\"CPU\"  \n",
    ")\n",
    "\n",
    "cat_model.fit(X_train, y_train)\n",
    "res_cat = evaluate_model(cat_model, X_val, y_val, \"CatBoost\")"
   ]
  },
  {
   "cell_type": "code",
   "execution_count": 56,
   "id": "a833506c-d7a3-4df4-adbe-a2dbbf0985ed",
   "metadata": {},
   "outputs": [
    {
     "name": "stdout",
     "output_type": "stream",
     "text": [
      "\n",
      " 최종 성능 비교\n",
      "           roc_auc   f1    pr_auc  precision  recall  mcc  log_loss  \\\n",
      "LightGBM  0.810746  0.0  0.638078        0.0     0.0  0.0  0.008395   \n",
      "XGBoost   0.729334  0.0  0.295395        0.0     0.0  0.0  0.013862   \n",
      "CatBoost  0.622119  0.0  0.008541        0.0     0.0  0.0  0.016287   \n",
      "\n",
      "             confusion_matrix  \n",
      "LightGBM  [[1996, 0], [4, 0]]  \n",
      "XGBoost   [[1996, 0], [4, 0]]  \n",
      "CatBoost  [[1996, 0], [4, 0]]  \n"
     ]
    }
   ],
   "source": [
    "results = pd.DataFrame([res_lgb, res_xgb, res_cat], \n",
    "                       index=[\"LightGBM\", \"XGBoost\", \"CatBoost\"])\n",
    "print(\"\\n 최종 성능 비교\")\n",
    "print(results)"
   ]
  },
  {
   "cell_type": "code",
   "execution_count": 57,
   "id": "0b22dc73-70c1-4726-8382-15e2e63fcae7",
   "metadata": {},
   "outputs": [
    {
     "data": {
      "image/png": "[encoded data removed]",
      "text/plain": [
       "<Figure size 800x600 with 1 Axes>"
      ]
     },
     "metadata": {},
     "output_type": "display_data"
    }
   ],
   "source": [
    "import matplotlib.pyplot as plt\n",
    "from sklearn.metrics import precision_recall_curve, auc\n",
    "\n",
    "# 세 모델 확률 예측값 (사기일 확률, 즉 class=1)\n",
    "y_pred_lgbm = lgb_model.predict_proba(X_val)[:, 1]\n",
    "y_pred_xgb  = xgb_model.predict_proba(X_val)[:, 1]\n",
    "y_pred_cat  = cat_model.predict_proba(X_val)[:, 1]\n",
    "\n",
    "precision_lgbm, recall_lgbm, _ = precision_recall_curve(y_val, y_pred_lgbm)\n",
    "precision_xgb,  recall_xgb,  _ = precision_recall_curve(y_val, y_pred_xgb)\n",
    "precision_cat,  recall_cat,  _ = precision_recall_curve(y_val, y_pred_cat)\n",
    "\n",
    "pr_auc_lgbm = auc(recall_lgbm, precision_lgbm)\n",
    "pr_auc_xgb  = auc(recall_xgb, precision_xgb)\n",
    "pr_auc_cat  = auc(recall_cat, precision_cat)\n",
    "\n",
    "# 그래프 출력\n",
    "plt.figure(figsize=(8,6))\n",
    "plt.plot(recall_lgbm, precision_lgbm, label=f\"LGBM (PR-AUC={pr_auc_lgbm:.3f})\")\n",
    "plt.plot(recall_xgb,  precision_xgb,  label=f\"XGBoost (PR-AUC={pr_auc_xgb:.3f})\")\n",
    "plt.plot(recall_cat,  precision_cat,  label=f\"CatBoost (PR-AUC={pr_auc_cat:.3f})\")\n",
    "\n",
    "plt.xlabel(\"Recall\")\n",
    "plt.ylabel(\"Precision\")\n",
    "plt.title(\"Precision-Recall Curve (Fraud Detection)\")\n",
    "plt.legend()\n",
    "plt.grid()\n",
    "plt.show()\n"
   ]
  },
  {
   "cell_type": "code",
   "execution_count": null,
   "id": "416f64ff-4724-4957-b354-bc7befd4b9dc",
   "metadata": {},
   "outputs": [],
   "source": []
  },
  {
   "cell_type": "code",
   "execution_count": 40,
   "id": "68adc843-7ed3-456d-bb8b-26535ab42858",
   "metadata": {},
   "outputs": [
    {
     "name": "stdout",
     "output_type": "stream",
     "text": [
      "\n",
      "===== LightGBM =====\n",
      "ROC-AUC: 0.8403\n",
      "F1: 0.26\n",
      "PR-AUC: 0.2429\n",
      "\n",
      "===== XGBoost =====\n",
      "ROC-AUC: 0.8395\n",
      "F1: 0.08\n",
      "PR-AUC: 0.112\n",
      "\n",
      "===== CatBoost =====\n",
      "ROC-AUC: 0.8089\n",
      "F1: 0.0\n",
      "PR-AUC: 0.0292\n"
     ]
    }
   ],
   "source": [
    "#교차검증\n",
    "cv = StratifiedKFold(n_splits=3, shuffle=True, random_state=42)\n",
    "\n",
    "def evaluate_model(model, X, y, cv):\n",
    "    auc_scores = cross_val_score(model, X, y, cv=cv, scoring=\"roc_auc\", n_jobs=-1)\n",
    "    f1_scores  = cross_val_score(model, X, y, cv=cv, scoring=\"f1\", n_jobs=-1)\n",
    "    pr_scores  = cross_val_score(model, X, y, cv=cv, scoring=\"average_precision\", n_jobs=-1)\n",
    "    return auc_scores, f1_scores, pr_scores\n",
    "\n",
    "\n",
    "models = {\n",
    "    \"LightGBM\": lgb_model,\n",
    "    \"XGBoost\": xgb_model,\n",
    "    \"CatBoost\": cat_model\n",
    "}\n",
    "\n",
    "for name, model in models.items():\n",
    "    auc_scores, f1_scores, pr_scores = evaluate_model(model, X, y, cv)\n",
    "    print(f\"\\n===== {name} =====\")\n",
    "    print(\"ROC-AUC:\", np.mean(auc_scores).round(4))\n",
    "    print(\"F1:\", np.mean(f1_scores).round(4))\n",
    "    print(\"PR-AUC:\", np.mean(pr_scores).round(4))\n",
    "\n",
    "\n",
    "\n"
   ]
  },
  {
   "cell_type": "code",
   "execution_count": 41,
   "id": "a3f6a120-7c02-4e6d-abbc-7140c3f9afe0",
   "metadata": {},
   "outputs": [
    {
     "name": "stdout",
     "output_type": "stream",
     "text": [
      "[LightGBM] [Info] Number of positive: 19, number of negative: 9981\n",
      "[LightGBM] [Info] Auto-choosing col-wise multi-threading, the overhead of testing was 0.001053 seconds.\n",
      "You can set `force_col_wise=true` to remove the overhead.\n",
      "[LightGBM] [Info] Total Bins 2547\n",
      "[LightGBM] [Info] Number of data points in the train set: 10000, number of used features: 25\n",
      "[LightGBM] [Info] [binary:BoostFromScore]: pavg=0.500000 -> initscore=-0.000000\n",
      "[LightGBM] [Info] Start training from score -0.000000\n",
      "[LightGBM] [Warning] No further splits with positive gain, best gain: -inf\n",
      "[LightGBM] [Warning] No further splits with positive gain, best gain: -inf\n",
      "[LightGBM] [Warning] No further splits with positive gain, best gain: -inf\n",
      "[LightGBM] [Warning] No further splits with positive gain, best gain: -inf\n",
      "[LightGBM] [Warning] No further splits with positive gain, best gain: -inf\n",
      "[LightGBM] [Warning] No further splits with positive gain, best gain: -inf\n",
      "[LightGBM] [Warning] No further splits with positive gain, best gain: -inf\n",
      "[LightGBM] [Warning] No further splits with positive gain, best gain: -inf\n",
      "[LightGBM] [Warning] No further splits with positive gain, best gain: -inf\n",
      "[LightGBM] [Warning] No further splits with positive gain, best gain: -inf\n",
      "[LightGBM] [Warning] No further splits with positive gain, best gain: -inf\n",
      "[LightGBM] [Warning] No further splits with positive gain, best gain: -inf\n",
      "[LightGBM] [Warning] No further splits with positive gain, best gain: -inf\n",
      "[LightGBM] [Warning] No further splits with positive gain, best gain: -inf\n",
      "[LightGBM] [Warning] No further splits with positive gain, best gain: -inf\n",
      "[LightGBM] [Warning] No further splits with positive gain, best gain: -inf\n",
      "[LightGBM] [Warning] No further splits with positive gain, best gain: -inf\n",
      "[LightGBM] [Warning] No further splits with positive gain, best gain: -inf\n",
      "[LightGBM] [Warning] No further splits with positive gain, best gain: -inf\n",
      "[LightGBM] [Warning] No further splits with positive gain, best gain: -inf\n",
      "[LightGBM] [Warning] No further splits with positive gain, best gain: -inf\n",
      "[LightGBM] [Warning] No further splits with positive gain, best gain: -inf\n",
      "[LightGBM] [Warning] No further splits with positive gain, best gain: -inf\n",
      "[LightGBM] [Warning] No further splits with positive gain, best gain: -inf\n",
      "[LightGBM] [Warning] No further splits with positive gain, best gain: -inf\n",
      "[LightGBM] [Warning] No further splits with positive gain, best gain: -inf\n",
      "[LightGBM] [Warning] No further splits with positive gain, best gain: -inf\n",
      "[LightGBM] [Warning] No further splits with positive gain, best gain: -inf\n",
      "[LightGBM] [Warning] No further splits with positive gain, best gain: -inf\n",
      "[LightGBM] [Warning] No further splits with positive gain, best gain: -inf\n",
      "[LightGBM] [Warning] No further splits with positive gain, best gain: -inf\n",
      "[LightGBM] [Warning] No further splits with positive gain, best gain: -inf\n",
      "[LightGBM] [Warning] No further splits with positive gain, best gain: -inf\n",
      "[LightGBM] [Warning] No further splits with positive gain, best gain: -inf\n",
      "[LightGBM] [Warning] No further splits with positive gain, best gain: -inf\n",
      "[LightGBM] [Warning] No further splits with positive gain, best gain: -inf\n",
      "[LightGBM] [Warning] No further splits with positive gain, best gain: -inf\n",
      "[LightGBM] [Warning] No further splits with positive gain, best gain: -inf\n",
      "[LightGBM] [Warning] No further splits with positive gain, best gain: -inf\n",
      "[LightGBM] [Warning] No further splits with positive gain, best gain: -inf\n",
      "[LightGBM] [Warning] No further splits with positive gain, best gain: -inf\n",
      "[LightGBM] [Warning] No further splits with positive gain, best gain: -inf\n",
      "[LightGBM] [Warning] No further splits with positive gain, best gain: -inf\n",
      "[LightGBM] [Warning] No further splits with positive gain, best gain: -inf\n",
      "[LightGBM] [Warning] No further splits with positive gain, best gain: -inf\n",
      "[LightGBM] [Warning] No further splits with positive gain, best gain: -inf\n",
      "[LightGBM] [Warning] No further splits with positive gain, best gain: -inf\n",
      "[LightGBM] [Warning] No further splits with positive gain, best gain: -inf\n",
      "[LightGBM] [Warning] No further splits with positive gain, best gain: -inf\n",
      "[LightGBM] [Warning] No further splits with positive gain, best gain: -inf\n",
      "[LightGBM] [Warning] No further splits with positive gain, best gain: -inf\n",
      "[LightGBM] [Warning] No further splits with positive gain, best gain: -inf\n",
      "[LightGBM] [Warning] No further splits with positive gain, best gain: -inf\n",
      "[LightGBM] [Warning] No further splits with positive gain, best gain: -inf\n",
      "[LightGBM] [Warning] No further splits with positive gain, best gain: -inf\n",
      "[LightGBM] [Warning] No further splits with positive gain, best gain: -inf\n",
      "[LightGBM] [Warning] No further splits with positive gain, best gain: -inf\n",
      "[LightGBM] [Warning] No further splits with positive gain, best gain: -inf\n",
      "[LightGBM] [Warning] No further splits with positive gain, best gain: -inf\n",
      "[LightGBM] [Warning] No further splits with positive gain, best gain: -inf\n",
      "[LightGBM] [Warning] No further splits with positive gain, best gain: -inf\n",
      "[LightGBM] [Warning] No further splits with positive gain, best gain: -inf\n",
      "[LightGBM] [Warning] No further splits with positive gain, best gain: -inf\n",
      "[LightGBM] [Warning] No further splits with positive gain, best gain: -inf\n",
      "[LightGBM] [Warning] No further splits with positive gain, best gain: -inf\n",
      "[LightGBM] [Warning] No further splits with positive gain, best gain: -inf\n",
      "[LightGBM] [Warning] No further splits with positive gain, best gain: -inf\n",
      "[LightGBM] [Warning] No further splits with positive gain, best gain: -inf\n",
      "[LightGBM] [Warning] No further splits with positive gain, best gain: -inf\n",
      "[LightGBM] [Warning] No further splits with positive gain, best gain: -inf\n",
      "[LightGBM] [Warning] No further splits with positive gain, best gain: -inf\n",
      "[LightGBM] [Warning] No further splits with positive gain, best gain: -inf\n",
      "[LightGBM] [Warning] No further splits with positive gain, best gain: -inf\n",
      "[LightGBM] [Warning] No further splits with positive gain, best gain: -inf\n",
      "[LightGBM] [Warning] No further splits with positive gain, best gain: -inf\n",
      "[LightGBM] [Warning] No further splits with positive gain, best gain: -inf\n",
      "[LightGBM] [Warning] No further splits with positive gain, best gain: -inf\n",
      "[LightGBM] [Warning] No further splits with positive gain, best gain: -inf\n",
      "[LightGBM] [Warning] No further splits with positive gain, best gain: -inf\n",
      "[LightGBM] [Warning] No further splits with positive gain, best gain: -inf\n",
      "[LightGBM] [Warning] No further splits with positive gain, best gain: -inf\n",
      "[LightGBM] [Warning] No further splits with positive gain, best gain: -inf\n",
      "[LightGBM] [Warning] No further splits with positive gain, best gain: -inf\n",
      "[LightGBM] [Warning] No further splits with positive gain, best gain: -inf\n",
      "[LightGBM] [Warning] No further splits with positive gain, best gain: -inf\n",
      "[LightGBM] [Warning] No further splits with positive gain, best gain: -inf\n",
      "[LightGBM] [Warning] No further splits with positive gain, best gain: -inf\n",
      "[LightGBM] [Warning] No further splits with positive gain, best gain: -inf\n",
      "[LightGBM] [Warning] No further splits with positive gain, best gain: -inf\n",
      "[LightGBM] [Warning] No further splits with positive gain, best gain: -inf\n",
      "[LightGBM] [Warning] No further splits with positive gain, best gain: -inf\n",
      "[LightGBM] [Warning] No further splits with positive gain, best gain: -inf\n",
      "[LightGBM] [Warning] No further splits with positive gain, best gain: -inf\n",
      "[LightGBM] [Warning] No further splits with positive gain, best gain: -inf\n",
      "[LightGBM] [Warning] No further splits with positive gain, best gain: -inf\n",
      "[LightGBM] [Warning] No further splits with positive gain, best gain: -inf\n",
      "[LightGBM] [Warning] No further splits with positive gain, best gain: -inf\n",
      "[LightGBM] [Warning] No further splits with positive gain, best gain: -inf\n",
      "[LightGBM] [Warning] No further splits with positive gain, best gain: -inf\n",
      "[LightGBM] [Warning] No further splits with positive gain, best gain: -inf\n",
      "[LightGBM] [Warning] No further splits with positive gain, best gain: -inf\n",
      "[LightGBM] [Warning] No further splits with positive gain, best gain: -inf\n",
      "[LightGBM] [Warning] No further splits with positive gain, best gain: -inf\n",
      "[LightGBM] [Warning] No further splits with positive gain, best gain: -inf\n",
      "[LightGBM] [Warning] No further splits with positive gain, best gain: -inf\n",
      "[LightGBM] [Warning] No further splits with positive gain, best gain: -inf\n",
      "[LightGBM] [Warning] No further splits with positive gain, best gain: -inf\n",
      "[LightGBM] [Warning] No further splits with positive gain, best gain: -inf\n",
      "[LightGBM] [Warning] No further splits with positive gain, best gain: -inf\n",
      "[LightGBM] [Warning] No further splits with positive gain, best gain: -inf\n",
      "[LightGBM] [Warning] No further splits with positive gain, best gain: -inf\n",
      "[LightGBM] [Warning] No further splits with positive gain, best gain: -inf\n",
      "[LightGBM] [Warning] No further splits with positive gain, best gain: -inf\n",
      "[LightGBM] [Warning] No further splits with positive gain, best gain: -inf\n",
      "[LightGBM] [Warning] No further splits with positive gain, best gain: -inf\n",
      "[LightGBM] [Warning] No further splits with positive gain, best gain: -inf\n",
      "[LightGBM] [Warning] No further splits with positive gain, best gain: -inf\n",
      "[LightGBM] [Warning] No further splits with positive gain, best gain: -inf\n",
      "[LightGBM] [Warning] No further splits with positive gain, best gain: -inf\n",
      "[LightGBM] [Warning] No further splits with positive gain, best gain: -inf\n",
      "[LightGBM] [Warning] No further splits with positive gain, best gain: -inf\n",
      "[LightGBM] [Warning] No further splits with positive gain, best gain: -inf\n",
      "[LightGBM] [Warning] No further splits with positive gain, best gain: -inf\n",
      "[LightGBM] [Warning] No further splits with positive gain, best gain: -inf\n",
      "[LightGBM] [Warning] No further splits with positive gain, best gain: -inf\n",
      "[LightGBM] [Warning] No further splits with positive gain, best gain: -inf\n",
      "[LightGBM] [Warning] No further splits with positive gain, best gain: -inf\n",
      "[LightGBM] [Warning] No further splits with positive gain, best gain: -inf\n",
      "[LightGBM] [Warning] No further splits with positive gain, best gain: -inf\n",
      "[LightGBM] [Warning] No further splits with positive gain, best gain: -inf\n",
      "[LightGBM] [Warning] No further splits with positive gain, best gain: -inf\n",
      "[LightGBM] [Warning] No further splits with positive gain, best gain: -inf\n",
      "[LightGBM] [Warning] No further splits with positive gain, best gain: -inf\n",
      "[LightGBM] [Warning] No further splits with positive gain, best gain: -inf\n",
      "[LightGBM] [Warning] No further splits with positive gain, best gain: -inf\n",
      "[LightGBM] [Warning] No further splits with positive gain, best gain: -inf\n",
      "[LightGBM] [Warning] No further splits with positive gain, best gain: -inf\n",
      "[LightGBM] [Warning] No further splits with positive gain, best gain: -inf\n",
      "[LightGBM] [Warning] No further splits with positive gain, best gain: -inf\n",
      "[LightGBM] [Warning] No further splits with positive gain, best gain: -inf\n",
      "[LightGBM] [Warning] No further splits with positive gain, best gain: -inf\n",
      "[LightGBM] [Warning] No further splits with positive gain, best gain: -inf\n",
      "[LightGBM] [Warning] No further splits with positive gain, best gain: -inf\n",
      "[LightGBM] [Warning] No further splits with positive gain, best gain: -inf\n",
      "[LightGBM] [Warning] No further splits with positive gain, best gain: -inf\n",
      "[LightGBM] [Warning] No further splits with positive gain, best gain: -inf\n",
      "[LightGBM] [Warning] No further splits with positive gain, best gain: -inf\n",
      "[LightGBM] [Warning] No further splits with positive gain, best gain: -inf\n",
      "[LightGBM] [Warning] No further splits with positive gain, best gain: -inf\n",
      "[LightGBM] [Warning] No further splits with positive gain, best gain: -inf\n",
      "[LightGBM] [Warning] No further splits with positive gain, best gain: -inf\n",
      "[LightGBM] [Warning] No further splits with positive gain, best gain: -inf\n",
      "[LightGBM] [Warning] No further splits with positive gain, best gain: -inf\n",
      "[LightGBM] [Warning] No further splits with positive gain, best gain: -inf\n",
      "[LightGBM] [Warning] No further splits with positive gain, best gain: -inf\n",
      "[LightGBM] [Warning] No further splits with positive gain, best gain: -inf\n",
      "[LightGBM] [Warning] No further splits with positive gain, best gain: -inf\n",
      "[LightGBM] [Warning] No further splits with positive gain, best gain: -inf\n",
      "[LightGBM] [Warning] No further splits with positive gain, best gain: -inf\n",
      "[LightGBM] [Warning] No further splits with positive gain, best gain: -inf\n",
      "[LightGBM] [Warning] No further splits with positive gain, best gain: -inf\n",
      "[LightGBM] [Warning] No further splits with positive gain, best gain: -inf\n",
      "[LightGBM] [Warning] No further splits with positive gain, best gain: -inf\n",
      "[LightGBM] [Warning] No further splits with positive gain, best gain: -inf\n",
      "[LightGBM] [Warning] No further splits with positive gain, best gain: -inf\n",
      "[LightGBM] [Warning] No further splits with positive gain, best gain: -inf\n",
      "[LightGBM] [Warning] No further splits with positive gain, best gain: -inf\n",
      "[LightGBM] [Warning] No further splits with positive gain, best gain: -inf\n",
      "[LightGBM] [Warning] No further splits with positive gain, best gain: -inf\n",
      "[LightGBM] [Warning] No further splits with positive gain, best gain: -inf\n",
      "[LightGBM] [Warning] No further splits with positive gain, best gain: -inf\n",
      "[LightGBM] [Warning] No further splits with positive gain, best gain: -inf\n",
      "[LightGBM] [Warning] No further splits with positive gain, best gain: -inf\n",
      "[LightGBM] [Warning] No further splits with positive gain, best gain: -inf\n",
      "[LightGBM] [Warning] No further splits with positive gain, best gain: -inf\n",
      "[LightGBM] [Warning] No further splits with positive gain, best gain: -inf\n",
      "[LightGBM] [Warning] No further splits with positive gain, best gain: -inf\n",
      "[LightGBM] [Warning] No further splits with positive gain, best gain: -inf\n",
      "[LightGBM] [Warning] No further splits with positive gain, best gain: -inf\n",
      "[LightGBM] [Warning] No further splits with positive gain, best gain: -inf\n",
      "[LightGBM] [Warning] No further splits with positive gain, best gain: -inf\n",
      "[LightGBM] [Warning] No further splits with positive gain, best gain: -inf\n",
      "[LightGBM] [Warning] No further splits with positive gain, best gain: -inf\n",
      "[LightGBM] [Warning] No further splits with positive gain, best gain: -inf\n",
      "[LightGBM] [Warning] No further splits with positive gain, best gain: -inf\n",
      "[LightGBM] [Warning] No further splits with positive gain, best gain: -inf\n",
      "[LightGBM] [Warning] No further splits with positive gain, best gain: -inf\n",
      "[LightGBM] [Warning] No further splits with positive gain, best gain: -inf\n",
      "[LightGBM] [Warning] No further splits with positive gain, best gain: -inf\n",
      "[LightGBM] [Warning] No further splits with positive gain, best gain: -inf\n",
      "[LightGBM] [Warning] No further splits with positive gain, best gain: -inf\n",
      "[LightGBM] [Warning] No further splits with positive gain, best gain: -inf\n",
      "[LightGBM] [Warning] No further splits with positive gain, best gain: -inf\n",
      "[LightGBM] [Warning] No further splits with positive gain, best gain: -inf\n",
      "[LightGBM] [Warning] No further splits with positive gain, best gain: -inf\n",
      "[LightGBM] [Warning] No further splits with positive gain, best gain: -inf\n",
      "[LightGBM] [Warning] No further splits with positive gain, best gain: -inf\n",
      "[LightGBM] [Warning] No further splits with positive gain, best gain: -inf\n",
      "[LightGBM] [Warning] No further splits with positive gain, best gain: -inf\n",
      "[LightGBM] [Warning] No further splits with positive gain, best gain: -inf\n",
      "[LightGBM] [Warning] No further splits with positive gain, best gain: -inf\n",
      "[LightGBM] [Warning] No further splits with positive gain, best gain: -inf\n",
      "[LightGBM] [Warning] No further splits with positive gain, best gain: -inf\n",
      "[LightGBM] [Warning] No further splits with positive gain, best gain: -inf\n",
      "[LightGBM] [Warning] No further splits with positive gain, best gain: -inf\n",
      "[LightGBM] [Warning] No further splits with positive gain, best gain: -inf\n",
      "[LightGBM] [Warning] No further splits with positive gain, best gain: -inf\n",
      "[LightGBM] [Warning] No further splits with positive gain, best gain: -inf\n",
      "[LightGBM] [Warning] No further splits with positive gain, best gain: -inf\n",
      "[LightGBM] [Warning] No further splits with positive gain, best gain: -inf\n",
      "[LightGBM] [Warning] No further splits with positive gain, best gain: -inf\n",
      "[LightGBM] [Warning] No further splits with positive gain, best gain: -inf\n",
      "[LightGBM] [Warning] No further splits with positive gain, best gain: -inf\n",
      "[LightGBM] [Warning] No further splits with positive gain, best gain: -inf\n",
      "[LightGBM] [Warning] No further splits with positive gain, best gain: -inf\n",
      "[LightGBM] [Warning] No further splits with positive gain, best gain: -inf\n",
      "[LightGBM] [Warning] No further splits with positive gain, best gain: -inf\n",
      "[LightGBM] [Warning] No further splits with positive gain, best gain: -inf\n",
      "[LightGBM] [Warning] No further splits with positive gain, best gain: -inf\n",
      "[LightGBM] [Warning] No further splits with positive gain, best gain: -inf\n",
      "[LightGBM] [Warning] No further splits with positive gain, best gain: -inf\n",
      "[LightGBM] [Warning] No further splits with positive gain, best gain: -inf\n",
      "[LightGBM] [Warning] No further splits with positive gain, best gain: -inf\n",
      "[LightGBM] [Warning] No further splits with positive gain, best gain: -inf\n",
      "[LightGBM] [Warning] No further splits with positive gain, best gain: -inf\n",
      "[LightGBM] [Warning] No further splits with positive gain, best gain: -inf\n",
      "[LightGBM] [Warning] No further splits with positive gain, best gain: -inf\n",
      "[LightGBM] [Warning] No further splits with positive gain, best gain: -inf\n",
      "[LightGBM] [Warning] No further splits with positive gain, best gain: -inf\n",
      "[LightGBM] [Warning] No further splits with positive gain, best gain: -inf\n",
      "[LightGBM] [Warning] No further splits with positive gain, best gain: -inf\n",
      "[LightGBM] [Warning] No further splits with positive gain, best gain: -inf\n",
      "[LightGBM] [Warning] No further splits with positive gain, best gain: -inf\n",
      "[LightGBM] [Warning] No further splits with positive gain, best gain: -inf\n",
      "[LightGBM] [Warning] No further splits with positive gain, best gain: -inf\n",
      "[LightGBM] [Warning] No further splits with positive gain, best gain: -inf\n",
      "[LightGBM] [Warning] No further splits with positive gain, best gain: -inf\n",
      "[LightGBM] [Warning] No further splits with positive gain, best gain: -inf\n",
      "[LightGBM] [Warning] No further splits with positive gain, best gain: -inf\n",
      "[LightGBM] [Warning] No further splits with positive gain, best gain: -inf\n",
      "[LightGBM] [Warning] No further splits with positive gain, best gain: -inf\n",
      "[LightGBM] [Warning] No further splits with positive gain, best gain: -inf\n",
      "[LightGBM] [Warning] No further splits with positive gain, best gain: -inf\n",
      "[LightGBM] [Warning] No further splits with positive gain, best gain: -inf\n",
      "[LightGBM] [Warning] No further splits with positive gain, best gain: -inf\n",
      "[LightGBM] [Warning] No further splits with positive gain, best gain: -inf\n",
      "[LightGBM] [Warning] No further splits with positive gain, best gain: -inf\n",
      "[LightGBM] [Warning] No further splits with positive gain, best gain: -inf\n",
      "[LightGBM] [Warning] No further splits with positive gain, best gain: -inf\n",
      "[LightGBM] [Warning] No further splits with positive gain, best gain: -inf\n",
      "[LightGBM] [Warning] No further splits with positive gain, best gain: -inf\n",
      "[LightGBM] [Warning] No further splits with positive gain, best gain: -inf\n",
      "[LightGBM] [Warning] No further splits with positive gain, best gain: -inf\n",
      "[LightGBM] [Warning] No further splits with positive gain, best gain: -inf\n",
      "[LightGBM] [Warning] No further splits with positive gain, best gain: -inf\n",
      "[LightGBM] [Warning] No further splits with positive gain, best gain: -inf\n",
      "[LightGBM] [Warning] No further splits with positive gain, best gain: -inf\n",
      "[LightGBM] [Warning] No further splits with positive gain, best gain: -inf\n",
      "[LightGBM] [Warning] No further splits with positive gain, best gain: -inf\n",
      "[LightGBM] [Warning] No further splits with positive gain, best gain: -inf\n",
      "[LightGBM] [Warning] No further splits with positive gain, best gain: -inf\n",
      "[LightGBM] [Warning] No further splits with positive gain, best gain: -inf\n",
      "[LightGBM] [Warning] No further splits with positive gain, best gain: -inf\n",
      "[LightGBM] [Warning] No further splits with positive gain, best gain: -inf\n",
      "[LightGBM] [Warning] No further splits with positive gain, best gain: -inf\n",
      "[LightGBM] [Warning] No further splits with positive gain, best gain: -inf\n",
      "[LightGBM] [Warning] No further splits with positive gain, best gain: -inf\n",
      "[LightGBM] [Warning] No further splits with positive gain, best gain: -inf\n",
      "[LightGBM] [Warning] No further splits with positive gain, best gain: -inf\n",
      "[LightGBM] [Warning] No further splits with positive gain, best gain: -inf\n",
      "[LightGBM] [Warning] No further splits with positive gain, best gain: -inf\n",
      "[LightGBM] [Warning] No further splits with positive gain, best gain: -inf\n",
      "[LightGBM] [Warning] No further splits with positive gain, best gain: -inf\n",
      "[LightGBM] [Warning] No further splits with positive gain, best gain: -inf\n",
      "[LightGBM] [Warning] No further splits with positive gain, best gain: -inf\n",
      "[LightGBM] [Warning] No further splits with positive gain, best gain: -inf\n"
     ]
    },
    {
     "data": {
      "image/png": "[encoded data removed]",
      "text/plain": [
       "<Figure size 640x480 with 1 Axes>"
      ]
     },
     "metadata": {},
     "output_type": "display_data"
    }
   ],
   "source": [
    "#교차검증 그래프\n",
    "from sklearn.metrics import precision_recall_curve\n",
    "\n",
    "y_pred_proba = lgb_model.fit(X, y).predict_proba(X)[:,1]\n",
    "prec, rec, thres = precision_recall_curve(y, y_pred_proba)\n",
    "\n",
    "import matplotlib.pyplot as plt\n",
    "plt.plot(thres, prec[:-1], label=\"Precision\")\n",
    "plt.plot(thres, rec[:-1], label=\"Recall\")\n",
    "plt.xlabel(\"Threshold\")\n",
    "plt.legend(); plt.show()\n"
   ]
  },
  {
   "cell_type": "code",
   "execution_count": 42,
   "id": "c8882442-c492-409d-828d-f35086b93dc3",
   "metadata": {},
   "outputs": [
    {
     "name": "stdout",
     "output_type": "stream",
     "text": [
      "===== Ensemble (Proba 평균) =====\n",
      "ROC-AUC: 1.0\n",
      "F1: 0.0\n",
      "PR-AUC: 1.0\n",
      "\n",
      "Classification Report:\n",
      "              precision    recall  f1-score   support\n",
      "\n",
      "           0     0.9980    1.0000    0.9990      1996\n",
      "           1     0.0000    0.0000    0.0000         4\n",
      "\n",
      "    accuracy                         0.9980      2000\n",
      "   macro avg     0.4990    0.5000    0.4995      2000\n",
      "weighted avg     0.9960    0.9980    0.9970      2000\n",
      "\n",
      "\n",
      "Confusion Matrix:\n",
      "[[1996    0]\n",
      " [   4    0]]\n"
     ]
    }
   ],
   "source": [
    "import numpy as np\n",
    "from sklearn.metrics import roc_auc_score, f1_score, average_precision_score, classification_report, confusion_matrix\n",
    "\n",
    "proba_lgb = lgb_model.predict_proba(X_val)[:, 1]\n",
    "proba_xgb = xgb_model.predict_proba(X_val)[:, 1]\n",
    "proba_cat = cat_model.predict_proba(X_val)[:, 1]\n",
    "\n",
    "weights = [0.2,0.4,0.4]\n",
    "\n",
    "proba_ensemble = (\n",
    "    weights[0] * proba_lgb +\n",
    "    weights[1] * proba_xgb +\n",
    "    weights[2] * proba_cat\n",
    ")\n",
    "\n",
    "preds_ensemble = (proba_ensemble >= 0.5).astype(int)\n",
    "\n",
    "roc_auc = roc_auc_score(y_val, proba_ensemble)\n",
    "f1 = f1_score(y_val, preds_ensemble)\n",
    "pr_auc = average_precision_score(y_val, proba_ensemble)\n",
    "\n",
    "print(\"===== Ensemble (Proba 평균) =====\")\n",
    "print(\"ROC-AUC:\", round(roc_auc, 4))\n",
    "print(\"F1:\", round(f1, 4))\n",
    "print(\"PR-AUC:\", round(pr_auc, 4))\n",
    "\n",
    "print(\"\\nClassification Report:\")\n",
    "print(classification_report(y_val, preds_ensemble, digits=4))\n",
    "\n",
    "print(\"\\nConfusion Matrix:\")\n",
    "print(confusion_matrix(y_val, preds_ensemble))\n"
   ]
  },
  {
   "cell_type": "code",
   "execution_count": 43,
   "id": "c34e298a-968f-4f17-8888-058134461771",
   "metadata": {},
   "outputs": [
    {
     "name": "stdout",
     "output_type": "stream",
     "text": [
      "===== Ensemble (Proba 평균) =====\n",
      "ROC-AUC: 1.0\n",
      "F1: 0.0\n",
      "PR-AUC: 1.0\n",
      "\n",
      "Classification Report:\n",
      "              precision    recall  f1-score   support\n",
      "\n",
      "           0     0.9980    1.0000    0.9990      1996\n",
      "           1     0.0000    0.0000    0.0000         4\n",
      "\n",
      "    accuracy                         0.9980      2000\n",
      "   macro avg     0.4990    0.5000    0.4995      2000\n",
      "weighted avg     0.9960    0.9980    0.9970      2000\n",
      "\n",
      "\n",
      "Confusion Matrix:\n",
      "[[1996    0]\n",
      " [   4    0]]\n"
     ]
    }
   ],
   "source": [
    "import numpy as np\n",
    "from sklearn.metrics import roc_auc_score, f1_score, average_precision_score, classification_report, confusion_matrix\n",
    "\n",
    "proba_lgb = lgb_model.predict_proba(X_val)[:, 1]\n",
    "proba_xgb = xgb_model.predict_proba(X_val)[:, 1]\n",
    "proba_cat = cat_model.predict_proba(X_val)[:, 1]\n",
    "\n",
    "weights = [0.2,0.4,0.4]\n",
    "\n",
    "proba_ensemble = (\n",
    "    weights[0] * proba_lgb +\n",
    "    weights[1] * proba_xgb +\n",
    "    weights[2] * proba_cat\n",
    ")\n",
    "\n",
    "preds_ensemble = (proba_ensemble >= 0.3).astype(int)\n",
    "\n",
    "roc_auc = roc_auc_score(y_val, proba_ensemble)\n",
    "f1 = f1_score(y_val, preds_ensemble)\n",
    "pr_auc = average_precision_score(y_val, proba_ensemble)\n",
    "\n",
    "print(\"===== Ensemble (Proba 평균) =====\")\n",
    "print(\"ROC-AUC:\", round(roc_auc, 4))\n",
    "print(\"F1:\", round(f1, 4))\n",
    "print(\"PR-AUC:\", round(pr_auc, 4))\n",
    "\n",
    "print(\"\\nClassification Report:\")\n",
    "print(classification_report(y_val, preds_ensemble, digits=4))\n",
    "\n",
    "print(\"\\nConfusion Matrix:\")\n",
    "print(confusion_matrix(y_val, preds_ensemble))\n"
   ]
  },
  {
   "cell_type": "code",
   "execution_count": 44,
   "id": "6cd2a6fa-0793-42ea-b7d4-585201ebb8e2",
   "metadata": {},
   "outputs": [
    {
     "name": "stdout",
     "output_type": "stream",
     "text": [
      "    Threshold  Precision  Recall   F1  MCC\n",
      "0        0.10        1.0     1.0  1.0  1.0\n",
      "1        0.15        1.0     1.0  1.0  1.0\n",
      "2        0.20        1.0     1.0  1.0  1.0\n",
      "3        0.25        0.0     0.0  0.0  0.0\n",
      "4        0.30        0.0     0.0  0.0  0.0\n",
      "5        0.35        0.0     0.0  0.0  0.0\n",
      "6        0.40        0.0     0.0  0.0  0.0\n",
      "7        0.45        0.0     0.0  0.0  0.0\n",
      "8        0.50        0.0     0.0  0.0  0.0\n",
      "9        0.55        0.0     0.0  0.0  0.0\n",
      "10       0.60        0.0     0.0  0.0  0.0\n",
      "11       0.65        0.0     0.0  0.0  0.0\n",
      "12       0.70        0.0     0.0  0.0  0.0\n",
      "13       0.75        0.0     0.0  0.0  0.0\n",
      "14       0.80        0.0     0.0  0.0  0.0\n",
      "15       0.85        0.0     0.0  0.0  0.0\n",
      "\n",
      " F1 기준 최적 threshold: 0.1, F1=1.0000\n",
      " MCC 기준 최적 threshold: 0.1, MCC=1.0000\n"
     ]
    }
   ],
   "source": [
    "import numpy as np\n",
    "import pandas as pd\n",
    "import matplotlib.pyplot as plt\n",
    "from sklearn.metrics import precision_score, recall_score, f1_score, matthews_corrcoef\n",
    "\n",
    "thresholds = np.arange(0.1, 0.9, 0.05)\n",
    "results = []\n",
    "\n",
    "best_f1, best_th, best_mcc, best_mcc_th = 0, 0, -1, 0\n",
    "\n",
    "for th in thresholds:\n",
    "    preds = (proba_ensemble >= th).astype(int)\n",
    "    prec = precision_score(y_val, preds, zero_division=0)\n",
    "    rec  = recall_score(y_val, preds, zero_division=0)\n",
    "    f1   = f1_score(y_val, preds, zero_division=0)\n",
    "    mcc  = matthews_corrcoef(y_val, preds)\n",
    "    results.append((th, prec, rec, f1, mcc))\n",
    "    \n",
    "    if f1 > best_f1:\n",
    "        best_f1, best_th = f1, th\n",
    "    if mcc > best_mcc:\n",
    "        best_mcc, best_mcc_th = mcc, th\n",
    "\n",
    "df_results = pd.DataFrame(results, columns=[\"Threshold\", \"Precision\", \"Recall\", \"F1\", \"MCC\"])\n",
    "print(df_results.round(4))\n",
    "\n",
    "print(f\"\\n F1 기준 최적 threshold: {best_th}, F1={best_f1:.4f}\")\n",
    "print(f\" MCC 기준 최적 threshold: {best_mcc_th}, MCC={best_mcc:.4f}\")"
   ]
  },
  {
   "cell_type": "code",
   "execution_count": 45,
   "id": "0861f5ce-a797-454f-a950-5c3fc0d66823",
   "metadata": {},
   "outputs": [
    {
     "data": {
      "image/png": "[encoded data removed]",
      "text/plain": [
       "<Figure size 600x400 with 1 Axes>"
      ]
     },
     "metadata": {},
     "output_type": "display_data"
    }
   ],
   "source": [
    "plt.figure(figsize=(6,4))\n",
    "plt.plot(df_results[\"Threshold\"], df_results[\"Precision\"], label=\"Precision\")\n",
    "plt.plot(df_results[\"Threshold\"], df_results[\"Recall\"], label=\"Recall\")\n",
    "plt.plot(df_results[\"Threshold\"], df_results[\"F1\"], label=\"F1\")\n",
    "plt.xlabel(\"Threshold\")\n",
    "plt.ylabel(\"Score\")\n",
    "plt.title(\"Ensemble Threshold Tuning\")\n",
    "plt.legend()\n",
    "plt.grid()\n",
    "plt.show()"
   ]
  },
  {
   "cell_type": "code",
   "execution_count": null,
   "id": "d6d9e522-6476-43c0-aa9f-c15a6364e054",
   "metadata": {},
   "outputs": [],
   "source": []
  },
  {
   "cell_type": "code",
   "execution_count": 46,
   "id": "5aec84e7-beeb-4047-9930-40767ab408c3",
   "metadata": {},
   "outputs": [
    {
     "data": {
      "image/png": "[encoded data removed]",
      "text/plain": [
       "<Figure size 640x480 with 1 Axes>"
      ]
     },
     "metadata": {},
     "output_type": "display_data"
    },
    {
     "data": {
      "image/png": "[encoded data removed]",
      "text/plain": [
       "<Figure size 640x480 with 1 Axes>"
      ]
     },
     "metadata": {},
     "output_type": "display_data"
    },
    {
     "data": {
      "image/png": "[encoded data removed]",
      "text/plain": [
       "<Figure size 640x480 with 1 Axes>"
      ]
     },
     "metadata": {},
     "output_type": "display_data"
    }
   ],
   "source": [
    "def plot_feature_importance(model_name, features, importances, top_n=20):\n",
    "    idx = np.argsort(importances)[::-1][:top_n]\n",
    "    plt.barh(np.array(features)[idx][::-1], np.array(importances)[idx][::-1])\n",
    "    plt.title(f\"{model_name} Feature Importance (Top {top_n})\")\n",
    "    plt.xlabel(\"Importance score\")\n",
    "    plt.ylabel(\"Features\")\n",
    "    plt.show()\n",
    "\n",
    "# LightGBM\n",
    "fi_lgb = lgb_model.feature_importances_\n",
    "plot_feature_importance(\"LightGBM\", X_val.columns, fi_lgb)\n",
    "\n",
    "# XGBoost\n",
    "fi_xgb = xgb_model.feature_importances_  # numpy array\n",
    "plot_feature_importance(\"XGBoost\", X_val.columns, fi_xgb)\n",
    "\n",
    "# CatBoost\n",
    "fi_cat = cat_model.get_feature_importance()\n",
    "plot_feature_importance(\"CatBoost\", X_val.columns, fi_cat)\n"
   ]
  },
  {
   "cell_type": "code",
   "execution_count": null,
   "id": "0d85f3cf-e7ce-49e2-bd3c-cc1658c4aefc",
   "metadata": {},
   "outputs": [],
   "source": [
    "static"
   ]
  },
  {
   "cell_type": "code",
   "execution_count": null,
   "id": "eaf914e8-b688-45b7-889b-1ea35dce8d1a",
   "metadata": {},
   "outputs": [],
   "source": [
    "# import matplotlib.pyplot as plt\n",
    "# import shap\n",
    "\n",
    "# #어떤변수가 사기탐지에 기여했는지 확인가능\n",
    "# # LightGBM Feature Importance\n",
    "# lgb.plot_importance(lgb_model, max_num_features=20, importance_type=\"gain\")\n",
    "# plt.title(\"LightGBM Feature Importance\")\n",
    "# plt.show()\n"
   ]
  },
  {
   "cell_type": "code",
   "execution_count": null,
   "id": "8b0a54ea-f546-489c-9658-47e36361ee91",
   "metadata": {
    "scrolled": true
   },
   "outputs": [],
   "source": [
    "# # X_unlabeled (400만 데이터, 라벨 없음)\n",
    "# # 피처 단계에서 x_unlabeled 지정해주기 (사기결과값이 없는 데이터)\n",
    "# proba_unlabeled = lgb_model.predict_proba(X_unlabeled)[:, 1]\n",
    "\n",
    "# pred_unlabeled = pd.DataFrame({\n",
    "#     \"transaction_id\": X_unlabeled.index,\n",
    "#     \"fraud_probability\": proba_unlabeled\n",
    "# })\n",
    "\n",
    "# # pred_unlabeled.to_csv(\"fraud_predictions_unlabeled.csv\", index=False)\n",
    "# # print(\"fraud_predictions_unlabeled.csv 저장\")\n",
    "# pred_unlabeled[\"fraud_probability\"] = pred_unlabeled[\"fraud_probability\"].round(3)\n",
    "# print(pred_unlabeled.head()) \n",
    "# print(pred_unlabeled.sample(10))\n",
    "\n"
   ]
  },
  {
   "cell_type": "code",
   "execution_count": null,
   "id": "3c97fba3-70a0-4a6d-988e-6d032687a175",
   "metadata": {},
   "outputs": [],
   "source": [
    "# # 사기 가능성이 높은/낮은 샘플만 pseudo-label로 사용\n",
    "# high_conf_mask = (proba_unlabeled > 0.9) | (proba_unlabeled < 0.1)\n",
    "\n",
    "# X_pseudo = X_unlabeled[high_conf_mask]\n",
    "# y_pseudo = (proba_unlabeled[high_conf_mask] > 0.5).astype(int)\n",
    "\n",
    "# # 학습 데이터에 추가\n",
    "# X_train_new = pd.concat([X_train, X_pseudo])\n",
    "# y_train_new = pd.concat([y_train, pd.Series(y_pseudo, index=X_pseudo.index)])\n",
    "\n",
    "# lgb_model_retrained = lgb.LGBMClassifier(\n",
    "#     n_estimators=500, learning_rate=0.05, num_leaves=64,\n",
    "#     subsample=0.8, colsample_bytree=0.8, random_state=42, n_jobs=-1\n",
    "# )\n",
    "\n",
    "# xgb_model_retrained = XGBClassifier(\n",
    "#     n_estimators=500, learning_rate=0.05, max_depth=6,\n",
    "#     subsample=0.8, colsample_bytree=0.8, random_state=42, n_jobs=-1,\n",
    "#     eval_metric=\"logloss\", use_label_encoder=False\n",
    "# )\n",
    "\n",
    "# cat_model_retrained = CatBoostClassifier(\n",
    "#     iterations=500, learning_rate=0.05, depth=6,\n",
    "#     subsample=0.8, colsample_bylevel=0.8, random_seed=42,\n",
    "#     verbose=0\n",
    "# )\n",
    "\n",
    "# lgb_model_retrained.fit(X_train_new, y_train_new)\n",
    "\n",
    "# # 성능 확인\n",
    "# res_retrained = evaluate_model(lgb_model_retrained, X_val, y_val, \"LightGBM (Pseudo-labeled)\")\n"
   ]
  },
  {
   "cell_type": "code",
   "execution_count": null,
   "id": "1d5dcd42-5762-4d40-ba22-b00365ef126d",
   "metadata": {},
   "outputs": [],
   "source": []
  },
  {
   "cell_type": "code",
   "execution_count": null,
   "id": "d6351718-b93e-433e-9e20-addae442f6f9",
   "metadata": {},
   "outputs": [],
   "source": []
  },
  {
   "cell_type": "code",
   "execution_count": null,
   "id": "ec0aa2db-03bd-4fda-abf0-8cf930580182",
   "metadata": {},
   "outputs": [],
   "source": [
    "스태킹\n"
   ]
  },
  {
   "cell_type": "code",
   "execution_count": null,
   "id": "ee96d567-438e-46e5-9fb3-775e4b7f6485",
   "metadata": {},
   "outputs": [],
   "source": []
  },
  {
   "cell_type": "code",
   "execution_count": null,
   "id": "46fc563b-8270-4066-a1e4-83de1365bd0d",
   "metadata": {},
   "outputs": [],
   "source": []
  },
  {
   "cell_type": "code",
   "execution_count": null,
   "id": "0e88ff63-a8ef-4a41-abff-6cc0157fab83",
   "metadata": {},
   "outputs": [],
   "source": []
  },
  {
   "cell_type": "code",
   "execution_count": null,
   "id": "62692756-db4d-4d3a-be69-4694fff29110",
   "metadata": {},
   "outputs": [],
   "source": []
  },
  {
   "cell_type": "code",
   "execution_count": null,
   "id": "193e0cdf-36ce-4d57-8371-5bdbde6a8106",
   "metadata": {},
   "outputs": [],
   "source": []
  },
  {
   "cell_type": "code",
   "execution_count": null,
   "id": "3affd1be-125c-45b2-b49a-f229e367c87a",
   "metadata": {},
   "outputs": [],
   "source": []
  },
  {
   "cell_type": "code",
   "execution_count": null,
   "id": "0e260caa-a11d-4389-968c-5fedbf74d6ec",
   "metadata": {},
   "outputs": [],
   "source": []
  },
  {
   "cell_type": "code",
   "execution_count": null,
   "id": "1ab14f7f-25b7-4d98-8e7b-d5e8ca944d9c",
   "metadata": {},
   "outputs": [],
   "source": []
  },
  {
   "cell_type": "code",
   "execution_count": null,
   "id": "9935f0b3-fd0e-4347-9d3a-d1e02513228c",
   "metadata": {},
   "outputs": [],
   "source": []
  },
  {
   "cell_type": "code",
   "execution_count": null,
   "id": "ca5aaafb-b8d2-423a-ad32-671f813930e6",
   "metadata": {},
   "outputs": [],
   "source": []
  },
  {
   "cell_type": "code",
   "execution_count": null,
   "id": "10c82db3-a289-4afb-9350-da50eccf38a2",
   "metadata": {},
   "outputs": [],
   "source": []
  },
  {
   "cell_type": "code",
   "execution_count": null,
   "id": "c672598a-e1ab-4b28-b041-91ff1dcffd97",
   "metadata": {},
   "outputs": [],
   "source": []
  },
  {
   "cell_type": "code",
   "execution_count": null,
   "id": "45e6aeff-0a97-4e4a-9d65-fb6e6b253c32",
   "metadata": {},
   "outputs": [],
   "source": []
  },
  {
   "cell_type": "code",
   "execution_count": null,
   "id": "74d39212-019b-4421-ac58-8f26ad5bd10a",
   "metadata": {},
   "outputs": [],
   "source": []
  },
  {
   "cell_type": "code",
   "execution_count": null,
   "id": "ce0fd585-2e24-4517-ad04-091bc430812f",
   "metadata": {},
   "outputs": [],
   "source": []
  },
  {
   "cell_type": "code",
   "execution_count": null,
   "id": "90473122-163c-4545-a0ae-e1a8f6d88d40",
   "metadata": {},
   "outputs": [],
   "source": []
  },
  {
   "cell_type": "code",
   "execution_count": null,
   "id": "4c170dd3-8d92-4b7a-ac12-de750c0bae5b",
   "metadata": {},
   "outputs": [],
   "source": []
  },
  {
   "cell_type": "code",
   "execution_count": null,
   "id": "48576eba-d356-4bdb-a57d-c2abd60afd0f",
   "metadata": {},
   "outputs": [],
   "source": []
  },
  {
   "cell_type": "code",
   "execution_count": null,
   "id": "82c545ad-12cd-42dc-a807-485f650666ee",
   "metadata": {},
   "outputs": [],
   "source": []
  },
  {
   "cell_type": "code",
   "execution_count": null,
   "id": "a7e6d489-bba6-46e4-b86d-3504ce894bb0",
   "metadata": {},
   "outputs": [],
   "source": []
  },
  {
   "cell_type": "code",
   "execution_count": null,
   "id": "b3a5efbb-7c08-4be5-8bcf-140ae188f63d",
   "metadata": {},
   "outputs": [],
   "source": []
  },
  {
   "cell_type": "code",
   "execution_count": null,
   "id": "e31cd2e2-e90c-4715-ae9c-97780bf1c671",
   "metadata": {},
   "outputs": [],
   "source": []
  },
  {
   "cell_type": "code",
   "execution_count": null,
   "id": "0bd58803-75c9-478d-80de-9ae67a7994c9",
   "metadata": {},
   "outputs": [],
   "source": []
  },
  {
   "cell_type": "code",
   "execution_count": null,
   "id": "2b98a1e2-7f22-46bf-a58f-552e1a062b0f",
   "metadata": {},
   "outputs": [],
   "source": []
  },
  {
   "cell_type": "code",
   "execution_count": null,
   "id": "6a295b26-28b5-471a-a9d1-dc85ddda4861",
   "metadata": {},
   "outputs": [],
   "source": []
  },
  {
   "cell_type": "code",
   "execution_count": null,
   "id": "02124b8b-91fe-46e0-8d80-1be1a43e8ab0",
   "metadata": {},
   "outputs": [],
   "source": []
  },
  {
   "cell_type": "code",
   "execution_count": null,
   "id": "311a63dc-347d-4393-9749-32460995f30a",
   "metadata": {},
   "outputs": [],
   "source": []
  },
  {
   "cell_type": "code",
   "execution_count": null,
   "id": "78a2f989-4dd0-4927-a642-ff8f6900b293",
   "metadata": {},
   "outputs": [],
   "source": []
  },
  {
   "cell_type": "code",
   "execution_count": null,
   "id": "f2dc7f0a-081b-4f34-91dc-2d3ed6782f24",
   "metadata": {},
   "outputs": [],
   "source": []
  },
  {
   "cell_type": "code",
   "execution_count": null,
   "id": "063ee3e2-5120-4130-bb27-acfd5c69336a",
   "metadata": {},
   "outputs": [],
   "source": []
  },
  {
   "cell_type": "code",
   "execution_count": null,
   "id": "e06f2da0-cf34-4567-a04a-a2c078616150",
   "metadata": {},
   "outputs": [],
   "source": []
  },
  {
   "cell_type": "code",
   "execution_count": null,
   "id": "3c1e9a32-4e41-4c34-a76a-bd8b9c7f0531",
   "metadata": {},
   "outputs": [],
   "source": []
  },
  {
   "cell_type": "code",
   "execution_count": null,
   "id": "59353eb1-ae56-4e5a-a632-68c313845101",
   "metadata": {},
   "outputs": [],
   "source": []
  },
  {
   "cell_type": "code",
   "execution_count": null,
   "id": "44204316-54e9-4cec-9cdf-0ce491d4c4a4",
   "metadata": {},
   "outputs": [],
   "source": []
  },
  {
   "cell_type": "code",
   "execution_count": null,
   "id": "e8897eda-82f6-4bd9-abcc-4ea2085a67d1",
   "metadata": {},
   "outputs": [],
   "source": []
  },
  {
   "cell_type": "code",
   "execution_count": null,
   "id": "d9aedc2f-1474-43ea-95a6-30cf7a9350aa",
   "metadata": {},
   "outputs": [],
   "source": []
  },
  {
   "cell_type": "code",
   "execution_count": null,
   "id": "16b3720c-ab57-4359-8151-8a3787747e76",
   "metadata": {},
   "outputs": [],
   "source": []
  },
  {
   "cell_type": "code",
   "execution_count": null,
   "id": "5002fe49-97ba-43f3-8fab-49a2ddd7fb13",
   "metadata": {},
   "outputs": [],
   "source": []
  },
  {
   "cell_type": "code",
   "execution_count": null,
   "id": "29af0d8a-0cdc-46d2-a5d6-ab309d20cffc",
   "metadata": {},
   "outputs": [],
   "source": []
  },
  {
   "cell_type": "code",
   "execution_count": null,
   "id": "10fd08e3-d323-485e-afd8-311d4e6df4d7",
   "metadata": {},
   "outputs": [],
   "source": []
  },
  {
   "cell_type": "code",
   "execution_count": null,
   "id": "5fde46c4-e3cb-4b79-8317-c22028568d70",
   "metadata": {},
   "outputs": [],
   "source": []
  },
  {
   "cell_type": "code",
   "execution_count": null,
   "id": "317240c3-fc6b-4ce8-866b-f41f61294b0f",
   "metadata": {},
   "outputs": [],
   "source": []
  },
  {
   "cell_type": "code",
   "execution_count": null,
   "id": "f78379f4-77c7-4350-be2f-55e2cdead083",
   "metadata": {},
   "outputs": [],
   "source": []
  },
  {
   "cell_type": "code",
   "execution_count": null,
   "id": "cf446d9e-6f49-4b63-a6ce-c6ec8b3c620f",
   "metadata": {},
   "outputs": [],
   "source": []
  },
  {
   "cell_type": "code",
   "execution_count": null,
   "id": "88e2fd39-029b-41fc-afaa-955f186ce271",
   "metadata": {},
   "outputs": [],
   "source": []
  },
  {
   "cell_type": "code",
   "execution_count": null,
   "id": "64aca6f8-99a0-4b47-b0be-b9725baa1bd9",
   "metadata": {},
   "outputs": [],
   "source": []
  },
  {
   "cell_type": "code",
   "execution_count": null,
   "id": "a28c40ec-34b6-4646-af04-aa82b08f67bf",
   "metadata": {},
   "outputs": [],
   "source": []
  },
  {
   "cell_type": "code",
   "execution_count": null,
   "id": "8b778c85-fa08-4262-956d-2a0054009ad7",
   "metadata": {},
   "outputs": [],
   "source": []
  },
  {
   "cell_type": "code",
   "execution_count": null,
   "id": "26682900-df52-4ae6-9c7b-7bfaec62865b",
   "metadata": {},
   "outputs": [],
   "source": []
  },
  {
   "cell_type": "code",
   "execution_count": null,
   "id": "56a23588-9afb-485d-8432-ca769571a7bc",
   "metadata": {},
   "outputs": [],
   "source": []
  },
  {
   "cell_type": "code",
   "execution_count": null,
   "id": "3e2992da-027d-49af-a597-3102795890b7",
   "metadata": {},
   "outputs": [],
   "source": []
  },
  {
   "cell_type": "code",
   "execution_count": null,
   "id": "0564bf9a-a4ee-4035-b3b8-2133592b82e1",
   "metadata": {},
   "outputs": [],
   "source": []
  },
  {
   "cell_type": "code",
   "execution_count": null,
   "id": "dd945660-44b2-432c-b9a3-50e818018166",
   "metadata": {},
   "outputs": [],
   "source": []
  },
  {
   "cell_type": "code",
   "execution_count": null,
   "id": "2028d87d-03e9-46ec-9ed4-8c5339c4fe9e",
   "metadata": {},
   "outputs": [],
   "source": []
  },
  {
   "cell_type": "code",
   "execution_count": null,
   "id": "7cbd22df-5c21-4fcc-b14f-66bc84542bc4",
   "metadata": {},
   "outputs": [],
   "source": []
  },
  {
   "cell_type": "code",
   "execution_count": null,
   "id": "ede22048-d692-4d1a-a142-9db03de3b9f3",
   "metadata": {},
   "outputs": [],
   "source": []
  },
  {
   "cell_type": "code",
   "execution_count": null,
   "id": "8c4d96b6-581e-4169-80b4-53c1b0891c7c",
   "metadata": {},
   "outputs": [],
   "source": []
  },
  {
   "cell_type": "code",
   "execution_count": null,
   "id": "a5b556a7-24be-4c38-b623-8a3573f58aeb",
   "metadata": {},
   "outputs": [],
   "source": []
  },
  {
   "cell_type": "code",
   "execution_count": null,
   "id": "393c1ffd-5dee-4c5a-bb89-b8801330b777",
   "metadata": {},
   "outputs": [],
   "source": []
  },
  {
   "cell_type": "code",
   "execution_count": null,
   "id": "ff9ed44f-1ce9-413c-9953-e0c64d0e743e",
   "metadata": {},
   "outputs": [],
   "source": []
  },
  {
   "cell_type": "code",
   "execution_count": null,
   "id": "83b04a93-7b4a-4ee9-ab47-b80986111f67",
   "metadata": {},
   "outputs": [],
   "source": []
  },
  {
   "cell_type": "code",
   "execution_count": null,
   "id": "1cdd8e30-887c-4517-93ed-d53b2e210946",
   "metadata": {},
   "outputs": [],
   "source": []
  },
  {
   "cell_type": "code",
   "execution_count": null,
   "id": "321f56dc-e428-4c31-b0b1-a3db1cad75e4",
   "metadata": {},
   "outputs": [],
   "source": []
  },
  {
   "cell_type": "code",
   "execution_count": null,
   "id": "53ce1b19-1ac4-4def-937a-162a986562f9",
   "metadata": {},
   "outputs": [],
   "source": []
  },
  {
   "cell_type": "code",
   "execution_count": null,
   "id": "443d4265-b1e1-437b-9b03-fe9ef242ab3d",
   "metadata": {},
   "outputs": [],
   "source": []
  },
  {
   "cell_type": "code",
   "execution_count": null,
   "id": "f4d6bbbf-de3b-4db3-a72f-d01c63c59327",
   "metadata": {},
   "outputs": [],
   "source": []
  },
  {
   "cell_type": "code",
   "execution_count": null,
   "id": "fc3073b1-807a-4a06-b6b8-feb1c3fb09a4",
   "metadata": {},
   "outputs": [],
   "source": []
  },
  {
   "cell_type": "code",
   "execution_count": null,
   "id": "8f33c216-d1a6-4511-87f7-8a4515d4947f",
   "metadata": {},
   "outputs": [],
   "source": []
  },
  {
   "cell_type": "code",
   "execution_count": null,
   "id": "db031014-c03c-4c90-a452-f8359ca842e9",
   "metadata": {},
   "outputs": [],
   "source": []
  },
  {
   "cell_type": "code",
   "execution_count": null,
   "id": "cffdb8f2-dacb-4c7c-a503-a31935fe2add",
   "metadata": {},
   "outputs": [],
   "source": []
  },
  {
   "cell_type": "code",
   "execution_count": null,
   "id": "8fe6ae15-af77-4d43-b014-20c8352c9654",
   "metadata": {},
   "outputs": [],
   "source": []
  },
  {
   "cell_type": "code",
   "execution_count": null,
   "id": "4d5b4d38-294f-47a8-a864-f1a52bf3b4d6",
   "metadata": {},
   "outputs": [],
   "source": []
  },
  {
   "cell_type": "code",
   "execution_count": null,
   "id": "b54f68e9-9dc1-4951-bebd-dc256efcfe60",
   "metadata": {},
   "outputs": [],
   "source": []
  },
  {
   "cell_type": "code",
   "execution_count": null,
   "id": "7bca72f5-1eac-498e-8a24-4188527c6b4a",
   "metadata": {},
   "outputs": [],
   "source": []
  },
  {
   "cell_type": "code",
   "execution_count": null,
   "id": "de3e81e0-c065-4c01-993d-adf2492c2f32",
   "metadata": {},
   "outputs": [],
   "source": []
  },
  {
   "cell_type": "code",
   "execution_count": null,
   "id": "06b208a3-3eeb-453e-870a-af55680c613e",
   "metadata": {},
   "outputs": [],
   "source": []
  },
  {
   "cell_type": "code",
   "execution_count": null,
   "id": "3d9b12bc-3abb-4b68-b608-d2772720c2ad",
   "metadata": {},
   "outputs": [],
   "source": []
  },
  {
   "cell_type": "code",
   "execution_count": null,
   "id": "a578bfb8-dd02-42ba-a8fb-e808b30d9e46",
   "metadata": {},
   "outputs": [],
   "source": []
  },
  {
   "cell_type": "code",
   "execution_count": null,
   "id": "74e4b8a5-2f1e-4abe-8944-ff2140b2d2da",
   "metadata": {},
   "outputs": [],
   "source": []
  },
  {
   "cell_type": "code",
   "execution_count": null,
   "id": "e0e59342-82a5-4ca1-89e9-8d11954ccb58",
   "metadata": {},
   "outputs": [],
   "source": []
  },
  {
   "cell_type": "code",
   "execution_count": null,
   "id": "dcc4d4bc-6d68-4208-9080-c78bfd08b57b",
   "metadata": {},
   "outputs": [],
   "source": []
  },
  {
   "cell_type": "code",
   "execution_count": null,
   "id": "0f310acb-1b8b-4d0e-9e59-356fb31c0f6d",
   "metadata": {},
   "outputs": [],
   "source": []
  },
  {
   "cell_type": "code",
   "execution_count": null,
   "id": "e8346c30-c0f3-439f-ab80-262ff650b7cd",
   "metadata": {},
   "outputs": [],
   "source": []
  },
  {
   "cell_type": "code",
   "execution_count": null,
   "id": "294ef470-7b5f-4dcd-842b-34231a2d860c",
   "metadata": {},
   "outputs": [],
   "source": []
  },
  {
   "cell_type": "code",
   "execution_count": null,
   "id": "7d30eba0-1eab-44a0-936c-f518ed101875",
   "metadata": {},
   "outputs": [],
   "source": []
  },
  {
   "cell_type": "code",
   "execution_count": null,
   "id": "f6ea5d20-6cba-422f-b298-22f4bf7275a1",
   "metadata": {},
   "outputs": [],
   "source": []
  },
  {
   "cell_type": "code",
   "execution_count": null,
   "id": "47b8d708-346f-42df-913d-ef62c2b59a4d",
   "metadata": {},
   "outputs": [],
   "source": []
  },
  {
   "cell_type": "code",
   "execution_count": null,
   "id": "58cd3583-b170-4635-a622-92963c884a86",
   "metadata": {},
   "outputs": [],
   "source": []
  },
  {
   "cell_type": "code",
   "execution_count": null,
   "id": "92660981-d83a-4c1b-842e-30e9655cb50c",
   "metadata": {},
   "outputs": [],
   "source": []
  }
 ],
 "metadata": {
  "kernelspec": {
   "display_name": "python (project_env)",
   "language": "python",
   "name": "myenv"
  },
  "language_info": {
   "codemirror_mode": {
    "name": "ipython",
    "version": 3
   },
   "file_extension": ".py",
   "mimetype": "text/x-python",
   "name": "python",
   "nbconvert_exporter": "python",
   "pygments_lexer": "ipython3",
   "version": "3.13.5"
  }
 },
 "nbformat": 4,
 "nbformat_minor": 5
}
