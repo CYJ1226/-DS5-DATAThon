{
 "cells": [
  {
   "cell_type": "markdown",
   "id": "293f2173-a277-4d39-a8d9-c45d19feec52",
   "metadata": {},
   "source": [
    "- 사기거래탐지"
   ]
  },
  {
   "cell_type": "code",
   "execution_count": 1,
   "id": "8f256086-902d-4b8e-9988-0cfba3960e16",
   "metadata": {},
   "outputs": [],
   "source": [
    "import numpy as np\n",
    "import pandas as pd\n",
    "import matplotlib.pyplot as plt\n",
    "import seaborn as sns\n",
    "import warnings\n",
    "warnings.filterwarnings('ignore')"
   ]
  },
  {
   "cell_type": "code",
   "execution_count": 2,
   "id": "e58f7fd0-84a7-47d9-9df2-855921c8c101",
   "metadata": {},
   "outputs": [],
   "source": [
    "card_df = pd.read_csv('../data/ftd/cards_data.csv')\n",
    "trans_df = pd.read_csv('../data/ftd/transactions_data.csv')\n",
    "user_df = pd.read_csv('../data/ftd/users_data.csv')\n",
    "mcc_df = pd.read_json('../data/ftd/mcc_codes.json', orient='index').rename({0:'category'}, axis=1)\n",
    "fraud_df = pd.read_json('../data/ftd/train_fraud_labels.json')"
   ]
  },
  {
   "cell_type": "markdown",
   "id": "964d7b4b-e4a7-45d7-804d-15d48698d109",
   "metadata": {},
   "source": [
    "- card_df의 id는 카드 id = card_id\n",
    "- user_df의 id는 고객 id = client_id"
   ]
  },
  {
   "cell_type": "code",
   "execution_count": 3,
   "id": "9e142b2c-8d30-4df5-b376-90b06aed1b49",
   "metadata": {},
   "outputs": [],
   "source": [
    "card_user_df = card_df.merge(user_df, left_on='client_id', right_on='id') #카드 정보와 고객 정보를 병함(카드 데이터를 기준으로)\n",
    "card_user_df = card_user_df.drop(columns=['card_number','cvv','id_y']) #카드 id(열 중복), 카드 번호, cvv(보안 번호, cvc 번호랑 비슷함) 삭제\n",
    "card_user_df = card_user_df.rename(columns={'id_x':'card_id'}) #card_df의 id를 card_id로 변경"
   ]
  },
  {
   "cell_type": "code",
   "execution_count": 4,
   "id": "0aadfd8f-da61-4fde-a841-2b7105394779",
   "metadata": {},
   "outputs": [],
   "source": [
    "mcc_df = mcc_df.reset_index() #index 초기화\n",
    "fraud_df = fraud_df.reset_index()\n",
    "\n",
    "fraud_df = fraud_df.rename(columns={'index':'id','target':'fraud_label'}) #card_df의 id를 card_id로 변경\n",
    "mcc_df = mcc_df.rename(columns={'index':'mcc','category':'merchant_cat'}) #card_df의 id를 card_id로 변경\n",
    "\n",
    "trans_df = trans_df.merge(fraud_df, on='id',how='left') #거래 정보와 사기 정보 결합\n",
    "trans_df = trans_df.merge(mcc_df, on='mcc',how='left') #거래 정보와 판매점 정보 결합\n",
    "\n",
    "#거래, 카드, 고객 정보 통합\n",
    "trans_df = trans_df.merge(card_user_df, on=['card_id','client_id'],how='left')\n",
    "\n",
    "#merchant_city가 ONLINE 일 떄 merchant_state도 ONLINE으로 변경\n",
    "trans_df.loc[trans_df['merchant_city'] == 'ONLINE', 'merchant_state'] = 'ONLINE'\n",
    "\n",
    "trans_df = trans_df.drop(columns=['zip','id','merchant_id','mcc']) #거래 데이터에서 상점 우편 번호 거래 id, 상점 id 삭제\n"
   ]
  },
  {
   "cell_type": "code",
   "execution_count": 5,
   "id": "0efb2580-27f2-4af8-b33c-bdc8af305c9e",
   "metadata": {},
   "outputs": [],
   "source": [
    "# mcc 범주화\n",
    "food = ['Eating Places and Restaurants', 'Fast Food Restaurants', 'Drinking Places (Alcoholic Beverages)', 'Grocery Stores, Supermarkets', \n",
    "              'Miscellaneous Food Stores', 'Package Stores, Beer, Wine, Liquor', 'Wholesale Clubs', 'Discount Stores']\n",
    "\n",
    "medical = ['Medical Services', 'Doctors, Physicians', 'Dentists and Orthodontists', 'Chiropractors', 'Podiatrists',\n",
    "                    'Optometrists, Optical Goods and Eyeglasses', 'Hospitals', 'Drug Stores and Pharmacies']\n",
    "\n",
    "transport = ['Service Stations', 'Automotive Service Shops', 'Automotive Body Repair Shops', 'Automotive Parts and Accessories Stores',\n",
    "                       'Taxicabs and Limousines', 'Bus Lines', 'Passenger Railways', 'Railroad Passenger Transport', 'Railroad Freight',\n",
    "                       'Motor Freight Carriers and Trucking', 'Airlines', 'Cruise Lines', 'Lodging - Hotels, Motels, Resorts',\n",
    "                       'Local and Suburban Commuter Transportation']\n",
    "\n",
    "service = ['Laundry Services', 'Car Washes', 'Towing Services', 'Cleaning and Maintenance Services', 'Tax Preparation Services',\n",
    "                   'Accounting, Auditing, and Bookkeeping Services', 'Legal Services and Attorneys', 'Detective Agencies, Security Services', 'Money Transfer',\n",
    "                   'Insurance Sales, Underwriting', 'Travel Agencies']\n",
    "\n",
    "retail = ['Department Stores', 'Family Clothing Stores', \"Women's Ready-To-Wear Stores\", 'Shoe Stores', 'Sports Apparel, Riding Apparel Stores',\n",
    "              'Sporting Goods Stores', 'Leather Goods', 'Precious Stones and Metals', 'Antique Shops', 'Music Stores - Musical Instruments',\n",
    "              'Artist Supply Stores, Craft Shops', 'Book Stores', 'Books, Periodicals, Newspapers', 'Electronics Stores',\n",
    "              'Computers, Computer Peripheral Equipment', 'Digital Goods - Media, Books, Apps', 'Digital Goods - Games', 'Cosmetic Stores',\n",
    "              'Beauty and Barber Shops', 'Gift, Card, Novelty Stores', 'Miscellaneous Home Furnishing Stores', \n",
    "              'Furniture, Home Furnishings, and Equipment Stores', 'Upholstery and Drapery Stores', 'Lighting, Fixtures, Electrical Supplies',\n",
    "              'Floor Covering Stores', 'Lawn and Garden Supply Stores', 'Gardening Supplies', 'Hardware Stores', 'Household Appliance Stores',\n",
    "              'Florists Supplies, Nursery Stock and Flowers', 'Non-Precious Metal Services']\n",
    "\n",
    "industry = ['Lumber and Building Materials', 'Brick, Stone, and Related Materials', 'Industrial Equipment and Supplies',\n",
    "                    'Tools, Parts, Supplies Manufacturing', 'Heating, Plumbing, Air Conditioning Contractors', 'Fabricated Structural Metal Products',\n",
    "                    'Steel Products Manufacturing', 'Steelworks', 'Ironwork', 'Welding Repair', 'Electroplating, Plating, Polishing Services',\n",
    "                    'Heat Treating Metal Services', 'Bolt, Nut, Screw, Rivet Manufacturing', 'Coated and Laminated Products', 'Non-Ferrous Metal Foundries',\n",
    "                    'Steel Drums and Barrels', 'Miscellaneous Metal Fabrication', 'Miscellaneous Metals', 'Miscellaneous Fabricated Metal Products',\n",
    "                    'Miscellaneous Metalwork', 'Pottery and Ceramics', 'Semiconductors and Related Devices', 'Ship Chandlers',\n",
    "                    'Utilities - Electric, Gas, Water, Sanitary', 'Telecommunication Services', 'Computer Network Services', \n",
    "                    'Cable, Satellite, and Other Pay Television Services', 'Postal Services - Government Only', 'Tolls and Bridge Fees', \n",
    "                    'Amusement Parks, Carnivals, Circuses', 'Motion Picture Theaters', 'Theatrical Producers', 'Recreational Sports, Clubs', \n",
    "                    'Athletic Fields, Commercial Sports', 'Betting (including Lottery Tickets, Casinos)', 'Miscellaneous Machinery and Parts Manufacturing']"
   ]
  },
  {
   "cell_type": "code",
   "execution_count": 6,
   "id": "6d5d1b52-1e6f-41bd-9ae1-7cfd43f2d8ff",
   "metadata": {},
   "outputs": [],
   "source": [
    "trans_df.loc[trans_df['merchant_cat'].isin(food), 'merchant_cat'] = 'food'\n",
    "trans_df.loc[trans_df['merchant_cat'].isin(medical), 'merchant_cat'] = 'medical'\n",
    "trans_df.loc[trans_df['merchant_cat'].isin(transport), 'merchant_cat'] = 'transport'\n",
    "trans_df.loc[trans_df['merchant_cat'].isin(service), 'merchant_cat'] = 'service'\n",
    "trans_df.loc[trans_df['merchant_cat'].isin(retail), 'merchant_cat'] = 'retail'\n",
    "trans_df.loc[trans_df['merchant_cat'].isin(industry), 'merchant_cat'] = 'industry'"
   ]
  },
  {
   "cell_type": "code",
   "execution_count": 7,
   "id": "82ea8b65-0a25-4622-abe7-fa67752a8f96",
   "metadata": {},
   "outputs": [],
   "source": [
    "trans_df['errors'] = trans_df['errors'].fillna(0) #정상 거래는 0값으로 처리\n",
    "trans_df = trans_df.drop(columns=['client_id','card_id','card_on_dark_web'])\n",
    "#고객 ID, 카드 ID, 다크웹에서 카드? 제거"
   ]
  },
  {
   "cell_type": "code",
   "execution_count": null,
   "id": "7af9b07a-4f15-4027-85bd-ac4ddc0fecc5",
   "metadata": {},
   "outputs": [],
   "source": [
    "trans_df['date'] = pd.to_datetime(trans_df['date']) #date의 데이터 구조를 datetime으로 변환\n",
    "\n",
    "#금액에서 $표시를 제거해서 돈과 관련된 수치를 숫자로 변환\n",
    "trans_df['amount'] = pd.to_numeric(trans_df['amount'].str.split('$', expand=True)[1]) #\n",
    "trans_df['credit_limit'] = pd.to_numeric(trans_df['credit_limit'].str.split('$', expand=True)[1]) #\n",
    "trans_df['per_capita_income'] = pd.to_numeric(trans_df['per_capita_income'].str.split('$', expand=True)[1])\n",
    "trans_df['yearly_income'] = pd.to_numeric(trans_df['yearly_income'].str.split('$', expand=True)[1])\n",
    "trans_df['total_debt'] = pd.to_numeric(trans_df['total_debt'].str.split('$', expand=True)[1])"
   ]
  },
  {
   "cell_type": "code",
   "execution_count": 11,
   "id": "ae6cf4e1-b110-4eac-b7c8-d2d3e0df6b82",
   "metadata": {},
   "outputs": [],
   "source": [
    "#거래 날짜와 고객,카드 정보를 통해 시간과 관련된 새로운 피쳐 생성\n",
    "\n",
    "trans_df['day'] = trans_df['date'].dt.day #거래 날짜의 일 생성\n",
    "trans_df['month'] = trans_df['date'].dt.month #거래 날짜의 월 생성\n",
    "trans_df['year'] = trans_df['date'].dt.year #거래 날짜의 년 생성\n",
    "\n",
    "trans_df['expire_month'] = pd.to_numeric(trans_df['expires'].str.split('/', expand=True)[0]) #카드 만료 날의 월 \n",
    "trans_df['expire_year'] = pd.to_numeric(trans_df['expires'].str.split('/', expand=True)[1]) #카드 만료 날의 년\n",
    "\n",
    "trans_df['acct_open_date_month'] = pd.to_numeric(trans_df['acct_open_date'].str.split('/', expand=True)[0]) #계좌 개설 날의 월 \n",
    "trans_df['acct_open_date_year'] = pd.to_numeric(trans_df['acct_open_date'].str.split('/', expand=True)[1]) #계좌 개설 날의 년\n",
    "\n",
    "\n",
    "trans_df['current_age'] = trans_df['year'] - trans_df['birth_year'] #현재 나이를 2019년이 아닌 거래 날짜를 기준으로 변경\n",
    "trans_df['year_since_pin_changed'] = trans_df['year'] - trans_df['year_pin_last_changed'] #핀 번호 변경으로 부터 지난 해 기간\n",
    "trans_df['years_to_retirement'] = trans_df['retirement_age'] - trans_df['year'] #은퇴까지 남은 년\n",
    "\n",
    "trans_df['month_to_expires'] = (12*(trans_df['expire_year'] - trans_df['year']) \n",
    "                                + (trans_df['expire_month'] - trans_df['month'])) #카드 만료까지 남은 개월 수\n",
    "\n",
    "trans_df['month_to_acct_open'] = (12*(trans_df['year'] - trans_df['acct_open_date_year']) \n",
    "                                + (trans_df['month'] - trans_df['acct_open_date_month'])) #계좌 개설 후 지난 개월 수\n"
   ]
  },
  {
   "cell_type": "code",
   "execution_count": 12,
   "id": "d62bbc07-6e57-4e9f-af0e-de08c3e661bd",
   "metadata": {},
   "outputs": [],
   "source": [
    "trans_df = trans_df.drop(columns=['birth_year','birth_month','date','year_pin_last_changed','retirement_age','expires','acct_open_date',\n",
    "                                 'expire_month','expire_year','acct_open_date_month','acct_open_date_year'])"
   ]
  },
  {
   "cell_type": "code",
   "execution_count": 13,
   "id": "1da04c9d-01a9-4a25-b08a-8ddd9c87464d",
   "metadata": {},
   "outputs": [],
   "source": [
    "#우선 중요도가 낮은 피쳐들을 제거(추후 바뀔 수 있음)\n",
    "trans_df = trans_df.drop(columns=['address','latitude','longitude'])"
   ]
  },
  {
   "cell_type": "markdown",
   "id": "bb4cb304-d118-4c13-b414-71c24f83e749",
   "metadata": {},
   "source": [
    "- 제거를 고려하는 변수들: address, latitude, longitude\n",
    "  \n",
    "- 해 마다 갱신 될 가능성이 높은 변수들: per_capita_income, yearly_income, total_debt, credit_score"
   ]
  },
  {
   "cell_type": "code",
   "execution_count": null,
   "id": "8c5d6d6b-551d-4f3d-964b-11909b8be021",
   "metadata": {},
   "outputs": [],
   "source": [
    "#우선 중요도가 낮은 피쳐들을 제거(추후 바뀔 수 있음)\n",
    "#trans_df = trans_df.drop(columns=['address','latitude','longitude'])"
   ]
  },
  {
   "cell_type": "code",
   "execution_count": 14,
   "id": "5cc96359-4772-4aa5-a333-7fb00f2947b3",
   "metadata": {},
   "outputs": [],
   "source": [
    "train_trans_df = trans_df[trans_df['fraud_label'].notnull()] # 사기 정보가 있는 데이터 900만개\n",
    "test_trans_df = trans_df[trans_df['fraud_label'].isnull()] # 사기 정보가 없는 데이터  400만개\n",
    "\n",
    "#사기 거래 정보 값을 Yes, NO에서 1,0으로 변경\n",
    "YN_dict = {\"Yes\": 1, \"No\" : 0}\n",
    "train_trans_df['fraud_label'] = train_trans_df['fraud_label'].map(YN_dict)"
   ]
  },
  {
   "cell_type": "code",
   "execution_count": 15,
   "id": "fc6d3c74-3a67-4fad-a25a-77e311941dc7",
   "metadata": {},
   "outputs": [
    {
     "data": {
      "text/plain": [
       "Index(['amount', 'use_chip', 'merchant_city', 'merchant_state', 'errors',\n",
       "       'fraud_label', 'merchant_cat', 'card_brand', 'card_type', 'has_chip',\n",
       "       'num_cards_issued', 'credit_limit', 'current_age', 'gender',\n",
       "       'per_capita_income', 'yearly_income', 'total_debt', 'credit_score',\n",
       "       'num_credit_cards', 'day', 'month', 'year', 'year_since_pin_changed',\n",
       "       'years_to_retirement', 'month_to_expires', 'month_to_acct_open'],\n",
       "      dtype='object')"
      ]
     },
     "execution_count": 15,
     "metadata": {},
     "output_type": "execute_result"
    }
   ],
   "source": [
    "#feature\n",
    "train_trans_df.columns"
   ]
  },
  {
   "cell_type": "code",
   "execution_count": 16,
   "id": "aa4f2e84-dbe1-4c55-9169-1786126e0cc6",
   "metadata": {},
   "outputs": [
    {
     "name": "stdout",
     "output_type": "stream",
     "text": [
      "<class 'pandas.core.frame.DataFrame'>\n",
      "Index: 8914963 entries, 0 to 13305912\n",
      "Data columns (total 26 columns):\n",
      " #   Column                  Dtype  \n",
      "---  ------                  -----  \n",
      " 0   amount                  float64\n",
      " 1   use_chip                object \n",
      " 2   merchant_city           object \n",
      " 3   merchant_state          object \n",
      " 4   errors                  object \n",
      " 5   fraud_label             int64  \n",
      " 6   merchant_cat            object \n",
      " 7   card_brand              object \n",
      " 8   card_type               object \n",
      " 9   has_chip                object \n",
      " 10  num_cards_issued        int64  \n",
      " 11  credit_limit            object \n",
      " 12  current_age             int64  \n",
      " 13  gender                  object \n",
      " 14  per_capita_income       int64  \n",
      " 15  yearly_income           int64  \n",
      " 16  total_debt              int64  \n",
      " 17  credit_score            int64  \n",
      " 18  num_credit_cards        int64  \n",
      " 19  day                     int32  \n",
      " 20  month                   int32  \n",
      " 21  year                    int32  \n",
      " 22  year_since_pin_changed  int64  \n",
      " 23  years_to_retirement     int64  \n",
      " 24  month_to_expires        int64  \n",
      " 25  month_to_acct_open      int64  \n",
      "dtypes: float64(1), int32(3), int64(12), object(10)\n",
      "memory usage: 1.7+ GB\n"
     ]
    }
   ],
   "source": [
    "train_trans_df.info()"
   ]
  },
  {
   "cell_type": "markdown",
   "id": "b9ad58f0-209d-4912-bbcc-58391a4cc8e5",
   "metadata": {},
   "source": [
    "- target은 fraud_label\n",
    "- fraud_label 값이 0: 정상 거래 1: 사기 거래\n",
    "\n",
    "- 학습할 데이터: train_trans_df (X,y 분리 안되어 있음)"
   ]
  },
  {
   "cell_type": "code",
   "execution_count": null,
   "id": "cb5a4e4c-a22d-48ba-b02b-26c1a1b9d878",
   "metadata": {},
   "outputs": [],
   "source": []
  }
 ],
 "metadata": {
  "kernelspec": {
   "display_name": "project_env",
   "language": "python",
   "name": "project_env"
  },
  "language_info": {
   "codemirror_mode": {
    "name": "ipython",
    "version": 3
   },
   "file_extension": ".py",
   "mimetype": "text/x-python",
   "name": "python",
   "nbconvert_exporter": "python",
   "pygments_lexer": "ipython3",
   "version": "3.10.18"
  }
 },
 "nbformat": 4,
 "nbformat_minor": 5
}
