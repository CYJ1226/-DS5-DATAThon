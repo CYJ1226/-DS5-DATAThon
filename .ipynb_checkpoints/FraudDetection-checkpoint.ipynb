{
 "cells": [
  {
   "cell_type": "markdown",
   "id": "293f2173-a277-4d39-a8d9-c45d19feec52",
   "metadata": {},
   "source": [
    "- 사기거래탐지"
   ]
  },
  {
   "cell_type": "markdown",
   "id": "ff71a28f-a3b6-4e47-a04f-3fa931779577",
   "metadata": {},
   "source": [
    "# EDA"
   ]
  },
  {
   "cell_type": "markdown",
   "id": "5e98b2b8-aa43-4da6-a474-06f54801e422",
   "metadata": {},
   "source": [
    "### 데이터 불러오기"
   ]
  },
  {
   "cell_type": "code",
   "execution_count": 178,
   "id": "8f256086-902d-4b8e-9988-0cfba3960e16",
   "metadata": {},
   "outputs": [],
   "source": [
    "import numpy as np\n",
    "import pandas as pd\n",
    "import matplotlib.pyplot as plt\n",
    "import seaborn as sns\n",
    "import warnings\n",
    "warnings.filterwarnings('ignore')"
   ]
  },
  {
   "cell_type": "code",
   "execution_count": 188,
   "id": "e58f7fd0-84a7-47d9-9df2-855921c8c101",
   "metadata": {},
   "outputs": [],
   "source": [
    "card_df = pd.read_csv('../data/ftd/cards_data.csv')\n",
    "trans_df = pd.read_csv('../data/ftd/transactions_data.csv')\n",
    "user_df = pd.read_csv('../data/ftd/users_data.csv')\n",
    "mcc_df = pd.read_json('../data/ftd/mcc_codes.json', orient='index').rename({0:'category'}, axis=1)\n",
    "fraud_df = pd.read_json('../data/ftd/train_fraud_labels.json')"
   ]
  },
  {
   "cell_type": "markdown",
   "id": "ee056dbe-c90b-4c58-97eb-d9bd26d58350",
   "metadata": {},
   "source": [
    "### 데이터별 컬럼 의미"
   ]
  },
  {
   "cell_type": "code",
   "execution_count": 233,
   "id": "0ce92bf6-21e6-4bf3-8bd7-b863023ab88c",
   "metadata": {},
   "outputs": [],
   "source": [
    "# card_df"
   ]
  },
  {
   "cell_type": "markdown",
   "id": "79a32bba-d404-43da-abc5-ffade867c8fa",
   "metadata": {},
   "source": [
    "- **id**: 카드 id \n",
    "- **client**: 고객 id\n",
    "- **card_brand**: 카드사\n",
    "- **card_type**: 카드 종류(신용/체크)\n",
    "- **card_number**: 카드번호\n",
    "- **expires**: 카드 만료기간\n",
    "- **cvv**: 카드 인증코드\n",
    "- **has_chip**: 카드 IC칩 보유 여부(IC칩 있을 시 카드 도용/복제에 상대적으로 안전)\n",
    "- **num_cards_issued**: 문제 발생 횟수??\n",
    "- **credit_limit**: 신용 한도\n",
    "- **acct_open_date**: 계좌 개설일\n",
    "- **year_pin_last_changed**: 카드 pin번호 최근 변경연도\n",
    "- **card_on_dark_web**: 다크웹 사용?? => No만 존재 => 제거 가능"
   ]
  },
  {
   "cell_type": "code",
   "execution_count": 234,
   "id": "5ab999d2-7f12-4182-81b4-bf90cae89ac2",
   "metadata": {},
   "outputs": [],
   "source": [
    "# trans_df"
   ]
  },
  {
   "cell_type": "markdown",
   "id": "ea90db92-abbc-4a34-b6f2-0abef2fa5157",
   "metadata": {},
   "source": [
    "- **id**: 거래식별번호\n",
    "- **date**: 거래일자\n",
    "- **client_id**: 고객id\n",
    "- **card_id**: 카드id\n",
    "- **amount**: 거래금액 => 음수 데이터 존재\n",
    "- **use_chip**: 카드 결제 방식\n",
    "    - Swipe Transaction: 마그네틱 카드로 긁어서 결제\n",
    "    - Chip Transaction: ic칩 카드로 결제\n",
    "    - Online Transaction: 온라인 결제\n",
    "- **merchant_id**: 매장id\n",
    "- **merchant_city**: 매장 위치(시)\n",
    "- **merchant_state**: 매장 위치(주)\n",
    "- **zip**: 매장 우편번호\n",
    "- **mcc**: 매장 분류코드\n",
    "- **errors**: 거래 성공 여부(결제 오류 시 오류 원인이 적혀있음)"
   ]
  },
  {
   "cell_type": "code",
   "execution_count": 235,
   "id": "fba57b5f-14fc-4d92-a843-f7bfc62567f5",
   "metadata": {},
   "outputs": [],
   "source": [
    "# user_df"
   ]
  },
  {
   "cell_type": "markdown",
   "id": "6dc727ff-e66a-449e-a8ab-0f1490dfcff7",
   "metadata": {},
   "source": [
    "- **id**: 고객id\n",
    "- **current_age**: 현재 나이\n",
    "- **retirement_age**: 퇴직 연령\n",
    "- **birth_year**: 출생연도\n",
    "- **gender**: 성별\n",
    "- **address**: 주소\n",
    "- **latitude**: 위도\n",
    "- **longitude**: 경도\n",
    "- **per_capita_income**: 1인당 소득 (전체 소득 / 인구 수)\n",
    "- **yearly_income**: 연봉\n",
    "- **total_debt**: 채무액\n",
    "- **credit_score**: 신용점수\n",
    "- **num_credit_cards**: 보유 중인 신용카드 수"
   ]
  },
  {
   "cell_type": "code",
   "execution_count": 175,
   "id": "195e5b90-5bfc-451d-8657-1e6d6a3ddb18",
   "metadata": {},
   "outputs": [],
   "source": [
    "# mcc_df"
   ]
  },
  {
   "cell_type": "markdown",
   "id": "f99689d9-57fc-4472-9bf8-253e6373b929",
   "metadata": {},
   "source": [
    "- mcc별 상점 종류"
   ]
  },
  {
   "cell_type": "code",
   "execution_count": 199,
   "id": "9f86df05-2e5e-47ca-826d-49f255fcb0f0",
   "metadata": {},
   "outputs": [],
   "source": [
    "# fraud_df"
   ]
  },
  {
   "cell_type": "markdown",
   "id": "03628da5-1cb2-454c-8c47-5d31e90ec813",
   "metadata": {},
   "source": [
    "- 거래 id별 정상거래/사기거래 여부"
   ]
  },
  {
   "cell_type": "markdown",
   "id": "cf0107d7-fa79-43a0-bae7-ab595b7f519a",
   "metadata": {},
   "source": [
    "### 데이터 살펴보기"
   ]
  },
  {
   "cell_type": "code",
   "execution_count": 200,
   "id": "08e109fa-10cc-4569-ab9b-0b379499221c",
   "metadata": {},
   "outputs": [],
   "source": [
    "# trans_df의 mcc, mcc_df의 index 기준으로 merge\n",
    "trans_df = trans_df.merge(mcc_df.reset_index(), left_on='mcc', right_on='index', how='left')\n",
    "\n",
    "# mcc 정보 제거\n",
    "trans_df.drop(['mcc', 'index'], axis=1, inplace=True)\n",
    "\n",
    "# category 이름 변경\n",
    "trans_df.rename({'category': 'merchant_cat'}, axis=1, inplace=True)\n",
    "\n",
    "# amount $제거, float으로 자료형 변환\n",
    "trans_df = trans_df.merge(fraud_df.reset_index(), left_on='id', right_on='index')\n",
    "trans_df.drop('index', axis=1, inplace=True)\n",
    "trans_df['amount'] = pd.to_numeric(trans_df['amount'].str.split('$', expand=True)[1])"
   ]
  },
  {
   "cell_type": "code",
   "execution_count": 202,
   "id": "a8549ac6-d31a-4bce-a664-75afbbca9d92",
   "metadata": {},
   "outputs": [],
   "source": [
    "# trans_df와 user_df merge\n",
    "trans_df = trans_df.merge(user_df, left_on='client_id', right_on='id', how='left')\n",
    "trans_df = trans_df.rename({'id_x':'id'}, axis=1)\n",
    "trans_df.drop('id_y', axis=1, inplace=True)"
   ]
  },
  {
   "cell_type": "code",
   "execution_count": 206,
   "id": "a381e4d2-a7ce-4112-ad2b-b584dd79727e",
   "metadata": {},
   "outputs": [],
   "source": [
    "# trans_df와 card_df merge\n",
    "trans_df = trans_df.merge(card_df, left_on='card_id', right_on='id')\n",
    "trans_df = trans_df.rename({'id_x':'id', 'client_id_x': 'client_id'}, axis=1)\n",
    "trans_df.drop(['id_y', 'client_id_y'], axis=1, inplace=True)"
   ]
  },
  {
   "cell_type": "code",
   "execution_count": 236,
   "id": "48b6642e-22c1-46a9-b815-f8f23b6298db",
   "metadata": {},
   "outputs": [],
   "source": [
    "# trans_df.isna().sum()"
   ]
  },
  {
   "cell_type": "markdown",
   "id": "dc614f72-db20-4c73-821e-c49dba84598d",
   "metadata": {},
   "source": [
    "#### trans_df"
   ]
  },
  {
   "cell_type": "code",
   "execution_count": 237,
   "id": "19a479b7-4988-4355-98ce-c3cac82e126f",
   "metadata": {},
   "outputs": [],
   "source": [
    "# trans_df.info()"
   ]
  },
  {
   "cell_type": "markdown",
   "id": "44088770-de8b-4e28-a40e-0fec7d37578a",
   "metadata": {},
   "source": [
    "- date는 datetime으로 바꾸는게 좋아보임\n",
    "- amount 음수인 경우 확인 필요"
   ]
  },
  {
   "cell_type": "code",
   "execution_count": 139,
   "id": "295cbe93-563f-42f6-b34a-22121345e010",
   "metadata": {},
   "outputs": [
    {
     "data": {
      "text/plain": [
       "id                 0.00\n",
       "date               0.00\n",
       "client_id          0.00\n",
       "card_id            0.00\n",
       "amount             0.00\n",
       "use_chip           0.00\n",
       "merchant_id        0.00\n",
       "merchant_city      0.00\n",
       "merchant_state    11.75\n",
       "zip               12.42\n",
       "mcc                0.00\n",
       "errors            98.41\n",
       "dtype: float64"
      ]
     },
     "execution_count": 139,
     "metadata": {},
     "output_type": "execute_result"
    }
   ],
   "source": [
    "# 결측치 백분율\n",
    "np.round((trans_df.isna().sum() / trans_df.shape[0]) * 100, 2)"
   ]
  },
  {
   "cell_type": "code",
   "execution_count": 238,
   "id": "837aa116-04dc-4ad4-bde5-7664795c25b1",
   "metadata": {},
   "outputs": [],
   "source": [
    "# display(trans_df.loc[trans_df['target']=='Yes', 'merchant_state'].value_counts().head(10))\n",
    "# print(f\"\\n=> merchant_state=='Italy'의 사기거래 비율: {np.round(trans_df.loc[trans_df['target']=='Yes', 'merchant_state'].value_counts()[0]/trans_df.loc[trans_df['merchant_state']=='Italy'].shape[0], 2)}\")"
   ]
  },
  {
   "cell_type": "markdown",
   "id": "5dd2d615-ce62-49bb-b353-115a52c8a360",
   "metadata": {},
   "source": [
    "- errors의 결측치: 결제 성공 의미 => NaN대신 다른 값으로 변환 필요해 보임\n",
    "- merchant_state => Italy 사기거래 백분율 65% => 단순 우연?\n",
    "- zip => 별 의미 없는 데이터"
   ]
  },
  {
   "cell_type": "markdown",
   "id": "52c16912-0683-46a0-b5c8-7e2deab3fd06",
   "metadata": {},
   "source": [
    "#### 생각해볼만한 것"
   ]
  },
  {
   "cell_type": "markdown",
   "id": "c2bcf318-5414-4f63-824a-c17454f48bcf",
   "metadata": {},
   "source": [
    "- card_brand와 사기거래 관련성\n",
    "- card_type과 사기거래 관련성\n",
    "- has_chip과 사기거래 관련성\n",
    "- credit_limit과 사기거래 관련성"
   ]
  },
  {
   "cell_type": "markdown",
   "id": "ff27bb73-4802-446b-935b-95add886d63e",
   "metadata": {},
   "source": [
    "- date와 사기거래 관련성\n",
    "- amount와 사기거래 관련성\n",
    "- use_chip과 사기거래 관련성\n",
    "- merchant_state와 사기거래 관련성\n",
    "- category와 사기거래 관련성"
   ]
  },
  {
   "cell_type": "markdown",
   "id": "eec3d6d7-a3b0-47c5-b91f-1fda56481a33",
   "metadata": {},
   "source": [
    "- current_age와 사기거래 관련성\n",
    "- gender과 사기거래 관련성\n",
    "- latitude, longitude와 사기거래 관련성\n",
    "- yearly_income와 사기거래 관련성\n",
    "- credit_score와 사기거래 관련성\n",
    "- num_credit_cards와 사기거래 관련성"
   ]
  },
  {
   "cell_type": "markdown",
   "id": "bb55d067-8218-46d3-a12f-89f1b9e05e72",
   "metadata": {},
   "source": [
    "### 중복값 확인"
   ]
  },
  {
   "cell_type": "code",
   "execution_count": 239,
   "id": "3680e7b0-f323-42f1-aabb-2f3a35140276",
   "metadata": {},
   "outputs": [],
   "source": [
    "# mcc_df[mcc_df.duplicated(keep=False)]"
   ]
  },
  {
   "cell_type": "markdown",
   "id": "fb40f919-d330-4ec1-827c-5f414fd7e4fe",
   "metadata": {},
   "source": [
    "- trans_df와 합치면 상관없음"
   ]
  },
  {
   "cell_type": "markdown",
   "id": "d11dd6d1-0110-422f-b024-d0dfd7e10373",
   "metadata": {},
   "source": [
    "### 시각화"
   ]
  },
  {
   "cell_type": "markdown",
   "id": "57a982fc-b63c-4bca-943a-b8b7d6500050",
   "metadata": {},
   "source": [
    "##### amount와 target"
   ]
  },
  {
   "cell_type": "code",
   "execution_count": 10,
   "id": "5a546d99-6cc4-4222-8689-19b7be899409",
   "metadata": {},
   "outputs": [],
   "source": [
    "# target 수치형 데이터로 변환\n",
    "trans_df['target'] = trans_df['target'].replace({'No': 0, 'Yes': 1})"
   ]
  },
  {
   "cell_type": "code",
   "execution_count": 240,
   "id": "7a871183-a71f-4afa-bc0f-9f56d65b7f48",
   "metadata": {},
   "outputs": [],
   "source": [
    "# f, ax = plt.subplots(1, 2, figsize=(12, 5))\n",
    "# trans_df.loc[trans_df['target']==1, 'amount'].hist(bins=50, ax=ax[0])\n",
    "# ax[0].set_title('fraud amount')\n",
    "# trans_df.loc[trans_df['target']==0, 'amount'].hist(bins=50, ax=ax[1])\n",
    "# ax[1].set_title('normal amount')\n",
    "# plt.show()"
   ]
  },
  {
   "cell_type": "code",
   "execution_count": 241,
   "id": "72464dae-1bfd-4831-881f-7b4757ff6771",
   "metadata": {},
   "outputs": [],
   "source": [
    "# print(trans_df.loc[trans_df['target']==1, 'amount'].describe(), '\\n')\n",
    "# print(trans_df.loc[trans_df['target']==0, 'amount'].describe())"
   ]
  },
  {
   "cell_type": "code",
   "execution_count": 242,
   "id": "4d0ca600-d62c-44a2-9e85-da19790dd757",
   "metadata": {},
   "outputs": [],
   "source": [
    "# trans_df[['amount', 'target']].corr()"
   ]
  },
  {
   "cell_type": "markdown",
   "id": "1fbddea2-25e3-436a-b823-3d855e613fe3",
   "metadata": {},
   "source": [
    "- amount과 사기거래는 큰 관계가 없는 것으로 보임"
   ]
  },
  {
   "cell_type": "markdown",
   "id": "a51a7faf-768c-4304-acbe-c529bd37ec29",
   "metadata": {},
   "source": [
    "##### date와 target"
   ]
  },
  {
   "cell_type": "code",
   "execution_count": 243,
   "id": "04fb71d0-beee-4fe6-a6be-f0adad493498",
   "metadata": {},
   "outputs": [],
   "source": [
    "trans_df['date'] = pd.to_datetime(trans_df['date'])"
   ]
  },
  {
   "cell_type": "code",
   "execution_count": 244,
   "id": "c4c20c9b-a913-4c02-80bb-57c914693ef9",
   "metadata": {},
   "outputs": [],
   "source": [
    "# f, ax = plt.subplots(1, 2, figsize=(12, 5))\n",
    "# trans_df['year'] = trans_df['date'].dt.year\n",
    "# trans_df.groupby('year').agg({'target':'mean'}).plot.bar(ax=ax[0])\n",
    "# ax[0].set_title('Fraud Rate by Year')\n",
    "# trans_df['month'] = trans_df['date'].dt.month\n",
    "# trans_df.groupby('month').agg({'target':'mean'}).plot.bar(ax=ax[1])\n",
    "# ax[1].set_title('Fraud Rate by Month')\n",
    "# plt.show()"
   ]
  },
  {
   "cell_type": "markdown",
   "id": "79e0f690-2485-46d9-88b5-de456647a838",
   "metadata": {},
   "source": [
    "- 2011, 2017은 사기거래 비율이 적으며, 2010이 가장 높음"
   ]
  },
  {
   "cell_type": "markdown",
   "id": "4925617b-77ee-4df7-8d9d-81407c9d999d",
   "metadata": {},
   "source": [
    "##### use_chip과 target"
   ]
  },
  {
   "cell_type": "code",
   "execution_count": 245,
   "id": "f9a0ea3e-10b3-49ac-b687-a0c54d974941",
   "metadata": {},
   "outputs": [],
   "source": [
    "# f, ax = plt.subplots(1, 2, figsize=(12, 5))\n",
    "# trans_df.groupby('use_chip').agg({'target':'count'}).plot.bar(ax=ax[0])\n",
    "# ax[0].set_title('Fraud Count by use_chip')\n",
    "# trans_df.groupby('use_chip').agg({'target':'mean'}).plot.bar(ax=ax[1])\n",
    "# ax[1].set_title('Fraud Rate by use_chip')\n",
    "# plt.show()"
   ]
  },
  {
   "cell_type": "markdown",
   "id": "54efc6ab-8029-440a-b88c-45cb627fdf33",
   "metadata": {},
   "source": [
    "- 사기거래 수는 마그네틱 카드가 가장 많음\n",
    "- 온라인 거래의 사기거래 비율이 가장 높음"
   ]
  },
  {
   "cell_type": "code",
   "execution_count": 246,
   "id": "3e548fba-38d6-4364-8505-878c6731549e",
   "metadata": {},
   "outputs": [],
   "source": [
    "# trans_df['merchant_state'].nunique()"
   ]
  },
  {
   "cell_type": "code",
   "execution_count": 247,
   "id": "b04324b6-c436-4481-93cf-46b2312d0484",
   "metadata": {},
   "outputs": [],
   "source": [
    "# trans_df['merchant_state'].value_counts().tail(45)"
   ]
  },
  {
   "cell_type": "code",
   "execution_count": 248,
   "id": "0864a087-b3d4-406d-8499-7973b14e97d6",
   "metadata": {},
   "outputs": [],
   "source": [
    "# trans_df['merchant_cat'].nunique()"
   ]
  },
  {
   "cell_type": "code",
   "execution_count": 249,
   "id": "0951423a-2787-4547-a8f2-b761bbaa45ba",
   "metadata": {},
   "outputs": [],
   "source": [
    "# trans_df.loc[trans_df['target']==1, 'merchant_id'].value_counts()"
   ]
  },
  {
   "cell_type": "code",
   "execution_count": 250,
   "id": "5f7b7c73-ec14-4a0a-b437-a59387c2a0a6",
   "metadata": {},
   "outputs": [],
   "source": [
    "# user_df"
   ]
  },
  {
   "cell_type": "code",
   "execution_count": 251,
   "id": "080f2cee-25b6-46c6-91b4-0089a250a2c4",
   "metadata": {},
   "outputs": [],
   "source": [
    "# trans_df.loc[trans_df['target']==1, 'client_id'].value_counts()"
   ]
  },
  {
   "cell_type": "markdown",
   "id": "6850e4ec-428c-46a3-b075-f783d8b49b82",
   "metadata": {},
   "source": [
    "# Feature Engineering"
   ]
  },
  {
   "cell_type": "markdown",
   "id": "5076f064-9b38-4b76-8b46-60d490b5bba3",
   "metadata": {},
   "source": [
    "- card_df\n",
    "    - card_on_dark_web 제거 가능\n",
    "- trans_df\n",
    "    - errors 거래 성공여부 확인하려면 성공을 NaN에서 다른 값으로 대체 필요\n",
    "    - date 날짜 정보 활용하려면 datetime으로 형변환 필요\n",
    "    - amount 음수인 경우 확인 필요\n",
    "    - zip 제거 가능\n",
    "    - Italy 사기거래 비율 높은 이유 확인 필요"
   ]
  },
  {
   "cell_type": "markdown",
   "id": "b4009c2a-00e2-4c7b-9053-4592eeafd1da",
   "metadata": {},
   "source": [
    "- user 구분\n",
    "- mcc 범주화"
   ]
  },
  {
   "cell_type": "code",
   "execution_count": 231,
   "id": "a8da494e-c1c3-432f-85ae-00f26cfe2120",
   "metadata": {},
   "outputs": [],
   "source": [
    "# 불필요 컬럼 제거\n",
    "trans_df.drop(['zip', 'card_on_dark_web'], axis=1, inplace=True)\n",
    "trans_df.drop(['id', 'client_id', 'card_id', 'merchant_id', 'card_number'], axis=1, inplace=True) # merge 끝났으므로 단순 식별용 컬럼 제거\n",
    "trans_df.drop(['retirement_age', 'birth_year', 'birth_month', 'latitude', 'longitude', 'expires', 'cvv'], axis=1, inplace=True)"
   ]
  },
  {
   "cell_type": "code",
   "execution_count": 216,
   "id": "5ced441c-d1ee-4a57-a342-45f0e88b146c",
   "metadata": {},
   "outputs": [],
   "source": [
    "# mcc 범주화\n",
    "food = ['Eating Places and Restaurants', 'Fast Food Restaurants', 'Drinking Places (Alcoholic Beverages)', 'Grocery Stores, Supermarkets', \n",
    "              'Miscellaneous Food Stores', 'Package Stores, Beer, Wine, Liquor', 'Wholesale Clubs', 'Discount Stores']\n",
    "\n",
    "medical = ['Medical Services', 'Doctors, Physicians', 'Dentists and Orthodontists', 'Chiropractors', 'Podiatrists',\n",
    "                    'Optometrists, Optical Goods and Eyeglasses', 'Hospitals', 'Drug Stores and Pharmacies']\n",
    "\n",
    "transport = ['Service Stations', 'Automotive Service Shops', 'Automotive Body Repair Shops', 'Automotive Parts and Accessories Stores',\n",
    "                       'Taxicabs and Limousines', 'Bus Lines', 'Passenger Railways', 'Railroad Passenger Transport', 'Railroad Freight',\n",
    "                       'Motor Freight Carriers and Trucking', 'Airlines', 'Cruise Lines', 'Lodging - Hotels, Motels, Resorts',\n",
    "                       'Local and Suburban Commuter Transportation']\n",
    "\n",
    "service = ['Laundry Services', 'Car Washes', 'Towing Services', 'Cleaning and Maintenance Services', 'Tax Preparation Services',\n",
    "                   'Accounting, Auditing, and Bookkeeping Services', 'Legal Services and Attorneys', 'Detective Agencies, Security Services', 'Money Transfer',\n",
    "                   'Insurance Sales, Underwriting', 'Travel Agencies']\n",
    "\n",
    "retail = ['Department Stores', 'Family Clothing Stores', \"Women's Ready-To-Wear Stores\", 'Shoe Stores', 'Sports Apparel, Riding Apparel Stores',\n",
    "              'Sporting Goods Stores', 'Leather Goods', 'Precious Stones and Metals', 'Antique Shops', 'Music Stores - Musical Instruments',\n",
    "              'Artist Supply Stores, Craft Shops', 'Book Stores', 'Books, Periodicals, Newspapers', 'Electronics Stores',\n",
    "              'Computers, Computer Peripheral Equipment', 'Digital Goods - Media, Books, Apps', 'Digital Goods - Games', 'Cosmetic Stores',\n",
    "              'Beauty and Barber Shops', 'Gift, Card, Novelty Stores', 'Miscellaneous Home Furnishing Stores', \n",
    "              'Furniture, Home Furnishings, and Equipment Stores', 'Upholstery and Drapery Stores', 'Lighting, Fixtures, Electrical Supplies',\n",
    "              'Floor Covering Stores', 'Lawn and Garden Supply Stores', 'Gardening Supplies', 'Hardware Stores', 'Household Appliance Stores',\n",
    "              'Florists Supplies, Nursery Stock and Flowers', 'Non-Precious Metal Services']\n",
    "\n",
    "industry = ['Lumber and Building Materials', 'Brick, Stone, and Related Materials', 'Industrial Equipment and Supplies',\n",
    "                    'Tools, Parts, Supplies Manufacturing', 'Heating, Plumbing, Air Conditioning Contractors', 'Fabricated Structural Metal Products',\n",
    "                    'Steel Products Manufacturing', 'Steelworks', 'Ironwork', 'Welding Repair', 'Electroplating, Plating, Polishing Services',\n",
    "                    'Heat Treating Metal Services', 'Bolt, Nut, Screw, Rivet Manufacturing', 'Coated and Laminated Products', 'Non-Ferrous Metal Foundries',\n",
    "                    'Steel Drums and Barrels', 'Miscellaneous Metal Fabrication', 'Miscellaneous Metals', 'Miscellaneous Fabricated Metal Products',\n",
    "                    'Miscellaneous Metalwork', 'Pottery and Ceramics', 'Semiconductors and Related Devices', 'Ship Chandlers',\n",
    "                    'Utilities - Electric, Gas, Water, Sanitary', 'Telecommunication Services', 'Computer Network Services', \n",
    "                    'Cable, Satellite, and Other Pay Television Services', 'Postal Services - Government Only', 'Tolls and Bridge Fees', \n",
    "                    'Amusement Parks, Carnivals, Circuses', 'Motion Picture Theaters', 'Theatrical Producers', 'Recreational Sports, Clubs', \n",
    "                    'Athletic Fields, Commercial Sports', 'Betting (including Lottery Tickets, Casinos)', 'Miscellaneous Machinery and Parts Manufacturing']"
   ]
  },
  {
   "cell_type": "code",
   "execution_count": 226,
   "id": "ba2198e3-5cab-459f-a360-bb2a499c2b88",
   "metadata": {},
   "outputs": [],
   "source": [
    "trans_df.loc[trans_df['merchant_cat'].isin(food), 'merchant_cat'] = 'food'\n",
    "trans_df.loc[trans_df['merchant_cat'].isin(medical), 'merchant_cat'] = 'medical'\n",
    "trans_df.loc[trans_df['merchant_cat'].isin(transport), 'merchant_cat'] = 'transport'\n",
    "trans_df.loc[trans_df['merchant_cat'].isin(service), 'merchant_cat'] = 'service'\n",
    "trans_df.loc[trans_df['merchant_cat'].isin(retail), 'merchant_cat'] = 'retail'\n",
    "trans_df.loc[trans_df['merchant_cat'].isin(industry), 'merchant_cat'] = 'industry'"
   ]
  },
  {
   "cell_type": "code",
   "execution_count": 232,
   "id": "3710abbb-b474-4b83-978d-e57e022a03a6",
   "metadata": {},
   "outputs": [
    {
     "data": {
      "text/html": [
       "<div>\n",
       "<style scoped>\n",
       "    .dataframe tbody tr th:only-of-type {\n",
       "        vertical-align: middle;\n",
       "    }\n",
       "\n",
       "    .dataframe tbody tr th {\n",
       "        vertical-align: top;\n",
       "    }\n",
       "\n",
       "    .dataframe thead th {\n",
       "        text-align: right;\n",
       "    }\n",
       "</style>\n",
       "<table border=\"1\" class=\"dataframe\">\n",
       "  <thead>\n",
       "    <tr style=\"text-align: right;\">\n",
       "      <th></th>\n",
       "      <th>date</th>\n",
       "      <th>amount</th>\n",
       "      <th>use_chip</th>\n",
       "      <th>merchant_city</th>\n",
       "      <th>merchant_state</th>\n",
       "      <th>errors</th>\n",
       "      <th>merchant_cat</th>\n",
       "      <th>target</th>\n",
       "      <th>current_age</th>\n",
       "      <th>gender</th>\n",
       "      <th>address</th>\n",
       "      <th>per_capita_income</th>\n",
       "      <th>yearly_income</th>\n",
       "      <th>total_debt</th>\n",
       "      <th>credit_score</th>\n",
       "      <th>num_credit_cards</th>\n",
       "      <th>card_brand</th>\n",
       "      <th>card_type</th>\n",
       "      <th>has_chip</th>\n",
       "      <th>num_cards_issued</th>\n",
       "      <th>credit_limit</th>\n",
       "      <th>acct_open_date</th>\n",
       "      <th>year_pin_last_changed</th>\n",
       "    </tr>\n",
       "  </thead>\n",
       "  <tbody>\n",
       "    <tr>\n",
       "      <th>0</th>\n",
       "      <td>2010-01-01 00:01:00</td>\n",
       "      <td>-77.00</td>\n",
       "      <td>Swipe Transaction</td>\n",
       "      <td>Beulah</td>\n",
       "      <td>ND</td>\n",
       "      <td>NaN</td>\n",
       "      <td>food</td>\n",
       "      <td>No</td>\n",
       "      <td>30</td>\n",
       "      <td>Female</td>\n",
       "      <td>594 Mountain View Street</td>\n",
       "      <td>$23679</td>\n",
       "      <td>$48277</td>\n",
       "      <td>$110153</td>\n",
       "      <td>740</td>\n",
       "      <td>4</td>\n",
       "      <td>Mastercard</td>\n",
       "      <td>Debit (Prepaid)</td>\n",
       "      <td>YES</td>\n",
       "      <td>2</td>\n",
       "      <td>$55</td>\n",
       "      <td>05/2008</td>\n",
       "      <td>2008</td>\n",
       "    </tr>\n",
       "    <tr>\n",
       "      <th>1</th>\n",
       "      <td>2010-01-01 00:02:00</td>\n",
       "      <td>14.57</td>\n",
       "      <td>Swipe Transaction</td>\n",
       "      <td>Bettendorf</td>\n",
       "      <td>IA</td>\n",
       "      <td>NaN</td>\n",
       "      <td>retail</td>\n",
       "      <td>No</td>\n",
       "      <td>48</td>\n",
       "      <td>Male</td>\n",
       "      <td>604 Pine Street</td>\n",
       "      <td>$18076</td>\n",
       "      <td>$36853</td>\n",
       "      <td>$112139</td>\n",
       "      <td>834</td>\n",
       "      <td>5</td>\n",
       "      <td>Mastercard</td>\n",
       "      <td>Credit</td>\n",
       "      <td>YES</td>\n",
       "      <td>1</td>\n",
       "      <td>$9100</td>\n",
       "      <td>09/2005</td>\n",
       "      <td>2015</td>\n",
       "    </tr>\n",
       "    <tr>\n",
       "      <th>2</th>\n",
       "      <td>2010-01-01 00:02:00</td>\n",
       "      <td>80.00</td>\n",
       "      <td>Swipe Transaction</td>\n",
       "      <td>Vista</td>\n",
       "      <td>CA</td>\n",
       "      <td>NaN</td>\n",
       "      <td>service</td>\n",
       "      <td>No</td>\n",
       "      <td>49</td>\n",
       "      <td>Male</td>\n",
       "      <td>2379 Forest Lane</td>\n",
       "      <td>$16894</td>\n",
       "      <td>$34449</td>\n",
       "      <td>$36540</td>\n",
       "      <td>686</td>\n",
       "      <td>3</td>\n",
       "      <td>Mastercard</td>\n",
       "      <td>Debit</td>\n",
       "      <td>YES</td>\n",
       "      <td>1</td>\n",
       "      <td>$14802</td>\n",
       "      <td>01/2006</td>\n",
       "      <td>2008</td>\n",
       "    </tr>\n",
       "    <tr>\n",
       "      <th>3</th>\n",
       "      <td>2010-01-01 00:06:00</td>\n",
       "      <td>46.41</td>\n",
       "      <td>Swipe Transaction</td>\n",
       "      <td>Harwood</td>\n",
       "      <td>MD</td>\n",
       "      <td>NaN</td>\n",
       "      <td>food</td>\n",
       "      <td>No</td>\n",
       "      <td>51</td>\n",
       "      <td>Male</td>\n",
       "      <td>166 River Drive</td>\n",
       "      <td>$33529</td>\n",
       "      <td>$68362</td>\n",
       "      <td>$96182</td>\n",
       "      <td>711</td>\n",
       "      <td>2</td>\n",
       "      <td>Visa</td>\n",
       "      <td>Debit</td>\n",
       "      <td>YES</td>\n",
       "      <td>1</td>\n",
       "      <td>$19113</td>\n",
       "      <td>07/2009</td>\n",
       "      <td>2014</td>\n",
       "    </tr>\n",
       "    <tr>\n",
       "      <th>4</th>\n",
       "      <td>2010-01-01 00:07:00</td>\n",
       "      <td>4.81</td>\n",
       "      <td>Swipe Transaction</td>\n",
       "      <td>Bronx</td>\n",
       "      <td>NY</td>\n",
       "      <td>NaN</td>\n",
       "      <td>retail</td>\n",
       "      <td>No</td>\n",
       "      <td>47</td>\n",
       "      <td>Female</td>\n",
       "      <td>14780 Plum Lane</td>\n",
       "      <td>$25537</td>\n",
       "      <td>$52065</td>\n",
       "      <td>$98613</td>\n",
       "      <td>828</td>\n",
       "      <td>5</td>\n",
       "      <td>Mastercard</td>\n",
       "      <td>Debit (Prepaid)</td>\n",
       "      <td>YES</td>\n",
       "      <td>1</td>\n",
       "      <td>$89</td>\n",
       "      <td>01/2008</td>\n",
       "      <td>2015</td>\n",
       "    </tr>\n",
       "    <tr>\n",
       "      <th>...</th>\n",
       "      <td>...</td>\n",
       "      <td>...</td>\n",
       "      <td>...</td>\n",
       "      <td>...</td>\n",
       "      <td>...</td>\n",
       "      <td>...</td>\n",
       "      <td>...</td>\n",
       "      <td>...</td>\n",
       "      <td>...</td>\n",
       "      <td>...</td>\n",
       "      <td>...</td>\n",
       "      <td>...</td>\n",
       "      <td>...</td>\n",
       "      <td>...</td>\n",
       "      <td>...</td>\n",
       "      <td>...</td>\n",
       "      <td>...</td>\n",
       "      <td>...</td>\n",
       "      <td>...</td>\n",
       "      <td>...</td>\n",
       "      <td>...</td>\n",
       "      <td>...</td>\n",
       "      <td>...</td>\n",
       "    </tr>\n",
       "    <tr>\n",
       "      <th>8914958</th>\n",
       "      <td>2019-10-31 23:54:00</td>\n",
       "      <td>12.93</td>\n",
       "      <td>Chip Transaction</td>\n",
       "      <td>Cosby</td>\n",
       "      <td>TN</td>\n",
       "      <td>NaN</td>\n",
       "      <td>retail</td>\n",
       "      <td>No</td>\n",
       "      <td>37</td>\n",
       "      <td>Male</td>\n",
       "      <td>95873 Madison Boulevard</td>\n",
       "      <td>$11755</td>\n",
       "      <td>$23967</td>\n",
       "      <td>$3880</td>\n",
       "      <td>722</td>\n",
       "      <td>4</td>\n",
       "      <td>Visa</td>\n",
       "      <td>Debit</td>\n",
       "      <td>YES</td>\n",
       "      <td>1</td>\n",
       "      <td>$8333</td>\n",
       "      <td>10/2003</td>\n",
       "      <td>2007</td>\n",
       "    </tr>\n",
       "    <tr>\n",
       "      <th>8914959</th>\n",
       "      <td>2019-10-31 23:54:00</td>\n",
       "      <td>67.01</td>\n",
       "      <td>Chip Transaction</td>\n",
       "      <td>Williamson</td>\n",
       "      <td>GA</td>\n",
       "      <td>NaN</td>\n",
       "      <td>food</td>\n",
       "      <td>No</td>\n",
       "      <td>74</td>\n",
       "      <td>Female</td>\n",
       "      <td>528 Lake Drive</td>\n",
       "      <td>$22545</td>\n",
       "      <td>$23011</td>\n",
       "      <td>$30510</td>\n",
       "      <td>721</td>\n",
       "      <td>3</td>\n",
       "      <td>Visa</td>\n",
       "      <td>Debit</td>\n",
       "      <td>YES</td>\n",
       "      <td>2</td>\n",
       "      <td>$24617</td>\n",
       "      <td>07/2004</td>\n",
       "      <td>2006</td>\n",
       "    </tr>\n",
       "    <tr>\n",
       "      <th>8914960</th>\n",
       "      <td>2019-10-31 23:56:00</td>\n",
       "      <td>1.11</td>\n",
       "      <td>Chip Transaction</td>\n",
       "      <td>West Covina</td>\n",
       "      <td>CA</td>\n",
       "      <td>NaN</td>\n",
       "      <td>food</td>\n",
       "      <td>No</td>\n",
       "      <td>81</td>\n",
       "      <td>Female</td>\n",
       "      <td>766 Third Drive</td>\n",
       "      <td>$22681</td>\n",
       "      <td>$33483</td>\n",
       "      <td>$196</td>\n",
       "      <td>698</td>\n",
       "      <td>5</td>\n",
       "      <td>Mastercard</td>\n",
       "      <td>Debit</td>\n",
       "      <td>YES</td>\n",
       "      <td>1</td>\n",
       "      <td>$26743</td>\n",
       "      <td>03/2019</td>\n",
       "      <td>2019</td>\n",
       "    </tr>\n",
       "    <tr>\n",
       "      <th>8914961</th>\n",
       "      <td>2019-10-31 23:56:00</td>\n",
       "      <td>12.80</td>\n",
       "      <td>Online Transaction</td>\n",
       "      <td>ONLINE</td>\n",
       "      <td>NaN</td>\n",
       "      <td>NaN</td>\n",
       "      <td>retail</td>\n",
       "      <td>No</td>\n",
       "      <td>62</td>\n",
       "      <td>Male</td>\n",
       "      <td>6076 Bayview Boulevard</td>\n",
       "      <td>$9995</td>\n",
       "      <td>$20377</td>\n",
       "      <td>$12092</td>\n",
       "      <td>789</td>\n",
       "      <td>4</td>\n",
       "      <td>Mastercard</td>\n",
       "      <td>Debit</td>\n",
       "      <td>YES</td>\n",
       "      <td>1</td>\n",
       "      <td>$5141</td>\n",
       "      <td>03/2004</td>\n",
       "      <td>2012</td>\n",
       "    </tr>\n",
       "    <tr>\n",
       "      <th>8914962</th>\n",
       "      <td>2019-10-31 23:57:00</td>\n",
       "      <td>40.44</td>\n",
       "      <td>Swipe Transaction</td>\n",
       "      <td>Allen</td>\n",
       "      <td>TX</td>\n",
       "      <td>NaN</td>\n",
       "      <td>industry</td>\n",
       "      <td>No</td>\n",
       "      <td>67</td>\n",
       "      <td>Female</td>\n",
       "      <td>7927 Plum Lane</td>\n",
       "      <td>$32580</td>\n",
       "      <td>$78329</td>\n",
       "      <td>$40161</td>\n",
       "      <td>720</td>\n",
       "      <td>3</td>\n",
       "      <td>Mastercard</td>\n",
       "      <td>Debit</td>\n",
       "      <td>YES</td>\n",
       "      <td>1</td>\n",
       "      <td>$17686</td>\n",
       "      <td>02/2004</td>\n",
       "      <td>2007</td>\n",
       "    </tr>\n",
       "  </tbody>\n",
       "</table>\n",
       "<p>8914963 rows × 23 columns</p>\n",
       "</div>"
      ],
      "text/plain": [
       "                        date  amount            use_chip merchant_city  \\\n",
       "0        2010-01-01 00:01:00  -77.00   Swipe Transaction        Beulah   \n",
       "1        2010-01-01 00:02:00   14.57   Swipe Transaction    Bettendorf   \n",
       "2        2010-01-01 00:02:00   80.00   Swipe Transaction         Vista   \n",
       "3        2010-01-01 00:06:00   46.41   Swipe Transaction       Harwood   \n",
       "4        2010-01-01 00:07:00    4.81   Swipe Transaction         Bronx   \n",
       "...                      ...     ...                 ...           ...   \n",
       "8914958  2019-10-31 23:54:00   12.93    Chip Transaction         Cosby   \n",
       "8914959  2019-10-31 23:54:00   67.01    Chip Transaction    Williamson   \n",
       "8914960  2019-10-31 23:56:00    1.11    Chip Transaction   West Covina   \n",
       "8914961  2019-10-31 23:56:00   12.80  Online Transaction        ONLINE   \n",
       "8914962  2019-10-31 23:57:00   40.44   Swipe Transaction         Allen   \n",
       "\n",
       "        merchant_state errors merchant_cat target  current_age  gender  \\\n",
       "0                   ND    NaN         food     No           30  Female   \n",
       "1                   IA    NaN       retail     No           48    Male   \n",
       "2                   CA    NaN      service     No           49    Male   \n",
       "3                   MD    NaN         food     No           51    Male   \n",
       "4                   NY    NaN       retail     No           47  Female   \n",
       "...                ...    ...          ...    ...          ...     ...   \n",
       "8914958             TN    NaN       retail     No           37    Male   \n",
       "8914959             GA    NaN         food     No           74  Female   \n",
       "8914960             CA    NaN         food     No           81  Female   \n",
       "8914961            NaN    NaN       retail     No           62    Male   \n",
       "8914962             TX    NaN     industry     No           67  Female   \n",
       "\n",
       "                          address per_capita_income yearly_income total_debt  \\\n",
       "0        594 Mountain View Street            $23679        $48277    $110153   \n",
       "1                 604 Pine Street            $18076        $36853    $112139   \n",
       "2                2379 Forest Lane            $16894        $34449     $36540   \n",
       "3                 166 River Drive            $33529        $68362     $96182   \n",
       "4                 14780 Plum Lane            $25537        $52065     $98613   \n",
       "...                           ...               ...           ...        ...   \n",
       "8914958   95873 Madison Boulevard            $11755        $23967      $3880   \n",
       "8914959            528 Lake Drive            $22545        $23011     $30510   \n",
       "8914960           766 Third Drive            $22681        $33483       $196   \n",
       "8914961    6076 Bayview Boulevard             $9995        $20377     $12092   \n",
       "8914962            7927 Plum Lane            $32580        $78329     $40161   \n",
       "\n",
       "         credit_score  num_credit_cards  card_brand        card_type has_chip  \\\n",
       "0                 740                 4  Mastercard  Debit (Prepaid)      YES   \n",
       "1                 834                 5  Mastercard           Credit      YES   \n",
       "2                 686                 3  Mastercard            Debit      YES   \n",
       "3                 711                 2        Visa            Debit      YES   \n",
       "4                 828                 5  Mastercard  Debit (Prepaid)      YES   \n",
       "...               ...               ...         ...              ...      ...   \n",
       "8914958           722                 4        Visa            Debit      YES   \n",
       "8914959           721                 3        Visa            Debit      YES   \n",
       "8914960           698                 5  Mastercard            Debit      YES   \n",
       "8914961           789                 4  Mastercard            Debit      YES   \n",
       "8914962           720                 3  Mastercard            Debit      YES   \n",
       "\n",
       "         num_cards_issued credit_limit acct_open_date  year_pin_last_changed  \n",
       "0                       2          $55        05/2008                   2008  \n",
       "1                       1        $9100        09/2005                   2015  \n",
       "2                       1       $14802        01/2006                   2008  \n",
       "3                       1       $19113        07/2009                   2014  \n",
       "4                       1          $89        01/2008                   2015  \n",
       "...                   ...          ...            ...                    ...  \n",
       "8914958                 1        $8333        10/2003                   2007  \n",
       "8914959                 2       $24617        07/2004                   2006  \n",
       "8914960                 1       $26743        03/2019                   2019  \n",
       "8914961                 1        $5141        03/2004                   2012  \n",
       "8914962                 1       $17686        02/2004                   2007  \n",
       "\n",
       "[8914963 rows x 23 columns]"
      ]
     },
     "execution_count": 232,
     "metadata": {},
     "output_type": "execute_result"
    }
   ],
   "source": [
    "trans_df"
   ]
  },
  {
   "cell_type": "code",
   "execution_count": null,
   "id": "c0d0b237-d529-44a1-8b9d-b9d250e9d76e",
   "metadata": {},
   "outputs": [],
   "source": []
  }
 ],
 "metadata": {
  "kernelspec": {
   "display_name": "Python (myenv)",
   "language": "python",
   "name": "myenv"
  },
  "language_info": {
   "codemirror_mode": {
    "name": "ipython",
    "version": 3
   },
   "file_extension": ".py",
   "mimetype": "text/x-python",
   "name": "python",
   "nbconvert_exporter": "python",
   "pygments_lexer": "ipython3",
   "version": "3.10.18"
  }
 },
 "nbformat": 4,
 "nbformat_minor": 5
}
