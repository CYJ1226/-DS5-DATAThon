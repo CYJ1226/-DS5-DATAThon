{
 "cells": [
  {
   "cell_type": "markdown",
   "id": "293f2173-a277-4d39-a8d9-c45d19feec52",
   "metadata": {},
   "source": [
    "- 사기거래탐지"
   ]
  },
  {
   "cell_type": "markdown",
   "id": "ff71a28f-a3b6-4e47-a04f-3fa931779577",
   "metadata": {},
   "source": [
    "# EDA"
   ]
  },
  {
   "cell_type": "markdown",
   "id": "5e98b2b8-aa43-4da6-a474-06f54801e422",
   "metadata": {},
   "source": [
    "### 데이터 불러오기"
   ]
  },
  {
   "cell_type": "code",
   "execution_count": 26,
   "id": "8f256086-902d-4b8e-9988-0cfba3960e16",
   "metadata": {},
   "outputs": [],
   "source": [
    "import numpy as np\n",
    "import pandas as pd\n",
    "import matplotlib.pyplot as plt\n",
    "import seaborn as sns\n",
    "import warnings\n",
    "import pgeocode #우편 변호 지원 \n",
    "from haversine import haversine, haversine_vector, Unit # 지리적 거리 차이 계산\n",
    "warnings.filterwarnings('ignore')"
   ]
  },
  {
   "cell_type": "code",
   "execution_count": 27,
   "id": "e58f7fd0-84a7-47d9-9df2-855921c8c101",
   "metadata": {},
   "outputs": [],
   "source": [
    "card_df = pd.read_csv('../data/ftd/cards_data.csv')\n",
    "trans_df = pd.read_csv('../data/ftd/transactions_data.csv')\n",
    "user_df = pd.read_csv('../data/ftd/users_data.csv')\n",
    "mcc_df = pd.read_json('../data/ftd/mcc_codes.json', orient='index').rename({0:'category'}, axis=1)\n",
    "fraud_df = pd.read_json('../data/ftd/train_fraud_labels.json')"
   ]
  },
  {
   "cell_type": "markdown",
   "id": "ee056dbe-c90b-4c58-97eb-d9bd26d58350",
   "metadata": {},
   "source": [
    "### 데이터별 컬럼 의미"
   ]
  },
  {
   "cell_type": "code",
   "execution_count": 28,
   "id": "0ce92bf6-21e6-4bf3-8bd7-b863023ab88c",
   "metadata": {},
   "outputs": [],
   "source": [
    "# card_df"
   ]
  },
  {
   "cell_type": "markdown",
   "id": "79a32bba-d404-43da-abc5-ffade867c8fa",
   "metadata": {},
   "source": [
    "- **id**: 카드 id \n",
    "- **client**: 고객 id\n",
    "- **card_brand**: 카드사\n",
    "- **card_type**: 카드 종류(신용/체크)\n",
    "- **card_number**: 카드번호\n",
    "- **expires**: 카드 만료기간\n",
    "- **cvv**: 카드 인증코드\n",
    "- **has_chip**: 카드 IC칩 보유 여부(IC칩 있을 시 카드 도용/복제에 상대적으로 안전)\n",
    "- **num_cards_issued**: 문제 발생 횟수??\n",
    "- **credit_limit**: 신용 한도\n",
    "- **acct_open_date**: 계좌 개설일\n",
    "- **year_pin_last_changed**: 카드 pin번호 최근 변경연도\n",
    "- **card_on_dark_web**: 다크웹 사용?? => No만 존재 => 제거 가능"
   ]
  },
  {
   "cell_type": "code",
   "execution_count": 29,
   "id": "5ab999d2-7f12-4182-81b4-bf90cae89ac2",
   "metadata": {},
   "outputs": [],
   "source": [
    "# trans_df"
   ]
  },
  {
   "cell_type": "markdown",
   "id": "ea90db92-abbc-4a34-b6f2-0abef2fa5157",
   "metadata": {},
   "source": [
    "- **id**: 거래식별번호\n",
    "- **date**: 거래일자\n",
    "- **client_id**: 고객id\n",
    "- **card_id**: 카드id\n",
    "- **amount**: 거래금액 => 음수 데이터 존재\n",
    "- **use_chip**: 카드 결제 방식\n",
    "    - Swipe Transaction: 마그네틱 카드로 긁어서 결제\n",
    "    - Chip Transaction: ic칩 카드로 결제\n",
    "    - Online Transaction: 온라인 결제\n",
    "- **merchant_id**: 매장id\n",
    "- **merchant_city**: 매장 위치(시)\n",
    "- **merchant_state**: 매장 위치(주)\n",
    "- **zip**: 매장 우편번호\n",
    "- **mcc**: 매장 분류코드\n",
    "- **errors**: 거래 성공 여부(결제 오류 시 오류 원인이 적혀있음)"
   ]
  },
  {
   "cell_type": "code",
   "execution_count": 30,
   "id": "fba57b5f-14fc-4d92-a843-f7bfc62567f5",
   "metadata": {},
   "outputs": [],
   "source": [
    "# user_df"
   ]
  },
  {
   "cell_type": "markdown",
   "id": "6dc727ff-e66a-449e-a8ab-0f1490dfcff7",
   "metadata": {},
   "source": [
    "- **id**: 고객id\n",
    "- **current_age**: 현재 나이\n",
    "- **retirement_age**: 퇴직 연령\n",
    "- **birth_year**: 출생연도\n",
    "- **gender**: 성별\n",
    "- **address**: 주소\n",
    "- **latitude**: 위도\n",
    "- **longitude**: 경도\n",
    "- **per_capita_income**: 1인당 소득 (전체 소득 / 인구 수)\n",
    "- **yearly_income**: 연봉\n",
    "- **total_debt**: 채무액\n",
    "- **credit_score**: 신용점수\n",
    "- **num_credit_cards**: 보유 중인 신용카드 수"
   ]
  },
  {
   "cell_type": "code",
   "execution_count": 31,
   "id": "195e5b90-5bfc-451d-8657-1e6d6a3ddb18",
   "metadata": {},
   "outputs": [
    {
     "data": {
      "text/html": [
       "<div>\n",
       "<style scoped>\n",
       "    .dataframe tbody tr th:only-of-type {\n",
       "        vertical-align: middle;\n",
       "    }\n",
       "\n",
       "    .dataframe tbody tr th {\n",
       "        vertical-align: top;\n",
       "    }\n",
       "\n",
       "    .dataframe thead th {\n",
       "        text-align: right;\n",
       "    }\n",
       "</style>\n",
       "<table border=\"1\" class=\"dataframe\">\n",
       "  <thead>\n",
       "    <tr style=\"text-align: right;\">\n",
       "      <th></th>\n",
       "      <th>index</th>\n",
       "      <th>category</th>\n",
       "    </tr>\n",
       "  </thead>\n",
       "  <tbody>\n",
       "    <tr>\n",
       "      <th>0</th>\n",
       "      <td>5812</td>\n",
       "      <td>Eating Places and Restaurants</td>\n",
       "    </tr>\n",
       "    <tr>\n",
       "      <th>1</th>\n",
       "      <td>5541</td>\n",
       "      <td>Service Stations</td>\n",
       "    </tr>\n",
       "    <tr>\n",
       "      <th>2</th>\n",
       "      <td>7996</td>\n",
       "      <td>Amusement Parks, Carnivals, Circuses</td>\n",
       "    </tr>\n",
       "    <tr>\n",
       "      <th>3</th>\n",
       "      <td>5411</td>\n",
       "      <td>Grocery Stores, Supermarkets</td>\n",
       "    </tr>\n",
       "    <tr>\n",
       "      <th>4</th>\n",
       "      <td>4784</td>\n",
       "      <td>Tolls and Bridge Fees</td>\n",
       "    </tr>\n",
       "    <tr>\n",
       "      <th>...</th>\n",
       "      <td>...</td>\n",
       "      <td>...</td>\n",
       "    </tr>\n",
       "    <tr>\n",
       "      <th>104</th>\n",
       "      <td>7549</td>\n",
       "      <td>Towing Services</td>\n",
       "    </tr>\n",
       "    <tr>\n",
       "      <th>105</th>\n",
       "      <td>5941</td>\n",
       "      <td>Sporting Goods Stores</td>\n",
       "    </tr>\n",
       "    <tr>\n",
       "      <th>106</th>\n",
       "      <td>5722</td>\n",
       "      <td>Household Appliance Stores</td>\n",
       "    </tr>\n",
       "    <tr>\n",
       "      <th>107</th>\n",
       "      <td>3009</td>\n",
       "      <td>Fabricated Structural Metal Products</td>\n",
       "    </tr>\n",
       "    <tr>\n",
       "      <th>108</th>\n",
       "      <td>5733</td>\n",
       "      <td>Music Stores - Musical Instruments</td>\n",
       "    </tr>\n",
       "  </tbody>\n",
       "</table>\n",
       "<p>109 rows × 2 columns</p>\n",
       "</div>"
      ],
      "text/plain": [
       "     index                              category\n",
       "0     5812         Eating Places and Restaurants\n",
       "1     5541                      Service Stations\n",
       "2     7996  Amusement Parks, Carnivals, Circuses\n",
       "3     5411          Grocery Stores, Supermarkets\n",
       "4     4784                 Tolls and Bridge Fees\n",
       "..     ...                                   ...\n",
       "104   7549                       Towing Services\n",
       "105   5941                 Sporting Goods Stores\n",
       "106   5722            Household Appliance Stores\n",
       "107   3009  Fabricated Structural Metal Products\n",
       "108   5733    Music Stores - Musical Instruments\n",
       "\n",
       "[109 rows x 2 columns]"
      ]
     },
     "execution_count": 31,
     "metadata": {},
     "output_type": "execute_result"
    }
   ],
   "source": [
    "mcc_df.reset_index()"
   ]
  },
  {
   "cell_type": "markdown",
   "id": "f99689d9-57fc-4472-9bf8-253e6373b929",
   "metadata": {},
   "source": [
    "- mcc별 상점 종류"
   ]
  },
  {
   "cell_type": "code",
   "execution_count": 32,
   "id": "9f86df05-2e5e-47ca-826d-49f255fcb0f0",
   "metadata": {},
   "outputs": [
    {
     "data": {
      "text/html": [
       "<div>\n",
       "<style scoped>\n",
       "    .dataframe tbody tr th:only-of-type {\n",
       "        vertical-align: middle;\n",
       "    }\n",
       "\n",
       "    .dataframe tbody tr th {\n",
       "        vertical-align: top;\n",
       "    }\n",
       "\n",
       "    .dataframe thead th {\n",
       "        text-align: right;\n",
       "    }\n",
       "</style>\n",
       "<table border=\"1\" class=\"dataframe\">\n",
       "  <thead>\n",
       "    <tr style=\"text-align: right;\">\n",
       "      <th></th>\n",
       "      <th>index</th>\n",
       "      <th>target</th>\n",
       "    </tr>\n",
       "  </thead>\n",
       "  <tbody>\n",
       "    <tr>\n",
       "      <th>0</th>\n",
       "      <td>10649266</td>\n",
       "      <td>No</td>\n",
       "    </tr>\n",
       "    <tr>\n",
       "      <th>1</th>\n",
       "      <td>23410063</td>\n",
       "      <td>No</td>\n",
       "    </tr>\n",
       "    <tr>\n",
       "      <th>2</th>\n",
       "      <td>9316588</td>\n",
       "      <td>No</td>\n",
       "    </tr>\n",
       "    <tr>\n",
       "      <th>3</th>\n",
       "      <td>12478022</td>\n",
       "      <td>No</td>\n",
       "    </tr>\n",
       "    <tr>\n",
       "      <th>4</th>\n",
       "      <td>9558530</td>\n",
       "      <td>No</td>\n",
       "    </tr>\n",
       "    <tr>\n",
       "      <th>...</th>\n",
       "      <td>...</td>\n",
       "      <td>...</td>\n",
       "    </tr>\n",
       "    <tr>\n",
       "      <th>8914958</th>\n",
       "      <td>14064699</td>\n",
       "      <td>No</td>\n",
       "    </tr>\n",
       "    <tr>\n",
       "      <th>8914959</th>\n",
       "      <td>7676538</td>\n",
       "      <td>No</td>\n",
       "    </tr>\n",
       "    <tr>\n",
       "      <th>8914960</th>\n",
       "      <td>15131030</td>\n",
       "      <td>No</td>\n",
       "    </tr>\n",
       "    <tr>\n",
       "      <th>8914961</th>\n",
       "      <td>17244732</td>\n",
       "      <td>No</td>\n",
       "    </tr>\n",
       "    <tr>\n",
       "      <th>8914962</th>\n",
       "      <td>15151926</td>\n",
       "      <td>No</td>\n",
       "    </tr>\n",
       "  </tbody>\n",
       "</table>\n",
       "<p>8914963 rows × 2 columns</p>\n",
       "</div>"
      ],
      "text/plain": [
       "            index target\n",
       "0        10649266     No\n",
       "1        23410063     No\n",
       "2         9316588     No\n",
       "3        12478022     No\n",
       "4         9558530     No\n",
       "...           ...    ...\n",
       "8914958  14064699     No\n",
       "8914959   7676538     No\n",
       "8914960  15131030     No\n",
       "8914961  17244732     No\n",
       "8914962  15151926     No\n",
       "\n",
       "[8914963 rows x 2 columns]"
      ]
     },
     "execution_count": 32,
     "metadata": {},
     "output_type": "execute_result"
    }
   ],
   "source": [
    "fraud_df.reset_index()"
   ]
  },
  {
   "cell_type": "markdown",
   "id": "03628da5-1cb2-454c-8c47-5d31e90ec813",
   "metadata": {},
   "source": [
    "- 거래 id별 정상거래/사기거래 여부"
   ]
  },
  {
   "cell_type": "markdown",
   "id": "cf0107d7-fa79-43a0-bae7-ab595b7f519a",
   "metadata": {},
   "source": [
    "### 데이터 살펴보기"
   ]
  },
  {
   "cell_type": "code",
   "execution_count": 33,
   "id": "08e109fa-10cc-4569-ab9b-0b379499221c",
   "metadata": {},
   "outputs": [],
   "source": [
    "user_df = user_df.rename(columns={'id':'client_id'}) #user_df의 id를 client_id로 변경\n",
    "card_user_df = card_df.merge(user_df, on='client_id') #카드 정보와 고객 정보를 병함(카드 데이터를 기준으로)\n",
    "\n",
    "card_user_df = card_user_df.drop(columns=['card_number','cvv']) #카드 번호, cvv(보안 번호, cvc 번호랑 비슷함) 삭제\n",
    "card_user_df = card_user_df.rename(columns={'id':'card_id'}) #card_df의 id를 card_id로 변경"
   ]
  },
  {
   "cell_type": "code",
   "execution_count": 34,
   "id": "a8549ac6-d31a-4bce-a664-75afbbca9d92",
   "metadata": {},
   "outputs": [],
   "source": [
    "mcc_df = mcc_df.reset_index() #index 초기화\n",
    "fraud_df = fraud_df.reset_index()\n",
    "\n",
    "fraud_df = fraud_df.rename(columns={'index':'id','target':'fraud_label'}) #fraud_df의 index를 id로 변경,target를 fraud_label로 변경\n",
    "mcc_df = mcc_df.rename(columns={'index':'mcc','category':'merchant_cat'}) #mcc_df의 index를 id로 변경,category를 merchant_cat로 변경\n",
    "\n",
    "trans_df = trans_df.merge(fraud_df, on='id',how='left') #거래 정보와 사기 정보 결합\n",
    "trans_df = trans_df.merge(mcc_df, on='mcc',how='left') #거래 정보와 판매점 정보 결합\n",
    "\n",
    "#거래, 카드, 고객 정보 통합\n",
    "trans_df = trans_df.merge(card_user_df, on=['card_id','client_id'],how='left')"
   ]
  },
  {
   "cell_type": "markdown",
   "id": "dc614f72-db20-4c73-821e-c49dba84598d",
   "metadata": {},
   "source": [
    "#### trans_df"
   ]
  },
  {
   "cell_type": "markdown",
   "id": "44088770-de8b-4e28-a40e-0fec7d37578a",
   "metadata": {},
   "source": [
    "- date는 datetime으로 바꾸는게 좋아보임\n",
    "- amount 음수인 경우 확인 필요"
   ]
  },
  {
   "cell_type": "markdown",
   "id": "5dd2d615-ce62-49bb-b353-115a52c8a360",
   "metadata": {},
   "source": [
    "- errors의 결측치: 결제 성공 의미 => NaN대신 다른 값으로 변환 필요해 보임\n",
    "- merchant_state => Italy 사기거래 백분율 65% => 단순 우연?\n",
    "- zip => 별 의미 없는 데이터"
   ]
  },
  {
   "cell_type": "markdown",
   "id": "52c16912-0683-46a0-b5c8-7e2deab3fd06",
   "metadata": {},
   "source": [
    "#### 생각해볼만한 것"
   ]
  },
  {
   "cell_type": "markdown",
   "id": "c2bcf318-5414-4f63-824a-c17454f48bcf",
   "metadata": {},
   "source": [
    "- card_brand와 사기거래 관련성\n",
    "- card_type과 사기거래 관련성\n",
    "- has_chip과 사기거래 관련성\n",
    "- credit_limit과 사기거래 관련성"
   ]
  },
  {
   "cell_type": "markdown",
   "id": "ff27bb73-4802-446b-935b-95add886d63e",
   "metadata": {},
   "source": [
    "- date와 사기거래 관련성\n",
    "- amount와 사기거래 관련성\n",
    "- use_chip과 사기거래 관련성\n",
    "- merchant_state와 사기거래 관련성\n",
    "- category와 사기거래 관련성"
   ]
  },
  {
   "cell_type": "markdown",
   "id": "eec3d6d7-a3b0-47c5-b91f-1fda56481a33",
   "metadata": {},
   "source": [
    "- current_age와 사기거래 관련성\n",
    "- gender과 사기거래 관련성\n",
    "- latitude, longitude와 사기거래 관련성\n",
    "- yearly_income와 사기거래 관련성\n",
    "- credit_score와 사기거래 관련성\n",
    "- num_credit_cards와 사기거래 관련성"
   ]
  },
  {
   "cell_type": "markdown",
   "id": "bb55d067-8218-46d3-a12f-89f1b9e05e72",
   "metadata": {},
   "source": [
    "### 중복값 확인"
   ]
  },
  {
   "cell_type": "code",
   "execution_count": 35,
   "id": "3680e7b0-f323-42f1-aabb-2f3a35140276",
   "metadata": {},
   "outputs": [],
   "source": [
    "#mcc_df[mcc_df.duplicated(keep=False)]"
   ]
  },
  {
   "cell_type": "markdown",
   "id": "fb40f919-d330-4ec1-827c-5f414fd7e4fe",
   "metadata": {},
   "source": [
    "- trans_df와 합치면 상관없음"
   ]
  },
  {
   "cell_type": "markdown",
   "id": "6850e4ec-428c-46a3-b075-f783d8b49b82",
   "metadata": {},
   "source": [
    "# Feature Engineering"
   ]
  },
  {
   "cell_type": "markdown",
   "id": "463cd2ec-13ee-411c-bbde-7d21ae84cc91",
   "metadata": {},
   "source": [
    "해결해야 하는 문제\n",
    "\n",
    "- 제거를 고려하는 변수들: address, latitude, longitude\n",
    "  \n",
    "- 해 마다 갱신 될 가능성이 높은 변수들: total_debt, credit_score(FICO Score로 추정됨)\n",
    "\n",
    "- merchant_state,city 의 처리"
   ]
  },
  {
   "cell_type": "code",
   "execution_count": 36,
   "id": "a381e4d2-a7ce-4112-ad2b-b584dd79727e",
   "metadata": {},
   "outputs": [],
   "source": [
    "# mcc 범주화\n",
    "food = ['Eating Places and Restaurants', 'Fast Food Restaurants', 'Drinking Places (Alcoholic Beverages)', 'Grocery Stores, Supermarkets', \n",
    "              'Miscellaneous Food Stores', 'Package Stores, Beer, Wine, Liquor', 'Wholesale Clubs', 'Discount Stores']\n",
    "\n",
    "medical = ['Medical Services', 'Doctors, Physicians', 'Dentists and Orthodontists', 'Chiropractors', 'Podiatrists',\n",
    "                    'Optometrists, Optical Goods and Eyeglasses', 'Hospitals', 'Drug Stores and Pharmacies']\n",
    "\n",
    "transport = ['Service Stations', 'Automotive Service Shops', 'Automotive Body Repair Shops', 'Automotive Parts and Accessories Stores',\n",
    "                       'Taxicabs and Limousines', 'Bus Lines', 'Passenger Railways', 'Railroad Passenger Transport', 'Railroad Freight',\n",
    "                       'Motor Freight Carriers and Trucking', 'Airlines', 'Cruise Lines', 'Lodging - Hotels, Motels, Resorts',\n",
    "                       'Local and Suburban Commuter Transportation']\n",
    "\n",
    "service = ['Laundry Services', 'Car Washes', 'Towing Services', 'Cleaning and Maintenance Services', 'Tax Preparation Services',\n",
    "                   'Accounting, Auditing, and Bookkeeping Services', 'Legal Services and Attorneys', 'Detective Agencies, Security Services', 'Money Transfer',\n",
    "                   'Insurance Sales, Underwriting', 'Travel Agencies']\n",
    "\n",
    "retail = ['Department Stores', 'Family Clothing Stores', \"Women's Ready-To-Wear Stores\", 'Shoe Stores', 'Sports Apparel, Riding Apparel Stores',\n",
    "              'Sporting Goods Stores', 'Leather Goods', 'Precious Stones and Metals', 'Antique Shops', 'Music Stores - Musical Instruments',\n",
    "              'Artist Supply Stores, Craft Shops', 'Book Stores', 'Books, Periodicals, Newspapers', 'Electronics Stores',\n",
    "              'Computers, Computer Peripheral Equipment', 'Digital Goods - Media, Books, Apps', 'Digital Goods - Games', 'Cosmetic Stores',\n",
    "              'Beauty and Barber Shops', 'Gift, Card, Novelty Stores', 'Miscellaneous Home Furnishing Stores', \n",
    "              'Furniture, Home Furnishings, and Equipment Stores', 'Upholstery and Drapery Stores', 'Lighting, Fixtures, Electrical Supplies',\n",
    "              'Floor Covering Stores', 'Lawn and Garden Supply Stores', 'Gardening Supplies', 'Hardware Stores', 'Household Appliance Stores',\n",
    "              'Florists Supplies, Nursery Stock and Flowers', 'Non-Precious Metal Services']\n",
    "\n",
    "industry = ['Lumber and Building Materials', 'Brick, Stone, and Related Materials', 'Industrial Equipment and Supplies',\n",
    "                    'Tools, Parts, Supplies Manufacturing', 'Heating, Plumbing, Air Conditioning Contractors', 'Fabricated Structural Metal Products',\n",
    "                    'Steel Products Manufacturing', 'Steelworks', 'Ironwork', 'Welding Repair', 'Electroplating, Plating, Polishing Services',\n",
    "                    'Heat Treating Metal Services', 'Bolt, Nut, Screw, Rivet Manufacturing', 'Coated and Laminated Products', 'Non-Ferrous Metal Foundries',\n",
    "                    'Steel Drums and Barrels', 'Miscellaneous Metal Fabrication', 'Miscellaneous Metals', 'Miscellaneous Fabricated Metal Products',\n",
    "                    'Miscellaneous Metalwork', 'Pottery and Ceramics', 'Semiconductors and Related Devices', 'Ship Chandlers',\n",
    "                    'Utilities - Electric, Gas, Water, Sanitary', 'Telecommunication Services', 'Computer Network Services', \n",
    "                    'Cable, Satellite, and Other Pay Television Services', 'Postal Services - Government Only', 'Tolls and Bridge Fees', \n",
    "                    'Amusement Parks, Carnivals, Circuses', 'Motion Picture Theaters', 'Theatrical Producers', 'Recreational Sports, Clubs', \n",
    "                    'Athletic Fields, Commercial Sports', 'Betting (including Lottery Tickets, Casinos)', 'Miscellaneous Machinery and Parts Manufacturing']"
   ]
  },
  {
   "cell_type": "code",
   "execution_count": 37,
   "id": "e047da0e-ec11-458e-b698-e3096ab8e959",
   "metadata": {},
   "outputs": [],
   "source": [
    "trans_df.loc[trans_df['merchant_cat'].isin(food), 'merchant_cat'] = 'food'\n",
    "trans_df.loc[trans_df['merchant_cat'].isin(medical), 'merchant_cat'] = 'medical'\n",
    "trans_df.loc[trans_df['merchant_cat'].isin(transport), 'merchant_cat'] = 'transport'\n",
    "trans_df.loc[trans_df['merchant_cat'].isin(service), 'merchant_cat'] = 'service'\n",
    "trans_df.loc[trans_df['merchant_cat'].isin(retail), 'merchant_cat'] = 'retail'\n",
    "trans_df.loc[trans_df['merchant_cat'].isin(industry), 'merchant_cat'] = 'industry'"
   ]
  },
  {
   "cell_type": "code",
   "execution_count": 38,
   "id": "a8da494e-c1c3-432f-85ae-00f26cfe2120",
   "metadata": {},
   "outputs": [],
   "source": [
    "trans_df['errors'] = trans_df['errors'].fillna(0) #정상 거래는 0값으로 처리\n",
    "\n",
    "#merchant_city가 ONLINE 일 떄 merchant_state도 ONLINE으로 변경\n",
    "trans_df.loc[trans_df['merchant_city'] == 'ONLINE', 'merchant_state'] = 'ONLINE'\n",
    "\n",
    "#고객 ID, 카드 ID, 다크웹에서 카드?,거래 id, 상점 id, 상점 카테고리 식별 번호 삭제\n",
    "trans_df = trans_df.drop(columns=['id','merchant_id','mcc','client_id','card_on_dark_web'])"
   ]
  },
  {
   "cell_type": "code",
   "execution_count": 39,
   "id": "a9f86917-1f8c-4dc7-b8b0-a0d3abc89a74",
   "metadata": {},
   "outputs": [],
   "source": [
    "trans_df['date'] = pd.to_datetime(trans_df['date']) #date의 데이터 구조를 datetime으로 변환\n",
    "\n",
    "#금액에서 $표시를 제거해서 돈과 관련된 수치를 숫자로 변환\n",
    "trans_df['amount'] = pd.to_numeric(trans_df['amount'].str.split('$', expand=True)[1]) #\n",
    "trans_df['credit_limit'] = pd.to_numeric(trans_df['credit_limit'].str.split('$', expand=True)[1]) #\n",
    "trans_df['per_capita_income'] = pd.to_numeric(trans_df['per_capita_income'].str.split('$', expand=True)[1])\n",
    "trans_df['yearly_income'] = pd.to_numeric(trans_df['yearly_income'].str.split('$', expand=True)[1])\n",
    "trans_df['total_debt'] = pd.to_numeric(trans_df['total_debt'].str.split('$', expand=True)[1])"
   ]
  },
  {
   "cell_type": "code",
   "execution_count": 40,
   "id": "055ea1ce-e110-4c5a-96ad-8898a2f4f48a",
   "metadata": {},
   "outputs": [],
   "source": [
    "#거래 날짜와 고객,카드 정보를 통해 시간과 관련된 새로운 피쳐 생성\n",
    "\n",
    "trans_df['day'] = trans_df['date'].dt.day #거래 당시의 일 생성\n",
    "trans_df['month'] = trans_df['date'].dt.month #거래 당시의 월 생성\n",
    "trans_df['year'] = trans_df['date'].dt.year #거래 당시의 년 생성\n",
    "\n",
    "trans_df['expire_month'] = pd.to_numeric(trans_df['expires'].str.split('/', expand=True)[0]) #카드 만료 날의 월 \n",
    "trans_df['expire_year'] = pd.to_numeric(trans_df['expires'].str.split('/', expand=True)[1]) #카드 만료 날의 년\n",
    "\n",
    "trans_df['acct_open_date_month'] = pd.to_numeric(trans_df['acct_open_date'].str.split('/', expand=True)[0]) #계좌 개설 날의 월 \n",
    "trans_df['acct_open_date_year'] = pd.to_numeric(trans_df['acct_open_date'].str.split('/', expand=True)[1]) #계좌 개설 날의 년\n",
    "\n",
    "trans_df['current_age'] = trans_df['year'] - trans_df['birth_year'] #현재 나이를 2019년이 아닌 거래 날짜를 기준으로 변경\n",
    "trans_df['year_since_pin_changed'] = trans_df['year'] - trans_df['year_pin_last_changed'] #핀 번호 변경으로 부터 지난 해 기간\n",
    "trans_df['year_since_pin_changed'] = trans_df['year_since_pin_changed'].clip(lower=0) #핀 번호 갱신 기간이 음수인 경우 0으로 변환\n",
    "trans_df['years_to_retirement'] = trans_df['retirement_age'] - trans_df['current_age'] #은퇴까지 남은 년\n",
    "\n",
    "trans_df['month_to_expires'] = (12*(trans_df['expire_year'] - trans_df['year']) \n",
    "                                + (trans_df['expire_month'] - trans_df['month'])) #카드 만료까지 남은 개월 수\n",
    "\n",
    "trans_df['month_to_acct_open'] = (12*(trans_df['year'] - trans_df['acct_open_date_year']) \n",
    "                                + (trans_df['month'] - trans_df['acct_open_date_month'])) #계좌 개설 후 지난 개월 수\n"
   ]
  },
  {
   "cell_type": "code",
   "execution_count": 43,
   "id": "6714d3b3-f997-442f-81eb-a24599f1baba",
   "metadata": {},
   "outputs": [],
   "source": [
    "trans_df['hour'] = trans_df['date'].dt.hour #거래 당시의 시간 \n",
    "trans_df['min'] = trans_df['date'].dt.minute #거래 당시의 분  \n",
    "\n",
    "trans_df['time'] = 60*trans_df['hour'] + trans_df['min'] #거래 당시의 시간대\n",
    "\n",
    "#해당 고객의 최근 거래 15건의 시간대의 이동 평균 계산 (사용한 카드 기준)\n",
    "trans_df['time_15_ma'] = trans_df.groupby('card_id')['time'].rolling(window=15, min_periods=1).mean().reset_index(level=0, drop=True)\n",
    "trans_df['time_15_ma'] = np.abs(trans_df['time_15_ma']-trans_df['time']).round(2) #거래 시간대 이동 평균과 거래 시간대 차이 "
   ]
  },
  {
   "cell_type": "code",
   "execution_count": 45,
   "id": "7e5931ce-703c-4bd9-83ee-9ccd3024167c",
   "metadata": {},
   "outputs": [],
   "source": [
    "trans_df = trans_df.drop(columns=['birth_year','birth_month','date','year_pin_last_changed','retirement_age','expires','acct_open_date',\n",
    "                                 'expire_month','expire_year','acct_open_date_month','acct_open_date_year'])"
   ]
  },
  {
   "cell_type": "markdown",
   "id": "0b325b58-5b0f-4a3a-90c1-dab1a527cb1f",
   "metadata": {},
   "source": [
    "- 소비자 물가 지수(CPI)로 년마다 연봉 갱신\n",
    "\n",
    "|연도|소비자 물가 지수|단위 환산|\n",
    "|------|---|---|\n",
    "|2010년|218.1|85.30|\n",
    "|2011년|224.9|87.95|\n",
    "|2012년|229.6|89.79|\n",
    "|2013년|232.9|91.08|\n",
    "|2014년|236.7|92.57|\n",
    "|2015년|237.0|92.69|\n",
    "|2016년|240.0|93.86|\n",
    "|2017년|245.1|95.85|\n",
    "|2018년|251.1|98.20|\n",
    "|2019년|255.7|100|\n",
    "\n",
    "출처: https://ko.tradingeconomics.com/united-states"
   ]
  },
  {
   "cell_type": "code",
   "execution_count": 46,
   "id": "abdba63f-601d-48da-809a-da0602a3a942",
   "metadata": {},
   "outputs": [],
   "source": [
    "#소비자 물기 지수(CPI)로 연봉을 평준화 \n",
    "CPI = {2019:1, 2018:0.982 ,2017:0.9585,2016:0.9386, 2015:0.9269, 2014:0.9257, 2013:0.9108, 2012:0.8979, 2011:0.8795, 2010:0.853}\n",
    "\n",
    "trans_df['CPI'] = trans_df['year'].map(CPI)\n",
    "trans_df['per_capita_income'] = trans_df['per_capita_income']*trans_df['CPI'] #지역 연봉 * CPI 지수 가중치\n",
    "trans_df['yearly_income'] = trans_df['yearly_income']*trans_df['CPI'] #연봉 * CPI 지수 가중치\n",
    "trans_df = trans_df.drop(columns=['CPI'])"
   ]
  },
  {
   "cell_type": "code",
   "execution_count": 47,
   "id": "905fde0a-b98e-47f4-9d6e-e2c922b6416d",
   "metadata": {},
   "outputs": [],
   "source": [
    "#지리 정보를 이용한 feature engineering\n",
    "\n",
    "manual_coords = {\n",
    "    '30399': (33.7490, -84.3880), '94101': (37.7834, -122.4194),\n",
    "    '98205': (47.9790, -122.2021), '10072': (40.7766, -73.9525),\n",
    "    '19640': (40.3356, -75.9269), '45418': (39.7589, -84.1916),\n",
    "    '21748': (39.6418, -77.7200), '10558': (40.9126, -73.8385),\n",
    "    '92164': (32.7157, -117.1611), '14645': (43.1566, -77.6088),\n",
    "    '33121': (25.7617, -80.1918), '17767': (41.2951, -77.1641),\n",
    "    '16532': (42.1292, -80.0851), '29573': (33.6891, -78.8867),\n",
    "    '19388': (39.9607, -75.6055), '41338': (37.5551, -83.3882),\n",
    "    '21681': (39.2157, -76.0694), '19483': (40.0970, -75.3888),\n",
    "    '40446': (37.4298, -83.9785), '92412': (34.1083, -117.2898),\n",
    "    '11594': (40.7559, -73.5876), '25965': (37.6729, -80.8906)\n",
    "} #우편번호 라이브러리에 등록되지 않은 위치 정보\n",
    "\n",
    "#상점 우편 번호로 상점의 위도 경도 지리 정보 추출\n",
    "geo_locator = pgeocode.Nominatim('us') #미국 우편 번호 객체 생성\n",
    "\n",
    "trans_df['zip'].fillna(0, inplace=True) #결측치 채우기\n",
    "trans_df['zip_str'] = trans_df['zip'].astype(int).astype(str).str.zfill(5) #우편 번호를 문자열로 저장\n",
    "geo_info = geo_locator.query_postal_code(trans_df['zip_str'].tolist()) #우편 번호를 위도, 경도로 변환\n",
    "\n",
    "trans_df['market_latitude'] = geo_info['latitude'] #거래 데이터에 상점의 위도, 경도 정보 저장\n",
    "trans_df['market_longitude'] = geo_info['longitude']\n",
    "\n",
    "#라이브러리에 등록되지 않는 위도, 경도 정보를 딕션너리로 변환\n",
    "lat_map = {zip_code: coords[0] for zip_code, coords in manual_coords.items()} #위도 정보 변환\n",
    "lon_map = {zip_code: coords[1] for zip_code, coords in manual_coords.items()} #경도 정보 변환\n",
    "\n",
    "#위도-경도 딕션너리를 매핑을 통해 거래 데이터에 저장\n",
    "trans_df['market_latitude'] = trans_df['market_latitude'].fillna(trans_df['zip_str'].map(lat_map)) #결측치에 위도, 경도 정보 저장\n",
    "trans_df['market_longitude'] = trans_df['market_longitude'].fillna(trans_df['zip_str'].map(lon_map))\n",
    "\n",
    "#상점과 고객 주소 간의 거리 계산\n",
    "client_coords = list(zip(trans_df['latitude'], trans_df['longitude'])) #고객 주소 좌표\n",
    "market_coords = list(zip(trans_df['market_latitude'], trans_df['market_longitude'])) #상점 주소 좌표\n",
    "trans_df['distance_km'] = haversine_vector(client_coords, market_coords, unit=Unit.KILOMETERS) #고객과 상점 거리를 km 단위로 계산\n",
    "\n",
    "#해당 고객의 최근 거래 15건의 상점-주소 거리의 이동 평균 계산\n",
    "trans_df['distance_15_ma'] = trans_df.groupby('card_id')['distance_km'].rolling(window=15, min_periods=1).mean().reset_index(level=0, drop=True)\n",
    "\n",
    "# 소수점 둘째 자리까지 반올림\n",
    "trans_df['distance_15_ma'] = np.abs(trans_df['distance_km']- trans_df['distance_15_ma']).round(2) #이동 평균과 거리 차이로 계산\n",
    "trans_df['distance_km'] = trans_df['distance_km'].round(2)\n",
    "\n",
    "us_state_codes = {\n",
    "    'AL', 'AK', 'AZ', 'AR', 'CA', 'CO', 'CT', 'DE', 'DC', 'FL', 'GA',\n",
    "    'HI', 'ID', 'IL', 'IN', 'IA', 'KS', 'KY', 'LA', 'ME', 'MD', 'MA',\n",
    "    'MI', 'MN', 'MS', 'MO', 'MT', 'NE', 'NV', 'NH', 'NJ', 'NM', 'NY',\n",
    "    'NC', 'ND', 'OH', 'OK', 'OR', 'PA', 'RI', 'SC', 'SD', 'TN', 'TX',\n",
    "    'UT', 'VT', 'VA', 'WA', 'WV', 'WI', 'WY'} #미국 50개 주 +D.C(워싱턴)\n",
    "\n",
    "condition = trans_df['merchant_state'].isin(us_state_codes) # 상점 위치가 미국 내인지 판단\n",
    "trans_df['national'] = np.where(condition, 'domestic', 'overseas') #미국 내이면 'domestic', 해외면 'overseas' 값을 가짐\n",
    "\n",
    "#상점 위치가 해외이면 merchant_state 값을 overseas로 변환\n",
    "condition2 = (trans_df['national'] == 'overseas') & (trans_df['merchant_city'] != 'ONLINE')\n",
    "trans_df.loc[condition2, 'merchant_state'] = 'overseas'"
   ]
  },
  {
   "cell_type": "code",
   "execution_count": 20,
   "id": "dd38a831-8bbd-42cf-992e-3aeff1064dc2",
   "metadata": {},
   "outputs": [],
   "source": [
    "#거래 금액 관련 feature-engineering\n",
    "\n",
    "condition = trans_df['amount'] < 0 #거래 금액이 음수인지 판단(환불 거래)\n",
    "trans_df['refund'] = np.where(condition,1,0)\n",
    "trans_df['amount'] = np.abs(trans_df['amount']) #거래 금액을 양수로 바꿈\n",
    "\n",
    "window_size = 200 #최근 200개 데이터 선별\n",
    "\n",
    "def count_current_customer(window):\n",
    "    current_customer = window.iloc[-1]\n",
    "    return (window == current_customer).sum()\n",
    "\n",
    "#최근 200개 거래 데이터 중 현재 고객의 거래 건수 총합을 계산\n",
    "trans_df['recent_trans'] = trans_df['card_id'].rolling(window=window_size, min_periods=1).apply(count_current_customer, raw=False)\n",
    "\n",
    "#고객 정보와 환불 정보 통합\n",
    "trans_df['combo_id'] = trans_df['card_id'].astype(str) + '_' + trans_df['refund'].astype(str) \n",
    "\n",
    "#최근 200개 거래 데이터 중 현재 고객의 환불 거래 건수 총합을 계산\n",
    "trans_df['recent_refund_trans'] = trans_df['combo_id'].rolling(window=window_size, min_periods=1).apply(count_current_customer, raw=False)\n",
    "\n",
    "#해당 고객의 최근 거래 15건의 거래 금액의 이동 평균 계산\n",
    "trans_df['amount_15_ma'] = trans_df.groupby('card_id')['amount'].rolling(window=15, min_periods=1).mean().reset_index(level=0, drop=True)\n",
    "\n",
    "#거래 금액과 최근 15건의 거래 금액 평균의 차이 \n",
    "trans_df['amount_15_ma'] = np.abs(trans_df['amount']- trans_df['amount_15_ma']).round(2) "
   ]
  },
  {
   "cell_type": "code",
   "execution_count": 21,
   "id": "3cd8bf3a-904f-4637-8b25-647448b02e6c",
   "metadata": {},
   "outputs": [],
   "source": [
    "#필요 없는 정보 제거\n",
    "trans_df = trans_df.drop(columns=['address','latitude','longitude','zip','zip_str','combo_id',\n",
    "                                  'market_latitude','market_longitude','card_id','merchant_city','national','time'])"
   ]
  },
  {
   "cell_type": "code",
   "execution_count": 22,
   "id": "07d59590-8239-4bd1-9df4-9802d7c238e4",
   "metadata": {},
   "outputs": [],
   "source": [
    "train_trans_df = trans_df[trans_df['fraud_label'].notnull()] # 사기 정보가 있는 데이터 900만개\n",
    "test_trans_df = trans_df[trans_df['fraud_label'].isnull()] # 사기 정보가 없는 데이터  400만개\n",
    "\n",
    "#사기 거래 정보 값을 Yes, NO에서 1,0으로 변경\n",
    "YN_dict = {\"Yes\": 1, \"No\" : 0}\n",
    "train_trans_df['fraud_label'] = train_trans_df['fraud_label'].map(YN_dict)"
   ]
  },
  {
   "cell_type": "code",
   "execution_count": 23,
   "id": "149c6100-0d03-47e6-a578-56e9399389dc",
   "metadata": {},
   "outputs": [
    {
     "data": {
      "text/plain": [
       "Index(['amount', 'use_chip', 'merchant_state', 'errors', 'fraud_label',\n",
       "       'merchant_cat', 'card_brand', 'card_type', 'has_chip',\n",
       "       'num_cards_issued', 'credit_limit', 'current_age', 'gender',\n",
       "       'per_capita_income', 'yearly_income', 'total_debt', 'credit_score',\n",
       "       'num_credit_cards', 'day', 'month', 'year', 'year_since_pin_changed',\n",
       "       'years_to_retirement', 'month_to_expires', 'month_to_acct_open', 'hour',\n",
       "       'min', 'time_7_ma', 'distance_km', 'distance_7_ma', 'refund',\n",
       "       'recent_trans', 'combo_id'],\n",
       "      dtype='object')"
      ]
     },
     "execution_count": 23,
     "metadata": {},
     "output_type": "execute_result"
    }
   ],
   "source": [
    "#feature\n",
    "train_trans_df.columns"
   ]
  },
  {
   "cell_type": "markdown",
   "id": "c1aacf7c-d65a-47d2-8895-791577818b8a",
   "metadata": {},
   "source": [
    "<span style=\"font-size: 22px; color: black\">**추가된 변수**</span>\n",
    "\n",
    "- **day**: 거래된 일\n",
    "- **month**: 거래된 월\n",
    "- **year**: 거래된 년\n",
    "- **hour**: 거래된 시간\n",
    "- **min**: 거래된 분\n",
    "- **year_since_pin_changed**: 핀 번호 변경으로 부터 지난 년\n",
    "- **years_to_retirement**: 은퇴까지 남은 년\n",
    "- **month_to_expires**: 카드 만료까지 남은 달\n",
    "- **month_to_acct_open**: 계좌 개설로 부터 지난 달\n",
    "- **distance_km**: 상점과 고객 주소의 거리 차이(km)\n",
    "- **distance_15_ma**\" 최근 15번 거래의 상점-고객 거리의 이동 평균과 현재 거래에서 거리의 차이(카드 기준) \n",
    "- **time_15_ma**\" 최근 15번 거래의 거래 시간의 이동 평균과 현재 거래에서 시간대 차이 (카드 기준)\n",
    "- **refund**: 환불 여부\n",
    "- **recent_trans**:최근 거래 횟수\n",
    "- **recent_refund_trans**:최근 환불 횟수\n",
    "- **amount_15_ma**: 최근 15번 거래의 거래 금액 평균과 거래 금액 차이\n",
    "\n",
    "\n",
    "<span style=\"font-size: 22px; color: black\">**변경된 변수**</span>\n",
    "\n",
    "- **fraud_label**: NO, Yes를 0,1로 변경\n",
    "- **current_age**: 현재 나이를 2019년 기준에서 거래 당시 시간으로 변경\n",
    "- **per_capita_income**: 수입 기준을 2019년에서 CPA를 적용해서 년마다 갱신\n",
    "- **yearly_income**: 연봉 기준을 2019년에서 CPA를 적용해서 년마다 갱신\n",
    "- **merchant_state**: 해외는 overseas, 미국 내는 주, 온라인 거래는 ONLINE 으로 변경\n"
   ]
  },
  {
   "cell_type": "code",
   "execution_count": 24,
   "id": "dbeaa11d-4dcc-4347-8a0d-4236911e9e7d",
   "metadata": {},
   "outputs": [
    {
     "name": "stdout",
     "output_type": "stream",
     "text": [
      "<class 'pandas.core.frame.DataFrame'>\n",
      "Index: 8914963 entries, 0 to 13305912\n",
      "Data columns (total 33 columns):\n",
      " #   Column                  Dtype  \n",
      "---  ------                  -----  \n",
      " 0   amount                  float64\n",
      " 1   use_chip                object \n",
      " 2   merchant_state          object \n",
      " 3   errors                  object \n",
      " 4   fraud_label             int64  \n",
      " 5   merchant_cat            object \n",
      " 6   card_brand              object \n",
      " 7   card_type               object \n",
      " 8   has_chip                object \n",
      " 9   num_cards_issued        int64  \n",
      " 10  credit_limit            int64  \n",
      " 11  current_age             int64  \n",
      " 12  gender                  object \n",
      " 13  per_capita_income       float64\n",
      " 14  yearly_income           float64\n",
      " 15  total_debt              int64  \n",
      " 16  credit_score            int64  \n",
      " 17  num_credit_cards        int64  \n",
      " 18  day                     int32  \n",
      " 19  month                   int32  \n",
      " 20  year                    int32  \n",
      " 21  year_since_pin_changed  int64  \n",
      " 22  years_to_retirement     int64  \n",
      " 23  month_to_expires        int64  \n",
      " 24  month_to_acct_open      int64  \n",
      " 25  hour                    int32  \n",
      " 26  min                     int32  \n",
      " 27  time_7_ma               float64\n",
      " 28  distance_km             float64\n",
      " 29  distance_7_ma           float64\n",
      " 30  refund                  int64  \n",
      " 31  recent_trans            float64\n",
      " 32  combo_id                object \n",
      "dtypes: float64(7), int32(5), int64(12), object(9)\n",
      "memory usage: 2.1+ GB\n"
     ]
    }
   ],
   "source": [
    "train_trans_df.info()"
   ]
  },
  {
   "cell_type": "code",
   "execution_count": 25,
   "id": "3b6c51a5-cdc5-4d45-8e3c-f1b20ae0e220",
   "metadata": {},
   "outputs": [
    {
     "data": {
      "text/html": [
       "<div>\n",
       "<style scoped>\n",
       "    .dataframe tbody tr th:only-of-type {\n",
       "        vertical-align: middle;\n",
       "    }\n",
       "\n",
       "    .dataframe tbody tr th {\n",
       "        vertical-align: top;\n",
       "    }\n",
       "\n",
       "    .dataframe thead th {\n",
       "        text-align: right;\n",
       "    }\n",
       "</style>\n",
       "<table border=\"1\" class=\"dataframe\">\n",
       "  <thead>\n",
       "    <tr style=\"text-align: right;\">\n",
       "      <th></th>\n",
       "      <th>amount</th>\n",
       "      <th>use_chip</th>\n",
       "      <th>merchant_state</th>\n",
       "      <th>errors</th>\n",
       "      <th>fraud_label</th>\n",
       "      <th>merchant_cat</th>\n",
       "      <th>card_brand</th>\n",
       "      <th>card_type</th>\n",
       "      <th>has_chip</th>\n",
       "      <th>num_cards_issued</th>\n",
       "      <th>...</th>\n",
       "      <th>month_to_expires</th>\n",
       "      <th>month_to_acct_open</th>\n",
       "      <th>hour</th>\n",
       "      <th>min</th>\n",
       "      <th>time_7_ma</th>\n",
       "      <th>distance_km</th>\n",
       "      <th>distance_7_ma</th>\n",
       "      <th>refund</th>\n",
       "      <th>recent_trans</th>\n",
       "      <th>combo_id</th>\n",
       "    </tr>\n",
       "  </thead>\n",
       "  <tbody>\n",
       "    <tr>\n",
       "      <th>0</th>\n",
       "      <td>77.00</td>\n",
       "      <td>Swipe Transaction</td>\n",
       "      <td>ND</td>\n",
       "      <td>0</td>\n",
       "      <td>0</td>\n",
       "      <td>food</td>\n",
       "      <td>Mastercard</td>\n",
       "      <td>Debit (Prepaid)</td>\n",
       "      <td>YES</td>\n",
       "      <td>2</td>\n",
       "      <td>...</td>\n",
       "      <td>150</td>\n",
       "      <td>20</td>\n",
       "      <td>0</td>\n",
       "      <td>1</td>\n",
       "      <td>1.0</td>\n",
       "      <td>95.08</td>\n",
       "      <td>95.08</td>\n",
       "      <td>1</td>\n",
       "      <td>1.0</td>\n",
       "      <td>2972_1</td>\n",
       "    </tr>\n",
       "    <tr>\n",
       "      <th>1</th>\n",
       "      <td>14.57</td>\n",
       "      <td>Swipe Transaction</td>\n",
       "      <td>IA</td>\n",
       "      <td>0</td>\n",
       "      <td>0</td>\n",
       "      <td>retail</td>\n",
       "      <td>Mastercard</td>\n",
       "      <td>Credit</td>\n",
       "      <td>YES</td>\n",
       "      <td>1</td>\n",
       "      <td>...</td>\n",
       "      <td>179</td>\n",
       "      <td>52</td>\n",
       "      <td>0</td>\n",
       "      <td>2</td>\n",
       "      <td>2.0</td>\n",
       "      <td>98.56</td>\n",
       "      <td>98.56</td>\n",
       "      <td>0</td>\n",
       "      <td>1.0</td>\n",
       "      <td>4575_0</td>\n",
       "    </tr>\n",
       "    <tr>\n",
       "      <th>2</th>\n",
       "      <td>80.00</td>\n",
       "      <td>Swipe Transaction</td>\n",
       "      <td>CA</td>\n",
       "      <td>0</td>\n",
       "      <td>0</td>\n",
       "      <td>service</td>\n",
       "      <td>Mastercard</td>\n",
       "      <td>Debit</td>\n",
       "      <td>YES</td>\n",
       "      <td>1</td>\n",
       "      <td>...</td>\n",
       "      <td>124</td>\n",
       "      <td>48</td>\n",
       "      <td>0</td>\n",
       "      <td>2</td>\n",
       "      <td>2.0</td>\n",
       "      <td>7.14</td>\n",
       "      <td>7.14</td>\n",
       "      <td>0</td>\n",
       "      <td>1.0</td>\n",
       "      <td>102_0</td>\n",
       "    </tr>\n",
       "    <tr>\n",
       "      <th>4</th>\n",
       "      <td>46.41</td>\n",
       "      <td>Swipe Transaction</td>\n",
       "      <td>MD</td>\n",
       "      <td>0</td>\n",
       "      <td>0</td>\n",
       "      <td>food</td>\n",
       "      <td>Visa</td>\n",
       "      <td>Debit</td>\n",
       "      <td>YES</td>\n",
       "      <td>1</td>\n",
       "      <td>...</td>\n",
       "      <td>120</td>\n",
       "      <td>6</td>\n",
       "      <td>0</td>\n",
       "      <td>6</td>\n",
       "      <td>6.0</td>\n",
       "      <td>1.27</td>\n",
       "      <td>1.27</td>\n",
       "      <td>0</td>\n",
       "      <td>1.0</td>\n",
       "      <td>3915_0</td>\n",
       "    </tr>\n",
       "    <tr>\n",
       "      <th>5</th>\n",
       "      <td>4.81</td>\n",
       "      <td>Swipe Transaction</td>\n",
       "      <td>NY</td>\n",
       "      <td>0</td>\n",
       "      <td>0</td>\n",
       "      <td>retail</td>\n",
       "      <td>Mastercard</td>\n",
       "      <td>Debit (Prepaid)</td>\n",
       "      <td>YES</td>\n",
       "      <td>1</td>\n",
       "      <td>...</td>\n",
       "      <td>50</td>\n",
       "      <td>24</td>\n",
       "      <td>0</td>\n",
       "      <td>7</td>\n",
       "      <td>7.0</td>\n",
       "      <td>6.99</td>\n",
       "      <td>6.99</td>\n",
       "      <td>0</td>\n",
       "      <td>1.0</td>\n",
       "      <td>165_0</td>\n",
       "    </tr>\n",
       "  </tbody>\n",
       "</table>\n",
       "<p>5 rows × 33 columns</p>\n",
       "</div>"
      ],
      "text/plain": [
       "   amount           use_chip merchant_state errors  fraud_label merchant_cat  \\\n",
       "0   77.00  Swipe Transaction             ND      0            0         food   \n",
       "1   14.57  Swipe Transaction             IA      0            0       retail   \n",
       "2   80.00  Swipe Transaction             CA      0            0      service   \n",
       "4   46.41  Swipe Transaction             MD      0            0         food   \n",
       "5    4.81  Swipe Transaction             NY      0            0       retail   \n",
       "\n",
       "   card_brand        card_type has_chip  num_cards_issued  ...  \\\n",
       "0  Mastercard  Debit (Prepaid)      YES                 2  ...   \n",
       "1  Mastercard           Credit      YES                 1  ...   \n",
       "2  Mastercard            Debit      YES                 1  ...   \n",
       "4        Visa            Debit      YES                 1  ...   \n",
       "5  Mastercard  Debit (Prepaid)      YES                 1  ...   \n",
       "\n",
       "   month_to_expires  month_to_acct_open hour  min  time_7_ma  distance_km  \\\n",
       "0               150                  20    0    1        1.0        95.08   \n",
       "1               179                  52    0    2        2.0        98.56   \n",
       "2               124                  48    0    2        2.0         7.14   \n",
       "4               120                   6    0    6        6.0         1.27   \n",
       "5                50                  24    0    7        7.0         6.99   \n",
       "\n",
       "   distance_7_ma  refund  recent_trans  combo_id  \n",
       "0          95.08       1           1.0    2972_1  \n",
       "1          98.56       0           1.0    4575_0  \n",
       "2           7.14       0           1.0     102_0  \n",
       "4           1.27       0           1.0    3915_0  \n",
       "5           6.99       0           1.0     165_0  \n",
       "\n",
       "[5 rows x 33 columns]"
      ]
     },
     "execution_count": 25,
     "metadata": {},
     "output_type": "execute_result"
    }
   ],
   "source": [
    "train_trans_df.head()"
   ]
  },
  {
   "cell_type": "markdown",
   "id": "a371f8fa-ca46-43a6-b570-de6938881386",
   "metadata": {},
   "source": [
    "- target은 fraud_label\n",
    "- fraud_label 값이 0: 정상 거래 1: 사기 거래\n",
    "\n",
    "- 학습할 데이터: train_trans_df (X,y 분리 안되어 있음)"
   ]
  },
  {
   "cell_type": "code",
   "execution_count": null,
   "id": "f4aab269-24cd-41b1-abc6-df1c2e051967",
   "metadata": {},
   "outputs": [],
   "source": [
    "\n",
    "\n"
   ]
  }
 ],
 "metadata": {
  "kernelspec": {
   "display_name": "project_env",
   "language": "python",
   "name": "project_env"
  },
  "language_info": {
   "codemirror_mode": {
    "name": "ipython",
    "version": 3
   },
   "file_extension": ".py",
   "mimetype": "text/x-python",
   "name": "python",
   "nbconvert_exporter": "python",
   "pygments_lexer": "ipython3",
   "version": "3.10.18"
  }
 },
 "nbformat": 4,
 "nbformat_minor": 5
}
